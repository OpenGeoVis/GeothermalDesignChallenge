{
  "cells": [
    {
      "cell_type": "code",
      "execution_count": null,
      "metadata": {
        "collapsed": false
      },
      "outputs": [],
      "source": [
        "%matplotlib inline"
      ]
    },
    {
      "cell_type": "markdown",
      "metadata": {},
      "source": [
        "\nProposed Well\n~~~~~~~~~~~~~\n"
      ]
    },
    {
      "cell_type": "code",
      "execution_count": null,
      "metadata": {
        "collapsed": false
      },
      "outputs": [],
      "source": [
        "# Import project package\nimport gdc19"
      ]
    },
    {
      "cell_type": "code",
      "execution_count": null,
      "metadata": {
        "collapsed": false
      },
      "outputs": [],
      "source": [
        "import numpy as np\nimport pyvista"
      ]
    },
    {
      "cell_type": "code",
      "execution_count": null,
      "metadata": {
        "collapsed": false
      },
      "outputs": [],
      "source": [
        "# GET THE WELLS DATABASE\nWELLS = gdc19.load_well_db()"
      ]
    },
    {
      "cell_type": "markdown",
      "metadata": {},
      "source": [
        "Proposed Well 1\n+++++++++++++++\n\nCoordinates: x = 335103.383, y = 4261756, z = 1700\n\nDepth: 2200 m\n\n"
      ]
    },
    {
      "cell_type": "code",
      "execution_count": null,
      "metadata": {
        "collapsed": false
      },
      "outputs": [],
      "source": [
        "depth = 2200\nstart_x = 335230.383\nstart_y = 4261710\nstart_z = 1698\n\nWELLS['well_new1'] = gdc19.build_well_trajectory(depth, start_x, start_y, start_z)"
      ]
    },
    {
      "cell_type": "markdown",
      "metadata": {},
      "source": [
        "Proposed Well 2\n+++++++++++++++\n\nCoordinates: x = 336000\t, y = 4263240.829,  z = 1700\n\nDepth: 2200 m\n\n"
      ]
    },
    {
      "cell_type": "code",
      "execution_count": null,
      "metadata": {
        "collapsed": false
      },
      "outputs": [],
      "source": [
        "depth = 2200\nstart_x = 334618\nstart_y = 4262018\nstart_z = 1665\n\nWELLS['well_new2'] = gdc19.build_well_trajectory(depth, start_x, start_y, start_z)\n\n\ngdc19.save_well_db(WELLS)"
      ]
    }
  ],
  "metadata": {
    "kernelspec": {
      "display_name": "Python 3",
      "language": "python",
      "name": "python3"
    },
    "language_info": {
      "codemirror_mode": {
        "name": "ipython",
        "version": 3
      },
      "file_extension": ".py",
      "mimetype": "text/x-python",
      "name": "python",
      "nbconvert_exporter": "python",
      "pygments_lexer": "ipython3",
      "version": "3.7.3"
    }
  },
  "nbformat": 4,
  "nbformat_minor": 0
}