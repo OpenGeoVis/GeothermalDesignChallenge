{
  "cells": [
    {
      "cell_type": "code",
      "execution_count": null,
      "metadata": {
        "collapsed": false
      },
      "outputs": [],
      "source": [
        "%matplotlib inline"
      ]
    },
    {
      "cell_type": "markdown",
      "metadata": {},
      "source": [
        "\nTemperature Data\n~~~~~~~~~~~~~~~~\n"
      ]
    },
    {
      "cell_type": "code",
      "execution_count": null,
      "metadata": {
        "collapsed": false
      },
      "outputs": [],
      "source": [
        "# sphinx_gallery_thumbnail_number = 4\n# Import project package\nimport gdc19"
      ]
    },
    {
      "cell_type": "code",
      "execution_count": null,
      "metadata": {
        "collapsed": false
      },
      "outputs": [],
      "source": [
        "import pyvista\nimport PVGeo\nimport omf\nimport omfvista\nimport pandas as pd\nimport numpy as np"
      ]
    },
    {
      "cell_type": "markdown",
      "metadata": {},
      "source": [
        "Temperature Probe Data\n++++++++++++++++++++++\n\n"
      ]
    },
    {
      "cell_type": "code",
      "execution_count": null,
      "metadata": {
        "collapsed": false
      },
      "outputs": [],
      "source": [
        "# Load the temperature data\n_temp = pd.read_csv(\n            gdc19.get_temperature_path('well_based_temperature.csv')\n            )\n_temp.head()"
      ]
    },
    {
      "cell_type": "code",
      "execution_count": null,
      "metadata": {
        "collapsed": false
      },
      "outputs": [],
      "source": [
        "temperature = omf.PointSetElement(\n    name='temperature',\n    description='cumulative record of one-dimensional temperature modeling '\\\n        'based off of well data. Temperature log data were exampled and '\\\n        'extrapolated below the bottom of a number of wells. Temperatures '\\\n        'are in degrees Celsius, and all location data are georeferenced to '\n        'UTM, zone 12N, NAD 83, NAVD 88.',\n    subtype='point',\n    geometry=omf.PointSetGeometry(\n        vertices=_temp[['x', 'y', 'z']].values\n    ),\n    data=[omf.ScalarData(\n        name='temperature (C)',\n        array=_temp['T'].values,\n        location='vertices'\n    ),]\n)\ntemperature.validate()"
      ]
    },
    {
      "cell_type": "code",
      "execution_count": null,
      "metadata": {
        "collapsed": false
      },
      "outputs": [],
      "source": [
        "temp = omfvista.wrap(temperature)\ntemp.plot()"
      ]
    },
    {
      "cell_type": "markdown",
      "metadata": {},
      "source": [
        "Geostatistical Model\n++++++++++++++++++++\n\nPrep temperature data for kriging in SGeMS\n\n"
      ]
    },
    {
      "cell_type": "code",
      "execution_count": null,
      "metadata": {
        "collapsed": false
      },
      "outputs": [],
      "source": [
        "# First, load the topography surface that was previously aggregated:\nsurfaces = omfvista.load_project(gdc19.get_project_path('surfaces.omf'))\ntopo = surfaces['land_surface']\n\n\np = pyvista.Plotter()\np.add_mesh(temp, cmap='coolwarm', point_size=10,\n           render_points_as_spheres=True, stitle='Temperature')\np.add_mesh(topo)\np.camera_position = [1,1,-1]\np.show()"
      ]
    },
    {
      "cell_type": "markdown",
      "metadata": {},
      "source": [
        "Make tables of the temperature and topography data\n\n"
      ]
    },
    {
      "cell_type": "code",
      "execution_count": null,
      "metadata": {
        "collapsed": false
      },
      "outputs": [],
      "source": [
        "# Make pandas data frame of the temps\ndf_temp = pd.DataFrame(data=np.c_[temp.points, temp.point_arrays['temperature (C)']],\n                    columns=['x', 'y', 'z', 'temp_c'])\ndf_temp.header = 'temperature (degrees C)'\nprint(df_temp.head())"
      ]
    },
    {
      "cell_type": "code",
      "execution_count": null,
      "metadata": {
        "collapsed": false
      },
      "outputs": [],
      "source": [
        "# And of the topography surface\ndf_topo = pd.DataFrame(data=topo.points, columns=['x','y','z'])\ndf_topo.header = 'Land Surface'\nprint(df_topo.head())"
      ]
    },
    {
      "cell_type": "markdown",
      "metadata": {},
      "source": [
        "Save these tabular data frames to GSLib formatted files for use in SGeMS\n\n"
      ]
    },
    {
      "cell_type": "code",
      "execution_count": null,
      "metadata": {
        "collapsed": false
      },
      "outputs": [],
      "source": [
        "gdc19.save_gslib(gdc19.get_krig_path('temperature.gslib'), df_temp)\ngdc19.save_gslib(gdc19.get_krig_path('topography.gslib'), df_topo)"
      ]
    },
    {
      "cell_type": "markdown",
      "metadata": {},
      "source": [
        "Load the kriged temperature model from SGeMS\n\n"
      ]
    },
    {
      "cell_type": "code",
      "execution_count": null,
      "metadata": {
        "collapsed": false
      },
      "outputs": [],
      "source": [
        "fkrig = gdc19.get_krig_path(\"Geotherm_kriged_0.sgems\")\nfvar = gdc19.get_krig_path(\"Geotherm_kriged_0_krig_var.sgems\")\n\n# Read the kirgged model and variance\ngrid = PVGeo.gslib.SGeMSGridReader().apply(fkrig)\ngrid_var = PVGeo.gslib.SGeMSGridReader().apply(fvar)\n\n# Label the array appropriately\ngrid.rename_scalar('Getherm_kriged_0', 'Temperature')\ngrid.cell_arrays['Temperature_var'] = grid_var.cell_arrays['Getherm_kriged_0_krig_var']"
      ]
    },
    {
      "cell_type": "markdown",
      "metadata": {},
      "source": [
        "Set the spatial reference of the grid\nValues from SGeMS:\n\n"
      ]
    },
    {
      "cell_type": "code",
      "execution_count": null,
      "metadata": {
        "collapsed": false
      },
      "outputs": [],
      "source": [
        "grid.origin = (325000, 4.245e6, -2700)\ngrid.spacing = (250, 250, 50)\n\ngrid.plot(cmap='coolwarm')"
      ]
    },
    {
      "cell_type": "markdown",
      "metadata": {},
      "source": [
        "Lets quickly inspect the model\n\n"
      ]
    },
    {
      "cell_type": "code",
      "execution_count": null,
      "metadata": {
        "collapsed": false
      },
      "outputs": [],
      "source": [
        "bounds = gdc19.get_roi_bounds()\nclipped = grid.clip_box(bounds, invert=False)\n\ncontours = clipped.cell_data_to_point_data().contour()\ncontours.plot(cmap='coolwarm', clim=clipped.get_data_range())"
      ]
    },
    {
      "cell_type": "markdown",
      "metadata": {},
      "source": [
        "Now we need to convert the model to the OMF files specification\n\n"
      ]
    },
    {
      "cell_type": "code",
      "execution_count": null,
      "metadata": {
        "collapsed": false
      },
      "outputs": [],
      "source": [
        "# MINUS ONE BECASE WE DEFINE CELL DATA\nncx, ncy, ncz = np.array(grid.dimensions) - 1\nsx, sy, sz = grid.spacing\n\n\ntemp_model = omf.VolumeElement(\n        name='kriged_temperature_model',\n        description='kriged temoerature model built from temperature probe data',\n        geometry=omf.VolumeGridGeometry(\n            tensor_u=np.full(ncx, sx),\n            tensor_v=np.full(ncy, sy),\n            tensor_w=np.full(ncz, sz),\n            origin=grid.origin,\n        ),\n        data=[omf.ScalarData(\n                name='temperature (C)',\n                array=grid.cell_arrays['Temperature'].reshape((ncz,ncy,ncx), order='F').ravel(),\n                location='cells'),\n              omf.ScalarData(\n                name='Temperature_var',\n                array=grid.cell_arrays['Temperature_var'].reshape((ncz,ncy,ncx), order='F').ravel(),\n                location='cells'),\n             ],\n)\ntemp_model.validate()"
      ]
    },
    {
      "cell_type": "markdown",
      "metadata": {},
      "source": [
        "And one final sanity check\n\n"
      ]
    },
    {
      "cell_type": "code",
      "execution_count": null,
      "metadata": {
        "collapsed": false
      },
      "outputs": [],
      "source": [
        "omfvista.wrap(temp_model).clip_box(gdc19.get_roi_bounds(), invert=False).plot(cmap='coolwarm')"
      ]
    },
    {
      "cell_type": "markdown",
      "metadata": {},
      "source": [
        "Write the data\n++++++++++++++\n\n"
      ]
    },
    {
      "cell_type": "code",
      "execution_count": null,
      "metadata": {
        "collapsed": false
      },
      "outputs": [],
      "source": [
        "proj = omf.Project(\n    name='FORGE Temperature Data',\n    description='All temperature data/models for the 2019 FORGE Geothermal Student Competition '\n)\n\nproj.elements = [ temperature,  temp_model]\n\nproj.validate()"
      ]
    },
    {
      "cell_type": "markdown",
      "metadata": {},
      "source": [
        "Save the temperature project file\n\n"
      ]
    },
    {
      "cell_type": "code",
      "execution_count": null,
      "metadata": {
        "collapsed": false
      },
      "outputs": [],
      "source": [
        "omf.OMFWriter(proj, gdc19.get_project_path('temperature.omf'))"
      ]
    }
  ],
  "metadata": {
    "kernelspec": {
      "display_name": "Python 3",
      "language": "python",
      "name": "python3"
    },
    "language_info": {
      "codemirror_mode": {
        "name": "ipython",
        "version": 3
      },
      "file_extension": ".py",
      "mimetype": "text/x-python",
      "name": "python",
      "nbconvert_exporter": "python",
      "pygments_lexer": "ipython3",
      "version": "3.7.2"
    }
  },
  "nbformat": 4,
  "nbformat_minor": 0
}