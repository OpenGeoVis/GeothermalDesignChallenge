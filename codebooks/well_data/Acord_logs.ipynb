{
 "cells": [
  {
   "cell_type": "code",
   "execution_count": null,
   "metadata": {},
   "outputs": [],
   "source": [
    "import matplotlib.pyplot as plt\n",
    "import numpy as np"
   ]
  },
  {
   "cell_type": "code",
   "execution_count": null,
   "metadata": {},
   "outputs": [],
   "source": [
    "import sys\n",
    "# This makes the gdc19 package avaialble\n",
    "sys.path.append('../../')\n",
    "import gdc19"
   ]
  },
  {
   "cell_type": "code",
   "execution_count": null,
   "metadata": {},
   "outputs": [],
   "source": [
    "import csv\n",
    "fname = gdc19.get_bad_path('Accord/Acord_data.csv')\n",
    "with open(fname) as csvfile:\n",
    "    data = csv.reader(csvfile, quoting=csv.QUOTE_NONNUMERIC)\n",
    "    array = []\n",
    "    for line in data:\n",
    "        array.append(line)"
   ]
  },
  {
   "cell_type": "markdown",
   "metadata": {},
   "source": [
    "## Acord-1\n",
    "\n",
    "Coordinates: x = 330059.033, y=4265084.001, z=1518.831911\n",
    "\n",
    "Lithology: Basin Fill (0-2163m), Lava-Tuffs (2163-2438m), Volcaniclastic (2438-3110m), Granitoid (3110 - 3855.7m)\n",
    "\n",
    "Depth: 3855.7 m"
   ]
  },
  {
   "cell_type": "code",
   "execution_count": null,
   "metadata": {},
   "outputs": [],
   "source": [
    "data = np.array(array)\n",
    "\n",
    "\n",
    "DEPTH = data[:,1] #DEPTH (M)\n",
    "\n",
    "RHOB = data[:,2] #BAD_RHOB (gm/cc)\n",
    "bitsize = data[:,3] #BITSIZE (in) \n",
    "CALI = data[:,4] #Caliper (in)\n",
    "DENSITY = data[:,5] #DRHO (g/cm3)\n",
    "DT = data[:,6] #DT (US/F)\n",
    "GR_SPLICE = data[:,7] #GAMMA_RAY_SPLICE (UR/HR)\n",
    "GR = data[:,8] #GR_PROCESS (GAP)\n",
    "GR_SPLICE2 = data[:,9] #GR_SPLICE (GAPI)\n",
    "RES1 = data[:,10] #LLD_SPLICE (OHM-m)\n",
    "RES2 = data[:,11] #LLM_SPLICE (OHM-m)\n",
    "RES3 = data[:,12] #LLS_SPLICE (OHM-m)\n",
    "NEUTRON = data[:,13] #NEUTRON_SPLICE (API)\n",
    "RHOB_PROCESSING = data[:,14] # (g/cm3)\n",
    "RHOB_SPLICE = data[:,15] # (g/cm3)\n",
    "SP_SLICE = data[:,16] # (mv)\n",
    "TEMP_DEEP_F = data[:,17] #TEMPERATURE_DEEP (deg F)\n",
    "TEMP_DEEP = data[:,18] #TEMPERATURE_DEEP (deg C)\n",
    "TEMP_SHAL_F = data[:,19] #TEMPERATURE_SHALLOW (deg F)\n",
    "TEMP_SHAL = data[:,20] #TEMPERATURE_SHALLOW (deg C)"
   ]
  },
  {
   "cell_type": "code",
   "execution_count": null,
   "metadata": {},
   "outputs": [],
   "source": [
    "#Temperature\n",
    "\n",
    "plt.figure(figsize = (6, 12))\n",
    "\n",
    "\n",
    "plt.plot(TEMP_DEEP, DEPTH, label='Deep')\n",
    "plt.plot(TEMP_SHAL, DEPTH, label = 'Shallow')\n",
    "plt.axhline(y=2163, color='r', linestyle='-', label='Basin-Lava boundary')\n",
    "plt.axhline(y=2438, color='black', linestyle='-', label='Lava-Volcanic boundary')\n",
    "plt.axhline(y=3110, color='green', linestyle='-', label='Volcanic-Granite boundary')\n",
    "plt.ylabel('Depth (m)', fontsize = 14)\n",
    "plt.xlabel('Temp (deg C)', fontsize=14)\n",
    "plt.grid(color='grey', linestyle = '-', linewidth=1)\n",
    "plt.gca().invert_yaxis()\n",
    "plt.title(\"Temperature Log\", fontsize=16)\n",
    "plt.grid(which='minor', alpha=0.2)\n",
    "plt.ylim(3860, 100)\n",
    "plt.xlim(0, 300)\n",
    "major_ticks = np.arange(0, 101, 20)\n",
    "plt.legend(loc='upper left')\n",
    "\n",
    "\n",
    "plt.tight_layout()\n",
    "plt.show()"
   ]
  },
  {
   "cell_type": "code",
   "execution_count": null,
   "metadata": {},
   "outputs": [],
   "source": [
    "#Density\n",
    "plt.figure(figsize = (6, 12))\n",
    "\n",
    "\n",
    "#plt.plot(DENSITY, DEPTH, color ='b', label='1')\n",
    "#plt.plot(RHOB, DEPTH, color= 'yellow', label='2')\n",
    "#plt.plot(RHOB_PROCESSING, DEPTH, color='orange', label='3')\n",
    "plt.plot(RHOB_SPLICE, DEPTH, color='green', label='4')\n",
    "plt.axhline(y=2163, color='r', linestyle='-', label='Basin-Lava boundary')\n",
    "plt.axhline(y=2438, color='black', linestyle='-', label='Lava-Volcanic boundary')\n",
    "plt.axhline(y=3110, color='pink', linestyle='-', label='Volcanic-Granite boundary')\n",
    "plt.ylabel('Depth (m)', fontsize = 14)\n",
    "plt.xlabel('g/cm3', fontsize=14)\n",
    "plt.grid(color='grey', linestyle = '-', linewidth=1)\n",
    "plt.gca().invert_yaxis()\n",
    "plt.title(\"DENSITY Log\", fontsize=16)\n",
    "plt.grid(which='minor', alpha=0.2)\n",
    "plt.ylim(3860, 100)\n",
    "plt.xlim(0, 4)\n",
    "major_ticks = np.arange(0, 101, 20)\n",
    "plt.legend(loc='upper left')\n",
    "\n",
    "\n",
    "plt.tight_layout()\n",
    "plt.show()"
   ]
  },
  {
   "cell_type": "code",
   "execution_count": null,
   "metadata": {},
   "outputs": [],
   "source": [
    "#Gamma Ray\n",
    "\n",
    "plt.figure(figsize = (6, 12))\n",
    "\n",
    "\n",
    "\n",
    "plt.plot(GR_SPLICE2, DEPTH, label = 'GR')\n",
    "plt.axhline(y=2163, color='r', linestyle='-', label='Basin-Lava boundary')\n",
    "plt.axhline(y=2438, color='black', linestyle='-', label='Lava-Volcanic boundary')\n",
    "plt.axhline(y=3110, color='green', linestyle='-', label='Volcanic-Granite boundary')\n",
    "plt.ylabel('Depth (m)', fontsize = 14)\n",
    "plt.xlabel('API', fontsize=14)\n",
    "plt.grid(color='grey', linestyle = '-', linewidth=1)\n",
    "plt.gca().invert_yaxis()\n",
    "plt.title(\"Gamma Ray Log\", fontsize=16)\n",
    "plt.grid(which='minor', alpha=0.2)\n",
    "plt.ylim(3860, 100)\n",
    "plt.xlim(0, 300)\n",
    "major_ticks = np.arange(0, 101, 20)\n",
    "plt.legend(loc='upper right')\n",
    "\n",
    "\n",
    "plt.tight_layout()\n",
    "plt.show()"
   ]
  },
  {
   "cell_type": "code",
   "execution_count": null,
   "metadata": {},
   "outputs": [],
   "source": []
  }
 ],
 "metadata": {
  "kernelspec": {
   "display_name": "Python [default]",
   "language": "python",
   "name": "python3"
  },
  "language_info": {
   "codemirror_mode": {
    "name": "ipython",
    "version": 3
   },
   "file_extension": ".py",
   "mimetype": "text/x-python",
   "name": "python",
   "nbconvert_exporter": "python",
   "pygments_lexer": "ipython3",
   "version": "3.6.5"
  }
 },
 "nbformat": 4,
 "nbformat_minor": 2
}
