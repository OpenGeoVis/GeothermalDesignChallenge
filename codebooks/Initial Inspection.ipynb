{
 "cells": [
  {
   "cell_type": "code",
   "execution_count": null,
   "metadata": {},
   "outputs": [],
   "source": [
    "import sys\n",
    "# This makes the gdc19 package avaialble\n",
    "sys.path.append('../')\n",
    "import gdc19\n",
    "# Be sure to set your working directory!!!\n",
    "# this is the path to the Google Drive folder\n",
    "gdc19.setup_bane()"
   ]
  },
  {
   "cell_type": "code",
   "execution_count": null,
   "metadata": {},
   "outputs": [],
   "source": [
    "import vtki\n",
    "import omfvtk\n",
    "import PVGeo"
   ]
  },
  {
   "cell_type": "markdown",
   "metadata": {},
   "source": [
    "-----\n",
    "\n",
    "# Initial Inspection\n",
    "\n",
    "This notebook loads up all the data and works through an initial inspection."
   ]
  },
  {
   "cell_type": "code",
   "execution_count": null,
   "metadata": {},
   "outputs": [],
   "source": [
    "proj = omfvtk.load_project(gdc19.get_omf_project_filename())\n",
    "proj"
   ]
  },
  {
   "cell_type": "code",
   "execution_count": null,
   "metadata": {},
   "outputs": [],
   "source": [
    "topo = proj['land_surface']\n",
    "topo"
   ]
  },
  {
   "cell_type": "markdown",
   "metadata": {},
   "source": [
    "# Integrated Scene\n",
    "\n",
    "Now use `vtki` to create and integrated rendering of all the available data\n"
   ]
  },
  {
   "cell_type": "code",
   "execution_count": null,
   "metadata": {},
   "outputs": [],
   "source": [
    "p = vtki.BackgroundPlotter()\n",
    "# p.add_bounds_axes()"
   ]
  },
  {
   "cell_type": "code",
   "execution_count": null,
   "metadata": {},
   "outputs": [],
   "source": [
    "p.add_mesh(proj['temperature'], name='temp', \n",
    "           cmap='coolwarm', point_size=10, \n",
    "           render_points_as_spheres=True, stitle='Temperature')\n",
    "p.add_mesh(proj['negro_mag_fault'], name='negro_mag_fault',\n",
    "           show_edges=False, color='blue', opacity=0.5)\n",
    "p.add_mesh(proj['opal_mound_fault'], name='opal_mound_fault',\n",
    "           show_edges=False, color='orange', opacity=0.5)"
   ]
  },
  {
   "cell_type": "code",
   "execution_count": null,
   "metadata": {},
   "outputs": [],
   "source": [
    "# We can update this cell to change the texture\n",
    "p.add_mesh(topo, \n",
    "           texture='geo_aer', \n",
    "           show_edges=False, \n",
    "           name='topo', \n",
    "           reset_camera=False)"
   ]
  },
  {
   "cell_type": "code",
   "execution_count": null,
   "metadata": {},
   "outputs": [],
   "source": [
    "# add the temperature boundaries\n",
    "p.add_mesh(proj['temp_175c'], name='temp_175c', \n",
    "           show_edges=False, color='aquamarine',\n",
    "           style='wireframe')\n",
    "p.add_mesh(proj['temp_225c'], name='temp_225c', \n",
    "           show_edges=False, color='firebrick',\n",
    "           style='wireframe')"
   ]
  },
  {
   "cell_type": "code",
   "execution_count": null,
   "metadata": {},
   "outputs": [],
   "source": [
    "# Add the shape file stuff\n",
    "p.add_mesh(proj['boundary'], name='boundary', \n",
    "           color='azure', render_lines_as_tubes=False, line_width=10)"
   ]
  },
  {
   "cell_type": "code",
   "execution_count": null,
   "metadata": {},
   "outputs": [],
   "source": [
    "# Add the granitoid boundary\n",
    "p.add_mesh(proj['top_granitoid'], name='top_granitoid',\n",
    "           show_edges=False, style='wireframe')"
   ]
  },
  {
   "cell_type": "code",
   "execution_count": null,
   "metadata": {},
   "outputs": [],
   "source": [
    "# Add the granitoid boundary\n",
    "#--\n",
    "# Lets run a PVGeo filter to extract the topo surface from\n",
    "#    the granitoid surface\n",
    "ext = PVGeo.grids.ExtractTopography(\n",
    "        remove=True, # remove the inactive cells\n",
    "        tolerance=10.0 # buffer around the topo surface\n",
    "        ).Apply(proj['top_granitoid'], topo)\n",
    "granitoid = ext\n",
    "#--\n",
    "# Now plot it!\n",
    "p.add_mesh(granitoid, name='top_granitoid',\n",
    "           show_edges=False, style='surface',\n",
    "           color='grey', opacity=0.75, reset_camera=False,\n",
    "          )"
   ]
  },
  {
   "cell_type": "code",
   "execution_count": null,
   "metadata": {},
   "outputs": [],
   "source": [
    "# _ = p.screenshot('../integrated_view.png')"
   ]
  },
  {
   "cell_type": "code",
   "execution_count": null,
   "metadata": {},
   "outputs": [],
   "source": [
    "import pandas as pd\n",
    "well_locs = pd.read_csv(gdc19.get_well_path('well_location_from_earth_model.csv'))\n",
    "well_locs.head()"
   ]
  },
  {
   "cell_type": "code",
   "execution_count": null,
   "metadata": {},
   "outputs": [],
   "source": [
    "foo = PVGeo.pointsToPolyData(well_locs[['x', 'y', 'z (land surface)']].values)\n",
    "p.add_mesh(foo, name='well_locations', point_size=10, color='orange')\n"
   ]
  },
  {
   "cell_type": "code",
   "execution_count": null,
   "metadata": {},
   "outputs": [],
   "source": []
  }
 ],
 "metadata": {
  "kernelspec": {
   "display_name": "Python [conda env:ogv]",
   "language": "python",
   "name": "conda-env-ogv-py"
  },
  "language_info": {
   "codemirror_mode": {
    "name": "ipython",
    "version": 3
   },
   "file_extension": ".py",
   "mimetype": "text/x-python",
   "name": "python",
   "nbconvert_exporter": "python",
   "pygments_lexer": "ipython3",
   "version": "3.6.5"
  }
 },
 "nbformat": 4,
 "nbformat_minor": 2
}
