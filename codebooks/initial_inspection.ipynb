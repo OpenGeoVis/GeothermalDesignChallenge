{
 "cells": [
  {
   "cell_type": "code",
<<<<<<< HEAD
   "execution_count": 22,
   "metadata": {},
   "outputs": [
    {
     "data": {
      "text/plain": [
       "'/Volumes/GoogleDrive/My Drive/utah-forge'"
      ]
     },
     "execution_count": 22,
     "metadata": {},
     "output_type": "execute_result"
    }
   ],
=======
   "execution_count": null,
   "metadata": {},
   "outputs": [],
>>>>>>> 43154890657dccb72746f6c5b4d4255f03ddec94
   "source": [
    "import sys\n",
    "# This makes the gdc19 package avaialble\n",
    "sys.path.append('../')\n",
    "import gdc19\n",
    "gdc19.setup()"
   ]
  },
  {
   "cell_type": "code",
<<<<<<< HEAD
   "execution_count": 23,
   "metadata": {
    "collapsed": true
   },
=======
   "execution_count": null,
   "metadata": {},
>>>>>>> 43154890657dccb72746f6c5b4d4255f03ddec94
   "outputs": [],
   "source": [
    "import pandas as pd\n",
    "import numpy as np\n",
    "import pyvista\n",
    "import omfvista\n",
    "import PVGeo\n",
    "import matplotlib.pyplot as plt"
   ]
  },
  {
   "cell_type": "code",
   "execution_count": null,
   "metadata": {},
   "outputs": [],
   "source": [
    "pyvista.set_plot_theme('doc')\n",
    "pyvista.rcParams['font']['size'] = 12\n",
    "pyvista.rcParams['font']['title_size'] = 12\n",
    "pyvista.rcParams['font']['label_size'] = 12\n",
    "pyvista.rcParams['use_panel'] = False"
   ]
  },
  {
   "cell_type": "markdown",
   "metadata": {},
   "source": [
    "-----\n",
    "\n",
    "# Initial Inspection\n",
    "\n",
    "This notebook loads up all the data and works through an initial inspection."
   ]
  },
  {
   "cell_type": "code",
   "execution_count": 24,
   "metadata": {},
   "outputs": [
    {
     "data": {
      "text/html": [
       "<table><tr><th>Information</th><th>Blocks</th></tr><tr><td>\n",
       "<table>\n",
       "<tr><th>MultiBlock</th><th>Values</th></tr>\n",
       "<tr><td>N Blocks</td><td>8</td></tr>\n",
       "<tr><td>X Bounds</td><td>329666.000, 344152.930</td></tr>\n",
       "<tr><td>Y Bounds</td><td>4252833.482, 4270951.098</td></tr>\n",
       "<tr><td>Z Bounds</td><td>-2606.000, 2906.000</td></tr>\n",
       "</table>\n",
       "\n",
       "</td><td>\n",
       "<table>\n",
       "<tr><th>Index</th><th>Name</th><th>Type</th></tr>\n",
       "<tr><th>0</th><th>land_surface</th><th>UnstructuredGrid</th></tr>\n",
       "<tr><th>1</th><th>temp_225c</th><th>UnstructuredGrid</th></tr>\n",
       "<tr><th>2</th><th>temp_175c</th><th>UnstructuredGrid</th></tr>\n",
       "<tr><th>3</th><th>opal_mound_fault</th><th>UnstructuredGrid</th></tr>\n",
       "<tr><th>4</th><th>negro_mag_fault</th><th>UnstructuredGrid</th></tr>\n",
       "<tr><th>5</th><th>top_granitoid</th><th>UnstructuredGrid</th></tr>\n",
       "<tr><th>6</th><th>boundary</th><th>PolyData</th></tr>\n",
       "<tr><th>7</th><th>temperature</th><th>PolyData</th></tr>\n",
       "</table>\n",
       "\n",
       "</td></tr> </table>"
      ],
      "text/plain": [
       "(MultiBlock)0x139f29408"
      ]
     },
     "execution_count": 24,
     "metadata": {},
     "output_type": "execute_result"
    }
   ],
   "source": [
    "proj = gdc19.load_project()\n",
    "proj"
   ]
  },
  {
   "cell_type": "code",
<<<<<<< HEAD
   "execution_count": 25,
   "metadata": {
    "collapsed": true
   },
=======
   "execution_count": null,
   "metadata": {},
>>>>>>> 43154890657dccb72746f6c5b4d4255f03ddec94
   "outputs": [],
   "source": [
    "# Add values to the meshes so colors are consistent with other data\n",
    "try:\n",
    "    proj['temp_175c'].point_arrays['Temperature'] = np.full(proj['temp_175c'].n_points, 175.)\n",
    "    proj['temp_225c'].point_arrays['Temperature'] = np.full(proj['temp_225c'].n_points, 225.)\n",
    "#     tc = pyvista.MultiBlock()\n",
    "#     tc['temp_175c'] = proj['temp_175c']\n",
    "#     tc['temp_225c'] = proj['temp_225c']\n",
    "#     tc.save(gdc19.get_surfaces_path('temp-surfaces.vtm'))\n",
    "except:\n",
    "    import logging\n",
    "    logging.warning('issue.')"
   ]
  },
  {
   "cell_type": "code",
   "execution_count": 26,
   "metadata": {},
   "outputs": [
    {
     "data": {
      "text/html": [
       "<table><tr><th>Header</th><th>Data Arrays</th></tr><tr><td>\n",
       "<table>\n",
       "<tr><th>UnstructuredGrid</th><th>Information</th></tr>\n",
       "<tr><td>N Cells</td><td>824278</td></tr>\n",
       "<tr><td>N Points</td><td>413250</td></tr>\n",
       "<tr><td>X Bounds</td><td>3.299e+05, 3.442e+05</td></tr>\n",
       "<tr><td>Y Bounds</td><td>4.253e+06, 4.271e+06</td></tr>\n",
       "<tr><td>Z Bounds</td><td>1.494e+03, 2.723e+03</td></tr>\n",
       "<tr><td>N Scalars</td><td>3</td></tr>\n",
       "</table>\n",
       "\n",
       "</td><td>\n",
       "<table>\n",
       "<tr><th>Name</th><th>Field</th><th>Type</th><th>Min</th><th>Max</th></tr>\n",
       "<tr><td><b>geo_aer</b></td><td>Points</td><td>float32</td><td>3.737e-01</td><td>8.576e-01</td></tr>\n",
       "<tr><td>geo_no_aer</td><td>Points</td><td>float32</td><td>3.737e-01</td><td>8.576e-01</td></tr>\n",
       "<tr><td>topo_map</td><td>Points</td><td>float32</td><td>2.254e-01</td><td>8.844e-01</td></tr>\n",
       "</table>\n",
       "\n",
       "</td></tr> </table>"
      ],
      "text/plain": [
       "(UnstructuredGrid)0x139ed8e88"
      ]
     },
     "execution_count": 26,
     "metadata": {},
     "output_type": "execute_result"
    }
   ],
   "source": [
    "web_friendly = False\n",
    "if web_friendly:\n",
    "    # do stuff\n",
    "    topo = pyvista.read(gdc19.get_web_path('topo.vtk'))\n",
    "    granitoid = pyvista.read(gdc19.get_web_path('granite.vtk'))\n",
    "    texture = pyvista.load_texture(gdc19.get_web_path('geology-aerial-compressed.jpg'))\n",
    "    topo.textures['geo_aer'] = texture\n",
    "else:\n",
    "    topo = proj['land_surface']\n",
    "    granitoid = proj['top_granitoid']\n",
    "topo"
   ]
  },
  {
   "cell_type": "code",
   "execution_count": 27,
   "metadata": {},
   "outputs": [
    {
     "data": {
      "text/html": [
       "<table><tr><th>Header</th><th>Data Arrays</th></tr><tr><td>\n",
       "<table>\n",
       "<tr><th>UnstructuredGrid</th><th>Information</th></tr>\n",
       "<tr><td>N Cells</td><td>2486374</td></tr>\n",
       "<tr><td>N Points</td><td>473075</td></tr>\n",
       "<tr><td>X Bounds</td><td>3.299e+05, 3.442e+05</td></tr>\n",
       "<tr><td>Y Bounds</td><td>4.253e+06, 4.271e+06</td></tr>\n",
       "<tr><td>Z Bounds</td><td>-2.700e+03, 2.300e+03</td></tr>\n",
       "<tr><td>N Scalars</td><td>3</td></tr>\n",
       "</table>\n",
       "\n",
       "</td><td>\n",
       "<table>\n",
       "<tr><th>Name</th><th>Field</th><th>Type</th><th>Min</th><th>Max</th></tr>\n",
       "<tr><td><b>Temperature</b></td><td>Cells</td><td>float64</td><td>6.177e+00</td><td>2.781e+02</td></tr>\n",
       "<tr><td>Temperature_var</td><td>Cells</td><td>float64</td><td>1.034e+02</td><td>1.133e+04</td></tr>\n",
       "<tr><td>Extracted</td><td>Cells</td><td>int64</td><td>1.000e+00</td><td>1.000e+00</td></tr>\n",
       "</table>\n",
       "\n",
       "</td></tr> </table>"
      ],
      "text/plain": [
       "(UnstructuredGrid)0x139f29b88"
      ]
     },
     "execution_count": 27,
     "metadata": {},
     "output_type": "execute_result"
    }
   ],
   "source": [
    "# Load kriged temperature model from Lane\n",
    "# Read the kirgged model and variance\n",
    "temp_grid = gdc19.load_kriged_temp()\n",
    "\n",
    "# Remove values above topography\n",
    "temp_grid = PVGeo.grids.ExtractTopography(\n",
    "                remove=True, # remove the inactive cells\n",
    "                tolerance=10.0 # buffer around the topo surface\n",
    "               ).Apply(temp_grid, topo)\n",
    "temp_grid"
   ]
  },
  {
   "cell_type": "code",
   "execution_count": null,
   "metadata": {},
   "outputs": [],
   "source": [
    "def make_rgba(values, opacities, cmap, flip=False):\n",
    "    \"\"\"Make an RGBA matrix from data values (colors) and\n",
    "    a seperate array for the opacities at each element.\n",
    "    Use the ``flip`` argument to invert the opacities.\n",
    "    \"\"\"\n",
    "    def norm(x):\n",
    "        \"\"\"Normalise array betweeen 0-1\"\"\"\n",
    "        return (x - np.min(x)) / (np.max(x) - np.min(x))\n",
    "    # change colour based on position on the x axis\n",
    "    hue = norm(values)\n",
    "    colors = cmap(hue)[:, :3]\n",
    "    # change alpha based on position on the z axis\n",
    "    if flip:\n",
    "        alpha = 1 - norm(opacities)\n",
    "    else:\n",
    "        alpha = norm(opacities)\n",
    "    # combine hue and alpha into a Nx4 matrix\n",
    "    rgba_vals = np.concatenate((colors, alpha[:, None]), axis=1)\n",
    "    rgba_vals = (rgba_vals * 255).astype(np.uint8)\n",
    "    return rgba_vals\n",
    "\n",
    "cmap = plt.cm.jet\n",
    "rgba_vals = make_rgba(temp_grid.cell_arrays['Temperature'], \n",
    "                      temp_grid.cell_arrays['Temperature_var'],\n",
    "                      cmap,\n",
    "                      flip=True)\n",
    "temp_grid.cell_arrays['colors'] = rgba_vals"
   ]
  },
  {
   "cell_type": "code",
   "execution_count": null,
   "metadata": {},
   "outputs": [],
   "source": [
    "# Save out topo for ParaView\n",
    "# topo.save(gdc19.get_surfaces_path('topography.vtk'))"
   ]
  },
  {
   "cell_type": "code",
   "execution_count": null,
   "metadata": {},
   "outputs": [],
   "source": [
    "# Save out site boundary\n",
    "# proj['boundary'].save(gdc19.get_gis_path('boundary.vtk'))"
   ]
  },
  {
   "cell_type": "code",
   "execution_count": null,
   "metadata": {},
   "outputs": [],
   "source": [
    "rgba_vals.shape"
   ]
  },
  {
   "cell_type": "markdown",
   "metadata": {},
   "source": [
    "# Integrated Scene\n",
    "\n",
    "Now use `pyvista` to create and integrated rendering of all the available data\n"
   ]
  },
  {
   "cell_type": "code",
<<<<<<< HEAD
   "execution_count": 28,
   "metadata": {
    "collapsed": true
   },
=======
   "execution_count": null,
   "metadata": {},
>>>>>>> 43154890657dccb72746f6c5b4d4255f03ddec94
   "outputs": [],
   "source": [
    "#pyvista.close_all()\n",
    "p = pyvista.BackgroundPlotter()"
   ]
  },
  {
   "cell_type": "code",
<<<<<<< HEAD
   "execution_count": 29,
   "metadata": {},
   "outputs": [
    {
     "data": {
      "text/plain": [
       "(vtkRenderingAnnotationPython.vtkCubeAxesActor)0x139f29468"
      ]
     },
     "execution_count": 29,
     "metadata": {},
     "output_type": "execute_result"
    }
   ],
=======
   "execution_count": null,
   "metadata": {},
   "outputs": [],
>>>>>>> 43154890657dccb72746f6c5b4d4255f03ddec94
   "source": [
    "p.show_grid()"
   ]
  },
  {
   "cell_type": "markdown",
   "metadata": {},
   "source": [
    "## Topography & Imagery"
   ]
  },
  {
   "cell_type": "code",
<<<<<<< HEAD
   "execution_count": 30,
   "metadata": {},
   "outputs": [
    {
     "data": {
      "text/plain": [
       "(vtkRenderingOpenGL2Python.vtkOpenGLActor)0x139f29d08"
      ]
     },
     "execution_count": 30,
     "metadata": {},
     "output_type": "execute_result"
    }
   ],
=======
   "execution_count": null,
   "metadata": {},
   "outputs": [],
>>>>>>> 43154890657dccb72746f6c5b4d4255f03ddec94
   "source": [
    "# We can update this cell to change the texture\n",
    "p.add_mesh(topo,\n",
    "           texture='geo_aer', \n",
    "           name='topo', )#color='white')"
   ]
  },
  {
   "cell_type": "markdown",
   "metadata": {},
   "source": [
    "## Temperature Data"
   ]
  },
  {
   "cell_type": "code",
<<<<<<< HEAD
   "execution_count": 31,
   "metadata": {
    "collapsed": true
   },
=======
   "execution_count": null,
   "metadata": {},
>>>>>>> 43154890657dccb72746f6c5b4d4255f03ddec94
   "outputs": [],
   "source": [
    "temp_d_params = dict(cmap='coolwarm', stitle='Temperature', \n",
    "                     clim=temp_grid.get_data_range('Temperature'))"
   ]
  },
  {
   "cell_type": "code",
<<<<<<< HEAD
   "execution_count": 32,
   "metadata": {},
   "outputs": [
    {
     "data": {
      "text/plain": [
       "(vtkRenderingOpenGL2Python.vtkOpenGLActor)0x139f29b28"
      ]
     },
     "execution_count": 32,
     "metadata": {},
     "output_type": "execute_result"
    }
   ],
=======
   "execution_count": null,
   "metadata": {},
   "outputs": [],
>>>>>>> 43154890657dccb72746f6c5b4d4255f03ddec94
   "source": [
    "p.add_mesh(proj['temperature'], name='temp', \n",
    "           point_size=10, render_points_as_spheres=True,\n",
    "           **temp_d_params)"
   ]
  },
  {
   "cell_type": "code",
<<<<<<< HEAD
   "execution_count": 33,
   "metadata": {},
   "outputs": [
    {
     "data": {
      "text/plain": [
       "(vtkRenderingOpenGL2Python.vtkOpenGLActor)0x13ab1b168"
      ]
     },
     "execution_count": 33,
     "metadata": {},
     "output_type": "execute_result"
    }
   ],
=======
   "execution_count": null,
   "metadata": {},
   "outputs": [],
>>>>>>> 43154890657dccb72746f6c5b4d4255f03ddec94
   "source": [
    "# add the temperature boundaries\n",
    "p.add_mesh(proj['temp_175c'], name='temp_175c', \n",
    "           style='wireframe', **temp_d_params)\n",
    "p.add_mesh(proj['temp_225c'], name='temp_225c', \n",
    "           style='wireframe', **temp_d_params)"
   ]
  },
  {
   "cell_type": "code",
<<<<<<< HEAD
   "execution_count": 34,
   "metadata": {},
   "outputs": [
    {
     "data": {
      "application/vnd.jupyter.widget-view+json": {
       "model_id": "8cfebee5a4ab463c89cc3951c4b684f0"
      }
     },
     "metadata": {},
     "output_type": "display_data"
    }
   ],
=======
   "execution_count": null,
   "metadata": {},
   "outputs": [],
>>>>>>> 43154890657dccb72746f6c5b4d4255f03ddec94
   "source": [
    "# temp_grid.set_active_scalar('Temperature')\n",
    "# thresher = pyvista.Threshold(temp_grid, plotter=p, outline=False,\n",
    "#                           display_params=dict(cmap='coolwarm', \n",
    "#                                  clim=temp_grid.get_data_range(),\n",
    "#                                  show_scalar_bar=True, name='thresh',\n",
    "#                                  opacity=0.6),\n",
    "#                           default_params=dict(dmin=175, dmax=255))\n",
    "\n",
    "foo = temp_grid.threshold([175, 225])\n",
    "\n",
    "p.add_mesh(foo, name='thresh', scalars='Temperature',)# rgba=True)\n"
   ]
  },
  {
   "cell_type": "code",
<<<<<<< HEAD
   "execution_count": 35,
   "metadata": {},
   "outputs": [
    {
     "data": {
      "application/vnd.jupyter.widget-view+json": {
       "model_id": "5b6f56768e4849ddab9399a74e2af06e"
      }
     },
     "metadata": {},
     "output_type": "display_data"
    }
   ],
=======
   "execution_count": null,
   "metadata": {},
   "outputs": [],
>>>>>>> 43154890657dccb72746f6c5b4d4255f03ddec94
   "source": [
    "# temp_grid.set_active_scalar('Temperature_var')\n",
    "# slicer = pyvista.OrthogonalSlicer(temp_grid, plotter=p, outline=False,\n",
    "#                                display_params=dict(cmap='bone_r', \n",
    "#                                  clim=temp_grid.get_data_range(),\n",
    "#                                  show_scalar_bar=False, name='slices'),\n",
    "#                                clean=False)"
   ]
  },
  {
   "cell_type": "markdown",
   "metadata": {},
   "source": [
    "## Fault Surfaces"
   ]
  },
  {
   "cell_type": "code",
<<<<<<< HEAD
   "execution_count": 36,
   "metadata": {},
   "outputs": [
    {
     "data": {
      "text/plain": [
       "(vtkRenderingOpenGL2Python.vtkOpenGLActor)0x13ab1b768"
      ]
     },
     "execution_count": 36,
     "metadata": {},
     "output_type": "execute_result"
    }
   ],
=======
   "execution_count": null,
   "metadata": {},
   "outputs": [],
>>>>>>> 43154890657dccb72746f6c5b4d4255f03ddec94
   "source": [
    "p.add_mesh(proj['negro_mag_fault'], name='negro_mag_fault',\n",
    "           show_edges=False, color='blue', opacity=0.5)\n",
    "p.add_mesh(proj['opal_mound_fault'], name='opal_mound_fault',\n",
    "           show_edges=False, color='orange', opacity=0.5)"
   ]
  },
  {
   "cell_type": "markdown",
   "metadata": {},
   "source": [
    "## ROI Boundary\n",
    "\n",
    "Region of interest - where we can place a well"
   ]
  },
  {
   "cell_type": "code",
<<<<<<< HEAD
   "execution_count": 37,
   "metadata": {},
   "outputs": [
    {
     "data": {
      "text/plain": [
       "(vtkRenderingOpenGL2Python.vtkOpenGLActor)0x13ab1ba08"
      ]
     },
     "execution_count": 37,
     "metadata": {},
     "output_type": "execute_result"
    }
   ],
=======
   "execution_count": null,
   "metadata": {},
   "outputs": [],
>>>>>>> 43154890657dccb72746f6c5b4d4255f03ddec94
   "source": [
    "# Add the shape file stuff\n",
    "boundary = proj['boundary']\n",
    "\n",
    "boundary_tube = PVGeo.filters.AddCellConnToPoints(cellConn=4).Apply(boundary).tube(radius=30)\n",
    "\n",
    "p.add_mesh(boundary_tube, name='boundary', \n",
    "           color='yellow', render_lines_as_tubes=False, line_width=10)\n",
    "# project the boundary down\n",
    "walls = PVGeo.filters.BuildSurfaceFromPoints(\n",
    "                zcoords=[0., 4.5e3]).Apply(proj['boundary'])\n",
    "p.add_mesh(walls, name='walls', \n",
    "           color='yellow', opacity=0.5)"
   ]
  },
  {
   "cell_type": "markdown",
   "metadata": {},
   "source": [
    "## Granite Surface Boundary"
   ]
  },
  {
   "cell_type": "code",
<<<<<<< HEAD
   "execution_count": 38,
   "metadata": {},
   "outputs": [
    {
     "data": {
      "text/plain": [
       "(vtkRenderingOpenGL2Python.vtkOpenGLActor)0x13ab1b888"
      ]
     },
     "execution_count": 38,
     "metadata": {},
     "output_type": "execute_result"
    }
   ],
=======
   "execution_count": null,
   "metadata": {},
   "outputs": [],
>>>>>>> 43154890657dccb72746f6c5b4d4255f03ddec94
   "source": [
    "# Add the granitoid boundary\n",
    "#--\n",
    "# Lets run a PVGeo filter to extract the topo surface from\n",
    "#    the granitoid surface\n",
    "ext = PVGeo.grids.ExtractTopography(\n",
    "        remove=True, # remove the inactive cells\n",
    "        tolerance=10.0 # buffer around the topo surface\n",
    "        ).Apply(granitoid, topo)\n",
    "granitoid = ext\n",
    "#--\n",
    "# Now plot it!\n",
    "if not web_friendly:\n",
    "    p.add_mesh(granitoid, name='top_granitoid',\n",
    "               show_edges=False, style='surface',\n",
    "               color='grey', opacity=0.75, reset_camera=False,\n",
    "              )\n",
    "else:\n",
    "    p.remove_actor('top_granitoid')\n",
    "    \n",
    "# granitoid.save(gdc19.get_surfaces_path('granite.vtk'))"
   ]
  },
  {
   "cell_type": "markdown",
   "metadata": {},
   "source": [
    "## Well Collars"
   ]
  },
  {
   "cell_type": "code",
<<<<<<< HEAD
   "execution_count": 43,
   "metadata": {},
   "outputs": [
    {
     "data": {
      "text/html": [
       "<div>\n",
       "<style scoped>\n",
       "    .dataframe tbody tr th:only-of-type {\n",
       "        vertical-align: middle;\n",
       "    }\n",
       "\n",
       "    .dataframe tbody tr th {\n",
       "        vertical-align: top;\n",
       "    }\n",
       "\n",
       "    .dataframe thead th {\n",
       "        text-align: right;\n",
       "    }\n",
       "</style>\n",
       "<table border=\"1\" class=\"dataframe\">\n",
       "  <thead>\n",
       "    <tr style=\"text-align: right;\">\n",
       "      <th></th>\n",
       "      <th>Well ID</th>\n",
       "      <th>x</th>\n",
       "      <th>y</th>\n",
       "      <th>z (land surface)</th>\n",
       "      <th>depth (m)</th>\n",
       "    </tr>\n",
       "  </thead>\n",
       "  <tbody>\n",
       "    <tr>\n",
       "      <th>35</th>\n",
       "      <td>58-32</td>\n",
       "      <td>335380.766</td>\n",
       "      <td>4263040.829</td>\n",
       "      <td>1681.616587</td>\n",
       "      <td>2296.9</td>\n",
       "    </tr>\n",
       "    <tr>\n",
       "      <th>56</th>\n",
       "      <td>RHS-14</td>\n",
       "      <td>335798.986</td>\n",
       "      <td>4264089.986</td>\n",
       "      <td>1690.846576</td>\n",
       "      <td>137.5</td>\n",
       "    </tr>\n",
       "    <tr>\n",
       "      <th>67</th>\n",
       "      <td>TPC-12</td>\n",
       "      <td>334826.000</td>\n",
       "      <td>4262756.046</td>\n",
       "      <td>1661.196616</td>\n",
       "      <td>150.0</td>\n",
       "    </tr>\n",
       "    <tr>\n",
       "      <th>68</th>\n",
       "      <td>TPC-14</td>\n",
       "      <td>335446.971</td>\n",
       "      <td>4264046.019</td>\n",
       "      <td>1675.199038</td>\n",
       "      <td>145.0</td>\n",
       "    </tr>\n",
       "  </tbody>\n",
       "</table>\n",
       "</div>"
      ],
      "text/plain": [
       "   Well ID           x            y  z (land surface)  depth (m)\n",
       "35   58-32  335380.766  4263040.829       1681.616587     2296.9\n",
       "56  RHS-14  335798.986  4264089.986       1690.846576      137.5\n",
       "67  TPC-12  334826.000  4262756.046       1661.196616      150.0\n",
       "68  TPC-14  335446.971  4264046.019       1675.199038      145.0"
      ]
     },
     "execution_count": 43,
     "metadata": {},
     "output_type": "execute_result"
    }
   ],
=======
   "execution_count": null,
   "metadata": {},
   "outputs": [],
>>>>>>> 43154890657dccb72746f6c5b4d4255f03ddec94
   "source": [
    "well_locs = pd.read_csv(gdc19.get_well_path('well_location_from_earth_model.csv'))\n",
    "foo = PVGeo.pointsToPolyData(well_locs[['x', 'y', 'z (land surface)']].values)\n",
    "# p.add_mesh(foo, name='well_locations', point_size=10, color='orange')\n",
    "idxs = []\n",
    "for i, pt in enumerate(foo.points):\n",
    "    if pyvista.is_inside_bounds(pt,proj['boundary'].bounds):\n",
    "        idxs.append(i)\n",
    "wells_inside = well_locs.loc[idxs]\n",
    "wells_inside"
   ]
  },
  {
   "cell_type": "markdown",
   "metadata": {},
   "source": [
    "## Well Trajectories"
   ]
  },
  {
   "cell_type": "code",
<<<<<<< HEAD
   "execution_count": 110,
   "metadata": {
    "collapsed": true
   },
=======
   "execution_count": null,
   "metadata": {},
>>>>>>> 43154890657dccb72746f6c5b4d4255f03ddec94
   "outputs": [],
   "source": [
    "# Plot the wells\n",
    "WELLS = gdc19.load_well_db()\n",
    "proposed = pyvista.MultiBlock()\n",
    "proposed['well_new1'] = WELLS.pop('well_new1')\n",
    "proposed['well_new2'] = WELLS.pop('well_new2')\n",
    "\n",
    "\n",
    "well_5832 = WELLS.pop('well_5832')\n",
    "#well_5832.set_active_scalar('ECGR')\n",
    "well_Acord1 = WELLS.pop('well_Acord1')\n",
    "#well_Acord1 = WELLS.set_active_scalar('GR_SPLICE (GAPI)')"
   ]
  },
  {
   "cell_type": "code",
<<<<<<< HEAD
   "execution_count": 111,
   "metadata": {
    "collapsed": true
   },
=======
   "execution_count": null,
   "metadata": {},
>>>>>>> 43154890657dccb72746f6c5b4d4255f03ddec94
   "outputs": [],
   "source": [
    "_ = p.add_mesh(WELLS, color='grey', name='WELLS', reset_camera=False)\n",
    "_ = p.add_mesh(proposed, color='red', name='proposed-wells', reset_camera=False)"
   ]
  },
  {
   "cell_type": "code",
<<<<<<< HEAD
   "execution_count": 112,
   "metadata": {
    "collapsed": true
   },
=======
   "execution_count": null,
   "metadata": {},
>>>>>>> 43154890657dccb72746f6c5b4d4255f03ddec94
   "outputs": [],
   "source": [
    "title = 'My Title'\n",
    "_ = p.add_mesh(well_5832, scalars='ECGR', \n",
    "               name='5832', clim=[0,200], \n",
    "               cmap='viridis', stitle=title)\n",
    "_ = p.add_mesh(well_Acord1, \n",
    "               scalars=' GR_SPLICE (GAPI)', \n",
    "               name = 'Acord1', \n",
    "               clim=[0, 200], cmap = 'viridis',\n",
    "               stitle=title)\n",
    "\n",
    "\n",
    "\n"
   ]
  },
  {
   "cell_type": "markdown",
   "metadata": {},
   "source": [
    "## Gravity Data"
   ]
  },
  {
   "cell_type": "code",
   "execution_count": null,
   "metadata": {},
   "outputs": [],
   "source": [
    "field_desc = {\n",
    "    \"name\": \"the individual gravity station name.\",\n",
    "    \"lon\": \"station Longitude, WGS84\",\n",
    "    \"lat\": \"station latitude, WGS84\",\n",
    "    \"easting\": \"UTM zone 12 easting, NAD83\",\n",
    "    \"northing\": \"UTM zone 12 northing, NAD83\",\n",
    "    \"HAE\": \"height above ellipsoid [meter]\",\n",
    "    \"NGVD29\": \"vertical datum for geoid [meter]\",\n",
    "    \"obs\": \"observed gravity\",\n",
    "    \"errg\": \"gravity measurement error [mGal]\",\n",
    "    \"iztc\": \"inner zone terrain correction [mGal]\",\n",
    "    \"oztc\": \"outer zone terrain correction [mGal]\",\n",
    "    \"gFA\": \"free air gravity\",\n",
    "    \"gSBGA\": \"Bouguer horizontal slab\",\n",
    "    \"gCBGA\": \"Complete Bouguer anomaly\",\n",
    "    \"Source\": \"data source\",\n",
    "}"
   ]
  },
  {
   "cell_type": "code",
   "execution_count": null,
   "metadata": {},
   "outputs": [],
   "source": [
    "df = pd.read_csv(gdc19.get_gravity_path('Utah_FORGE_Gravity_Data.txt'))\n",
    "ref = ['easting', 'northing', 'HAE']\n",
    "points = df[ref]\n",
    "for name in ref:\n",
    "    df.pop(name)\n",
    "grav = pyvista.PolyData(points.values)\n",
    "grav.point_arrays.update(df.to_dict('series'))\n",
    "# clip the gravity survey\n",
    "grav = grav.clip_box(gdc19.get_roi_bounds(), invert=False)\n",
    "# and shift the z component so its not directly in the topo surface\n",
    "grav.points[:, -1] += 25 # NOTE this is not good practice"
   ]
  },
  {
   "cell_type": "code",
   "execution_count": null,
   "metadata": {
    "collapsed": true
   },
   "outputs": [],
   "source": [
    "val = \"gCBGA\"\n",
    "p.add_mesh(grav, scalars=val, name='gravity', cmap='viridis',\n",
    "           render_points_as_spheres=True, stitle=field_desc[val],\n",
    "           point_size=10)"
   ]
  },
  {
   "cell_type": "markdown",
   "metadata": {},
   "source": [
    "# Screenshot"
   ]
  },
  {
   "cell_type": "code",
   "execution_count": null,
   "metadata": {
    "collapsed": true
   },
   "outputs": [],
   "source": [
    "# _ = p.screenshot('../integrated_view.png')\n",
    "# p.remove_actor('topo')\n",
    "# p.remove_actor('thresh')\n",
    "# p.remove_actor('slices')\n",
    "# p.export_vtkjs('integrated_view')"
   ]
  },
  {
   "cell_type": "code",
   "execution_count": null,
   "metadata": {},
   "outputs": [],
   "source": [
    "tri = pyvista.PolyData(proj['boundary'].points).delaunay_2d()"
   ]
  },
  {
   "cell_type": "code",
   "execution_count": null,
   "metadata": {},
   "outputs": [],
   "source": [
    "tri.area"
   ]
  },
  {
   "cell_type": "code",
   "execution_count": null,
   "metadata": {},
   "outputs": [],
   "source": []
  }
 ],
 "metadata": {
  "kernelspec": {
   "display_name": "Python [conda env:dev]",
   "language": "python",
   "name": "dev"
  },
  "language_info": {
   "codemirror_mode": {
    "name": "ipython",
    "version": 3
   },
   "file_extension": ".py",
   "mimetype": "text/x-python",
   "name": "python",
   "nbconvert_exporter": "python",
   "pygments_lexer": "ipython3",
   "version": "3.7.2"
  }
 },
 "nbformat": 4,
 "nbformat_minor": 2
}
