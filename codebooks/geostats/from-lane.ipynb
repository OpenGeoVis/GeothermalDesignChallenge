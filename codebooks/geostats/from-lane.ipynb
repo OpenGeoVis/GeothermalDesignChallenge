{
 "cells": [
  {
   "cell_type": "code",
   "execution_count": null,
   "metadata": {},
   "outputs": [],
   "source": [
    "import sys\n",
    "# This makes the gdc19 package avaialble\n",
    "sys.path.append('../../')\n",
    "import gdc19"
   ]
  },
  {
   "cell_type": "code",
   "execution_count": null,
   "metadata": {},
   "outputs": [],
   "source": [
    "import vtki\n",
    "import omfvtk\n",
    "import PVGeo\n",
    "import vtk\n",
    "import numpy as np"
   ]
  },
  {
   "cell_type": "code",
   "execution_count": null,
   "metadata": {},
   "outputs": [],
   "source": [
    "# Read the kirgged model and variance\n",
    "temp_grid = gdc19.load_kriged_temp(clip=True)"
   ]
  },
  {
   "cell_type": "code",
   "execution_count": null,
   "metadata": {},
   "outputs": [],
   "source": [
    "proj = gdc19.load_project()\n",
    "proj"
   ]
  },
  {
   "cell_type": "code",
   "execution_count": null,
   "metadata": {},
   "outputs": [],
   "source": [
    "vtki.close_all()\n",
    "temp_grid.set_active_scalar('Temperature_var')\n",
    "slicer = vtki.OrthogonalSlicer(temp_grid, \n",
    "                               display_params=dict(cmap='coolwarm', \n",
    "                                 clim=temp_grid.get_data_range(),\n",
    "                                 show_scalar_bar=False, name='slices'),\n",
    "                               clean=False)\n",
    "p = slicer.plotter"
   ]
  },
  {
   "cell_type": "code",
   "execution_count": null,
   "metadata": {},
   "outputs": [],
   "source": [
    "temp_d_params = dict(cmap='coolwarm', stitle='Temperature', \n",
    "                     clim=temp_grid.get_data_range('Temperature'))"
   ]
  },
  {
   "cell_type": "code",
   "execution_count": null,
   "metadata": {},
   "outputs": [],
   "source": [
    "temp_grid.set_active_scalar('Temperature')\n",
    "thresher = vtki.Threshold(temp_grid, plotter=p, \n",
    "                          display_params=dict(cmap='bone', \n",
    "                                 clim=temp_grid.get_data_range(),\n",
    "                                 show_scalar_bar=True, name='thresh'),#opacity=0.6),\n",
    "                         default_params=dict(dmin=175, dmax=255))"
   ]
  },
  {
   "cell_type": "code",
   "execution_count": null,
   "metadata": {},
   "outputs": [],
   "source": [
    "p.add_mesh(proj['temperature'], name='temp', \n",
    "           point_size=20, render_points_as_spheres=True, \n",
    "          cmap='')"
   ]
  },
  {
   "cell_type": "code",
   "execution_count": null,
   "metadata": {},
   "outputs": [],
   "source": [
    "# temp_grid.save(gdc19.get_lane_path(\"geotherm-export/geotherm_kriged.vtk\"))"
   ]
  },
  {
   "cell_type": "code",
   "execution_count": null,
   "metadata": {},
   "outputs": [],
   "source": []
  }
 ],
 "metadata": {
  "kernelspec": {
   "display_name": "Python [conda env:ogv]",
   "language": "python",
   "name": "conda-env-ogv-py"
  },
  "language_info": {
   "codemirror_mode": {
    "name": "ipython",
    "version": 3
   },
   "file_extension": ".py",
   "mimetype": "text/x-python",
   "name": "python",
   "nbconvert_exporter": "python",
   "pygments_lexer": "ipython3",
   "version": "3.6.5"
  }
 },
 "nbformat": 4,
 "nbformat_minor": 2
}
