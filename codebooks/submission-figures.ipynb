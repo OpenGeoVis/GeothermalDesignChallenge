{
 "cells": [
  {
   "cell_type": "markdown",
   "metadata": {},
   "source": [
    "# Submission Figures"
   ]
  },
  {
   "cell_type": "code",
   "execution_count": null,
   "metadata": {},
   "outputs": [],
   "source": [
    "import sys\n",
    "# This makes the gdc19 package avaialble\n",
    "sys.path.append('../')\n",
    "import gdc19\n",
    "gdc19.setup()"
   ]
  },
  {
   "cell_type": "code",
   "execution_count": null,
   "metadata": {
    "collapsed": true
   },
   "outputs": [],
   "source": [
    "import pandas as pd\n",
    "import numpy as np\n",
    "import vtki\n",
    "import omfvtk\n",
    "import PVGeo\n",
    "import matplotlib.pyplot as plt"
   ]
  },
  {
   "cell_type": "code",
   "execution_count": null,
   "metadata": {
    "collapsed": true
   },
   "outputs": [],
   "source": [
    "vtki.set_plot_theme('doc')\n",
    "vtki.rcParams['font']['size'] = 12\n",
    "vtki.rcParams['font']['title_size'] = 12\n",
    "vtki.rcParams['font']['label_size'] = 12\n",
    "vtki.rcParams['use_panel'] = False"
   ]
  },
  {
   "cell_type": "code",
   "execution_count": null,
   "metadata": {
    "collapsed": true
   },
   "outputs": [],
   "source": [
    "proj = gdc19.load_project()"
   ]
  },
  {
   "cell_type": "code",
   "execution_count": null,
   "metadata": {
    "collapsed": true
   },
   "outputs": [],
   "source": [
    "# Add values to the meshes so colors are consistent with other data\n",
    "# try:\n",
    "temp_175c = proj['temp_175c']\n",
    "temp_225c = proj['temp_225c']\n",
    "temp_175c.point_arrays['Temperature'] = np.full(proj['temp_175c'].n_points, 175.)\n",
    "temp_225c.point_arrays['Temperature'] = np.full(proj['temp_225c'].n_points, 225.)\n",
    "#     tc = vtki.MultiBlock()\n",
    "#     tc['temp_175c'] = proj['temp_175c']\n",
    "#     tc['temp_225c'] = proj['temp_225c']\n",
    "#     tc.save(gdc19.get_surfaces_path('temp-surfaces.vtm'))\n",
    "# except:\n",
    "#     import logging\n",
    "#     logging.warning('issue.')"
   ]
  },
  {
   "cell_type": "code",
   "execution_count": null,
   "metadata": {},
   "outputs": [],
   "source": [
    "web_friendly = False\n",
    "if web_friendly:\n",
    "    # do stuff\n",
    "    topo = vtki.read(gdc19.get_web_path('topo.vtk'))\n",
    "    granitoid = vtki.read(gdc19.get_web_path('granite.vtk'))\n",
    "    texture = vtki.load_texture(gdc19.get_web_path('geology-aerial-compressed.jpg'))\n",
    "    topo.textures['geo_aer'] = texture\n",
    "else:\n",
    "    topo = proj['land_surface']\n",
    "    granitoid = proj['top_granitoid']\n",
    "topo"
   ]
  },
  {
   "cell_type": "code",
   "execution_count": null,
   "metadata": {},
   "outputs": [],
   "source": [
    "# Load kriged temperature model from Lane\n",
    "# Read the kirgged model and variance\n",
    "temp_grid = gdc19.load_kriged_temp()\n",
    "\n",
    "# Remove values above topography\n",
    "temp_grid = PVGeo.grids.ExtractTopography(\n",
    "                remove=True, # remove the inactive cells\n",
    "                tolerance=10.0 # buffer around the topo surface\n",
    "               ).Apply(temp_grid, topo)\n",
    "temp_grid"
   ]
  },
  {
   "cell_type": "code",
   "execution_count": null,
   "metadata": {
    "collapsed": true
   },
   "outputs": [],
   "source": [
    "# Add the granitoid boundary\n",
    "#--\n",
    "# Lets run a PVGeo filter to extract the topo surface from\n",
    "#    the granitoid surface\n",
    "ext = PVGeo.grids.ExtractTopography(\n",
    "        remove=True, # remove the inactive cells\n",
    "        tolerance=10.0 # buffer around the topo surface\n",
    "        ).Apply(granitoid, topo)\n",
    "granitoid = ext"
   ]
  },
  {
   "cell_type": "code",
   "execution_count": null,
   "metadata": {
    "collapsed": true
   },
   "outputs": [],
   "source": [
    "# Add the shape file stuff\n",
    "boundary = proj['boundary']\n",
    "\n",
    "boundary_tube = PVGeo.filters.AddCellConnToPoints(cellConn=4).Apply(boundary).tube(radius=30)\n",
    "\n",
    "\n",
    "walls = PVGeo.filters.BuildSurfaceFromPoints(\n",
    "                zcoords=[0., 4.5e3]).Apply(proj['boundary'])"
   ]
  },
  {
   "cell_type": "code",
   "execution_count": null,
   "metadata": {
    "collapsed": true
   },
   "outputs": [],
   "source": [
    "well_locs = pd.read_csv(gdc19.get_well_path('well_location_from_earth_model.csv'))\n",
    "well_locs = PVGeo.pointsToPolyData(well_locs[['x', 'y', 'z (land surface)']].values).clip_box(\n",
    "                    gdc19.get_roi_bounds(), invert=False)"
   ]
  },
  {
   "cell_type": "code",
   "execution_count": null,
   "metadata": {
    "collapsed": true
   },
   "outputs": [],
   "source": [
    "# Plot the wells\n",
    "WELLS = gdc19.load_well_db()\n",
    "proposed = vtki.MultiBlock()\n",
    "proposed['well_new1'] = WELLS.pop('well_new1')\n",
    "proposed['well_new2'] = WELLS.pop('well_new2')\n",
    "\n",
    "\n",
    "well_5832 = WELLS.pop('well_5832')\n",
    "#well_5832.set_active_scalar('ECGR')\n",
    "well_Acord1 = WELLS.pop('well_Acord1')\n",
    "#well_Acord1 = WELLS.set_active_scalar('GR_SPLICE (GAPI)')"
   ]
  },
  {
   "cell_type": "code",
   "execution_count": null,
   "metadata": {},
   "outputs": [],
   "source": [
    "well_5832"
   ]
  },
  {
   "cell_type": "code",
   "execution_count": null,
   "metadata": {},
   "outputs": [],
   "source": [
    "well_Acord1"
   ]
  },
  {
   "cell_type": "markdown",
   "metadata": {},
   "source": [
    "# Helpers\n",
    "\n",
    "Functions for adding datasets to a scene in a consistent manner"
   ]
  },
  {
   "cell_type": "code",
   "execution_count": null,
   "metadata": {
    "collapsed": true
   },
   "outputs": [],
   "source": [
    "POINT_SIZE = 20\n",
    "\n",
    "def clip_it(data, bounds):\n",
    "    if bounds is None:\n",
    "        return data\n",
    "    return data.clip_box(bounds, invert=False)\n",
    "\n",
    "def add_topo(p, bounds=None):\n",
    "    data = clip_it(topo, bounds)\n",
    "    if data.n_points < 1:\n",
    "        return\n",
    "    # We can update this to change the texture\n",
    "    return p.add_mesh(data,\n",
    "               texture='geo_aer', \n",
    "               name='topo', color='white')#, opacity=0.85)\n",
    "\n",
    "def add_faults(p, bounds=None):\n",
    "    data = clip_it(proj['negro_mag_fault'], bounds)\n",
    "    if data.n_points < 1:\n",
    "        return\n",
    "    f1 = p.add_mesh(data, name='negro_mag_fault',\n",
    "           show_edges=False, color='blue', opacity=0.5)\n",
    "    data = clip_it(proj['opal_mound_fault'], bounds)\n",
    "    if data.n_points < 1:\n",
    "        return\n",
    "    f2 = p.add_mesh(data, name='opal_mound_fault',\n",
    "           show_edges=False, color='orange', opacity=0.5) \n",
    "    return f1, f2\n",
    "\n",
    "def add_granite(p, bounds=None):\n",
    "    data = clip_it(granitoid, bounds)\n",
    "    if data.n_points < 1:\n",
    "        return\n",
    "    return p.add_mesh(data, name='top_granitoid',\n",
    "               show_edges=False, style='surface',\n",
    "               color='grey', opacity=0.65, reset_camera=False,)\n",
    "\n",
    "\n",
    "def add_boundary(p, bounds=None):\n",
    "    data = clip_it(boundary_tube, bounds)\n",
    "    if data.n_points < 1:\n",
    "        return\n",
    "    return p.add_mesh(data, name='boundary',  color='yellow', \n",
    "                      render_lines_as_tubes=False, line_width=10)\n",
    "\n",
    "def add_walls(p, bounds=None):\n",
    "    data = clip_it(walls, bounds)\n",
    "    if data.n_points < 1:\n",
    "        return\n",
    "    return p.add_mesh(data, name='walls', \n",
    "               color='yellow', opacity=0.5)\n",
    "\n",
    "\n",
    "temp_d_params = dict(cmap='coolwarm', stitle='Temperature', \n",
    "                     clim=temp_grid.get_data_range('Temperature'))\n",
    "\n",
    "def add_temp_model(p, bounds=None, ):\n",
    "#     data = temp_grid.threshold([175, 225])\n",
    "    data = temp_grid.cell_data_to_point_data().contour([175, 225])\n",
    "    data = clip_it(data, bounds)\n",
    "    if data.n_points < 1:\n",
    "        return\n",
    "    return p.add_mesh(data, name='temp_grid', **temp_d_params)\n",
    "\n",
    "\n",
    "def add_temp_probes(p, bounds=None):\n",
    "    data = clip_it(proj['temperature'], bounds)\n",
    "    if data.n_points < 1:\n",
    "        return\n",
    "    return p.add_mesh(data, name='temp', \n",
    "               point_size=POINT_SIZE, render_points_as_spheres=True,\n",
    "               **temp_d_params)\n",
    "\n",
    "def add_temp_surfs(p, bounds=None):\n",
    "    data = clip_it(proj['temp_175c'], bounds)\n",
    "    if data.n_points < 1:\n",
    "        return\n",
    "    # add the temperature boundaries\n",
    "    s1 = p.add_mesh(data, name='temp_175c', \n",
    "               style='wireframe', **temp_d_params)\n",
    "    data = clip_it(proj['temp_225c'], bounds)\n",
    "    if data.n_points < 1:\n",
    "        return\n",
    "    s2 = p.add_mesh(data, name='temp_225c', \n",
    "               style='wireframe', **temp_d_params)\n",
    "    return s1, s2\n",
    "\n",
    "\n",
    "def add_well_collars(p, bounds=None):\n",
    "    data = clip_it(well_locs, bounds)\n",
    "    if data.n_points < 1:\n",
    "        return\n",
    "    return p.add_mesh(data, name='well_locations', \n",
    "                      point_size=POINT_SIZE, color='orange')\n",
    "\n",
    "def add_well_traj(p, bounds=None):\n",
    "#     data = clip_it(WELLS, bounds)\n",
    "#     if data.n_points < 1:\n",
    "#         return\n",
    "    return p.add_mesh(WELLS, color='grey', name='WELLS', reset_camera=False)\n",
    "\n",
    "def add_well_traj_proposed(p, bounds=None):\n",
    "#     data = clip_it(proposed, bounds)\n",
    "#     if data.n_points < 1:\n",
    "#         return\n",
    "    return p.add_mesh(proposed, color='red', name='proposed-wells', reset_camera=False)\n",
    "\n",
    "\n",
    "def add_wells_with_data(p, bounds=None):\n",
    "    title = 'ECGR' # Shows up as label on scalar bar\n",
    "    data = clip_it(well_5832, bounds)\n",
    "    if data.n_points < 1:\n",
    "        return\n",
    "    w1 = p.add_mesh(data, scalars='ECGR', \n",
    "                   name='5832', clim=[0,200], \n",
    "                   cmap='viridis', stitle=title)\n",
    "    data = clip_it(well_Acord1, bounds)\n",
    "    if data.n_points < 1:\n",
    "        return\n",
    "    w2 = p.add_mesh(data, \n",
    "                   scalars=' GR_SPLICE (GAPI)', \n",
    "                   name = 'Acord1', \n",
    "                   clim=[0, 200], cmap = 'viridis',\n",
    "                   stitle=title)\n",
    "    return w1, w2\n",
    "\n",
    "\n",
    "def add_wells_with_data_solid(p, bounds=None):\n",
    "    title = 'My Title'\n",
    "    data = clip_it(well_5832, bounds)\n",
    "    if data.n_points < 1:\n",
    "        return\n",
    "    w1 = p.add_mesh(data,\n",
    "                   name='5832', color='gray')\n",
    "    data = clip_it(well_Acord1, bounds)\n",
    "    if data.n_points < 1:\n",
    "        return\n",
    "    w2 = p.add_mesh(data, \n",
    "                   name = 'Acord1', color='gray')\n",
    "    return w1, w2\n"
   ]
  },
  {
   "cell_type": "markdown",
   "metadata": {},
   "source": [
    "## Figure 1\n",
    "This figure shows the a model of Milford Valley, Utah with topography, fault, granite, FORGE site and well locations and data"
   ]
  },
  {
   "cell_type": "code",
   "execution_count": null,
   "metadata": {},
   "outputs": [],
   "source": [
    "def fig_1(p, bounds=None):\n",
    "    add_topo(p, bounds)\n",
    "    add_faults(p, bounds)\n",
    "    add_granite(p, bounds)\n",
    "    add_boundary(p, bounds)\n",
    "    add_well_collars(p, bounds)\n",
    "    add_well_traj(p, bounds)\n",
    "    add_wells_with_data_solid(p, bounds)\n",
    "\n",
    "p = vtki.Plotter(notebook=1)\n",
    "fig_1(p)\n",
    "p.show()"
   ]
  },
  {
   "cell_type": "markdown",
   "metadata": {},
   "source": [
    "**Figure 1 Legend:**\n",
    "- Faults (blue and yellow planes)\n",
    "- Granite (dark grey)\n",
    "- FORGE site (yellow outline)\n",
    "- Well Locations (orange dots)\n",
    "- Well Trajectories (grey)"
   ]
  },
  {
   "cell_type": "markdown",
   "metadata": {},
   "source": [
    "**The well locations should be reduced a bit in size**\n",
    "[(318581.0684416248, 4238878.125869998, 10502.443569695455),\n",
    " (337504.84888541873, 4261501.390341784, 138.79188840111613),\n",
    " (0.2275750741088043, 0.24175047512873182, 0.943274240833176)]"
   ]
  },
  {
   "cell_type": "markdown",
   "metadata": {},
   "source": [
    "# Figure 2\n",
    "This figure shows a model of Milford Valley, Utah with topography, fault, granite, FORGE site and well, well logs, and temperature locations and data"
   ]
  },
  {
   "cell_type": "code",
   "execution_count": null,
   "metadata": {},
   "outputs": [],
   "source": [
    "def fig_2(p, bounds=None):\n",
    "    fig_1(p, bounds)\n",
    "    add_wells_with_data(p, bounds)\n",
    "    add_temp_probes(p, bounds)\n",
    "    add_temp_surfs(p, bounds)\n",
    "\n",
    "p = vtki.Plotter(notebook=1)\n",
    "fig_2(p)\n",
    "p.show()"
   ]
  },
  {
   "cell_type": "markdown",
   "metadata": {},
   "source": [
    "**Figure 2 Legend:**\n",
    "- Faults (blue and yellow planes)\n",
    "- Granite Layer (dark grey)\n",
    "- FORGE site (yellow outline)\n",
    "- Well Locations (orange dots)\n",
    "- Well Trajectories (grey)\n",
    "\n",
    "\n",
    "- Gamma Ray Well Logs on Acord1 and 58-32 (colored well trajectories) \n",
    "- Temperature Mesh for 175ºC (pink) and 225ºC (red)\n",
    "- Temperature Probe (blue to red colored dots)"
   ]
  },
  {
   "cell_type": "markdown",
   "metadata": {},
   "source": [
    "**The Temperature dots should be reduced a bit in size**\n",
    "[(324945.55139959423, 4290999.83325066, -195.7848689208751),\n",
    " (336909.4650625, 4261896.229565, 150.0),\n",
    " (0.002129643806474512, 0.012755630937123225, 0.9999163757518195)]"
   ]
  },
  {
   "cell_type": "markdown",
   "metadata": {},
   "source": [
    "# Figure 3\n",
    "This figure shows a model of Milford Valley, Utah cropped from the north side of the FORGE site to better view the subsurface within the FORGE boundary"
   ]
  },
  {
   "cell_type": "code",
   "execution_count": null,
   "metadata": {},
   "outputs": [],
   "source": [
    "gdc19.get_roi_bounds()"
   ]
  },
  {
   "cell_type": "code",
   "execution_count": null,
   "metadata": {},
   "outputs": [],
   "source": [
    "ROI_BOX = [329924.98816, 344152.930125, 4252833.48213,\n",
    "              4264500., \n",
    "           -5000.0, 5000.0]\n",
    "\n",
    "def fig_3(p, bounds=None):\n",
    "    fig_2(p, bounds)\n",
    "    p.add_mesh(vtki.Box(gdc19.get_roi_bounds()).outline(), color='k')\n",
    "    p.add_mesh(vtki.Box(ROI_BOX).outline(), color='k')\n",
    "\n",
    "\n",
    "p = vtki.Plotter(notebook=1)\n",
    "fig_3(p, ROI_BOX)\n",
    "p.show_grid()\n",
    "p.show()\n"
   ]
  },
  {
   "cell_type": "markdown",
   "metadata": {},
   "source": [
    "**Figure 3 Legend:**\n",
    "- Faults (blue and yellow planes)\n",
    "- Granite Layer (dark grey)\n",
    "- FORGE site (yellow outline)\n",
    "- Well Locations (orange dots)\n",
    "- Well Trajectories (grey)\n",
    "- Gamma Ray Well Logs on Acord1 and 58-32 (colored well trajectories) \n",
    "- Temperature Mesh for 175ºC (pink) and 225ºC (red)\n",
    "- Temperature Probe (blue to red colored dots)"
   ]
  },
  {
   "cell_type": "markdown",
   "metadata": {},
   "source": [
    "[(326221.223619594, 4269153.062663502, -655.0668370754465),\n",
    " (335817.3117049677, 4261819.79840792, -190.75734756687143),\n",
    " (-0.02827962420855367, 0.026262494408348065, 0.9992549946045177)]"
   ]
  },
  {
   "cell_type": "markdown",
   "metadata": {},
   "source": [
    "# Figure 4\n",
    "\n",
    "This figure shows a model of Milford Valley, Utah cropped to better view the FORGE site subsurface and includes our team's proposed well location and trajectory (red)."
   ]
  },
  {
   "cell_type": "code",
   "execution_count": null,
   "metadata": {},
   "outputs": [],
   "source": [
    "def fig_4(p, bounds=None):\n",
    "    fig_3(p, bounds)\n",
    "    add_well_traj_proposed(p, bounds)\n",
    "    add_temp_model(p, bounds)\n",
    "    add_walls(p, bounds)\n",
    "    \n",
    "    \n",
    "    \n",
    "p = vtki.Plotter(notebook=1)\n",
    "fig_4(p, ROI_BOX)\n",
    "p.show_grid()\n",
    "p.show()"
   ]
  },
  {
   "cell_type": "markdown",
   "metadata": {},
   "source": [
    "**Figure 4 Legend:**\n",
    "- Faults (blue and yellow planes)\n",
    "- Granite Layer (dark grey)\n",
    "- FORGE site (yellow outline)\n",
    "- Well Locations (orange dots)\n",
    "- Well Trajectories (grey)\n",
    "- Gamma Ray well logs on Acord1 and 58-32 (colored well trajectories) \n",
    "- Temperature Mesh for 175ºC (pink) and 225ºC (red)\n",
    "- Temperature Probe (blue to red colored dots)\n",
    "\n",
    "\n",
    "- Proposed Well (red)"
   ]
  },
  {
   "cell_type": "markdown",
   "metadata": {},
   "source": [
    "[(337947.2777284753, 4274251.077437216, 3782.0155544797108),\n",
    " (336819.79099209886, 4262069.125704545, -160.4863747958867),\n",
    " (-0.10091855957877652, -0.2978718905088982, 0.9492564359419429)]"
   ]
  },
  {
   "cell_type": "markdown",
   "metadata": {},
   "source": [
    "# Figure 5\n",
    "\n",
    "This figure shows a model of Milford Valley, Utah with topography, fault, granite, FORGE site and well, well logs, proposed well, temperature, and gravity locations and data"
   ]
  },
  {
   "cell_type": "code",
   "execution_count": null,
   "metadata": {
    "collapsed": true
   },
   "outputs": [],
   "source": [
    "##Place here"
   ]
  },
  {
   "cell_type": "markdown",
   "metadata": {},
   "source": [
    "Figure 5 Data:\n",
    "- Topography\n",
    "- Faults (blue and yellow planes)\n",
    "- Granite Layer (dark grey)\n",
    "- FORGE site (yellow outline)\n",
    "- Well Locations (orange dots)\n",
    "- Well Trajectories (grey)\n",
    "- Gamma Ray well logs on Acord1 and 58-32 (colored well trajectories) \n",
    "- Temperature Mesh for 175ºC (pink) and 225ºC (red)\n",
    "- Temperature Probe (blue to red colored dots)\n",
    "- Proposed Well (red)\n",
    "\n",
    "\n",
    "- Gravity Data across Milford Valley (colored)"
   ]
  },
  {
   "cell_type": "code",
   "execution_count": null,
   "metadata": {
    "collapsed": true
   },
   "outputs": [],
   "source": [
    "#We seem to have a couple figures left, so what if we add one identical\n",
    "#to figure 4 but a view from the front side (granite slopes up into\n",
    "#the page)"
   ]
  },
  {
   "cell_type": "code",
   "execution_count": null,
   "metadata": {
    "collapsed": true
   },
   "outputs": [],
   "source": []
  },
  {
   "cell_type": "code",
   "execution_count": null,
   "metadata": {
    "collapsed": true
   },
   "outputs": [],
   "source": []
  }
 ],
 "metadata": {
  "kernelspec": {
   "display_name": "Python 3",
   "language": "python",
   "name": "python3"
  },
  "language_info": {
   "codemirror_mode": {
    "name": "ipython",
    "version": 3
   },
   "file_extension": ".py",
   "mimetype": "text/x-python",
   "name": "python",
   "nbconvert_exporter": "python",
   "pygments_lexer": "ipython3",
   "version": "3.6.8"
  }
 },
 "nbformat": 4,
 "nbformat_minor": 2
}
