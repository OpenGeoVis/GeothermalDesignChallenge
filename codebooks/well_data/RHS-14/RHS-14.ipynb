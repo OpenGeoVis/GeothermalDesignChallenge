{
 "cells": [
  {
   "cell_type": "code",
   "execution_count": null,
   "metadata": {
    "collapsed": true
   },
   "outputs": [],
   "source": [
    "import matplotlib.pyplot as plt\n",
    "import numpy as np\n",
    "from mpl_toolkits.mplot3d import Axes3D"
   ]
  },
  {
   "cell_type": "markdown",
   "metadata": {},
   "source": [
    "Coordinates: x = 335798.986, y = 4264089.99, z = 1690.84658\n",
    "\n",
    "Lithology: Basin Fill\n",
    "\n",
    "Depth: 137.5 m"
   ]
  },
  {
   "cell_type": "code",
   "execution_count": null,
   "metadata": {},
   "outputs": [],
   "source": [
    "#Well trajectory\n",
    "\n",
    "fig = plt.figure(figsize = (12,12))\n",
    "\n",
    "ax = fig.add_subplot(111, projection = '3d')\n",
    "# several data points \n",
    "r = np.array([0, 50, 80, 137.5])\n",
    "# get lengths of the separate segments \n",
    "r[1:] = r[1:] - r[:-1]\n",
    "phi = np.array([0, 0, 0, 0])\n",
    "theta = np.array([-90, -90, -90, -90])\n",
    "# convert to radians\n",
    "phi = phi * 2 * np.pi / 360.\n",
    "# in spherical coordinates theta is measured from zenith down; you are measuring it from horizontal plane up \n",
    "theta = (90-theta) * 2 * np.pi / 360.\n",
    "# get x, y, z from known formulae\n",
    "x = r*np.cos(phi)*np.sin(theta)\n",
    "y = r*np.sin(phi)*np.sin(theta)\n",
    "z = r*np.cos(theta)\n",
    "# np.cumsum is employed to gradually sum resultant vectors \n",
    "ax.plot(np.cumsum(x),np.cumsum(y),np.cumsum(z))\n",
    "\n",
    "\n",
    "plt.show()"
   ]
  },
  {
   "cell_type": "code",
   "execution_count": null,
   "metadata": {
    "collapsed": true
   },
   "outputs": [],
   "source": []
  }
 ],
 "metadata": {
  "kernelspec": {
   "display_name": "Python 3",
   "language": "python",
   "name": "python3"
  },
  "language_info": {
   "codemirror_mode": {
    "name": "ipython",
    "version": 3
   },
   "file_extension": ".py",
   "mimetype": "text/x-python",
   "name": "python",
   "nbconvert_exporter": "python",
   "pygments_lexer": "ipython3",
   "version": "3.6.8"
  }
 },
 "nbformat": 4,
 "nbformat_minor": 2
}
