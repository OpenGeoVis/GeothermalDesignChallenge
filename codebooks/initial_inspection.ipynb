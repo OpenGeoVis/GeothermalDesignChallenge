{
 "cells": [
  {
   "cell_type": "code",
   "execution_count": 1,
   "metadata": {},
   "outputs": [
    {
     "data": {
      "text/plain": [
       "'/Volumes/GoogleDrive/My Drive/utah-forge'"
      ]
     },
     "execution_count": 1,
     "metadata": {},
     "output_type": "execute_result"
    }
   ],
   "source": [
    "import sys\n",
    "# This makes the gdc19 package avaialble\n",
    "sys.path.append('../')\n",
    "import gdc19\n",
    "gdc19.setup_adam()"
   ]
  },
  {
   "cell_type": "code",
   "execution_count": 2,
   "metadata": {
    "collapsed": true
   },
   "outputs": [],
   "source": [
    "import pandas as pd\n",
    "import numpy as np\n",
    "import vtki\n",
    "import omfvtk\n",
    "import PVGeo"
   ]
  },
  {
   "cell_type": "markdown",
   "metadata": {},
   "source": [
    "-----\n",
    "\n",
    "# Initial Inspection\n",
    "\n",
    "This notebook loads up all the data and works through an initial inspection."
   ]
  },
  {
   "cell_type": "code",
   "execution_count": 3,
   "metadata": {},
   "outputs": [
    {
     "data": {
      "text/html": [
       "<table><tr><th>Information</th><th>Blocks</th></tr><tr><td>\n",
       "<table>\n",
       "<tr><th>MultiBlock</th><th>Values</th></tr>\n",
       "<tr><td>N Blocks</td><td>8</td></tr>\n",
       "<tr><td>X Bounds</td><td>329666.000, 344152.930</td></tr>\n",
       "<tr><td>Y Bounds</td><td>4252833.482, 4270951.098</td></tr>\n",
       "<tr><td>Z Bounds</td><td>-2606.000, 2906.000</td></tr>\n",
       "</table>\n",
       "\n",
       "</td><td>\n",
       "<table>\n",
       "<tr><th>Index</th><th>Name</th><th>Type</th></tr>\n",
       "<tr><th>0</th><th>land_surface</th><th>UnstructuredGrid</th></tr>\n",
       "<tr><th>1</th><th>temp_225c</th><th>UnstructuredGrid</th></tr>\n",
       "<tr><th>2</th><th>temp_175c</th><th>UnstructuredGrid</th></tr>\n",
       "<tr><th>3</th><th>opal_mound_fault</th><th>UnstructuredGrid</th></tr>\n",
       "<tr><th>4</th><th>negro_mag_fault</th><th>UnstructuredGrid</th></tr>\n",
       "<tr><th>5</th><th>top_granitoid</th><th>UnstructuredGrid</th></tr>\n",
       "<tr><th>6</th><th>boundary</th><th>PolyData</th></tr>\n",
       "<tr><th>7</th><th>temperature</th><th>PolyData</th></tr>\n",
       "</table>\n",
       "\n",
       "</td></tr> </table>"
      ],
      "text/plain": [
       "(MultiBlock)0x1287302e8"
      ]
     },
     "execution_count": 3,
     "metadata": {},
     "output_type": "execute_result"
    }
   ],
   "source": [
    "proj = gdc19.load_project()\n",
    "proj"
   ]
  },
  {
   "cell_type": "code",
   "execution_count": 4,
   "metadata": {
    "collapsed": true
   },
   "outputs": [],
   "source": [
    "# Add values to the meshes so colors are consistent with other data\n",
    "# proj['temp_175c'].point_arrays['Temperature'] = np.full(proj['temp_175c'].n_points, 175.)\n",
    "# proj['temp_225c'].point_arrays['Temperature'] = np.full(proj['temp_225c'].n_points, 225.)"
   ]
  },
  {
   "cell_type": "code",
   "execution_count": null,
   "metadata": {},
   "outputs": [
    {
     "data": {
      "text/html": [
       "<table><tr><th>Header</th><th>Data Arrays</th></tr><tr><td>\n",
       "<table>\n",
       "<tr><th>UnstructuredGrid</th><th>Information</th></tr>\n",
       "<tr><td>N Cells</td><td>824278</td></tr>\n",
       "<tr><td>N Points</td><td>413250</td></tr>\n",
       "<tr><td>X Bounds</td><td>3.299e+05, 3.442e+05</td></tr>\n",
       "<tr><td>Y Bounds</td><td>4.253e+06, 4.271e+06</td></tr>\n",
       "<tr><td>Z Bounds</td><td>1.494e+03, 2.723e+03</td></tr>\n",
       "<tr><td>N Scalars</td><td>3</td></tr>\n",
       "</table>\n",
       "\n",
       "</td><td>\n",
       "<table>\n",
       "<tr><th>Name</th><th>Field</th><th>Type</th><th>Min</th><th>Max</th></tr>\n",
       "<tr><td><b>geo_aer</b></td><td>Points</td><td>float32</td><td>3.737e-01</td><td>8.576e-01</td></tr>\n",
       "<tr><td>geo_no_aer</td><td>Points</td><td>float32</td><td>3.737e-01</td><td>8.576e-01</td></tr>\n",
       "<tr><td>topo_map</td><td>Points</td><td>float32</td><td>2.254e-01</td><td>8.844e-01</td></tr>\n",
       "</table>\n",
       "\n",
       "</td></tr> </table>"
      ],
      "text/plain": [
       "(UnstructuredGrid)0x1287303a8"
      ]
     },
     "execution_count": 5,
     "metadata": {},
     "output_type": "execute_result"
    }
   ],
   "source": [
    "topo = proj['land_surface']\n",
    "topo"
   ]
  },
  {
   "cell_type": "code",
   "execution_count": null,
   "metadata": {
    "collapsed": true
   },
   "outputs": [],
   "source": [
    "# Load kriged temperature model from Lane\n",
    "# Read the kirgged model and variance\n",
    "temp_grid = gdc19.load_kriged_temp()\n",
    "\n",
    "# Remove values above topography\n",
    "temp_grid = PVGeo.grids.ExtractTopography(\n",
    "                remove=True, # remove the inactive cells\n",
    "                tolerance=10.0 # buffer around the topo surface\n",
    "               ).Apply(temp_grid, topo)\n",
    "temp_grid"
   ]
  },
  {
   "cell_type": "markdown",
   "metadata": {},
   "source": [
    "# Integrated Scene\n",
    "\n",
    "Now use `vtki` to create and integrated rendering of all the available data\n"
   ]
  },
  {
   "cell_type": "code",
   "execution_count": null,
   "metadata": {
    "collapsed": true
   },
   "outputs": [],
   "source": [
    "#vtki.close_all()\n",
    "p = vtki.BackgroundPlotter()"
   ]
  },
  {
   "cell_type": "code",
   "execution_count": 33,
   "metadata": {},
   "outputs": [
    {
     "data": {
      "text/plain": [
       "(vtkRenderingAnnotationPython.vtkCubeAxesActor)0x137b2ff48"
      ]
     },
     "execution_count": 33,
     "metadata": {},
     "output_type": "execute_result"
    }
   ],
   "source": [
    "p.show_grid()"
   ]
  },
  {
   "cell_type": "markdown",
   "metadata": {},
   "source": [
    "## Topography & Imagery"
   ]
  },
  {
   "cell_type": "code",
   "execution_count": null,
   "metadata": {
    "collapsed": true
   },
   "outputs": [],
   "source": [
    "# We can update this cell to change the texture\n",
    "p.add_mesh(topo, \n",
    "           texture='geo_aer', \n",
    "           name='topo')"
   ]
  },
  {
   "cell_type": "markdown",
   "metadata": {},
   "source": [
    "## Temperature Data"
   ]
  },
  {
   "cell_type": "code",
   "execution_count": null,
   "metadata": {
    "collapsed": true
   },
   "outputs": [],
   "source": [
    "temp_d_params = dict(cmap='coolwarm', stitle='Temperature', \n",
    "                     clim=temp_grid.get_data_range())"
   ]
  },
  {
   "cell_type": "code",
   "execution_count": null,
   "metadata": {
    "collapsed": true
   },
   "outputs": [],
   "source": [
    "p.add_mesh(proj['temperature'], name='temp', \n",
    "           point_size=10, render_points_as_spheres=True, \n",
    "           **temp_d_params)"
   ]
  },
  {
   "cell_type": "code",
   "execution_count": null,
   "metadata": {
    "collapsed": true
   },
   "outputs": [],
   "source": [
    "# add the temperature boundaries\n",
    "p.add_mesh(proj['temp_175c'], name='temp_175c', \n",
    "           style='wireframe', **temp_d_params)\n",
    "p.add_mesh(proj['temp_225c'], name='temp_225c', \n",
    "           style='wireframe', **temp_d_params)"
   ]
  },
  {
   "cell_type": "code",
   "execution_count": null,
   "metadata": {
    "collapsed": true
   },
   "outputs": [],
   "source": [
    "temp_grid.set_active_scalar('Temperature')\n",
    "thresher = vtki.Threshold(temp_grid, plotter=p, \n",
    "                          display_params=dict(cmap='coolwarm', \n",
    "                                 clim=temp_grid.get_data_range(),\n",
    "                                 show_scalar_bar=True, name='thresh',\n",
    "                                 opacity=0.6),\n",
    "                         default_params=dict(dmin=175, dmax=255))"
   ]
  },
  {
   "cell_type": "code",
   "execution_count": null,
   "metadata": {
    "collapsed": true
   },
   "outputs": [],
   "source": [
    "temp_grid.set_active_scalar('Temperature_var')\n",
    "slicer = vtki.OrthogonalSlicer(temp_grid, plotter=p,\n",
    "                               display_params=dict(cmap='bone_r', \n",
    "                                 clim=temp_grid.get_data_range(),\n",
    "                                 show_scalar_bar=False, name='slices'),\n",
    "                               clean=False)"
   ]
  },
  {
   "cell_type": "markdown",
   "metadata": {},
   "source": [
    "## Fault Surfaces"
   ]
  },
  {
   "cell_type": "code",
   "execution_count": null,
   "metadata": {
    "collapsed": true
   },
   "outputs": [],
   "source": [
    "p.add_mesh(proj['negro_mag_fault'], name='negro_mag_fault',\n",
    "           show_edges=False, color='blue', opacity=0.5)\n",
    "p.add_mesh(proj['opal_mound_fault'], name='opal_mound_fault',\n",
    "           show_edges=False, color='orange', opacity=0.5)"
   ]
  },
  {
   "cell_type": "markdown",
   "metadata": {},
   "source": [
    "## ROI Boundary\n",
    "\n",
    "Region of interest - where we can place a well"
   ]
  },
  {
   "cell_type": "code",
   "execution_count": 66,
   "metadata": {},
   "outputs": [
    {
     "data": {
      "text/plain": [
       "(vtkRenderingOpenGL2Python.vtkOpenGLActor)0x13ab612e8"
      ]
     },
     "execution_count": 66,
     "metadata": {},
     "output_type": "execute_result"
    }
   ],
   "source": [
    "# Add the shape file stuff\n",
    "p.add_mesh(proj['boundary'], name='boundary', \n",
    "           color='azure', render_lines_as_tubes=False, line_width=10)"
   ]
  },
  {
   "cell_type": "markdown",
   "metadata": {},
   "source": [
    "## Granite Surface Boundary"
   ]
  },
  {
   "cell_type": "code",
   "execution_count": null,
   "metadata": {
    "collapsed": true
   },
   "outputs": [],
   "source": [
    "# Add the granitoid boundary\n",
    "#--\n",
    "# Lets run a PVGeo filter to extract the topo surface from\n",
    "#    the granitoid surface\n",
    "ext = PVGeo.grids.ExtractTopography(\n",
    "        remove=True, # remove the inactive cells\n",
    "        tolerance=10.0 # buffer around the topo surface\n",
    "        ).Apply(proj['top_granitoid'], topo)\n",
    "granitoid = ext\n",
    "#--\n",
    "# Now plot it!\n",
    "p.add_mesh(granitoid, name='top_granitoid',\n",
    "           show_edges=False, style='surface',\n",
    "           color='grey', opacity=0.75, reset_camera=False,\n",
    "          )"
   ]
  },
  {
   "cell_type": "markdown",
   "metadata": {},
   "source": [
    "## Well Collars"
   ]
  },
  {
   "cell_type": "code",
   "execution_count": 67,
   "metadata": {},
   "outputs": [
    {
     "data": {
      "text/html": [
       "<div>\n",
       "<style scoped>\n",
       "    .dataframe tbody tr th:only-of-type {\n",
       "        vertical-align: middle;\n",
       "    }\n",
       "\n",
       "    .dataframe tbody tr th {\n",
       "        vertical-align: top;\n",
       "    }\n",
       "\n",
       "    .dataframe thead th {\n",
       "        text-align: right;\n",
       "    }\n",
       "</style>\n",
       "<table border=\"1\" class=\"dataframe\">\n",
       "  <thead>\n",
       "    <tr style=\"text-align: right;\">\n",
       "      <th></th>\n",
       "      <th>Well ID</th>\n",
       "      <th>x</th>\n",
       "      <th>y</th>\n",
       "      <th>z (land surface)</th>\n",
       "      <th>depth (m)</th>\n",
       "    </tr>\n",
       "  </thead>\n",
       "  <tbody>\n",
       "    <tr>\n",
       "      <th>35</th>\n",
       "      <td>58-32</td>\n",
       "      <td>335380.766</td>\n",
       "      <td>4263040.829</td>\n",
       "      <td>1681.616587</td>\n",
       "      <td>2296.9</td>\n",
       "    </tr>\n",
       "    <tr>\n",
       "      <th>56</th>\n",
       "      <td>RHS-14</td>\n",
       "      <td>335798.986</td>\n",
       "      <td>4264089.986</td>\n",
       "      <td>1690.846576</td>\n",
       "      <td>137.5</td>\n",
       "    </tr>\n",
       "    <tr>\n",
       "      <th>67</th>\n",
       "      <td>TPC-12</td>\n",
       "      <td>334826.000</td>\n",
       "      <td>4262756.046</td>\n",
       "      <td>1661.196616</td>\n",
       "      <td>150.0</td>\n",
       "    </tr>\n",
       "    <tr>\n",
       "      <th>68</th>\n",
       "      <td>TPC-14</td>\n",
       "      <td>335446.971</td>\n",
       "      <td>4264046.019</td>\n",
       "      <td>1675.199038</td>\n",
       "      <td>145.0</td>\n",
       "    </tr>\n",
       "  </tbody>\n",
       "</table>\n",
       "</div>"
      ],
      "text/plain": [
       "   Well ID           x            y  z (land surface)  depth (m)\n",
       "35   58-32  335380.766  4263040.829       1681.616587     2296.9\n",
       "56  RHS-14  335798.986  4264089.986       1690.846576      137.5\n",
       "67  TPC-12  334826.000  4262756.046       1661.196616      150.0\n",
       "68  TPC-14  335446.971  4264046.019       1675.199038      145.0"
      ]
     },
     "execution_count": 67,
     "metadata": {},
     "output_type": "execute_result"
    }
   ],
   "source": [
    "well_locs = pd.read_csv(gdc19.get_well_path('well_location_from_earth_model.csv'))\n",
    "foo = PVGeo.pointsToPolyData(well_locs[['x', 'y', 'z (land surface)']].values)\n",
    "# p.add_mesh(foo, name='well_locations', point_size=10, color='orange')\n",
    "idxs = []\n",
    "for i, pt in enumerate(foo.points):\n",
    "    if vtki.is_inside_bounds(pt,proj['boundary'].bounds):\n",
    "        idxs.append(i)\n",
    "wells_inside = well_locs.loc[idxs]\n",
    "wells_inside"
   ]
  },
  {
   "cell_type": "markdown",
   "metadata": {},
   "source": [
    "## Well Trajectories"
   ]
  },
  {
   "cell_type": "code",
   "execution_count": 46,
   "metadata": {},
   "outputs": [],
   "source": [
    "# Plot the wells\n",
    "WELLS = gdc19.load_well_db()\n",
    "proposed = vtki.MultiBlock()\n",
    "proposed['well_new1'] = WELLS.pop('well_new1')\n",
    "proposed['well_new2'] = WELLS.pop('well_new2')\n",
    "\n",
    "\n",
    "well_5832 = WELLS.pop('well_5832')\n",
    "#well_5832.set_active_scalar('ECGR')\n",
    "well_Acord1 = WELLS.pop('well_Acord1')\n",
    "#well_Acord1 = WELLS.set_active_scalar('GR_SPLICE (GAPI)')"
   ]
  },
  {
   "cell_type": "code",
   "execution_count": 72,
   "metadata": {
    "collapsed": true
   },
   "outputs": [],
   "source": [
    "_ = p.add_mesh(WELLS, color='grey', name='WELLS', reset_camera=False)\n",
    "_ = p.add_mesh(proposed, color='red', name='proposed-wells', reset_camera=False)"
   ]
  },
  {
   "cell_type": "code",
   "execution_count": 73,
   "metadata": {},
   "outputs": [],
   "source": [
    "_ = p.add_mesh(well_5832, scalars='ECGR', name='5832', clim=[0,200], cmap='viridis')\n",
    "_ = p.add_mesh(well_Acord1, scalars = ' GR_SPLICE (GAPI)', name = 'Acord1', clim=[0, 200], cmap = 'viridis')"
   ]
  },
  {
   "cell_type": "markdown",
   "metadata": {},
   "source": [
    "## Gravity Data"
   ]
  },
  {
   "cell_type": "code",
   "execution_count": 60,
   "metadata": {
    "collapsed": true
   },
   "outputs": [],
   "source": [
    "field_desc = {\n",
    "    \"name\": \"the individual gravity station name.\",\n",
    "    \"lon\": \"station Longitude, WGS84\",\n",
    "    \"lat\": \"station latitude, WGS84\",\n",
    "    \"easting\": \"UTM zone 12 easting, NAD83\",\n",
    "    \"northing\": \"UTM zone 12 northing, NAD83\",\n",
    "    \"HAE\": \"height above ellipsoid [meter]\",\n",
    "    \"NGVD29\": \"vertical datum for geoid [meter]\",\n",
    "    \"obs\": \"observed gravity\",\n",
    "    \"errg\": \"gravity measurement error [mGal]\",\n",
    "    \"iztc\": \"inner zone terrain correction [mGal]\",\n",
    "    \"oztc\": \"outer zone terrain correction [mGal]\",\n",
    "    \"gFA\": \"free air gravity\",\n",
    "    \"gSBGA\": \"Bouguer horizontal slab\",\n",
    "    \"gCBGA\": \"Complete Bouguer anomaly\",\n",
    "    \"Source\": \"data source\",\n",
    "}"
   ]
  },
  {
   "cell_type": "code",
   "execution_count": 61,
   "metadata": {
    "collapsed": true
   },
   "outputs": [],
   "source": [
    "df = pd.read_csv(gdc19.get_gravity_path('Utah_FORGE_Gravity_Data.txt'))\n",
    "ref = ['easting', 'northing', 'HAE']\n",
    "points = df[ref]\n",
    "for name in ref:\n",
    "    df.pop(name)\n",
    "grav = vtki.PolyData(points.values)\n",
    "grav.point_arrays.update(df.to_dict('series'))\n",
    "# clip the gravity survey\n",
    "grav = grav.clip_box(gdc19.get_roi_bounds(), invert=False)\n",
    "# and shift the z component so its not directly in the topo surface\n",
    "grav.points[:, -1] += 25 # NOTE this is not good practice"
   ]
  },
  {
   "cell_type": "code",
   "execution_count": 62,
   "metadata": {},
   "outputs": [
    {
     "data": {
      "text/html": [
       "\n",
       "<table>\n",
       "<tr><th>UnstructuredGrid</th><th>Information</th></tr>\n",
       "<tr><td>N Cells</td><td>786</td></tr>\n",
       "<tr><td>N Points</td><td>781</td></tr>\n",
       "<tr><td>X Bounds</td><td>3.301e+05, 3.441e+05</td></tr>\n",
       "<tr><td>Y Bounds</td><td>4.253e+06, 4.271e+06</td></tr>\n",
       "<tr><td>Z Bounds</td><td>1.513e+03, 2.731e+03</td></tr>\n",
       "<tr><td>N Scalars</td><td>0</td></tr>\n",
       "</table>\n",
       "\n"
      ],
      "text/plain": [
       "(UnstructuredGrid)0x13ab613a8"
      ]
     },
     "execution_count": 62,
     "metadata": {},
     "output_type": "execute_result"
    }
   ],
   "source": [
    "grav"
   ]
  },
  {
   "cell_type": "code",
   "execution_count": 63,
   "metadata": {},
   "outputs": [
    {
     "ename": "Exception",
     "evalue": "Number of scalars (1) must match either the number of points (781) or the number of cells (786) ",
     "output_type": "error",
     "traceback": [
      "\u001b[0;31m---------------------------------------------------------------------------\u001b[0m",
      "\u001b[0;31mException\u001b[0m                                 Traceback (most recent call last)",
      "\u001b[0;32m<ipython-input-63-e31071de54b3>\u001b[0m in \u001b[0;36m<module>\u001b[0;34m()\u001b[0m\n\u001b[1;32m      1\u001b[0m \u001b[0mval\u001b[0m \u001b[0;34m=\u001b[0m \u001b[0;34m\"gCBGA\"\u001b[0m\u001b[0;34m\u001b[0m\u001b[0;34m\u001b[0m\u001b[0m\n\u001b[1;32m      2\u001b[0m p.add_mesh(grav, scalars=val, name='gravity', \n\u001b[0;32m----> 3\u001b[0;31m            render_points_as_spheres=True, stitle=field_desc[val])\n\u001b[0m\u001b[1;32m      4\u001b[0m \u001b[0;34m\u001b[0m\u001b[0m\n",
      "\u001b[0;32m/Users/akinard/anaconda/lib/python3.6/site-packages/vtki/plotting.py\u001b[0m in \u001b[0;36madd_mesh\u001b[0;34m(self, mesh, color, style, scalars, rng, stitle, show_edges, point_size, opacity, line_width, flip_scalars, lighting, n_colors, interpolate_before_map, cmap, label, reset_camera, scalar_bar_args, multi_colors, name, texture, render_points_as_spheres, render_lines_as_tubes, edge_color, ambient, **kwargs)\u001b[0m\n\u001b[1;32m    750\u001b[0m                     \u001b[0mself\u001b[0m\u001b[0;34m.\u001b[0m\u001b[0mmapper\u001b[0m\u001b[0;34m.\u001b[0m\u001b[0mInterpolateScalarsBeforeMappingOn\u001b[0m\u001b[0;34m(\u001b[0m\u001b[0;34m)\u001b[0m\u001b[0;34m\u001b[0m\u001b[0;34m\u001b[0m\u001b[0m\n\u001b[1;32m    751\u001b[0m             \u001b[0;32melse\u001b[0m\u001b[0;34m:\u001b[0m\u001b[0;34m\u001b[0m\u001b[0;34m\u001b[0m\u001b[0m\n\u001b[0;32m--> 752\u001b[0;31m                 \u001b[0m_raise_not_matching\u001b[0m\u001b[0;34m(\u001b[0m\u001b[0mscalars\u001b[0m\u001b[0;34m,\u001b[0m \u001b[0mmesh\u001b[0m\u001b[0;34m)\u001b[0m\u001b[0;34m\u001b[0m\u001b[0;34m\u001b[0m\u001b[0m\n\u001b[0m\u001b[1;32m    753\u001b[0m \u001b[0;34m\u001b[0m\u001b[0m\n\u001b[1;32m    754\u001b[0m             \u001b[0;31m# Set scalar range\u001b[0m\u001b[0;34m\u001b[0m\u001b[0;34m\u001b[0m\u001b[0;34m\u001b[0m\u001b[0m\n",
      "\u001b[0;32m/Users/akinard/anaconda/lib/python3.6/site-packages/vtki/plotting.py\u001b[0m in \u001b[0;36m_raise_not_matching\u001b[0;34m(scalars, mesh)\u001b[0m\n\u001b[1;32m    103\u001b[0m                     \u001b[0;34m'(%d) '\u001b[0m \u001b[0;34m%\u001b[0m \u001b[0mmesh\u001b[0m\u001b[0;34m.\u001b[0m\u001b[0mGetNumberOfPoints\u001b[0m\u001b[0;34m(\u001b[0m\u001b[0;34m)\u001b[0m \u001b[0;34m+\u001b[0m\u001b[0;34m\u001b[0m\u001b[0;34m\u001b[0m\u001b[0m\n\u001b[1;32m    104\u001b[0m                     \u001b[0;34m'or the number of cells '\u001b[0m \u001b[0;34m+\u001b[0m\u001b[0;34m\u001b[0m\u001b[0;34m\u001b[0m\u001b[0m\n\u001b[0;32m--> 105\u001b[0;31m                     '(%d) ' % mesh.GetNumberOfCells())\n\u001b[0m\u001b[1;32m    106\u001b[0m \u001b[0;34m\u001b[0m\u001b[0m\n\u001b[1;32m    107\u001b[0m \u001b[0;32mdef\u001b[0m \u001b[0m_remove_mapper_from_plotter\u001b[0m\u001b[0;34m(\u001b[0m\u001b[0mplotter\u001b[0m\u001b[0;34m,\u001b[0m \u001b[0mactor\u001b[0m\u001b[0;34m,\u001b[0m \u001b[0mreset_camera\u001b[0m\u001b[0;34m)\u001b[0m\u001b[0;34m:\u001b[0m\u001b[0;34m\u001b[0m\u001b[0;34m\u001b[0m\u001b[0m\n",
      "\u001b[0;31mException\u001b[0m: Number of scalars (1) must match either the number of points (781) or the number of cells (786) "
     ]
    }
   ],
   "source": [
    "val = \"gCBGA\"\n",
    "p.add_mesh(grav, scalars=val, name='gravity', \n",
    "           render_points_as_spheres=True, stitle=field_desc[val])\n",
    "\n"
   ]
  },
  {
   "cell_type": "markdown",
   "metadata": {},
   "source": [
    "## Screenshot"
   ]
  },
  {
   "cell_type": "code",
   "execution_count": null,
   "metadata": {
    "collapsed": true
   },
   "outputs": [],
   "source": [
    "# _ = p.screenshot('../integrated_view.png')\n",
    "# p.remove_actor('topo')\n",
    "# p.export_vtkjs('integrated_view')"
   ]
  },
  {
   "cell_type": "code",
   "execution_count": null,
   "metadata": {
    "collapsed": true
   },
   "outputs": [],
   "source": []
  }
 ],
 "metadata": {
  "kernelspec": {
   "display_name": "Python 3",
   "language": "python",
   "name": "python3"
  },
  "language_info": {
   "codemirror_mode": {
    "name": "ipython",
    "version": 3
   },
   "file_extension": ".py",
   "mimetype": "text/x-python",
   "name": "python",
   "nbconvert_exporter": "python",
   "pygments_lexer": "ipython3",
   "version": "3.6.8"
  }
 },
 "nbformat": 4,
 "nbformat_minor": 2
}
