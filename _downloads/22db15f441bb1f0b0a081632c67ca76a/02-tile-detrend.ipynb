{
  "cells": [
    {
      "cell_type": "code",
      "execution_count": null,
      "metadata": {
        "collapsed": false
      },
      "outputs": [],
      "source": [
        "%matplotlib inline"
      ]
    },
    {
      "cell_type": "markdown",
      "metadata": {},
      "source": [
        "\nTile and De-Trend\n~~~~~~~~~~~~~~~~~~~~~~~~\n\nTile the Inverse Problem and detrend the data\n"
      ]
    },
    {
      "cell_type": "code",
      "execution_count": null,
      "metadata": {
        "collapsed": false
      },
      "outputs": [],
      "source": [
        "# sphinx_gallery_thumbnail_number = 2\nimport gdc19\n\nimport numpy as np\nfrom discretize import TreeMesh\nfrom discretize.utils import meshutils\nimport omfvista\nimport matplotlib.pyplot as plt\nfrom matplotlib.patches import Rectangle\nfrom SimPEG.Utils import mkvc, modelutils, PlotUtils, plot2Ddata\nimport pyvista"
      ]
    },
    {
      "cell_type": "markdown",
      "metadata": {},
      "source": [
        "Load the Data\n+++++++++++++\n\nLoad the mesh and data from the previous example\n\n"
      ]
    },
    {
      "cell_type": "code",
      "execution_count": null,
      "metadata": {
        "collapsed": false
      },
      "outputs": [],
      "source": [
        "grav_data = pyvista.read(gdc19.get_gravity_path('grav_obs.vtk'))\nxyz = grav_data.points\nsurvey = pyvista.PolyData(xyz)\n\nmesh = TreeMesh.readUBC(gdc19.get_gravity_path('mesh.msh'))\nactv = mesh.readModelUBC(gdc19.get_gravity_path('actv.mod'))"
      ]
    },
    {
      "cell_type": "markdown",
      "metadata": {},
      "source": [
        "Tile the Problem\n++++++++++++++++\n\n"
      ]
    },
    {
      "cell_type": "code",
      "execution_count": null,
      "metadata": {
        "collapsed": false
      },
      "outputs": [],
      "source": [
        "rxLoc = xyz\ntiles, binCount, labels = modelutils.tileSurveyPoints(rxLoc, 14)\n\n# Grab the smallest bin and generate a temporary mesh\nindMin = np.argmin(binCount)\n\nX1, Y1 = tiles[0][:, 0], tiles[0][:, 1]\nX2, Y2 = tiles[1][:, 0], tiles[1][:, 1]\n\n\nnTiles = X1.shape[0]\nfig, ax1 = plt.figure(), plt.subplot()\nPlotUtils.plot2Ddata(rxLoc, grav_data.point_arrays['gCBGA'], ax=ax1)\n# ax1.scatter(rxLoc[:, 0], rxLoc[:, 1], 10, c='r')\nfor ii in range(X1.shape[0]):\n\n    ind_t = np.all([rxLoc[:, 0] >= X1[ii], rxLoc[:, 0] <= X2[ii],\n                rxLoc[:, 1] >= Y1[ii], rxLoc[:, 1] <= Y2[ii]],\n               axis=0\n        )\n    ax1.scatter(rxLoc[ind_t, 0], rxLoc[ind_t, 1], 10, c='k')\n    ax1.add_patch(Rectangle((X1[ii], Y1[ii]),\n                            X2[ii]-X1[ii],\n                            Y2[ii]-Y1[ii],\n                            facecolor='none', edgecolor='k'))\n\n\nax1.set_xlim([X1.min()-20, X2.max()+20])\nax1.set_ylim([Y1.min()-20, Y2.max()+20])\nax1.set_aspect('equal')\nplt.show()"
      ]
    },
    {
      "cell_type": "markdown",
      "metadata": {},
      "source": [
        "Detrend the Data\n++++++++++++++++\n\nRemove regional trends from the gravity observations.\n\n"
      ]
    },
    {
      "cell_type": "code",
      "execution_count": null,
      "metadata": {
        "collapsed": false
      },
      "outputs": [],
      "source": [
        "# Data[X,Y,Z,Mag]\nnD = rxLoc.shape[0]\ndobs = grav_data.point_arrays['gCBGA']\nA = np.c_[np.ones(nD), rxLoc[:,:2]]\n\n# Compute least-squares solution for poly parameters\npoly = np.linalg.solve(np.dot(A.T,A), np.dot(A.T,dobs))\n\n# Generate the first-order trend on each points\nd = np.dot(A,poly)\n\ndataDetrend =  dobs - d\n\n# Plot it out\nfig = plt.figure(figsize=(12,4))\nax1 = plt.subplot(1,3,1)\nim = plot2Ddata(rxLoc, dobs, ax=ax1)\nplt.colorbar(im[0], orientation='horizontal')\n\nax2 = plt.subplot(1,3,2)\nim = plot2Ddata(rxLoc, d, ax=ax2)\nplt.colorbar(im[0], orientation='horizontal')\n\nax3 = plt.subplot(1,3,3)\nim = plot2Ddata(rxLoc, dataDetrend, ax=ax3)\nplt.colorbar(im[0], orientation='horizontal')"
      ]
    }
  ],
  "metadata": {
    "kernelspec": {
      "display_name": "Python 3",
      "language": "python",
      "name": "python3"
    },
    "language_info": {
      "codemirror_mode": {
        "name": "ipython",
        "version": 3
      },
      "file_extension": ".py",
      "mimetype": "text/x-python",
      "name": "python",
      "nbconvert_exporter": "python",
      "pygments_lexer": "ipython3",
      "version": "3.7.2"
    }
  },
  "nbformat": 4,
  "nbformat_minor": 0
}