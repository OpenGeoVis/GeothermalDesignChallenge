{
 "cells": [
  {
   "cell_type": "code",
   "execution_count": null,
   "metadata": {},
   "outputs": [],
   "source": [
    "import matplotlib.pyplot as plt\n",
    "import numpy as np\n",
    "from mpl_toolkits.mplot3d import Axes3D\n",
    "import vtki"
   ]
  },
  {
   "cell_type": "code",
   "execution_count": null,
   "metadata": {},
   "outputs": [],
   "source": [
    "import sys\n",
    "# This makes the gdc19 package avaialble\n",
    "sys.path.append('../../')\n",
    "import gdc19"
   ]
  },
  {
   "cell_type": "code",
   "execution_count": null,
   "metadata": {},
   "outputs": [],
   "source": [
    "# GET THE WELLS DATABASE\n",
    "WELLS = vtki.read(gdc19.get_well_vtm_file())"
   ]
  },
  {
   "cell_type": "markdown",
   "metadata": {},
   "source": [
    "## Proposed Well 1\n",
    "\n",
    "Coordinates: x = 335103.383, y = 4261756, z = 1700\n",
    "\n",
    "Depth: 2200 m"
   ]
  },
  {
   "cell_type": "code",
   "execution_count": null,
   "metadata": {},
   "outputs": [],
   "source": [
    "depth = 2200\n",
    "start_x = 335103.383\n",
    "start_y = 4261756\n",
    "start_z = 1700\n",
    "\n",
    "WELLS['well_new1'] = gdc19.build_well_trajectory(depth, start_x, start_y, start_z)"
   ]
  },
  {
   "cell_type": "markdown",
   "metadata": {},
   "source": [
    "## Proposed Well 2\n",
    "\n",
    "Coordinates: x = 336000\t, y = 4263240.829,  z = 1700\n",
    "\n",
    "Depth: 2200 m"
   ]
  },
  {
   "cell_type": "code",
   "execution_count": null,
   "metadata": {},
   "outputs": [],
   "source": [
    "depth = 2200\n",
    "start_x = 336000.383\n",
    "start_y = 4263240.829\n",
    "start_z = 1700\n",
    "\n",
    "WELLS['well_new2'] = gdc19.build_well_trajectory(depth, start_x, start_y, start_z)"
   ]
  },
  {
   "cell_type": "code",
   "execution_count": null,
   "metadata": {},
   "outputs": [],
   "source": [
    "WELLS.save(gdc19.get_well_vtm_file())"
   ]
  },
  {
   "cell_type": "code",
   "execution_count": null,
   "metadata": {},
   "outputs": [],
   "source": []
  }
 ],
 "metadata": {
  "kernelspec": {
   "display_name": "Python [default]",
   "language": "python",
   "name": "python3"
  },
  "language_info": {
   "codemirror_mode": {
    "name": "ipython",
    "version": 3
   },
   "file_extension": ".py",
   "mimetype": "text/x-python",
   "name": "python",
   "nbconvert_exporter": "python",
   "pygments_lexer": "ipython3",
   "version": "3.6.5"
  }
 },
 "nbformat": 4,
 "nbformat_minor": 2
}
