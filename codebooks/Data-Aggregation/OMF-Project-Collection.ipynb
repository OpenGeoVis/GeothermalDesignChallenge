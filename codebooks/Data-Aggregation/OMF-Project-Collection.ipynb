{
 "cells": [
  {
   "cell_type": "markdown",
   "metadata": {},
   "source": [
    "# OMF-Project-Collection\n",
    "\n",
    "This notebook aggregates all the data for the FORGE site into a single Open Mining Format (OMF) project file."
   ]
  },
  {
   "cell_type": "code",
   "execution_count": null,
   "metadata": {},
   "outputs": [],
   "source": [
    "import sys\n",
    "# This makes the gdc19 package avaialble\n",
    "sys.path.append('../../')\n",
    "import gdc19\n",
    "gdc19.setup_bane()"
   ]
  },
  {
   "cell_type": "code",
   "execution_count": null,
   "metadata": {},
   "outputs": [],
   "source": [
    "import vtki\n",
    "import omf\n",
    "import omfvtk\n",
    "import pandas as pd\n",
    "import numpy as np"
   ]
  },
  {
   "cell_type": "markdown",
   "metadata": {},
   "source": [
    "## Surfaces\n",
    "\n",
    "This notebook loads all the surface data and creates `omf.SurfaceElement` objects."
   ]
  },
  {
   "cell_type": "code",
   "execution_count": null,
   "metadata": {},
   "outputs": [],
   "source": [
    "def surf_to_omf(filename, name, description, elevation=False):\n",
    "    surf = gdc19.delauney(\n",
    "        gdc19.read_surface_verts(\n",
    "            gdc19.get_surfaces_path(filename)))\n",
    "    if elevation:\n",
    "        surf = surf.elevation()\n",
    "    \n",
    "    tris = surf.faces.reshape(surf.n_cells, 4)[:, 1:4]\n",
    "    element = omf.SurfaceElement(\n",
    "        name=name,\n",
    "        description=description,\n",
    "        geometry=omf.SurfaceGeometry(vertices=surf.points,\n",
    "                                     triangles=tris)\n",
    "        )\n",
    "    element.validate()\n",
    "    return element"
   ]
  },
  {
   "cell_type": "code",
   "execution_count": null,
   "metadata": {},
   "outputs": [],
   "source": [
    "description='This contains vertices of meshed/interpolated ' \\\n",
    "    'surfaces of the granitoid-basin fill contact used in the ' \\\n",
    "    'Phase 2B earth model. All data are georeferenced to UTM, ' \\\n",
    "    'zone 12N, NAD 83, NAVD 88.'\n",
    "\n",
    "top_granitoid = surf_to_omf(\n",
    "    'top_granitoid_vertices.csv', \n",
    "    'top_granitoid',\n",
    "    description\n",
    "    )\n",
    "top_granitoid.validate()"
   ]
  },
  {
   "cell_type": "code",
   "execution_count": null,
   "metadata": {},
   "outputs": [],
   "source": [
    "omfvtk.wrap(top_granitoid).plot(show_edges=False)"
   ]
  },
  {
   "cell_type": "code",
   "execution_count": null,
   "metadata": {},
   "outputs": [],
   "source": [
    "description='Negro Mag Fault used in the Phase 2B earth model. ' \\\n",
    "    'All data are georeferenced to UTM, zone 12N, NAD 83, NAVD 88.'\n",
    "\n",
    "negro_mag_fault = surf_to_omf(\n",
    "    'Negro_Mag_Fault_vertices.csv', \n",
    "    'negro_mag_fault',\n",
    "    description\n",
    "    )\n",
    "negro_mag_fault.validate()"
   ]
  },
  {
   "cell_type": "code",
   "execution_count": null,
   "metadata": {},
   "outputs": [],
   "source": [
    " omfvtk.wrap(negro_mag_fault).plot(show_edges=False)"
   ]
  },
  {
   "cell_type": "code",
   "execution_count": null,
   "metadata": {},
   "outputs": [],
   "source": [
    "description='surfaces of the Opal Mound Fault used in the Phase ' \\\n",
    "    '2B earth model. All data are georeferenced to UTM, zone '\\\n",
    "    '12N, NAD 83, NAVD 88.'\n",
    "\n",
    "opal_mound_fault = surf_to_omf(\n",
    "    'Opal_Mound_Fault_vertices.csv', \n",
    "    'opal_mound_fault',\n",
    "    description\n",
    "    )\n",
    "opal_mound_fault.validate()"
   ]
  },
  {
   "cell_type": "code",
   "execution_count": null,
   "metadata": {},
   "outputs": [],
   "source": [
    "omfvtk.wrap(opal_mound_fault).plot(show_edges=False)"
   ]
  },
  {
   "cell_type": "code",
   "execution_count": null,
   "metadata": {},
   "outputs": [],
   "source": [
    "# temp_175c: '175C_vertices.csv'\n",
    "description='vertices of meshed/interpolated surfaces of the ' \\\n",
    "    'interpolated temperature isosurfaces for 175 degrees C used ' \\\n",
    "    'in the Phase 2B earth model. All data are georeferenced to ' \\\n",
    "    'UTM, zone 12N, NAD 83, NAVD 88.'\n",
    "\n",
    "temp_175c = surf_to_omf(\n",
    "    '175C_vertices.csv', \n",
    "    'temp_175c',\n",
    "    description\n",
    "    )\n",
    "temp_175c.validate()"
   ]
  },
  {
   "cell_type": "code",
   "execution_count": null,
   "metadata": {},
   "outputs": [],
   "source": [
    "omfvtk.wrap(temp_175c).plot(show_edges=False)"
   ]
  },
  {
   "cell_type": "code",
   "execution_count": null,
   "metadata": {},
   "outputs": [],
   "source": [
    "# temp_225c: '225C_vertices.csv'\n",
    "description='vertices of meshed/interpolated surfaces of the '\\\n",
    "    'interpolated temperature isosurfaces for 225 degrees C used '\\\n",
    "    'in the Phase 2B earth model. All data are georeferenced to ' \\\n",
    "    'UTM, zone 12N, NAD 83, NAVD 88.'\n",
    "\n",
    "temp_225c = surf_to_omf(\n",
    "    '225C_vertices.csv', \n",
    "    'temp_225c',\n",
    "    description\n",
    "    )\n",
    "temp_225c.validate()"
   ]
  },
  {
   "cell_type": "code",
   "execution_count": null,
   "metadata": {},
   "outputs": [],
   "source": [
    "omfvtk.wrap(temp_225c).plot(show_edges=False)"
   ]
  },
  {
   "cell_type": "code",
   "execution_count": null,
   "metadata": {},
   "outputs": [],
   "source": [
    "# land_surface: 'land_surface_vertices.csv'\n",
    "description='vertices of meshed/interpolated surfaces of the ' \\\n",
    "    'land surface (based on 10-meter DEM) used in the Phase 2B '\\\n",
    "    'earth model. All data are georeferenced to UTM, zone 12N, '\\\n",
    "    'NAD 83, NAVD 88.'\n",
    "\n",
    "land_surface = surf_to_omf(\n",
    "    'land_surface_vertices.csv', \n",
    "    'land_surface',\n",
    "    description\n",
    "    )\n",
    "land_surface.validate()"
   ]
  },
  {
   "cell_type": "code",
   "execution_count": null,
   "metadata": {},
   "outputs": [],
   "source": [
    "topo = omfvtk.wrap(land_surface)\n",
    "topo.plot(show_edges=False)"
   ]
  },
  {
   "cell_type": "code",
   "execution_count": null,
   "metadata": {},
   "outputs": [],
   "source": [
    "# THIS DOES NOT WORK! TEXTURES HAVE TO BE MANAGED ON THE VTK SIDE\n",
    "# # NOW ADD TEXTURES TO THE LAND SURFACE\n",
    "\n",
    "# fname = gdc19.get_gis_path('Geologic_map_on_air_photo.png')\n",
    "# name = 'geo_air'\n",
    "# description = 'geologic map of the Utah FORGE site with aerial '\\\n",
    "#     'imagery. All data are georeferenced to UTM, zone 12N, NAD '\\\n",
    "#     '83, NAVD 88.'\n",
    "# geo_air = gdc19.load_texture_to_omf(fname, name, description)\n",
    "\n",
    "# # topographic_map.png\n",
    "# fname = gdc19.get_gis_path('topographic_map.png')\n",
    "# name = 'topo_map'\n",
    "# description = ' topographic map of the Utah FORGE site. '\\\n",
    "#     'All data are georeferenced to UTM, zone 12N, NAD 83, NAVD 88.'\n",
    "# topo_map = gdc19.load_texture_to_omf(fname, name, description)\n",
    "\n",
    "# # Geologic_map_no_quaternary.tif\n",
    "# fname = gdc19.get_gis_path('Geologic_map_no_quaternary.png')\n",
    "# name = 'geo_no_air'\n",
    "# description = 'geologic map of the Utah FORGE site with '\\\n",
    "#     'quaternary faults labeled. All data are georeferenced to UTM, '\\\n",
    "#     'zone 12N, NAD 83, NAVD 88.'\n",
    "# geo_no_air = gdc19.load_texture_to_omf(fname, name, description)\n",
    "\n",
    "# land_surface.textures = [geo_air, topo_map, geo_no_air]\n",
    "# land_surface.validate()"
   ]
  },
  {
   "cell_type": "code",
   "execution_count": null,
   "metadata": {},
   "outputs": [],
   "source": []
  },
  {
   "cell_type": "markdown",
   "metadata": {},
   "source": [
    "## GIS Data\n",
    "\n",
    "```\n",
    "conda install gdal\n",
    "```\n",
    "\n",
    "Please not that textures must be hanlded on the VTK side due to issues within OMF\n",
    "\n",
    "```py\n",
    "topo = omfvtk.wrap(land_surface)\n",
    "# Use convieance method to bind all the textures to the topography\n",
    "gdc19.attach_all_textures(topo)\n",
    "topo.plot(show_edges=False, texture=True)\n",
    "```"
   ]
  },
  {
   "cell_type": "code",
   "execution_count": null,
   "metadata": {},
   "outputs": [],
   "source": [
    "# Load the shape files\n",
    "shapes = gdc19.read_shape_file_to_omf(\n",
    "    gdc19.get_shp_path('FORGE_Outline'), topo_points=topo.points\n",
    ")\n",
    "shapes"
   ]
  },
  {
   "cell_type": "code",
   "execution_count": null,
   "metadata": {},
   "outputs": [],
   "source": [
    "boundary = shapes[0]\n",
    "boundary.name = 'boundary'\n",
    "boundary.validate()"
   ]
  },
  {
   "cell_type": "code",
   "execution_count": null,
   "metadata": {},
   "outputs": [],
   "source": [
    "omfvtk.wrap(boundary).plot(show_edges=False)"
   ]
  },
  {
   "cell_type": "markdown",
   "metadata": {},
   "source": [
    "## Temperature Data"
   ]
  },
  {
   "cell_type": "code",
   "execution_count": null,
   "metadata": {},
   "outputs": [],
   "source": [
    "# Load the temperature data\n",
    "_temp = pd.read_csv(\n",
    "            gdc19.get_temperature_path('well_based_temperature.csv')\n",
    "            )\n",
    "_temp.head()"
   ]
  },
  {
   "cell_type": "code",
   "execution_count": null,
   "metadata": {},
   "outputs": [],
   "source": [
    "temperature = omf.PointSetElement(\n",
    "    name='temperature',\n",
    "    description='cumulative record of one-dimensional temperature modeling '\\\n",
    "        'based off of well data. Temperature log data were exampled and '\\\n",
    "        'extrapolated below the bottom of a number of wells. Temperatures '\\\n",
    "        'are in degrees Celsius, and all location data are georeferenced to '\n",
    "        'UTM, zone 12N, NAD 83, NAVD 88.',\n",
    "    subtype='point',\n",
    "    geometry=omf.PointSetGeometry(\n",
    "        vertices=_temp[['x', 'y', 'z']].values\n",
    "    ),\n",
    "    data=[omf.ScalarData(\n",
    "        name='temperature (C)',\n",
    "        array=_temp['T'].values,\n",
    "        location='vertices'\n",
    "    ),]\n",
    ")\n",
    "temperature.validate()"
   ]
  },
  {
   "cell_type": "code",
   "execution_count": null,
   "metadata": {},
   "outputs": [],
   "source": [
    "omfvtk.wrap(temperature).plot(show_edges=False)"
   ]
  },
  {
   "cell_type": "markdown",
   "metadata": {},
   "source": [
    "## Well Data\n",
    "\n",
    "Incomplete.\n",
    "\n",
    "We'll use some of [`lasio`](https://lasio.readthedocs.io/en/latest/) for the file IO"
   ]
  },
  {
   "cell_type": "code",
   "execution_count": null,
   "metadata": {},
   "outputs": [],
   "source": [
    "gdc19.list_filenames(gdc19.get_well_path())"
   ]
  },
  {
   "cell_type": "code",
   "execution_count": null,
   "metadata": {},
   "outputs": [],
   "source": [
    "import lasio\n",
    "las = lasio.read(gdc19.get_well_path(r'Acord 1-26_digitized_geophysical_well_log.las'))\n",
    "las.curvesdict.keys()"
   ]
  },
  {
   "cell_type": "code",
   "execution_count": null,
   "metadata": {},
   "outputs": [],
   "source": [
    "# plt.plot(las.index, las[\"GAMMA_RAY_SPLICE\"])"
   ]
  },
  {
   "cell_type": "code",
   "execution_count": null,
   "metadata": {},
   "outputs": [],
   "source": [
    "# TODO"
   ]
  },
  {
   "cell_type": "markdown",
   "metadata": {},
   "source": [
    "## Drilling Data"
   ]
  },
  {
   "cell_type": "code",
   "execution_count": null,
   "metadata": {},
   "outputs": [],
   "source": [
    "gdc19.get_drilling_path('Well_58-32_processed_pason_log.csv')"
   ]
  },
  {
   "cell_type": "code",
   "execution_count": null,
   "metadata": {},
   "outputs": [],
   "source": [
    "gdc19.get_drilling_path('Well_58-32_raw_pason_log.csv')"
   ]
  },
  {
   "cell_type": "code",
   "execution_count": null,
   "metadata": {},
   "outputs": [],
   "source": [
    "# TODO"
   ]
  },
  {
   "cell_type": "markdown",
   "metadata": {},
   "source": [
    "## Injection data"
   ]
  },
  {
   "cell_type": "code",
   "execution_count": null,
   "metadata": {},
   "outputs": [],
   "source": [
    "injections = []\n",
    "for f in gdc19.list_filenames('injection'):\n",
    "    injections.append(pd.read_csv(gdc19.get_injection_path(f)))"
   ]
  },
  {
   "cell_type": "code",
   "execution_count": null,
   "metadata": {},
   "outputs": [],
   "source": [
    "injections[0].head()"
   ]
  },
  {
   "cell_type": "code",
   "execution_count": null,
   "metadata": {},
   "outputs": [],
   "source": [
    "injections[1].head()"
   ]
  },
  {
   "cell_type": "code",
   "execution_count": null,
   "metadata": {},
   "outputs": [],
   "source": [
    "# TODO"
   ]
  },
  {
   "cell_type": "markdown",
   "metadata": {},
   "source": [
    "## Now Save out the Project"
   ]
  },
  {
   "cell_type": "code",
   "execution_count": null,
   "metadata": {},
   "outputs": [],
   "source": [
    "# And now create an OMF project file for the surfaces\n",
    "proj = omf.Project(\n",
    "    name='FORGE Surfaces',\n",
    "    description='All data for the 2019 FORGE Geothermal Student Competition '\n",
    ")"
   ]
  },
  {
   "cell_type": "code",
   "execution_count": null,
   "metadata": {},
   "outputs": [],
   "source": [
    "proj.elements = [\n",
    "                 # Surfaces\n",
    "                 land_surface, \n",
    "                 temp_225c, \n",
    "                 temp_175c, \n",
    "                 opal_mound_fault,\n",
    "                 negro_mag_fault,\n",
    "                 top_granitoid,\n",
    "                 # Pointsets\n",
    "                 boundary,\n",
    "                 temperature,\n",
    "                 # Well Data\n",
    "                 # TODO\n",
    "                 # Drilling Data\n",
    "                 # TODO\n",
    "                 # Injection Data\n",
    "                 # TODO\n",
    "                ]"
   ]
  },
  {
   "cell_type": "code",
   "execution_count": null,
   "metadata": {},
   "outputs": [],
   "source": [
    "proj.validate()"
   ]
  },
  {
   "cell_type": "code",
   "execution_count": null,
   "metadata": {},
   "outputs": [],
   "source": [
    "# Save the surface project file\n",
    "omf.OMFWriter(proj, gdc19.get_omf_project_filename())"
   ]
  },
  {
   "cell_type": "code",
   "execution_count": null,
   "metadata": {},
   "outputs": [],
   "source": []
  }
 ],
 "metadata": {
  "kernelspec": {
   "display_name": "Python [conda env:ogv]",
   "language": "python",
   "name": "conda-env-ogv-py"
  },
  "language_info": {
   "codemirror_mode": {
    "name": "ipython",
    "version": 3
   },
   "file_extension": ".py",
   "mimetype": "text/x-python",
   "name": "python",
   "nbconvert_exporter": "python",
   "pygments_lexer": "ipython3",
   "version": "3.6.5"
  }
 },
 "nbformat": 4,
 "nbformat_minor": 2
}
