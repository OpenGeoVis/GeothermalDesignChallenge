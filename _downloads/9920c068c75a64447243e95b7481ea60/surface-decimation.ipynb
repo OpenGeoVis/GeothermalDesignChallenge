{
  "cells": [
    {
      "cell_type": "code",
      "execution_count": null,
      "metadata": {
        "collapsed": false
      },
      "outputs": [],
      "source": [
        "%matplotlib inline"
      ]
    },
    {
      "cell_type": "markdown",
      "metadata": {},
      "source": [
        "\nSurface Decimation\n~~~~~~~~~~~~~~~~~~\n\nDecimate some of the surfaces to make them more manageable with web renderings\nin VTK.js\n"
      ]
    },
    {
      "cell_type": "code",
      "execution_count": null,
      "metadata": {
        "collapsed": false
      },
      "outputs": [],
      "source": [
        "import gdc19\n\nimport pandas as pd\nimport numpy as np\nimport pyvista\nimport omfvista\nimport PVGeo\nimport omf"
      ]
    },
    {
      "cell_type": "code",
      "execution_count": null,
      "metadata": {
        "collapsed": false
      },
      "outputs": [],
      "source": [
        "surfaces = omfvista.load_project(gdc19.get_project_path('surfaces.omf'))\ntopo = surfaces['land_surface']"
      ]
    },
    {
      "cell_type": "markdown",
      "metadata": {},
      "source": [
        "Decimate Topography Surface\n\n"
      ]
    },
    {
      "cell_type": "code",
      "execution_count": null,
      "metadata": {
        "collapsed": false
      },
      "outputs": [],
      "source": [
        "dec = topo.extract_geometry().decimate(0.99, inplace=False)\ndec.plot(notebook=True, show_edges=True, color=True)"
      ]
    },
    {
      "cell_type": "markdown",
      "metadata": {},
      "source": [
        "Re-do the texture mapping\n\n"
      ]
    },
    {
      "cell_type": "code",
      "execution_count": null,
      "metadata": {
        "collapsed": false
      },
      "outputs": [],
      "source": [
        "reader = omf.OMFReader(gdc19.get_project_path('surfaces.omf'))\nproject = reader.get_project()\n# Assumes 'land_surface' is at index 0\nsurf = project.elements[0]\ntex = surf.textures[0]\nprint(tex.name)\n\nog = tex.origin\npu = tex.axis_u\npv = tex.axis_v\n\ndec.texture_map_to_plane(origin=og, point_u=og+pu, point_v=og+pv,\n                          inplace=True, name='geo_aer')\n\ndec.textures['geo_aer'] = pyvista.read_texture(gdc19.get_web_path('geology-aerial-compressed.jpg'))\n\ndec.plot(texture=True)\n\ndec.save(gdc19.get_web_path('topo.vtk'))"
      ]
    },
    {
      "cell_type": "markdown",
      "metadata": {},
      "source": [
        "Decimate Granite Surface\n\n"
      ]
    },
    {
      "cell_type": "code",
      "execution_count": null,
      "metadata": {
        "collapsed": false
      },
      "outputs": [],
      "source": [
        "gran = surfaces['top_granitoid']\nprint(gran)"
      ]
    },
    {
      "cell_type": "code",
      "execution_count": null,
      "metadata": {
        "collapsed": false
      },
      "outputs": [],
      "source": [
        "dec = gran.extract_geometry().decimate(0.99, inplace=False)\ndec.plot(notebook=True, show_edges=True)\n\ndec.save(gdc19.get_web_path('granite.vtk'))"
      ]
    }
  ],
  "metadata": {
    "kernelspec": {
      "display_name": "Python 3",
      "language": "python",
      "name": "python3"
    },
    "language_info": {
      "codemirror_mode": {
        "name": "ipython",
        "version": 3
      },
      "file_extension": ".py",
      "mimetype": "text/x-python",
      "name": "python",
      "nbconvert_exporter": "python",
      "pygments_lexer": "ipython3",
      "version": "3.7.3"
    }
  },
  "nbformat": 4,
  "nbformat_minor": 0
}