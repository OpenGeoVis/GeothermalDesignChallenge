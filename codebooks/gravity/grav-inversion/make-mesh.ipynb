{
 "cells": [
  {
   "cell_type": "code",
   "execution_count": null,
   "metadata": {},
   "outputs": [],
   "source": [
    "import numpy as np\n",
    "import verde as vd\n",
    "import pandas as pd\n",
    "import vtki\n",
    "import PVGeo\n",
    "import discretize"
   ]
  },
  {
   "cell_type": "code",
   "execution_count": null,
   "metadata": {},
   "outputs": [],
   "source": [
    "topo = np.loadtxt('land-surface.topo', skiprows=1)\n",
    "topo = vtki.PolyData(topo)\n",
    "topo"
   ]
  },
  {
   "cell_type": "code",
   "execution_count": null,
   "metadata": {},
   "outputs": [],
   "source": [
    "# Load detrended gravity data\n",
    "_grav = np.loadtxt('grav-obs.grv', skiprows=1)\n",
    "grav = vtki.PolyData(_grav[:, 0:3])\n",
    "grav.point_arrays['residuals'] = _grav[:,3]\n",
    "grav"
   ]
  },
  {
   "cell_type": "code",
   "execution_count": null,
   "metadata": {},
   "outputs": [],
   "source": [
    "p = vtki.BackgroundPlotter()"
   ]
  },
  {
   "cell_type": "code",
   "execution_count": null,
   "metadata": {},
   "outputs": [],
   "source": [
    "p.add_mesh(grav, name='gres')\n",
    "p.add_mesh(topo, name='topo')\n",
    "p.show_grid()"
   ]
  },
  {
   "cell_type": "code",
   "execution_count": null,
   "metadata": {},
   "outputs": [],
   "source": [
    "# Create the TensorMesh\n",
    "# Gravity inversion model space\n",
    "def create_mesh(bounds, sz=100, pi=5, pad=None, extend=1000., zpad=None):\n",
    "    if pad is None:\n",
    "        pad = [10 * sz] * 3\n",
    "    if zpad is None:\n",
    "        zpad = [sz*2.5, sz*5, sz*10]\n",
    "    xc = np.linspace(bounds[0]-extend, bounds[1]+extend, sz)\n",
    "    xc = np.insert(xc, 0, np.min(xc) - np.cumsum(pad))\n",
    "    xc = np.append(xc, np.max(xc) + np.cumsum(pad))\n",
    "\n",
    "    yc = np.linspace(bounds[2]-extend, bounds[3]+extend, sz)\n",
    "    yc = np.insert(yc, 0, np.min(yc) - np.cumsum(pad))\n",
    "    yc = np.append(yc, np.max(yc) + np.cumsum(pad))\n",
    "    \n",
    "    zc = np.linspace(bounds[4], bounds[5], sz)\n",
    "    zc = np.insert(zc, 0, np.min(zc) - np.cumsum(zpad))\n",
    "\n",
    "    return vtki.RectilinearGrid(xc, yc, zc)\n",
    "    \n",
    "\n",
    "# Use topography bounds to constrain\n",
    "bounds = topo.bounds\n",
    "bounds[4] = -2100.0,\n",
    "bounds[5] = topo.bounds[5] + 100\n",
    "mesh = create_mesh(bounds, pad=[500, 500, 750, 1000, 1500, 2000])\n",
    "p.add_mesh(mesh, show_edges=True, name='gm', opacity=0.7)\n",
    "mesh"
   ]
  },
  {
   "cell_type": "code",
   "execution_count": null,
   "metadata": {},
   "outputs": [],
   "source": [
    "dmesh, _ = discretize.TensorMesh.vtk_to_tensor_mesh(mesh)\n",
    "dmesh.writeUBC('gravity-mesh.msh')"
   ]
  },
  {
   "cell_type": "code",
   "execution_count": null,
   "metadata": {},
   "outputs": [],
   "source": [
    "# clip the gravity obeservation data\n",
    "gc = grav.clip_box(mesh.bounds, invert=False)\n",
    "data = pd.DataFrame(data=gc.points)\n",
    "data['residuals'] = gc.point_arrays['residuals']\n",
    "data['std'] = np.full(gc.n_points, 0.05)\n",
    "with open('grav-obs-clipped.grv', 'w') as f:\n",
    "    f.write('{}\\n'.format(len(data)))\n",
    "    data.to_csv(f, sep='\\t', header=False,index=False)"
   ]
  },
  {
   "cell_type": "code",
   "execution_count": null,
   "metadata": {},
   "outputs": [],
   "source": [
    "gc.plot()"
   ]
  },
  {
   "cell_type": "code",
   "execution_count": null,
   "metadata": {},
   "outputs": [],
   "source": [
    "gc"
   ]
  },
  {
   "cell_type": "code",
   "execution_count": null,
   "metadata": {},
   "outputs": [],
   "source": []
  }
 ],
 "metadata": {
  "kernelspec": {
   "display_name": "Python 3",
   "language": "python",
   "name": "python3"
  },
  "language_info": {
   "codemirror_mode": {
    "name": "ipython",
    "version": 3
   },
   "file_extension": ".py",
   "mimetype": "text/x-python",
   "name": "python",
   "nbconvert_exporter": "python",
   "pygments_lexer": "ipython3",
   "version": "3.7.2"
  }
 },
 "nbformat": 4,
 "nbformat_minor": 2
}
