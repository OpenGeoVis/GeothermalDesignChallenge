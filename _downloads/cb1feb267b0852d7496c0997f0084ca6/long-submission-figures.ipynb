{
  "cells": [
    {
      "cell_type": "code",
      "execution_count": null,
      "metadata": {
        "collapsed": false
      },
      "outputs": [],
      "source": [
        "%matplotlib inline"
      ]
    },
    {
      "cell_type": "markdown",
      "metadata": {},
      "source": [
        "\nSubmission Figures\n~~~~~~~~~~~~~~~~~~\n\nThis notebook will recreate all of the figures for the competition submission.\n"
      ]
    },
    {
      "cell_type": "code",
      "execution_count": null,
      "metadata": {
        "collapsed": false
      },
      "outputs": [],
      "source": [
        "# sphinx_gallery_thumbnail_number = 5\n\n# Import project package\nimport gdc19"
      ]
    },
    {
      "cell_type": "code",
      "execution_count": null,
      "metadata": {
        "collapsed": false
      },
      "outputs": [],
      "source": [
        "import pyvista\nimport PVGeo\nimport omfvista\nimport pandas as pd\nimport numpy as np"
      ]
    },
    {
      "cell_type": "markdown",
      "metadata": {},
      "source": [
        "Load all the datasets created in the data aggreagation section\n\n"
      ]
    },
    {
      "cell_type": "code",
      "execution_count": null,
      "metadata": {
        "collapsed": false
      },
      "outputs": [],
      "source": [
        "gis_data = omfvista.load_project(gdc19.get_project_path('gis.omf'))\nprint(gis_data.keys())"
      ]
    },
    {
      "cell_type": "code",
      "execution_count": null,
      "metadata": {
        "collapsed": false
      },
      "outputs": [],
      "source": [
        "surfaces = omfvista.load_project(gdc19.get_project_path('surfaces.omf'))\nprint(surfaces.keys())"
      ]
    },
    {
      "cell_type": "code",
      "execution_count": null,
      "metadata": {
        "collapsed": false
      },
      "outputs": [],
      "source": [
        "temperature_data = omfvista.load_project(gdc19.get_project_path('temperature.omf'))\nprint(temperature_data.keys())"
      ]
    },
    {
      "cell_type": "markdown",
      "metadata": {},
      "source": [
        "Grab data to be used\n\n"
      ]
    },
    {
      "cell_type": "code",
      "execution_count": null,
      "metadata": {
        "collapsed": false
      },
      "outputs": [],
      "source": [
        "topo = surfaces['land_surface']\ngranitoid = surfaces['top_granitoid']\ntemp_175c = surfaces['temp_175c']\ntemp_225c = surfaces['temp_225c']"
      ]
    },
    {
      "cell_type": "markdown",
      "metadata": {},
      "source": [
        "Remove granite surface intereseting topography\n\n"
      ]
    },
    {
      "cell_type": "code",
      "execution_count": null,
      "metadata": {
        "collapsed": false
      },
      "outputs": [],
      "source": [
        "granitoid = PVGeo.grids.ExtractTopography(\n                remove=True, # remove the inactive cells\n                tolerance=10.0 # buffer around the topo surface\n               ).apply(granitoid, topo)"
      ]
    },
    {
      "cell_type": "code",
      "execution_count": null,
      "metadata": {
        "collapsed": false
      },
      "outputs": [],
      "source": [
        "boundary = gis_data['boundary']\nboundary_tube = PVGeo.filters.AddCellConnToPoints(cell_type=4,\n                        close_loop=True).apply(boundary).tube(radius=30)\nwalls = PVGeo.filters.BuildSurfaceFromPoints(\n                zcoords=[0., 4.5e3]).apply(boundary)"
      ]
    },
    {
      "cell_type": "code",
      "execution_count": null,
      "metadata": {
        "collapsed": false
      },
      "outputs": [],
      "source": [
        "temp_grid = temperature_data['kriged_temperature_model']\n\ntemp_grid_cropped = temp_grid.clip_box(gdc19.get_roi_bounds(), invert=False)\n\n# Remove values above topography\ntemp_grid = PVGeo.grids.ExtractTopography(\n                remove=True, # remove the inactive cells\n                tolerance=10.0 # buffer around the topo surface\n               ).apply(temp_grid_cropped, topo)\n\ntemp_roi = temp_grid.threshold([175., 225.])"
      ]
    },
    {
      "cell_type": "code",
      "execution_count": null,
      "metadata": {
        "collapsed": false
      },
      "outputs": [],
      "source": [
        "well_locs = pd.read_csv(gdc19.get_well_path('well_location_from_earth_model.csv'))\nwell_locs = PVGeo.points_to_poly_data(well_locs[['x', 'y', 'z (land surface)']].values).clip_box(\n                    gdc19.get_roi_bounds(), invert=False)\n\nWELLS = gdc19.load_well_db()\nproposed = PVGeo.filters.AddCellConnToPoints().apply(WELLS.pop('well_new2'))#pyvista.MultiBlock()\n\nwell_5832 = PVGeo.filters.AddCellConnToPoints().apply(WELLS.pop('well_5832'))\n#well_5832.set_active_scalar('ECGR')\nwell_Acord1 = PVGeo.filters.AddCellConnToPoints().apply(WELLS.pop('well_Acord1'))\n#well_Acord1 = WELLS.set_active_scalar('GR_SPLICE (GAPI)')"
      ]
    },
    {
      "cell_type": "markdown",
      "metadata": {},
      "source": [
        "load the gravity model\n\n"
      ]
    },
    {
      "cell_type": "code",
      "execution_count": null,
      "metadata": {
        "collapsed": false
      },
      "outputs": [],
      "source": [
        "gf = gdc19.get_gravity_path('forge_inverse_problem/RESULT_THRESHED.vtu')\ngrav_model = pyvista.read(gf)\ngrav_model.active_scalar_name = 'Magnitude'"
      ]
    },
    {
      "cell_type": "markdown",
      "metadata": {},
      "source": [
        "Plotting Helpers\n++++++++++++++++\n\nFunctions for adding datasets to a scene in a consistent manner\n\n"
      ]
    },
    {
      "cell_type": "code",
      "execution_count": null,
      "metadata": {
        "collapsed": false
      },
      "outputs": [],
      "source": [
        "POINT_SIZE = 15\nLINE_WIDTH = 15\npyvista.rcParams['window_size'] = np.array([1024, 768]) * 2\nlegend_color = pyvista.parse_color('lightgrey')"
      ]
    },
    {
      "cell_type": "code",
      "execution_count": null,
      "metadata": {
        "collapsed": false
      },
      "outputs": [],
      "source": [
        "def clip_it(data, bounds):\n    if bounds is None:\n        return data\n    return data.clip_box(bounds, invert=False)\n\ndef add_topo(p, bounds=None):\n    data = clip_it(topo, bounds)\n    if data.n_points < 1:\n        return\n    # We can update this to change the texture\n    return p.add_mesh(data,\n               texture='geo_aer',\n               name='topo', color='white')#, opacity=0.85)\n\ndef add_faults(p, bounds=None):\n    data = clip_it(surfaces['negro_mag_fault'], bounds)\n    if data.n_points < 1:\n        return\n    f1 = p.add_mesh(data, name='negro_mag_fault',\n           show_edges=False, color='blue', opacity=0.5,\n           label='Negro Mag. Fault')\n    data = clip_it(surfaces['opal_mound_fault'], bounds)\n    if data.n_points < 1:\n        return\n    f2 = p.add_mesh(data, name='opal_mound_fault',\n           show_edges=False, color='red', opacity=0.5,\n                   label='Opal Mound Fault')\n    return f1, f2\n\ndef add_granite(p, bounds=None):\n    data = clip_it(granitoid, bounds)\n    if data.n_points < 1:\n        return\n    return p.add_mesh(data, name='top_granitoid',\n               show_edges=False, style='surface',\n               color='grey', opacity=0.65, reset_camera=False,\n               label='Top of Granite Layer')\n\n\ndef add_boundary(p, bounds=None):\n    data = clip_it(boundary_tube, bounds)\n    if data.n_points < 1:\n        return\n    return p.add_mesh(data, name='boundary',  color='yellow',\n                      render_lines_as_tubes=False, line_width=10,\n                      label='FORGE Boundary')\n\ndef add_walls(p, bounds=None):\n    data = clip_it(walls, bounds)\n    if data.n_points < 1:\n        return\n    return p.add_mesh(data, name='walls',\n               color='yellow', opacity=0.5)\n\n\ntemp_d_params = dict(cmap='coolwarm', stitle='Temperature (C)',\n                     clim=[0, 255])\n\ndef add_temp_model(p, bounds=None, contour=False, opacity=1.0):\n    if contour:\n        data = temp_grid.cell_data_to_point_data().contour([175, 225])\n    else:\n        data = temp_grid.threshold([175, 225])\n    data = clip_it(data, bounds)\n    if data.n_points < 1:\n        return\n    return p.add_mesh(data, name='temp_grid', opacity=opacity,\n                      #label='Geostatistical Temperature Model',\n                      **temp_d_params)\n\n\ndef add_temp_probes(p, bounds=None):\n    data = clip_it(temperature_data['temperature'], bounds)\n    if data.n_points < 1:\n        return\n    return p.add_mesh(data, name='temp',\n               point_size=POINT_SIZE, render_points_as_spheres=True,\n               #label='Temperature Probes',\n               **temp_d_params)\n\ndef add_temp_surfs(p, bounds=None, style='surface'):\n    data = clip_it(temp_175c, bounds)\n    if data.n_points < 1:\n        return\n    # add the temperature boundaries\n    s1 = p.add_mesh(data, name='temp_175c',\n               style=style, opacity=0.7, **temp_d_params)\n    data = clip_it(temp_225c, bounds)\n    if data.n_points < 1:\n        return\n    s2 = p.add_mesh(data, name='temp_225c',\n               style=style, opacity=0.7, **temp_d_params)\n    return s1, s2\n\n\ndef add_well_collars(p, bounds=None):\n    data = clip_it(well_locs, bounds)\n    if data.n_points < 1:\n        return\n    return p.add_mesh(data, name='well_locations',\n                      point_size=POINT_SIZE, color='darkorange',\n                      label='Well Locations')\n\ndef add_well_traj(p, bounds=None):\n    return p.add_mesh(WELLS, color='grey', name='WELLS',\n                      reset_camera=False, render_lines_as_tubes=False, line_width=10,\n                      )\n\nWELL_COLOR = 'mediumvioletred'\ndef add_well_traj_proposed(p, bounds=None):\n    return p.add_mesh(proposed, color=WELL_COLOR, name='proposed-wells',\n                      reset_camera=False, render_lines_as_tubes=False, line_width=LINE_WIDTH,\n                     label='Proposed Well')\n\n\ndef add_wells_with_data(p, bounds=None):\n    title = 'Gamma Ray Log (GAPI)' # Shows up as label on scalar bar\n    data = clip_it(well_5832, bounds)\n    if data.n_points < 1:\n        return\n    w1 = p.add_mesh(data, scalars='ECGR',\n                   name='5832', clim=[0,200],\n                   cmap='viridis', stitle=title,\n                   render_lines_as_tubes=False, line_width=10)\n    data = clip_it(well_Acord1, bounds)\n    if data.n_points < 1:\n        return\n    w2 = p.add_mesh(data,\n                   scalars=' GR_SPLICE (GAPI)',\n                   name = 'Acord1',\n                   clim=[0, 200], cmap = 'viridis',\n                   stitle=title,\n                   render_lines_as_tubes=False, line_width=10)\n    return w1, w2\n\n\ndef add_wells_with_data_solid(p, bounds=None):\n    title = ''\n    data = clip_it(well_5832, bounds)\n    if data.n_points < 1:\n        return\n    w1 = p.add_mesh(data,\n                   name='5832', color='gray',\n                   render_lines_as_tubes=False, line_width=10)\n    data = clip_it(well_Acord1, bounds)\n    if data.n_points < 1:\n        return\n    w2 = p.add_mesh(data,\n                   name = 'Acord1', color='gray',\n                    render_lines_as_tubes=False, line_width=10)\n    return w1, w2\n\n\n\n\ndef add_grav_model(p, bounds=None, opacity=1.0, rng=[-0.25,0.25]):\n    data = grav_model.threshold(0.07)\n    data = clip_it(data, bounds)\n    if data.n_points < 1:\n        return\n    return p.add_mesh(data, name='grav_model', clim=rng,\n                      opacity=opacity, cmap='jet',\n                    stitle='Inverted Density Model'\n                      #label='Density Model',\n                        )"
      ]
    },
    {
      "cell_type": "markdown",
      "metadata": {},
      "source": [
        "Figure 1\n++++++++\n\nThis figure shows the a model of Milford Valley, Utah with topography, fault,\ngranite, FORGE site and well locations and data\n\n"
      ]
    },
    {
      "cell_type": "code",
      "execution_count": null,
      "metadata": {
        "collapsed": false
      },
      "outputs": [],
      "source": [
        "def fig_1(p, bounds=None):\n    add_topo(p, bounds)\n    add_faults(p, bounds)\n    add_granite(p, bounds)\n    add_boundary(p, bounds)\n    add_well_collars(p, bounds)\n    add_well_traj(p, bounds)\n    add_wells_with_data_solid(p, bounds)\n    return\n\np = pyvista.Plotter()\nfig_1(p)\np.camera_position = [(314607.07454842806, 4234127.240330922, 12678.810422767268),\n                     (337504.84888541873, 4261501.390341784, 138.79188840111613),\n                     (0.22757507410880431, 0.24175047512873185, 0.9432742408331761)]\np.show_grid()\n\np.add_legend(bcolor=legend_color, border=True, )\ncpos = p.show(auto_close=False)\n# p.export_vtkjs(gdc19.EXPORT_PATH.format('figure-01'))\np.screenshot('figure-01.png')\np.close()\ncpos"
      ]
    },
    {
      "cell_type": "markdown",
      "metadata": {},
      "source": [
        "Figure 2\n++++++++\n\nThis figure shows a model of Milford Valley, Utah with topography, fault,\ngranite, FORGE site and well, well logs, and temperature locations and data\n\n"
      ]
    },
    {
      "cell_type": "code",
      "execution_count": null,
      "metadata": {
        "collapsed": false
      },
      "outputs": [],
      "source": [
        "def fig_2(p, bounds=None):\n    fig_1(p, bounds)\n    add_wells_with_data(p, bounds)\n    add_temp_probes(p, bounds)\n#     add_temp_surfs(p, bounds)\n\np = pyvista.Plotter()\nfig_2(p)\nadd_temp_model(p, None, False, .65)\np.camera_position = [(319034.6767280643, 4229153.193113267, 2134.2689148357804),\n (337792.27022585954, 4262182.34857588, -528.1616734381239),\n (0.03428354122002461, 0.060941228582444995, 0.9975524073753104)]\n\np.show_grid()\np.add_legend(bcolor=legend_color, border=True, )\ncpos = p.show(auto_close=False)\n# p.export_vtkjs(gdc19.EXPORT_PATH.format('figure-02'))\np.screenshot('figure-02.png')\np.close()\ncpos"
      ]
    },
    {
      "cell_type": "markdown",
      "metadata": {},
      "source": [
        "Figure 3\n++++++++\n\nThis figure shows a model of Milford Valley, Utah cropped from the north side\nof the FORGE site to better view the subsurface within the FORGE boundary\n\n"
      ]
    },
    {
      "cell_type": "code",
      "execution_count": null,
      "metadata": {
        "collapsed": false
      },
      "outputs": [],
      "source": [
        "ROI_BOX = [329924.98816, 344152.930125, 4252833.48213,\n              4264500.,\n           -5000.0, 5000.0]\n\ndef fig_3(p, bounds=None):\n    fig_2(p, bounds)\n#     p.add_mesh(pyvista.Box(gdc19.get_roi_bounds()).outline(), color='k')\n#     p.add_mesh(pyvista.Box(ROI_BOX).outline(), color='k')\n\n\np = pyvista.Plotter()\nfig_3(p, ROI_BOX)\nadd_temp_model(p, ROI_BOX, False, .65)\np.show_grid()\np.add_legend(bcolor=legend_color, border=True, )\n# p.camera_position = [(343748.9865580256, 4274071.829819304, -45.893656221421054),\n#      (335873.1170201431, 4261751.962920492, -297.42280206922646),\n#      (-0.02664145165280376, -0.0033777827209346117, 0.9996393467834896)]\np.camera_position = [(334281.36331699195, 4276292.535297218, -668.3030992158856),\n (335928.59853397467, 4261761.612826868, -771.3399610873013),\n (-0.010085221763558642, -0.008233535185890598, 0.9999152450084572)]\ncpos = p.show(auto_close=False)\n# p.export_vtkjs(gdc19.EXPORT_PATH.format('figure-03'))\np.screenshot('figure-03.png')\np.close()\ncpos"
      ]
    },
    {
      "cell_type": "markdown",
      "metadata": {},
      "source": [
        "Figure 4\n++++++++\n\nThis figure shows a model of Milford Valley, Utah cropped to better view the\nFORGE site subsurface and includes our team's proposed well location and\ntrajectory (red).\n\n"
      ]
    },
    {
      "cell_type": "code",
      "execution_count": null,
      "metadata": {
        "collapsed": false
      },
      "outputs": [],
      "source": [
        "def fig_4(p, bounds=None):\n    fig_3(p, bounds)\n    add_well_traj_proposed(p, bounds)\n    add_walls(p, bounds)\n\n\n\np = pyvista.Plotter()\nfig_4(p, ROI_BOX)\nadd_temp_model(p, ROI_BOX, opacity= .65)\np.show_grid()\np.add_legend(bcolor=legend_color, border=True,)\n# p.camera_position = [(338420.51700107113, 4274437.238773895, 2955.1608950208406),\n#                      (336736.7547587104, 4262114.162538592, -288.48406559676073),\n#                      (-0.04936350860775744, -0.24792338675624506, 0.9675211823610093)]\np.camera_position = [(334281.36331699195, 4276292.535297218, -668.3030992158856),\n (335928.59853397467, 4261761.612826868, -771.3399610873013),\n (-0.010085221763558642, -0.008233535185890598, 0.9999152450084572)]\ncpos = p.show(auto_close=False)\n# p.export_vtkjs(gdc19.EXPORT_PATH.format('figure-04'))\np.screenshot('figure-04.png')\np.close()\ncpos"
      ]
    },
    {
      "cell_type": "markdown",
      "metadata": {},
      "source": [
        "Figure 5\n++++++++\n\nThis figure shows a model of Milford Valley, Utah with topography, fault,\ngranite, FORGE site and well, well logs, proposed well, temperature, and\ngravity locations and data\n\n"
      ]
    },
    {
      "cell_type": "code",
      "execution_count": null,
      "metadata": {
        "collapsed": false
      },
      "outputs": [],
      "source": [
        "def fig_5(p, bounds=None):\n    fig_4(p, bounds)\n    add_grav_model(p, bounds)\n\n\n\np = pyvista.Plotter()\nfig_5(p, ROI_BOX)\np.remove_actor('walls')\np.show_grid()\np.add_legend(bcolor=legend_color, border=True, )\np.camera_position = [(327252.94475250016, 4277460.796102717, -2027.954347716202),\n (335281.2562947662, 4260510.214867136, -486.54134488200475),\n (-0.036117608696067414, 0.07352368982670517, 0.996639245352271)]\np.show(auto_close=False)\n# p.export_vtkjs(gdc19.EXPORT_PATH.format('figure-05'))\np.screenshot('figure-05.png')\np.close()"
      ]
    },
    {
      "cell_type": "markdown",
      "metadata": {},
      "source": [
        "Figure 6\n++++++++\n\nShow an aerial view of the proposed well's location\n\n"
      ]
    },
    {
      "cell_type": "code",
      "execution_count": null,
      "metadata": {
        "collapsed": false
      },
      "outputs": [],
      "source": [
        "p = pyvista.Plotter()\nfig_1(p)\n\nloc = proposed.points[0]\n# add_well_traj_proposed(p)\nloc[-1] = 1.8e3\ns = pyvista.Sphere(radius=40, center=loc)\np.add_mesh(s, label='Proposed Well', color=WELL_COLOR)\n\np.camera_position = [(335111.21558935504, 4262955.412897479, 10111.108956611326),\n                     (335111.21558935504, 4262955.412897479, 150.0),\n                     (0.0, 1.0, 0.0)]\np.show_grid()\n\np.add_legend(bcolor=legend_color, border=True, )\ncpos = p.show(auto_close=False)\n# p.export_vtkjs(gdc19.EXPORT_PATH.format('figure-06'))\np.screenshot('figure-06.png')\np.close()\ncpos"
      ]
    }
  ],
  "metadata": {
    "kernelspec": {
      "display_name": "Python 3",
      "language": "python",
      "name": "python3"
    },
    "language_info": {
      "codemirror_mode": {
        "name": "ipython",
        "version": 3
      },
      "file_extension": ".py",
      "mimetype": "text/x-python",
      "name": "python",
      "nbconvert_exporter": "python",
      "pygments_lexer": "ipython3",
      "version": "3.7.2"
    }
  },
  "nbformat": 4,
  "nbformat_minor": 0
}