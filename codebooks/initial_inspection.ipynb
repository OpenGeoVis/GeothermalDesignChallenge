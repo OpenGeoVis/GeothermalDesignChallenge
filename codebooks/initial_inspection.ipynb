{
 "cells": [
  {
   "cell_type": "code",
   "execution_count": null,
   "metadata": {},
   "outputs": [],
   "source": [
    "import sys\n",
    "# This makes the gdc19 package avaialble\n",
    "sys.path.append('../')\n",
    "import gdc19"
   ]
  },
  {
   "cell_type": "code",
   "execution_count": null,
   "metadata": {},
   "outputs": [],
   "source": [
    "import pandas as pd\n",
    "import numpy as np\n",
    "import vtki\n",
    "import omfvtk\n",
    "import PVGeo"
   ]
  },
  {
   "cell_type": "markdown",
   "metadata": {},
   "source": [
    "-----\n",
    "\n",
    "# Initial Inspection\n",
    "\n",
    "This notebook loads up all the data and works through an initial inspection."
   ]
  },
  {
   "cell_type": "code",
   "execution_count": null,
   "metadata": {},
   "outputs": [],
   "source": [
    "proj = gdc19.load_project()\n",
    "proj"
   ]
  },
  {
   "cell_type": "code",
   "execution_count": null,
   "metadata": {},
   "outputs": [],
   "source": [
    "# Add values to the meshes so colors are consistent with other data\n",
    "# proj['temp_175c'].point_arrays['Temperature'] = np.full(proj['temp_175c'].n_points, 175.)\n",
    "# proj['temp_225c'].point_arrays['Temperature'] = np.full(proj['temp_225c'].n_points, 225.)"
   ]
  },
  {
   "cell_type": "code",
   "execution_count": null,
   "metadata": {},
   "outputs": [],
   "source": [
    "topo = proj['land_surface']\n",
    "topo"
   ]
  },
  {
   "cell_type": "code",
   "execution_count": null,
   "metadata": {},
   "outputs": [],
   "source": [
    "# Load kriged temperature model from Lane\n",
    "# Read the kirgged model and variance\n",
    "temp_grid = gdc19.load_kriged_temp()\n",
    "\n",
    "# Remove values above topography\n",
    "temp_grid = PVGeo.grids.ExtractTopography(\n",
    "                remove=True, # remove the inactive cells\n",
    "                tolerance=10.0 # buffer around the topo surface\n",
    "               ).Apply(temp_grid, topo)\n",
    "temp_grid"
   ]
  },
  {
   "cell_type": "markdown",
   "metadata": {},
   "source": [
    "# Integrated Scene\n",
    "\n",
    "Now use `vtki` to create and integrated rendering of all the available data\n"
   ]
  },
  {
   "cell_type": "code",
   "execution_count": null,
   "metadata": {},
   "outputs": [],
   "source": [
    "vtki.close_all()\n",
    "p = vtki.BackgroundPlotter()"
   ]
  },
  {
   "cell_type": "code",
   "execution_count": null,
   "metadata": {},
   "outputs": [],
   "source": [
    "p.show_grid()"
   ]
  },
  {
   "cell_type": "markdown",
   "metadata": {},
   "source": [
    "## Topography & Imagery"
   ]
  },
  {
   "cell_type": "code",
   "execution_count": null,
   "metadata": {},
   "outputs": [],
   "source": [
    "# We can update this cell to change the texture\n",
    "p.add_mesh(topo, \n",
    "           texture='geo_aer', \n",
    "           name='topo')"
   ]
  },
  {
   "cell_type": "markdown",
   "metadata": {},
   "source": [
    "## Temperature Data"
   ]
  },
  {
   "cell_type": "code",
   "execution_count": null,
   "metadata": {},
   "outputs": [],
   "source": [
    "temp_d_params = dict(cmap='coolwarm', stitle='Temperature', \n",
    "                     clim=temp_grid.get_data_range())"
   ]
  },
  {
   "cell_type": "code",
   "execution_count": null,
   "metadata": {},
   "outputs": [],
   "source": [
    "p.add_mesh(proj['temperature'], name='temp', \n",
    "           point_size=10, render_points_as_spheres=True, \n",
    "           **temp_d_params)"
   ]
  },
  {
   "cell_type": "code",
   "execution_count": null,
   "metadata": {},
   "outputs": [],
   "source": [
    "# add the temperature boundaries\n",
    "p.add_mesh(proj['temp_175c'], name='temp_175c', \n",
    "           style='wireframe', **temp_d_params)\n",
    "p.add_mesh(proj['temp_225c'], name='temp_225c', \n",
    "           style='wireframe', **temp_d_params)"
   ]
  },
  {
   "cell_type": "code",
   "execution_count": null,
   "metadata": {},
   "outputs": [],
   "source": [
    "temp_grid.set_active_scalar('Temperature')\n",
    "thresher = vtki.Threshold(temp_grid, plotter=p, \n",
    "                          display_params=dict(cmap='coolwarm', \n",
    "                                 clim=temp_grid.get_data_range(),\n",
    "                                 show_scalar_bar=True, name='thresh',\n",
    "                                 opacity=0.6),\n",
    "                         default_params=dict(dmin=175, dmax=255))"
   ]
  },
  {
   "cell_type": "code",
   "execution_count": null,
   "metadata": {},
   "outputs": [],
   "source": [
    "temp_grid.set_active_scalar('Temperature_var')\n",
    "slicer = vtki.OrthogonalSlicer(temp_grid, plotter=p,\n",
    "                               display_params=dict(cmap='bone_r', \n",
    "                                 clim=temp_grid.get_data_range(),\n",
    "                                 show_scalar_bar=False, name='slices'),\n",
    "                               clean=False)"
   ]
  },
  {
   "cell_type": "markdown",
   "metadata": {},
   "source": [
    "## Fault Surfaces"
   ]
  },
  {
   "cell_type": "code",
   "execution_count": null,
   "metadata": {},
   "outputs": [],
   "source": [
    "p.add_mesh(proj['negro_mag_fault'], name='negro_mag_fault',\n",
    "           show_edges=False, color='blue', opacity=0.5)\n",
    "p.add_mesh(proj['opal_mound_fault'], name='opal_mound_fault',\n",
    "           show_edges=False, color='orange', opacity=0.5)"
   ]
  },
  {
   "cell_type": "markdown",
   "metadata": {},
   "source": [
    "## ROI Boundary\n",
    "\n",
    "Region of interest - where we can place a well"
   ]
  },
  {
   "cell_type": "code",
   "execution_count": null,
   "metadata": {},
   "outputs": [],
   "source": [
    "# Add the shape file stuff\n",
    "p.add_mesh(proj['boundary'], name='boundary', \n",
    "           color='azure', render_lines_as_tubes=False, line_width=10)"
   ]
  },
  {
   "cell_type": "markdown",
   "metadata": {},
   "source": [
    "## Granite Surface Boundary"
   ]
  },
  {
   "cell_type": "code",
   "execution_count": null,
   "metadata": {},
   "outputs": [],
   "source": [
    "# Add the granitoid boundary\n",
    "#--\n",
    "# Lets run a PVGeo filter to extract the topo surface from\n",
    "#    the granitoid surface\n",
    "ext = PVGeo.grids.ExtractTopography(\n",
    "        remove=True, # remove the inactive cells\n",
    "        tolerance=10.0 # buffer around the topo surface\n",
    "        ).Apply(proj['top_granitoid'], topo)\n",
    "granitoid = ext\n",
    "#--\n",
    "# Now plot it!\n",
    "p.add_mesh(granitoid, name='top_granitoid',\n",
    "           show_edges=False, style='surface',\n",
    "           color='grey', opacity=0.75, reset_camera=False,\n",
    "          )"
   ]
  },
  {
   "cell_type": "markdown",
   "metadata": {},
   "source": [
    "## Well Collars"
   ]
  },
  {
   "cell_type": "code",
   "execution_count": null,
   "metadata": {},
   "outputs": [],
   "source": [
    "well_locs = pd.read_csv(gdc19.get_well_path('well_location_from_earth_model.csv'))\n",
    "foo = PVGeo.pointsToPolyData(well_locs[['x', 'y', 'z (land surface)']].values)\n",
    "# p.add_mesh(foo, name='well_locations', point_size=10, color='orange')\n",
    "idxs = []\n",
    "for i, pt in enumerate(foo.points):\n",
    "    if vtki.is_inside_bounds(pt,proj['boundary'].bounds):\n",
    "        idxs.append(i)\n",
    "wells_inside = well_locs.loc[idxs]\n",
    "wells_inside"
   ]
  },
  {
   "cell_type": "markdown",
   "metadata": {},
   "source": [
    "## Well Trajectories"
   ]
  },
  {
   "cell_type": "code",
   "execution_count": null,
   "metadata": {},
   "outputs": [],
   "source": [
    "# Plot the wells\n",
    "WELLS = gdc19.load_well_db()\n",
    "proposed = vtki.MultiBlock()\n",
    "proposed['well_new1'] = WELLS.pop('well_new1')\n",
    "proposed['well_new2'] = WELLS.pop('well_new2')\n",
    "\n",
    "well_5832 = WELLS.pop('well_5832')\n",
    "well_5832.set_active_scalar('RHOZ')"
   ]
  },
  {
   "cell_type": "code",
   "execution_count": null,
   "metadata": {},
   "outputs": [],
   "source": [
    "_ = p.add_mesh(WELLS, color='gray', name='WELLS', reset_camera=False)\n",
    "_ = p.add_mesh(proposed, color='red', name='proposed-wells', reset_camera=False)"
   ]
  },
  {
   "cell_type": "code",
   "execution_count": null,
   "metadata": {},
   "outputs": [],
   "source": [
    "_ = p.add_mesh(well_5832, scalars='RHOZ', name='5832', clim=[2.,3.], cmap='viridis')"
   ]
  },
  {
   "cell_type": "markdown",
   "metadata": {},
   "source": [
    "## Gravity Data"
   ]
  },
  {
   "cell_type": "code",
   "execution_count": null,
   "metadata": {},
   "outputs": [],
   "source": [
    "field_desc = {\n",
    "    \"name\": \"the individual gravity station name.\",\n",
    "    \"lon\": \"station Longitude, WGS84\",\n",
    "    \"lat\": \"station latitude, WGS84\",\n",
    "    \"easting\": \"UTM zone 12 easting, NAD83\",\n",
    "    \"northing\": \"UTM zone 12 northing, NAD83\",\n",
    "    \"HAE\": \"height above ellipsoid [meter]\",\n",
    "    \"NGVD29\": \"vertical datum for geoid [meter]\",\n",
    "    \"obs\": \"observed gravity\",\n",
    "    \"errg\": \"gravity measurement error [mGal]\",\n",
    "    \"iztc\": \"inner zone terrain correction [mGal]\",\n",
    "    \"oztc\": \"outer zone terrain correction [mGal]\",\n",
    "    \"gFA\": \"free air gravity\",\n",
    "    \"gSBGA\": \"Bouguer horizontal slab\",\n",
    "    \"gCBGA\": \"Complete Bouguer anomaly\",\n",
    "    \"Source\": \"data source\",\n",
    "}"
   ]
  },
  {
   "cell_type": "code",
   "execution_count": null,
   "metadata": {},
   "outputs": [],
   "source": [
    "df = pd.read_csv(gdc19.get_gravity_path('Utah_FORGE_Gravity_Data.txt'))\n",
    "ref = ['easting', 'northing', 'HAE']\n",
    "points = df[ref]\n",
    "for name in ref:\n",
    "    df.pop(name)\n",
    "grav = vtki.PolyData(points.values)\n",
    "grav.point_arrays.update(df.to_dict('series'))\n",
    "# clip the gravity survey\n",
    "grav = grav.clip_box(gdc19.get_roi_bounds(), invert=False)\n",
    "# and shift the z component so its not directly in the topo surface\n",
    "grav.points[:, -1] += 25 # NOTE this is not good practice"
   ]
  },
  {
   "cell_type": "code",
   "execution_count": null,
   "metadata": {},
   "outputs": [],
   "source": [
    "grav"
   ]
  },
  {
   "cell_type": "code",
   "execution_count": null,
   "metadata": {},
   "outputs": [],
   "source": [
    "val = \"gCBGA\"\n",
    "p.add_mesh(grav, scalars=val, name='gravity', \n",
    "           render_points_as_spheres=True, stitle=field_desc[val])\n",
    "\n"
   ]
  },
  {
   "cell_type": "markdown",
   "metadata": {},
   "source": [
    "## Screenshot"
   ]
  },
  {
   "cell_type": "code",
   "execution_count": null,
   "metadata": {},
   "outputs": [],
   "source": [
    "# _ = p.screenshot('../integrated_view.png')\n",
    "# p.remove_actor('topo')\n",
    "# p.export_vtkjs('integrated_view')"
   ]
  },
  {
   "cell_type": "code",
   "execution_count": null,
   "metadata": {},
   "outputs": [],
   "source": []
  }
 ],
 "metadata": {
  "kernelspec": {
   "display_name": "Python [default]",
   "language": "python",
   "name": "python3"
  },
  "language_info": {
   "codemirror_mode": {
    "name": "ipython",
    "version": 3
   },
   "file_extension": ".py",
   "mimetype": "text/x-python",
   "name": "python",
   "nbconvert_exporter": "python",
   "pygments_lexer": "ipython3",
   "version": "3.6.5"
  }
 },
 "nbformat": 4,
 "nbformat_minor": 2
}
