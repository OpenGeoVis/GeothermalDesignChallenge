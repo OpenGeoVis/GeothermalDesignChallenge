{
 "cells": [
  {
   "cell_type": "code",
   "execution_count": 174,
   "metadata": {},
   "outputs": [
    {
     "data": {
      "text/plain": [
       "'/Volumes/GoogleDrive/My Drive/utah-forge'"
      ]
     },
     "execution_count": 174,
     "metadata": {},
     "output_type": "execute_result"
    }
   ],
   "source": [
    "import sys\n",
    "# This makes the gdc19 package avaialble\n",
    "sys.path.append('../')\n",
    "import gdc19\n",
    "# Be sure to set your working directory!!!\n",
    "# this is the path to the Google Drive folder\n",
    "gdc19.setup_bane()"
   ]
  },
  {
   "cell_type": "code",
   "execution_count": 175,
   "metadata": {
    "collapsed": true
   },
   "outputs": [],
   "source": [
    "import vtki\n",
    "import omfvtk\n",
    "import PVGeo"
   ]
  },
  {
   "cell_type": "markdown",
   "metadata": {},
   "source": [
    "-----\n",
    "\n",
    "# Initial Inspection\n",
    "\n",
    "This notebook loads up all the data and works through an initial inspection."
   ]
  },
  {
   "cell_type": "code",
   "execution_count": 176,
   "metadata": {},
   "outputs": [
    {
     "data": {
      "text/html": [
       "<table><tr><th>Information</th><th>Blocks</th></tr><tr><td>\n",
       "<table>\n",
       "<tr><th>vtkMultiBlockDataSet</th><th>Values</th></tr>\n",
       "<tr><td>N Blocks</td><td>8</td></tr>\n",
       "<tr><td>X Bounds</td><td>329666.000, 344152.930</td></tr>\n",
       "<tr><td>Y Bounds</td><td>4252833.482, 4270951.098</td></tr>\n",
       "<tr><td>Z Bounds</td><td>-2606.000, 2906.000</td></tr>\n",
       "</table>\n",
       "\n",
       "</td><td>\n",
       "<table>\n",
       "<tr><th>Index</th><th>Name</th><th>Type</th></tr>\n",
       "<tr><th>0</th><th>land_surface</th><th>vtkUnstructuredGrid</th></tr>\n",
       "<tr><th>1</th><th>temp_225c</th><th>vtkUnstructuredGrid</th></tr>\n",
       "<tr><th>2</th><th>temp_175c</th><th>vtkUnstructuredGrid</th></tr>\n",
       "<tr><th>3</th><th>opal_mound_fault</th><th>vtkUnstructuredGrid</th></tr>\n",
       "<tr><th>4</th><th>negro_mag_fault</th><th>vtkUnstructuredGrid</th></tr>\n",
       "<tr><th>5</th><th>top_granitoid</th><th>vtkUnstructuredGrid</th></tr>\n",
       "<tr><th>6</th><th>boundary</th><th>vtkPolyData</th></tr>\n",
       "<tr><th>7</th><th>temperature</th><th>vtkPolyData</th></tr>\n",
       "</table>\n",
       "\n",
       "</td></tr> </table>"
      ],
      "text/plain": [
       "(MultiBlock)0x1dff0ac48"
      ]
     },
     "execution_count": 176,
     "metadata": {},
     "output_type": "execute_result"
    }
   ],
   "source": [
    "proj = omfvtk.load_project(gdc19.get_omf_project_filename())\n",
    "proj"
   ]
  },
  {
   "cell_type": "code",
   "execution_count": 177,
   "metadata": {},
   "outputs": [
    {
     "data": {
      "text/html": [
       "<table><tr><th>Header</th><th>Data Arrays</th></tr><tr><td>\n",
       "<table>\n",
       "<tr><th>vtkUnstructuredGrid</th><th>Information</th></tr>\n",
       "<tr><td>N Cells</td><td>824278</td></tr>\n",
       "<tr><td>N Points</td><td>413250</td></tr>\n",
       "<tr><td>X Bounds</td><td>3.299e+05, 3.442e+05</td></tr>\n",
       "<tr><td>Y Bounds</td><td>4.253e+06, 4.271e+06</td></tr>\n",
       "<tr><td>Z Bounds</td><td>1.494e+03, 2.723e+03</td></tr>\n",
       "<tr><td>N Scalars</td><td>3</td></tr>\n",
       "</table>\n",
       "\n",
       "</td><td>\n",
       "<table>\n",
       "<tr><th>Name</th><th>Field</th><th>Type</th><th>Min</th><th>Max</th></tr>\n",
       "<tr><td><b>geo_aer</b></td><td>Points</td><td>float32</td><td>3.737e-01</td><td>8.576e-01</td></tr>\n",
       "<tr><td>topo_map</td><td>Points</td><td>float32</td><td>2.254e-01</td><td>8.844e-01</td></tr>\n",
       "<tr><td>geo_no_aer</td><td>Points</td><td>float32</td><td>3.737e-01</td><td>8.576e-01</td></tr>\n",
       "</table>\n",
       "\n",
       "</td></tr> </table>"
      ],
      "text/plain": [
       "(UnstructuredGrid)0x15920d828"
      ]
     },
     "execution_count": 177,
     "metadata": {},
     "output_type": "execute_result"
    }
   ],
   "source": [
    "topo = proj['land_surface']\n",
    "topo"
   ]
  },
  {
   "cell_type": "markdown",
   "metadata": {},
   "source": [
    "# Integrated Scene\n",
    "\n",
    "Now use `vtki` to create and integrated rendering of all the available data\n"
   ]
  },
  {
   "cell_type": "code",
   "execution_count": 178,
   "metadata": {
    "collapsed": true
   },
   "outputs": [],
   "source": [
    "p = vtki.BackgroundPlotter()\n",
    "# p.add_bounds_axes()"
   ]
  },
  {
   "cell_type": "code",
   "execution_count": 179,
   "metadata": {},
   "outputs": [
    {
     "data": {
      "text/plain": [
       "(vtkRenderingOpenGL2Python.vtkOpenGLActor)0x1dff0a408"
      ]
     },
     "execution_count": 179,
     "metadata": {},
     "output_type": "execute_result"
    }
   ],
   "source": [
    "p.add_mesh(proj['temperature'], name='temp', \n",
    "           cmap='coolwarm', point_size=10, \n",
    "           render_points_as_spheres=True, stitle='Temperature')\n",
    "p.add_mesh(proj['negro_mag_fault'], name='negro_mag_fault',\n",
    "           show_edges=False, color='blue', opacity=0.5)\n",
    "p.add_mesh(proj['opal_mound_fault'], name='opal_mound_fault',\n",
    "           show_edges=False, color='orange', opacity=0.5)"
   ]
  },
  {
   "cell_type": "code",
   "execution_count": 180,
   "metadata": {},
   "outputs": [
    {
     "data": {
      "text/plain": [
       "(vtkRenderingOpenGL2Python.vtkOpenGLActor)0x1dff25348"
      ]
     },
     "execution_count": 180,
     "metadata": {},
     "output_type": "execute_result"
    }
   ],
   "source": [
    "# We can update this cell to change the texture\n",
    "p.add_mesh(topo, \n",
    "           texture='geo_aer', \n",
    "           show_edges=False, \n",
    "           name='topo', \n",
    "           reset_camera=False)"
   ]
  },
  {
   "cell_type": "code",
   "execution_count": 181,
   "metadata": {},
   "outputs": [
    {
     "data": {
      "text/plain": [
       "(vtkRenderingOpenGL2Python.vtkOpenGLActor)0x1dff254c8"
      ]
     },
     "execution_count": 181,
     "metadata": {},
     "output_type": "execute_result"
    }
   ],
   "source": [
    "# add the temperature boundaries\n",
    "p.add_mesh(proj['temp_175c'], name='temp_175c', \n",
    "           show_edges=False, color='aquamarine',\n",
    "           style='wireframe')\n",
    "p.add_mesh(proj['temp_225c'], name='temp_225c', \n",
    "           show_edges=False, color='firebrick',\n",
    "           style='wireframe')"
   ]
  },
  {
   "cell_type": "code",
   "execution_count": 182,
   "metadata": {},
   "outputs": [
    {
     "data": {
      "text/plain": [
       "(vtkRenderingOpenGL2Python.vtkOpenGLActor)0x1dff25468"
      ]
     },
     "execution_count": 182,
     "metadata": {},
     "output_type": "execute_result"
    }
   ],
   "source": [
    "# Add the shape file stuff\n",
    "p.add_mesh(proj['boundary'], name='boundary', \n",
    "           color='azure', render_lines_as_tubes=False, line_width=10)"
   ]
  },
  {
   "cell_type": "code",
   "execution_count": 183,
   "metadata": {},
   "outputs": [
    {
     "data": {
      "text/plain": [
       "(vtkRenderingOpenGL2Python.vtkOpenGLActor)0x1dff253a8"
      ]
     },
     "execution_count": 183,
     "metadata": {},
     "output_type": "execute_result"
    }
   ],
   "source": [
    "# Add the granitoid boundary\n",
    "#--\n",
    "# Lets run a PVGeo filter to extract the topo surface from\n",
    "#    the granitoid surface\n",
    "ext = PVGeo.grids.ExtractTopography(\n",
    "        remove=True, # remove the inactive cells\n",
    "        tolerance=10.0 # buffer around the topo surface\n",
    "        ).Apply(proj['top_granitoid'], topo)\n",
    "granitoid = ext\n",
    "#--\n",
    "# Now plot it!\n",
    "p.add_mesh(granitoid, name='top_granitoid',\n",
    "           show_edges=False, style='surface',\n",
    "           color='grey', opacity=0.75, reset_camera=False,\n",
    "          )"
   ]
  },
  {
   "cell_type": "code",
   "execution_count": 184,
   "metadata": {
    "collapsed": true
   },
   "outputs": [],
   "source": [
    "# _ = p.screenshot('../integrated_view.png')"
   ]
  },
  {
   "cell_type": "code",
   "execution_count": 185,
   "metadata": {},
   "outputs": [
    {
     "data": {
      "text/html": [
       "<div>\n",
       "<style scoped>\n",
       "    .dataframe tbody tr th:only-of-type {\n",
       "        vertical-align: middle;\n",
       "    }\n",
       "\n",
       "    .dataframe tbody tr th {\n",
       "        vertical-align: top;\n",
       "    }\n",
       "\n",
       "    .dataframe thead th {\n",
       "        text-align: right;\n",
       "    }\n",
       "</style>\n",
       "<table border=\"1\" class=\"dataframe\">\n",
       "  <thead>\n",
       "    <tr style=\"text-align: right;\">\n",
       "      <th></th>\n",
       "      <th>Well ID</th>\n",
       "      <th>x</th>\n",
       "      <th>y</th>\n",
       "      <th>z (land surface)</th>\n",
       "      <th>depth (m)</th>\n",
       "    </tr>\n",
       "  </thead>\n",
       "  <tbody>\n",
       "    <tr>\n",
       "      <th>0</th>\n",
       "      <td>12-35</td>\n",
       "      <td>339385.010</td>\n",
       "      <td>4264212.985</td>\n",
       "      <td>1880.635342</td>\n",
       "      <td>2133.6</td>\n",
       "    </tr>\n",
       "    <tr>\n",
       "      <th>1</th>\n",
       "      <td>13-10</td>\n",
       "      <td>337709.018</td>\n",
       "      <td>4260659.997</td>\n",
       "      <td>1796.263259</td>\n",
       "      <td>1601.3</td>\n",
       "    </tr>\n",
       "    <tr>\n",
       "      <th>2</th>\n",
       "      <td>14-2</td>\n",
       "      <td>339393.002</td>\n",
       "      <td>4262171.961</td>\n",
       "      <td>1903.453009</td>\n",
       "      <td>1808.5</td>\n",
       "    </tr>\n",
       "    <tr>\n",
       "      <th>3</th>\n",
       "      <td>24-36</td>\n",
       "      <td>341221.016</td>\n",
       "      <td>4263743.011</td>\n",
       "      <td>2034.161472</td>\n",
       "      <td>1819.7</td>\n",
       "    </tr>\n",
       "    <tr>\n",
       "      <th>4</th>\n",
       "      <td>25-15</td>\n",
       "      <td>337873.021</td>\n",
       "      <td>4258706.959</td>\n",
       "      <td>1827.029208</td>\n",
       "      <td>2287.5</td>\n",
       "    </tr>\n",
       "  </tbody>\n",
       "</table>\n",
       "</div>"
      ],
      "text/plain": [
       "  Well ID           x            y  z (land surface)  depth (m)\n",
       "0   12-35  339385.010  4264212.985       1880.635342     2133.6\n",
       "1   13-10  337709.018  4260659.997       1796.263259     1601.3\n",
       "2    14-2  339393.002  4262171.961       1903.453009     1808.5\n",
       "3   24-36  341221.016  4263743.011       2034.161472     1819.7\n",
       "4   25-15  337873.021  4258706.959       1827.029208     2287.5"
      ]
     },
     "execution_count": 185,
     "metadata": {},
     "output_type": "execute_result"
    }
   ],
   "source": [
    "import pandas as pd\n",
    "well_locs = pd.read_csv(gdc19.get_well_path('well_location_from_earth_model.csv'))\n",
    "well_locs.head()"
   ]
  },
  {
   "cell_type": "code",
   "execution_count": 186,
   "metadata": {},
   "outputs": [
    {
     "data": {
      "text/plain": [
       "(vtkRenderingOpenGL2Python.vtkOpenGLActor)0x1dff0aa68"
      ]
     },
     "execution_count": 186,
     "metadata": {},
     "output_type": "execute_result"
    }
   ],
   "source": [
    "foo = PVGeo.pointsToPolyData(well_locs[['x', 'y', 'z (land surface)']].values)\n",
    "p.add_mesh(foo, name='well_locations', point_size=10, color='orange')\n",
    "\n"
   ]
  },
  {
   "cell_type": "code",
   "execution_count": 187,
   "metadata": {},
   "outputs": [
    {
     "data": {
      "text/html": [
       "<div>\n",
       "<style scoped>\n",
       "    .dataframe tbody tr th:only-of-type {\n",
       "        vertical-align: middle;\n",
       "    }\n",
       "\n",
       "    .dataframe tbody tr th {\n",
       "        vertical-align: top;\n",
       "    }\n",
       "\n",
       "    .dataframe thead th {\n",
       "        text-align: right;\n",
       "    }\n",
       "</style>\n",
       "<table border=\"1\" class=\"dataframe\">\n",
       "  <thead>\n",
       "    <tr style=\"text-align: right;\">\n",
       "      <th></th>\n",
       "      <th>Well ID</th>\n",
       "      <th>x</th>\n",
       "      <th>y</th>\n",
       "      <th>z (land surface)</th>\n",
       "      <th>depth (m)</th>\n",
       "    </tr>\n",
       "  </thead>\n",
       "  <tbody>\n",
       "    <tr>\n",
       "      <th>35</th>\n",
       "      <td>58-32</td>\n",
       "      <td>335380.766</td>\n",
       "      <td>4263040.829</td>\n",
       "      <td>1681.616587</td>\n",
       "      <td>2296.9</td>\n",
       "    </tr>\n",
       "    <tr>\n",
       "      <th>56</th>\n",
       "      <td>RHS-14</td>\n",
       "      <td>335798.986</td>\n",
       "      <td>4264089.986</td>\n",
       "      <td>1690.846576</td>\n",
       "      <td>137.5</td>\n",
       "    </tr>\n",
       "    <tr>\n",
       "      <th>67</th>\n",
       "      <td>TPC-12</td>\n",
       "      <td>334826.000</td>\n",
       "      <td>4262756.046</td>\n",
       "      <td>1661.196616</td>\n",
       "      <td>150.0</td>\n",
       "    </tr>\n",
       "    <tr>\n",
       "      <th>68</th>\n",
       "      <td>TPC-14</td>\n",
       "      <td>335446.971</td>\n",
       "      <td>4264046.019</td>\n",
       "      <td>1675.199038</td>\n",
       "      <td>145.0</td>\n",
       "    </tr>\n",
       "  </tbody>\n",
       "</table>\n",
       "</div>"
      ],
      "text/plain": [
       "   Well ID           x            y  z (land surface)  depth (m)\n",
       "35   58-32  335380.766  4263040.829       1681.616587     2296.9\n",
       "56  RHS-14  335798.986  4264089.986       1690.846576      137.5\n",
       "67  TPC-12  334826.000  4262756.046       1661.196616      150.0\n",
       "68  TPC-14  335446.971  4264046.019       1675.199038      145.0"
      ]
     },
     "execution_count": 187,
     "metadata": {},
     "output_type": "execute_result"
    }
   ],
   "source": [
    "idxs = []\n",
    "for i, pt in enumerate(foo.points):\n",
    "    if vtki.is_inside_bounds(pt,proj['boundary'].bounds):\n",
    "        idxs.append(i)\n",
    "wells_inside = well_locs.loc[idxs]\n",
    "wells_inside"
   ]
  },
  {
   "cell_type": "code",
   "execution_count": 188,
   "metadata": {},
   "outputs": [
    {
     "data": {
      "text/plain": [
       "(vtkRenderingOpenGL2Python.vtkOpenGLActor)0x1dff0ab28"
      ]
     },
     "execution_count": 188,
     "metadata": {},
     "output_type": "execute_result"
    }
   ],
   "source": [
    "well_5832 = vtki.PolyData('well_data/58-32/well_5832.ply')\n",
    "\n",
    "p.add_mesh(well_5832, color = 'blue')"
   ]
  },
  {
   "cell_type": "code",
   "execution_count": 189,
   "metadata": {},
   "outputs": [
    {
     "data": {
      "text/plain": [
       "False"
      ]
     },
     "execution_count": 189,
     "metadata": {},
     "output_type": "execute_result"
    }
   ],
   "source": [
    "p.remove_actor('PolyData(0x10c0bfca8)')"
   ]
  },
  {
   "cell_type": "code",
   "execution_count": null,
   "metadata": {
    "collapsed": true
   },
   "outputs": [],
   "source": []
  },
  {
   "cell_type": "code",
   "execution_count": null,
   "metadata": {
    "collapsed": true
   },
   "outputs": [],
   "source": []
  }
 ],
 "metadata": {
  "kernelspec": {
   "display_name": "Python 3",
   "language": "python",
   "name": "python3"
  },
  "language_info": {
   "codemirror_mode": {
    "name": "ipython",
    "version": 3
   },
   "file_extension": ".py",
   "mimetype": "text/x-python",
   "name": "python",
   "nbconvert_exporter": "python",
   "pygments_lexer": "ipython3",
   "version": "3.6.8"
  }
 },
 "nbformat": 4,
 "nbformat_minor": 2
}
