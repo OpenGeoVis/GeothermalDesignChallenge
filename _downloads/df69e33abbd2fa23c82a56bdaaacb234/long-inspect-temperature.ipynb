{
  "cells": [
    {
      "cell_type": "code",
      "execution_count": null,
      "metadata": {
        "collapsed": false
      },
      "outputs": [],
      "source": [
        "%matplotlib inline"
      ]
    },
    {
      "cell_type": "markdown",
      "metadata": {},
      "source": [
        "\nInspect Temperature Model\n~~~~~~~~~~~~~~~~~~~~~~~~~\n\nThis notebook examines the temperature model and shows off a useful PVGeo\nalgorithm for rmeove parts of a mesh/model that are baove a topographic surface.\n"
      ]
    },
    {
      "cell_type": "code",
      "execution_count": null,
      "metadata": {
        "collapsed": false
      },
      "outputs": [],
      "source": [
        "# sphinx_gallery_thumbnail_number = 6\n\n# Import project package\nimport gdc19"
      ]
    },
    {
      "cell_type": "code",
      "execution_count": null,
      "metadata": {
        "collapsed": false
      },
      "outputs": [],
      "source": [
        "import pyvista\nimport PVGeo\nimport omfvista\nimport pandas as pd\nimport numpy as np"
      ]
    },
    {
      "cell_type": "markdown",
      "metadata": {},
      "source": [
        "Load all the datasets created in the data aggreagation section\n\n"
      ]
    },
    {
      "cell_type": "code",
      "execution_count": null,
      "metadata": {
        "collapsed": false
      },
      "outputs": [],
      "source": [
        "gis_data = omfvista.load_project(gdc19.get_project_path('gis.omf'))\nprint(gis_data.keys())"
      ]
    },
    {
      "cell_type": "code",
      "execution_count": null,
      "metadata": {
        "collapsed": false
      },
      "outputs": [],
      "source": [
        "surfaces = omfvista.load_project(gdc19.get_project_path('surfaces.omf'))\nprint(surfaces.keys())"
      ]
    },
    {
      "cell_type": "code",
      "execution_count": null,
      "metadata": {
        "collapsed": false
      },
      "outputs": [],
      "source": [
        "temperature_data = omfvista.load_project(gdc19.get_project_path('temperature.omf'))\nprint(temperature_data.keys())"
      ]
    },
    {
      "cell_type": "markdown",
      "metadata": {},
      "source": [
        "Grab data from multi blocks for conveinance\n\n"
      ]
    },
    {
      "cell_type": "code",
      "execution_count": null,
      "metadata": {
        "collapsed": false
      },
      "outputs": [],
      "source": [
        "topo = surfaces['land_surface']\ngranitoid = surfaces['top_granitoid']\n\np = pyvista.Plotter()\np.add_mesh(topo)\np.add_mesh(granitoid, color=True)\np.show()"
      ]
    },
    {
      "cell_type": "markdown",
      "metadata": {},
      "source": [
        "Note how the above figure has artificats from where the top of granite\nsurface boundary matches the topographic surface. To mitigate these effect,\nwe can use a filtering technique that will remove parts of a mesh above or\nwithin a tolerance of a given surface. PVGeo has a filter that perfroms\nthis type of operation with ease.\n\nLet's run a PVGeo filter to extract the topo surface from the granitoid\nsurface - :class:`PVGeo.grids.ExtractTopography`\n\n"
      ]
    },
    {
      "cell_type": "code",
      "execution_count": null,
      "metadata": {
        "collapsed": false
      },
      "outputs": [],
      "source": [
        "# Run the PVGeo algorithm\ngranitoid = PVGeo.grids.ExtractTopography(\n                remove=True, # remove the inactive cells\n                tolerance=10.0 # buffer around the topo surface\n            ).apply(granitoid, topo)\n\np = pyvista.Plotter()\np.add_mesh(topo)\np.add_mesh(granitoid, color=True)\np.show()"
      ]
    },
    {
      "cell_type": "markdown",
      "metadata": {},
      "source": [
        "Now both the topographic surface and the granitoid boundary can be rendered\nwithout arficats due to where they overlap.\n\nThis type of topography extraction is often very useful with 3D models where\nthe model domain goes above the topographic surface - thus we may want to\nparts of a 3D model above the topography. Let's try this with the temoerature\nmodel.\n\n"
      ]
    },
    {
      "cell_type": "code",
      "execution_count": null,
      "metadata": {
        "collapsed": false
      },
      "outputs": [],
      "source": [
        "temp_grid = temperature_data['kriged_temperature_model']\n\ntemp_kwargs = dict(\n    cmap='coolwarm',\n    clim=temp_grid.get_data_range(),\n    stitle='Temperature (C)'\n)"
      ]
    },
    {
      "cell_type": "markdown",
      "metadata": {},
      "source": [
        "First, crop the model down to the FORGE region:\n\n"
      ]
    },
    {
      "cell_type": "code",
      "execution_count": null,
      "metadata": {
        "collapsed": false
      },
      "outputs": [],
      "source": [
        "temp_grid_cropped = temp_grid.clip_box(gdc19.get_roi_bounds(), invert=False)\ntemp_grid_cropped.plot(**temp_kwargs)"
      ]
    },
    {
      "cell_type": "markdown",
      "metadata": {},
      "source": [
        "Now extract the topographic surface from the model to have a more realistic\ndomain:\n\n"
      ]
    },
    {
      "cell_type": "code",
      "execution_count": null,
      "metadata": {
        "collapsed": false
      },
      "outputs": [],
      "source": [
        "# Remove values above topography\ntemp_grid_no_topo = PVGeo.grids.ExtractTopography(\n                remove=True, # remove the inactive cells\n                tolerance=10.0 # buffer around the topo surface\n               ).apply(temp_grid_cropped, topo)\n\ntemp_grid_no_topo.plot(**temp_kwargs)"
      ]
    },
    {
      "cell_type": "markdown",
      "metadata": {},
      "source": [
        "Now lets find the temperature range of intereset: 175 to 225 degrees C\n\n"
      ]
    },
    {
      "cell_type": "code",
      "execution_count": null,
      "metadata": {
        "collapsed": false
      },
      "outputs": [],
      "source": [
        "temp_roi = temp_grid_no_topo.threshold([175., 225.])\ntemp_roi.plot(**temp_kwargs)"
      ]
    },
    {
      "cell_type": "markdown",
      "metadata": {},
      "source": [
        "And just out of curiosity, how big of a volume is that temperature range?\n\n"
      ]
    },
    {
      "cell_type": "code",
      "execution_count": null,
      "metadata": {
        "collapsed": false
      },
      "outputs": [],
      "source": [
        "print('Temperature Region is {:.2f} cubic kilometers.'.format(temp_roi.volume * 1e-9))"
      ]
    },
    {
      "cell_type": "markdown",
      "metadata": {},
      "source": [
        "How do the provided temperature surfaces match our geostatisical model?\n\n"
      ]
    },
    {
      "cell_type": "code",
      "execution_count": null,
      "metadata": {
        "collapsed": false
      },
      "outputs": [],
      "source": [
        "temp_175c = surfaces['temp_175c']\ntemp_225c = surfaces['temp_225c']\n\np = pyvista.Plotter()\np.add_mesh(temp_roi, opacity=0.7, **temp_kwargs)\np.add_mesh(temp_175c, **temp_kwargs)\np.add_mesh(temp_225c, **temp_kwargs)\np.show()"
      ]
    },
    {
      "cell_type": "markdown",
      "metadata": {},
      "source": [
        "Now lets put this all together to gain insight on where that temperature\nplume is in relation to the FRGE site\n\n"
      ]
    },
    {
      "cell_type": "code",
      "execution_count": null,
      "metadata": {
        "collapsed": false
      },
      "outputs": [],
      "source": [
        "boundary = gis_data['boundary']\nboundary_tube = PVGeo.filters.AddCellConnToPoints(cell_type=4,\n                    close_loop=True).apply(boundary).tube(radius=30)\n\np = pyvista.Plotter()\np.add_mesh(topo, opacity=0.7)\np.add_mesh(temp_roi, **temp_kwargs)\np.add_mesh(granitoid, color=True)\np.add_mesh(boundary_tube, color='yellow')\np.show()"
      ]
    }
  ],
  "metadata": {
    "kernelspec": {
      "display_name": "Python 3",
      "language": "python",
      "name": "python3"
    },
    "language_info": {
      "codemirror_mode": {
        "name": "ipython",
        "version": 3
      },
      "file_extension": ".py",
      "mimetype": "text/x-python",
      "name": "python",
      "nbconvert_exporter": "python",
      "pygments_lexer": "ipython3",
      "version": "3.7.3"
    }
  },
  "nbformat": 4,
  "nbformat_minor": 0
}