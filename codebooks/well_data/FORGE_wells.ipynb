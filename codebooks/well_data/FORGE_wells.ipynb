{
 "cells": [
  {
   "cell_type": "code",
   "execution_count": 5,
   "metadata": {
    "collapsed": true
   },
   "outputs": [],
   "source": [
    "import matplotlib.pyplot as plt\n",
    "import numpy as np\n",
    "import omf\n",
    "import omfvtk\n",
    "import pandas as pd\n",
    "import vtki\n",
    "import PVGeo"
   ]
  },
  {
   "cell_type": "code",
   "execution_count": 6,
   "metadata": {},
   "outputs": [
    {
     "ename": "ModuleNotFoundError",
     "evalue": "No module named 'appdirs'",
     "output_type": "error",
     "traceback": [
      "\u001b[0;31m---------------------------------------------------------------------------\u001b[0m",
      "\u001b[0;31mModuleNotFoundError\u001b[0m                       Traceback (most recent call last)",
      "\u001b[0;32m<ipython-input-6-ef0b7e7f2a8e>\u001b[0m in \u001b[0;36m<module>\u001b[0;34m()\u001b[0m\n\u001b[1;32m      2\u001b[0m \u001b[0;31m# This makes the gdc19 package available\u001b[0m\u001b[0;34m\u001b[0m\u001b[0;34m\u001b[0m\u001b[0;34m\u001b[0m\u001b[0m\n\u001b[1;32m      3\u001b[0m \u001b[0msys\u001b[0m\u001b[0;34m.\u001b[0m\u001b[0mpath\u001b[0m\u001b[0;34m.\u001b[0m\u001b[0mappend\u001b[0m\u001b[0;34m(\u001b[0m\u001b[0;34m'../../'\u001b[0m\u001b[0;34m)\u001b[0m\u001b[0;34m\u001b[0m\u001b[0;34m\u001b[0m\u001b[0m\n\u001b[0;32m----> 4\u001b[0;31m \u001b[0;32mimport\u001b[0m \u001b[0mgdc19\u001b[0m\u001b[0;34m\u001b[0m\u001b[0;34m\u001b[0m\u001b[0m\n\u001b[0m\u001b[1;32m      5\u001b[0m \u001b[0mgdc19\u001b[0m\u001b[0;34m.\u001b[0m\u001b[0msetup_adam\u001b[0m\u001b[0;34m(\u001b[0m\u001b[0;34m)\u001b[0m\u001b[0;34m\u001b[0m\u001b[0;34m\u001b[0m\u001b[0m\n",
      "\u001b[0;32m/Users/akinard/Desktop/Senior Design/GeothermalDesignChallenge/gdc19/__init__.py\u001b[0m in \u001b[0;36m<module>\u001b[0;34m()\u001b[0m\n\u001b[1;32m     28\u001b[0m \u001b[0;34m\u001b[0m\u001b[0m\n\u001b[1;32m     29\u001b[0m \u001b[0;34m\u001b[0m\u001b[0m\n\u001b[0;32m---> 30\u001b[0;31m \u001b[0;32mimport\u001b[0m \u001b[0mappdirs\u001b[0m\u001b[0;34m\u001b[0m\u001b[0;34m\u001b[0m\u001b[0m\n\u001b[0m\u001b[1;32m     31\u001b[0m \u001b[0;32mimport\u001b[0m \u001b[0mos\u001b[0m\u001b[0;34m\u001b[0m\u001b[0;34m\u001b[0m\u001b[0m\n\u001b[1;32m     32\u001b[0m \u001b[0mUSER_DATA_PATH\u001b[0m \u001b[0;34m=\u001b[0m \u001b[0mappdirs\u001b[0m\u001b[0;34m.\u001b[0m\u001b[0muser_data_dir\u001b[0m\u001b[0;34m(\u001b[0m\u001b[0;34m'gdc19'\u001b[0m\u001b[0;34m)\u001b[0m\u001b[0;34m\u001b[0m\u001b[0;34m\u001b[0m\u001b[0m\n",
      "\u001b[0;31mModuleNotFoundError\u001b[0m: No module named 'appdirs'"
     ]
    }
   ],
   "source": [
    "import sys\n",
    "# This makes the gdc19 package available\n",
    "sys.path.append('../../')\n",
    "import gdc19\n",
    "gdc19.setup_adam()"
   ]
  },
  {
   "cell_type": "code",
   "execution_count": null,
   "metadata": {
    "collapsed": true
   },
   "outputs": [],
   "source": [
    "# GET THE WELLS DATABASE\n",
    "WELLS = gdc19.load_well_db()"
   ]
  },
  {
   "cell_type": "markdown",
   "metadata": {},
   "source": [
    "## Well 58-32 geophysical well log analysis\n",
    "\n",
    "Lithology:\n",
    "Basin Fill (0 to 1007 m), Granitoid (1007 to 2296.9 m)\n",
    "\n",
    "Density of Granite: 2.75 g/cm3\n",
    "\n",
    "Coordinates: x = 335380.766, y = 4263040.83, z = 1681.61659\n",
    "\n",
    "Depth: 2296.9 m"
   ]
  },
  {
   "cell_type": "code",
   "execution_count": 3,
   "metadata": {},
   "outputs": [
    {
     "ename": "NameError",
     "evalue": "name 'gdc19' is not defined",
     "output_type": "error",
     "traceback": [
      "\u001b[0;31m---------------------------------------------------------------------------\u001b[0m",
      "\u001b[0;31mNameError\u001b[0m                                 Traceback (most recent call last)",
      "\u001b[0;32m<ipython-input-3-7b11ed66b2d5>\u001b[0m in \u001b[0;36m<module>\u001b[0;34m()\u001b[0m\n\u001b[0;32m----> 1\u001b[0;31m \u001b[0mwell_log\u001b[0m \u001b[0;34m=\u001b[0m \u001b[0mpd\u001b[0m\u001b[0;34m.\u001b[0m\u001b[0mread_csv\u001b[0m\u001b[0;34m(\u001b[0m\u001b[0mgdc19\u001b[0m\u001b[0;34m.\u001b[0m\u001b[0mget_well_path\u001b[0m\u001b[0;34m(\u001b[0m\u001b[0;34m'58-32_main_geophysical_well_log.csv'\u001b[0m\u001b[0;34m)\u001b[0m\u001b[0;34m)\u001b[0m\u001b[0;34m\u001b[0m\u001b[0;34m\u001b[0m\u001b[0m\n\u001b[0m\u001b[1;32m      2\u001b[0m \u001b[0;34m\u001b[0m\u001b[0m\n\u001b[1;32m      3\u001b[0m \u001b[0mx_location\u001b[0m \u001b[0;34m=\u001b[0m \u001b[0;34m[\u001b[0m\u001b[0;34m]\u001b[0m\u001b[0;34m\u001b[0m\u001b[0;34m\u001b[0m\u001b[0m\n\u001b[1;32m      4\u001b[0m \u001b[0my_location\u001b[0m \u001b[0;34m=\u001b[0m \u001b[0;34m[\u001b[0m\u001b[0;34m]\u001b[0m\u001b[0;34m\u001b[0m\u001b[0;34m\u001b[0m\u001b[0m\n\u001b[1;32m      5\u001b[0m \u001b[0melevation\u001b[0m \u001b[0;34m=\u001b[0m \u001b[0;34m[\u001b[0m\u001b[0;34m]\u001b[0m\u001b[0;34m\u001b[0m\u001b[0;34m\u001b[0m\u001b[0m\n",
      "\u001b[0;31mNameError\u001b[0m: name 'gdc19' is not defined"
     ]
    }
   ],
   "source": [
    "well_log = pd.read_csv(gdc19.get_well_path('58-32_main_geophysical_well_log.csv'))\n",
    "\n",
    "x_location = []\n",
    "y_location = []\n",
    "elevation = []\n",
    "DEPTH = well_log['Depth (m)'].values\n",
    "\n",
    "for i in range (0, len(well_log.index)):\n",
    "    x = 335380.766\n",
    "    y = 4263040.83\n",
    "    z = 1681.61659 - DEPTH[i]\n",
    "    x_location.append(x)\n",
    "    y_location.append(y)\n",
    "    elevation.append(z)\n",
    "    \n",
    "well_log = well_log.assign(x=pd.Series(x_location).values)\n",
    "well_log = well_log.assign(y=pd.Series(y_location).values)\n",
    "well_log = well_log.assign(z=pd.Series(elevation).values)\n",
    "well_log.head()"
   ]
  },
  {
   "cell_type": "code",
   "execution_count": 4,
   "metadata": {},
   "outputs": [
    {
     "ename": "NameError",
     "evalue": "name 'well_log' is not defined",
     "output_type": "error",
     "traceback": [
      "\u001b[0;31m---------------------------------------------------------------------------\u001b[0m",
      "\u001b[0;31mNameError\u001b[0m                                 Traceback (most recent call last)",
      "\u001b[0;32m<ipython-input-4-1ba7a0a4d406>\u001b[0m in \u001b[0;36m<module>\u001b[0;34m()\u001b[0m\n\u001b[1;32m      1\u001b[0m \u001b[0;31m# move XYZ colums to front of table\u001b[0m\u001b[0;34m\u001b[0m\u001b[0;34m\u001b[0m\u001b[0;34m\u001b[0m\u001b[0m\n\u001b[0;32m----> 2\u001b[0;31m \u001b[0mspac\u001b[0m \u001b[0;34m=\u001b[0m \u001b[0mwell_log\u001b[0m\u001b[0;34m[\u001b[0m\u001b[0;34m[\u001b[0m\u001b[0;34m'x'\u001b[0m\u001b[0;34m,\u001b[0m \u001b[0;34m'y'\u001b[0m\u001b[0;34m,\u001b[0m \u001b[0;34m'z'\u001b[0m\u001b[0;34m]\u001b[0m\u001b[0;34m]\u001b[0m\u001b[0;34m\u001b[0m\u001b[0;34m\u001b[0m\u001b[0m\n\u001b[0m\u001b[1;32m      3\u001b[0m \u001b[0mwell_poly\u001b[0m \u001b[0;34m=\u001b[0m \u001b[0mPVGeo\u001b[0m\u001b[0;34m.\u001b[0m\u001b[0mpointsToPolyData\u001b[0m\u001b[0;34m(\u001b[0m\u001b[0mspac\u001b[0m\u001b[0;34m)\u001b[0m\u001b[0;34m\u001b[0m\u001b[0;34m\u001b[0m\u001b[0m\n\u001b[1;32m      4\u001b[0m \u001b[0;32mfor\u001b[0m \u001b[0mk\u001b[0m\u001b[0;34m,\u001b[0m \u001b[0mv\u001b[0m \u001b[0;32min\u001b[0m \u001b[0mwell_log\u001b[0m\u001b[0;34m.\u001b[0m\u001b[0mto_dict\u001b[0m\u001b[0;34m(\u001b[0m\u001b[0morient\u001b[0m\u001b[0;34m=\u001b[0m\u001b[0;34m'list'\u001b[0m\u001b[0;34m)\u001b[0m\u001b[0;34m.\u001b[0m\u001b[0mitems\u001b[0m\u001b[0;34m(\u001b[0m\u001b[0;34m)\u001b[0m\u001b[0;34m:\u001b[0m\u001b[0;34m\u001b[0m\u001b[0;34m\u001b[0m\u001b[0m\n\u001b[1;32m      5\u001b[0m     \u001b[0mwell_poly\u001b[0m\u001b[0;34m.\u001b[0m\u001b[0mpoint_arrays\u001b[0m\u001b[0;34m[\u001b[0m\u001b[0mk\u001b[0m\u001b[0;34m]\u001b[0m \u001b[0;34m=\u001b[0m \u001b[0mnp\u001b[0m\u001b[0;34m.\u001b[0m\u001b[0marray\u001b[0m\u001b[0;34m(\u001b[0m\u001b[0mv\u001b[0m\u001b[0;34m)\u001b[0m\u001b[0;34m\u001b[0m\u001b[0;34m\u001b[0m\u001b[0m\n",
      "\u001b[0;31mNameError\u001b[0m: name 'well_log' is not defined"
     ]
    }
   ],
   "source": [
    "# move XYZ colums to front of table\n",
    "spac = well_log[['x', 'y', 'z']]\n",
    "well_poly = PVGeo.pointsToPolyData(spac)\n",
    "for k, v in well_log.to_dict(orient='list').items():\n",
    "    well_poly.point_arrays[k] = np.array(v)\n",
    "well_poly"
   ]
  },
  {
   "cell_type": "code",
   "execution_count": 6,
   "metadata": {},
   "outputs": [
    {
     "data": {
      "image/png": "[encoded data removed]",
      "text/plain": [
       "<PIL.Image.Image image mode=RGB size=1024x768 at 0x123DF1898>"
      ]
     },
     "metadata": {},
     "output_type": "display_data"
    }
   ],
   "source": [
    "well_poly.set_active_scalar('ECGR')\n",
    "well_poly.plot(clim=[0,300])"
   ]
  },
  {
   "cell_type": "code",
   "execution_count": 7,
   "metadata": {},
   "outputs": [
    {
     "data": {
      "text/html": [
       "<table><tr><th>Information</th><th>Blocks</th></tr><tr><td>\n",
       "<table>\n",
       "<tr><th>MultiBlock</th><th>Values</th></tr>\n",
       "<tr><td>N Blocks</td><td>39</td></tr>\n",
       "<tr><td>X Bounds</td><td>330059.033, 344017.017</td></tr>\n",
       "<tr><td>Y Bounds</td><td>4253546.002, 4270958.977</td></tr>\n",
       "<tr><td>Z Bounds</td><td>-2342.568, 2370.739</td></tr>\n",
       "</table>\n",
       "\n",
       "</td><td>\n",
       "<table>\n",
       "<tr><th>Index</th><th>Name</th><th>Type</th></tr>\n",
       "<tr><th>0</th><th>well_5832</th><th>PolyData</th></tr>\n",
       "<tr><th>1</th><th>well_DEC35</th><th>PolyData</th></tr>\n",
       "<tr><th>2</th><th>well_1310</th><th>PolyData</th></tr>\n",
       "<tr><th>3</th><th>well_142</th><th>PolyData</th></tr>\n",
       "<tr><th>4</th><th>well_2436</th><th>PolyData</th></tr>\n",
       "<tr><th>5</th><th>well_2515</th><th>PolyData</th></tr>\n",
       "<tr><th>6</th><th>well_283</th><th>PolyData</th></tr>\n",
       "<tr><th>7</th><th>well_Mar1</th><th>PolyData</th></tr>\n",
       "<tr><th>8</th><th>well_353</th><th>PolyData</th></tr>\n",
       "<tr><th>9</th><th>well_5221</th><th>PolyData</th></tr>\n",
       "<tr><th>10</th><th>well_543</th><th>PolyData</th></tr>\n",
       "<tr><th>11</th><th>well_7110</th><th>PolyData</th></tr>\n",
       "<tr><th>12</th><th>well_8233</th><th>PolyData</th></tr>\n",
       "<tr><th>13</th><th>well_Sept1</th><th>PolyData</th></tr>\n",
       "<tr><th>14</th><th>well_Acord1</th><th>PolyData</th></tr>\n",
       "<tr><th>15</th><th>well_BigCedar</th><th>PolyData</th></tr>\n",
       "<tr><th>16</th><th>well_EV4113</th><th>PolyData</th></tr>\n",
       "<tr><th>17</th><th>well_EV4115</th><th>PolyData</th></tr>\n",
       "<tr><th>18</th><th>well_GPC10</th><th>PolyData</th></tr>\n",
       "<tr><th>19</th><th>well_GPC15</th><th>PolyData</th></tr>\n",
       "<tr><th>20</th><th>well_GPC9</th><th>PolyData</th></tr>\n",
       "<tr><th>21</th><th>well_MM101</th><th>PolyData</th></tr>\n",
       "<tr><th>22</th><th>well_OH1</th><th>PolyData</th></tr>\n",
       "<tr><th>23</th><th>well_OH4</th><th>PolyData</th></tr>\n",
       "<tr><th>24</th><th>well_OH5</th><th>PolyData</th></tr>\n",
       "<tr><th>25</th><th>well_OH7</th><th>PolyData</th></tr>\n",
       "<tr><th>26</th><th>well_OH8</th><th>PolyData</th></tr>\n",
       "<tr><th>27</th><th>well_PPCDR</th><th>PolyData</th></tr>\n",
       "<tr><th>28</th><th>well_PPCNR</th><th>PolyData</th></tr>\n",
       "<tr><th>29</th><th>well_PPC2</th><th>PolyData</th></tr>\n",
       "<tr><th>30</th><th>well_PPC5</th><th>PolyData</th></tr>\n",
       "<tr><th>31</th><th>well_PPC6</th><th>PolyData</th></tr>\n",
       "<tr><th>32</th><th>well_RHS189</th><th>PolyData</th></tr>\n",
       "<tr><th>33</th><th>well_UUHF3</th><th>PolyData</th></tr>\n",
       "<tr><th>34</th><th>well_new1</th><th>PolyData</th></tr>\n",
       "<tr><th>35</th><th>well_new2</th><th>PolyData</th></tr>\n",
       "<tr><th>36</th><th>well_RHS14</th><th>PolyData</th></tr>\n",
       "<tr><th>37</th><th>well_TPC12</th><th>PolyData</th></tr>\n",
       "<tr><th>38</th><th>well_TPC14</th><th>PolyData</th></tr>\n",
       "</table>\n",
       "\n",
       "</td></tr> </table>"
      ],
      "text/plain": [
       "MultiBlock (0x1168eb108)\n",
       "  N Blocks:\t39\n",
       "  X Bounds:\t330059.033, 344017.017\n",
       "  Y Bounds:\t4253546.002, 4270958.977\n",
       "  Z Bounds:\t-2342.568, 2370.739"
      ]
     },
     "execution_count": 7,
     "metadata": {},
     "output_type": "execute_result"
    }
   ],
   "source": [
    "WELLS['well_5832'] = well_poly\n",
    "gdc19.save_well_db(WELLS)\n",
    "WELLS"
   ]
  },
  {
   "cell_type": "markdown",
   "metadata": {
    "collapsed": true
   },
   "source": [
    "## RHS-14\n",
    "\n",
    "Coordinates: x = 335798.986, y = 4264089.99, z = 1690.84658\n",
    "\n",
    "Lithology: Basin Fill\n",
    "\n",
    "Depth: 137.5 m"
   ]
  },
  {
   "cell_type": "code",
   "execution_count": null,
   "metadata": {
    "collapsed": true
   },
   "outputs": [],
   "source": [
    "depth = 137.5\n",
    "start_x = 335798.986\n",
    "start_y = 4264089.99\n",
    "start_z = 1690.84658\n",
    "\n",
    "WELLS['well_RHS14'] = gdc19.build_well_trajectory(depth, start_x, start_y, start_z)\n",
    "gdc19.save_well_db(WELLS)"
   ]
  },
  {
   "cell_type": "markdown",
   "metadata": {},
   "source": [
    "## TPC-12\n",
    "\n",
    "Coordinates: x = 334826, y = 4262756.046 z = 1661.196616, depth = 150 m\n",
    "\n",
    "Lithology: Basin Fill"
   ]
  },
  {
   "cell_type": "code",
   "execution_count": null,
   "metadata": {
    "collapsed": true
   },
   "outputs": [],
   "source": [
    "depth = 150\n",
    "start_x = 334826\n",
    "start_y = 4262756.046\n",
    "start_z = 1661.196616\n",
    "\n",
    "WELLS['well_TPC12'] = gdc19.build_well_trajectory(depth, start_x, start_y, start_z)\n",
    "gdc19.save_well_db(WELLS)"
   ]
  },
  {
   "cell_type": "markdown",
   "metadata": {},
   "source": [
    "## TPC-14\n",
    "\n",
    "Coordinates: x = 335446.971, y = 4264046.019, z = 1675.199038, depth = 145 m\n",
    "\n",
    "Lithology: Basin Fill"
   ]
  },
  {
   "cell_type": "code",
   "execution_count": null,
   "metadata": {
    "collapsed": true
   },
   "outputs": [],
   "source": [
    "depth = 145\n",
    "start_x = 335446.971\n",
    "start_y = 4264046.019\n",
    "start_z = 1675.199038\n",
    "\n",
    "WELLS['well_TPC14'] = gdc19.build_well_trajectory(depth, start_x, start_y, start_z)\n",
    "gdc19.save_well_db(WELLS)"
   ]
  },
  {
   "cell_type": "code",
   "execution_count": null,
   "metadata": {
    "collapsed": true
   },
   "outputs": [],
   "source": []
  }
 ],
 "metadata": {
  "kernelspec": {
   "display_name": "Python 3",
   "language": "python",
   "name": "python3"
  },
  "language_info": {
   "codemirror_mode": {
    "name": "ipython",
    "version": 3
   },
   "file_extension": ".py",
   "mimetype": "text/x-python",
   "name": "python",
   "nbconvert_exporter": "python",
   "pygments_lexer": "ipython3",
   "version": "3.6.8"
  }
 },
 "nbformat": 4,
 "nbformat_minor": 2
}
