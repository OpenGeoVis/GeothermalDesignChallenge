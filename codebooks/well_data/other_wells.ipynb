{
 "cells": [
  {
   "cell_type": "code",
   "execution_count": null,
   "metadata": {
    "collapsed": true
   },
   "outputs": [],
   "source": [
    "import matplotlib.pyplot as plt\n",
    "import numpy as np\n",
    "from mpl_toolkits.mplot3d import Axes3D\n",
    "import vtki"
   ]
  },
  {
   "cell_type": "code",
   "execution_count": null,
   "metadata": {
    "collapsed": true
   },
   "outputs": [],
   "source": [
    "import sys\n",
    "# This makes the gdc19 package avaialble\n",
    "sys.path.append('../../')\n",
    "import gdc19"
   ]
  },
  {
   "cell_type": "code",
   "execution_count": null,
   "metadata": {
    "collapsed": true
   },
   "outputs": [],
   "source": [
    "# GET THE WELLS DATABASE\n",
    "WELLS = gdc19.load_well_db()"
   ]
  },
  {
   "cell_type": "code",
   "execution_count": null,
   "metadata": {
    "collapsed": true
   },
   "outputs": [],
   "source": [
    "# USE FUNCTIONS!: see gdc19.build_well_trajectory()"
   ]
  },
  {
   "cell_type": "markdown",
   "metadata": {},
   "source": [
    "## Dec-35\n",
    "\n",
    "Coordinates: x = 339385.01, y = 4264212.985, z =\t1880.635342\n",
    "\n",
    "Lithology: Basin Fill (0-78m), Granitoid (78-2133.6)\n",
    "\n",
    "Depth: 2133.6 m"
   ]
  },
  {
   "cell_type": "code",
   "execution_count": null,
   "metadata": {
    "collapsed": true
   },
   "outputs": [],
   "source": [
    "depth = 2133.6\n",
    "start_x = 339385.01\n",
    "start_y = 4264212.985\n",
    "start_z = 1880.635342\n",
    "\n",
    "WELLS['well_DEC35'] = gdc19.build_well_trajectory(depth, start_x, start_y, start_z)"
   ]
  },
  {
   "cell_type": "markdown",
   "metadata": {},
   "source": [
    "## 13-10\n",
    "\n",
    "Coordinates: x = 337709.018, y=4260659.997, z =\t1796.263259\n",
    "\n",
    "Lithology: Basin Fill (0-75 m), Granitoid(75-1601.3 m)\n",
    "\n",
    "Depth: 1601.3 m"
   ]
  },
  {
   "cell_type": "code",
   "execution_count": null,
   "metadata": {
    "collapsed": true
   },
   "outputs": [],
   "source": [
    "depth = 1601.3\n",
    "start_x = 337709.018\n",
    "start_y = 4260659.997\n",
    "start_z = 1796.263259\n",
    "\n",
    "WELLS['well_1310'] = gdc19.build_well_trajectory(depth, start_x, start_y, start_z)"
   ]
  },
  {
   "cell_type": "markdown",
   "metadata": {},
   "source": [
    "## 14-2\n",
    "\n",
    "Coordinates: x = 339393.002, y=4262171.961, z =\t1903.453009\n",
    "\n",
    "Lithology: Basin Fill (0-76m), Granitoid (76-1808.5 m)\n",
    "\n",
    "Depth: 1808.5 m"
   ]
  },
  {
   "cell_type": "code",
   "execution_count": null,
   "metadata": {
    "collapsed": true
   },
   "outputs": [],
   "source": [
    "depth = 1808.5\n",
    "start_x = 339393.002\n",
    "start_y = 4262171.961\n",
    "start_z = 1903.453009\n",
    "\n",
    "WELLS['well_142'] = gdc19.build_well_trajectory(depth, start_x, start_y, start_z)"
   ]
  },
  {
   "cell_type": "markdown",
   "metadata": {},
   "source": [
    "## 24-36\n",
    "\n",
    "Coordinates: x = 341221.016, y =4263743.011, z =\t2034.161472\n",
    "\n",
    "Lithology: Basin Fill (0-92 m), Granitoid (92-1819.7 m)\n",
    "\n",
    "Depth: 1819.7 m"
   ]
  },
  {
   "cell_type": "code",
   "execution_count": null,
   "metadata": {
    "collapsed": true
   },
   "outputs": [],
   "source": [
    "depth = 1819.7\n",
    "start_x = 341221.016\n",
    "start_y = 4263743.011\n",
    "start_z = 2034.161472\n",
    "\n",
    "WELLS['well_2436'] = gdc19.build_well_trajectory(depth, start_x, start_y, start_z)"
   ]
  },
  {
   "cell_type": "markdown",
   "metadata": {},
   "source": [
    "## 25-15\n",
    "\n",
    "Coordinates: x = 337873.021, y=4258706.959, z =\t1827.029208\n",
    "\n",
    "Lithology: Basin Fill (0-110m), Granitoid(110-2287.5 m)\n",
    "\n",
    "Depth: 2287.5 m"
   ]
  },
  {
   "cell_type": "code",
   "execution_count": null,
   "metadata": {
    "collapsed": true
   },
   "outputs": [],
   "source": [
    "depth = 2287.5\n",
    "start_x = 337873.021\n",
    "start_y = 4258706.959\n",
    "start_z = 1827.029208\n",
    "WELLS['well_2515'] = gdc19.build_well_trajectory(depth, start_x, start_y, start_z)"
   ]
  },
  {
   "cell_type": "markdown",
   "metadata": {},
   "source": [
    "## 28-3\n",
    "\n",
    "Coordinates: x = 337980.006, y=4261383.036, z =\t1821.542636\n",
    "\n",
    "Lithology: Basin Fill (0-100 m), Granitoid(100-1143 m)\n",
    "\n",
    "Depth: 1143 m"
   ]
  },
  {
   "cell_type": "code",
   "execution_count": null,
   "metadata": {
    "collapsed": true
   },
   "outputs": [],
   "source": [
    "depth = 1143\n",
    "start_x = 337980.006\n",
    "start_y = 4261383.036\n",
    "start_z = 1821.542636\n",
    "\n",
    "WELLS['well_283'] = gdc19.build_well_trajectory(depth, start_x, start_y, start_z)"
   ]
  },
  {
   "cell_type": "markdown",
   "metadata": {},
   "source": [
    "## Mar-1\n",
    "\n",
    "Coordinates: x = 338594.958, y=4262043.98, z=1863.393859\n",
    "\n",
    "Lithology: Basin Fill(0-201 m), Granitoid (201-815.3 m)\n",
    "\n",
    "Depth: 815.3 m"
   ]
  },
  {
   "cell_type": "code",
   "execution_count": null,
   "metadata": {
    "collapsed": true
   },
   "outputs": [],
   "source": [
    "depth = 815.3\n",
    "start_x = 338594.958\n",
    "start_y = 4262043.98\n",
    "start_z = 1863.393859\n",
    "\n",
    "WELLS['well_Mar1'] = gdc19.build_well_trajectory(depth, start_x, start_y, start_z)"
   ]
  },
  {
   "cell_type": "markdown",
   "metadata": {},
   "source": [
    "## 35-3\n",
    "\n",
    "Coordinates: x = 338165.011, y=4261915.973, z=\t1840.914448\n",
    "\n",
    "Lithology: Basin Fill (0-300 m), Granitoid (300-381 m)\n",
    "\n",
    "Depth: 381 m"
   ]
  },
  {
   "cell_type": "code",
   "execution_count": null,
   "metadata": {
    "collapsed": true
   },
   "outputs": [],
   "source": [
    "depth = 381\n",
    "start_x = 338165.011\n",
    "start_y = 4261915.973\n",
    "start_z = 1840.914448\n",
    "\n",
    "WELLS['well_353'] = gdc19.build_well_trajectory(depth, start_x, start_y, start_z)"
   ]
  },
  {
   "cell_type": "markdown",
   "metadata": {},
   "source": [
    "## 52-21\n",
    "\n",
    "Coordinates: x = 336906.016, y=4257739.008, z= 1783.045663\n",
    "\n",
    "Lithology: Basin Fill (0-177m), Granitoid(177-2247.5 m)\n",
    "\n",
    "Depth: 2247.5 m"
   ]
  },
  {
   "cell_type": "code",
   "execution_count": null,
   "metadata": {
    "collapsed": true
   },
   "outputs": [],
   "source": [
    "depth = 2247.5\n",
    "start_x = 336906.016\n",
    "start_y = 4257739.008\n",
    "start_z = 1783.045663\n",
    "\n",
    "WELLS['well_5221'] = gdc19.build_well_trajectory(depth, start_x, start_y, start_z)"
   ]
  },
  {
   "cell_type": "markdown",
   "metadata": {},
   "source": [
    "## 54-3\n",
    "\n",
    "Coordinates: x = 338607.001, y=4262195.945, z=\t1862.947531\n",
    "\n",
    "Lithology: Basin Fill (0-123m), Granitoid (123-853.4m)\n",
    "\n",
    "Depth: 853.4 m"
   ]
  },
  {
   "cell_type": "code",
   "execution_count": null,
   "metadata": {
    "collapsed": true
   },
   "outputs": [],
   "source": [
    "depth = 853.4\n",
    "start_x = 338607.001\n",
    "start_y = 4262195.945\n",
    "start_z = 1862.947531\n",
    "\n",
    "WELLS['well_543'] = gdc19.build_well_trajectory(depth, start_x, start_y, start_z)"
   ]
  },
  {
   "cell_type": "markdown",
   "metadata": {},
   "source": [
    "## 71-10\n",
    "\n",
    "Coordinates: x = 338913.04, y=4261094.037, z= 1864.439098\n",
    "\n",
    "Lithology: Basin Fill (0-120m), Granitoid(120-1977.8m)\n",
    "\n",
    "Depth: 1977.8 m"
   ]
  },
  {
   "cell_type": "code",
   "execution_count": null,
   "metadata": {
    "collapsed": true
   },
   "outputs": [],
   "source": [
    "depth = 1977.8\n",
    "start_x = 338913.04\n",
    "start_y = 4261094.037\n",
    "start_z = 1864.439098\n",
    "\n",
    "WELLS['well_7110'] = gdc19.build_well_trajectory(depth, start_x, start_y, start_z)"
   ]
  },
  {
   "cell_type": "markdown",
   "metadata": {},
   "source": [
    "## 72-16\n",
    "\n",
    "Coordinates: x = 337321.03, y=4259298.972, z =1795.135846\n",
    "\n",
    "Lithology: Basin Fill (0-148m), Granitoid (148-422.8m)\n",
    "\n",
    "Depth: 422.8 m"
   ]
  },
  {
   "cell_type": "markdown",
   "metadata": {},
   "source": [
    "## 82-33\n",
    "\n",
    "Coordinates: x = 337682.986, y=4264131.015, z=1777.602847\n",
    "\n",
    "Lithology: Basin Fill (0-104m), Granitoid (104-1767.8 m)\n",
    "\n",
    "Depth: 1767.8 m"
   ]
  },
  {
   "cell_type": "code",
   "execution_count": null,
   "metadata": {
    "collapsed": true
   },
   "outputs": [],
   "source": [
    "depth = 1767.8\n",
    "start_x = 337682.986\n",
    "start_y = 4264131.015\n",
    "start_z = 1777.602847\n",
    "\n",
    "WELLS['well_8233'] = gdc19.build_well_trajectory(depth, start_x, start_y, start_z)"
   ]
  },
  {
   "cell_type": "markdown",
   "metadata": {},
   "source": [
    "## 1-Sept\n",
    "\n",
    "Coordinates: x = 336841.969, y=4260929.031, z=1776.614561\n",
    "\n",
    "Lithology: Basin Fill (0-215m), Granitoid (215-2122.4 m)\n",
    "\n",
    "Depth: 2122.4 m"
   ]
  },
  {
   "cell_type": "code",
   "execution_count": null,
   "metadata": {
    "collapsed": true
   },
   "outputs": [],
   "source": [
    "depth = 2122.4\n",
    "start_x = 336841.969\n",
    "start_y = 4260929.031\n",
    "start_z = 1776.614561\n",
    "\n",
    "WELLS['well_Sept1'] = gdc19.build_well_trajectory(depth, start_x, start_y, start_z)"
   ]
  },
  {
   "cell_type": "markdown",
   "metadata": {},
   "source": [
    "## Acord-1\n",
    "\n",
    "Coordinates: x = 330059.033, y=4265084.001, z=1518.831911\n",
    "\n",
    "Lithology: Basin Fill (0-2163m), Lava-Tuffs (2163-2438m), Volcaniclastic (2438-3110m), Granitoid (3110 - 3855.7m)\n",
    "\n",
    "Depth: 3855.7 m"
   ]
  },
  {
   "cell_type": "code",
   "execution_count": null,
   "metadata": {
    "collapsed": true
   },
   "outputs": [],
   "source": [
    "depth = 3855.7\n",
    "start_x = 330059.033\n",
    "start_y = 4265084.001\n",
    "start_z = 1518.831911\n",
    "\n",
    "WELLS['well_Acord1'] = gdc19.build_well_trajectory(depth, start_x, start_y, start_z)"
   ]
  },
  {
   "cell_type": "markdown",
   "metadata": {
    "collapsed": true
   },
   "source": [
    "## Big Cedar Cove UU-76\n",
    "\n",
    "Coordinates: x =339669.042, y=4258810.021, z=1974.568122\n",
    "Lithology: Basin Fill\n",
    "\n",
    "Depth: 100 m"
   ]
  },
  {
   "cell_type": "code",
   "execution_count": null,
   "metadata": {
    "collapsed": true
   },
   "outputs": [],
   "source": [
    "depth = 100\n",
    "start_x = 339669.042\n",
    "start_y = 4258810.021\n",
    "start_z = 1974.568122\n",
    "\n",
    "WELLS['well_BigCedar'] = gdc19.build_well_trajectory(depth, start_x, start_y, start_z)"
   ]
  },
  {
   "cell_type": "markdown",
   "metadata": {},
   "source": [
    "## EV-4113\n",
    "\n",
    "Coordinates: x =340211.039, y=4254110.963, z=2060.215218\n",
    "\n",
    "Lithology: Granitoid\n",
    "\n",
    "Depth: 36 m"
   ]
  },
  {
   "cell_type": "code",
   "execution_count": null,
   "metadata": {
    "collapsed": true
   },
   "outputs": [],
   "source": [
    "depth = 36\n",
    "start_x = 340211.039\n",
    "start_y = 4254110.963\n",
    "start_z = 2060.215218\n",
    "\n",
    "\n",
    "WELLS['well_EV4113'] = gdc19.build_well_trajectory(depth, start_x, start_y, start_z)"
   ]
  },
  {
   "cell_type": "markdown",
   "metadata": {},
   "source": [
    "## EV-4115\n",
    "\n",
    "Coordinates: x =339925.996, y=4253546.002, z=1986.095352\n",
    "\n",
    "Lithology: Granitoid\n",
    "\n",
    "Depth: 70 m"
   ]
  },
  {
   "cell_type": "code",
   "execution_count": null,
   "metadata": {
    "collapsed": true
   },
   "outputs": [],
   "source": [
    "depth = 70\n",
    "start_x = 339925.996\n",
    "start_y = 4253546.002\n",
    "start_z = 1986.095352\n",
    "\n",
    "WELLS['well_EV4115'] = gdc19.build_well_trajectory(depth, start_x, start_y, start_z)"
   ]
  },
  {
   "cell_type": "markdown",
   "metadata": {},
   "source": [
    "## GPC-1\n",
    "\n",
    "Coordinates: x =331750.971, y=4253210.946, z=1627.260902\n",
    "\n",
    "Lithology: Basin Fill\n",
    "\n",
    "Depth: 109 m"
   ]
  },
  {
   "cell_type": "markdown",
   "metadata": {},
   "source": [
    "## GPC-10\n",
    "\n",
    "Coordinates: x =343067.984, y=4270958.977, z=1692.86\n",
    "\n",
    "Lithology: Granitoid\n",
    "\n",
    "Depth: 60 m"
   ]
  },
  {
   "cell_type": "code",
   "execution_count": null,
   "metadata": {
    "collapsed": true
   },
   "outputs": [],
   "source": [
    "depth = 60\n",
    "start_x = 343067.984\n",
    "start_y = 4270958.977\n",
    "start_z = 1692.86\n",
    "\n",
    "WELLS['well_GPC10'] = gdc19.build_well_trajectory(depth, start_x, start_y, start_z)"
   ]
  },
  {
   "cell_type": "markdown",
   "metadata": {},
   "source": [
    "## GPC-14\n",
    "\n",
    "Coordinates: x =334500.009, y=4258223.956, z=1690.961124\n",
    "\n",
    "Lithology: Basin Fill\n",
    "\n",
    "Depth: 160 m"
   ]
  },
  {
   "cell_type": "markdown",
   "metadata": {},
   "source": [
    "## GPC-15\n",
    "\n",
    "Coordinates: x =334303.988, y=4258057.022, z=1688.434742\n",
    "\n",
    "Lithology: Basin Fill\n",
    "\n",
    "Depth: 576.2 m"
   ]
  },
  {
   "cell_type": "code",
   "execution_count": null,
   "metadata": {
    "collapsed": true
   },
   "outputs": [],
   "source": [
    "depth = 576.2\n",
    "start_x = 334303.988\n",
    "start_y = 4258057.022\n",
    "start_z = 1688.434742\n",
    "\n",
    "WELLS['well_GPC15'] = gdc19.build_well_trajectory(depth, start_x, start_y, start_z)"
   ]
  },
  {
   "cell_type": "markdown",
   "metadata": {},
   "source": [
    "## GPC-2\n",
    "\n",
    "Coordinates: x =333776.983, y=4253152.973, z=1703.975904\n",
    "\n",
    "Lithology: Basin Fill\n",
    "\n",
    "Depth: 91 m"
   ]
  },
  {
   "cell_type": "markdown",
   "metadata": {},
   "source": [
    "## GPC-3\n",
    "\n",
    "Coordinates: x =335962, y=4253027.987, z=1798.094364\n",
    "\n",
    "Lithology: Basin Fill\n",
    "\n",
    "Depth: 90 m"
   ]
  },
  {
   "cell_type": "markdown",
   "metadata": {},
   "source": [
    "## GPC-4\n",
    "\n",
    "Coordinates: x =336426.977, y=4254695.03, z=1799.023463\n",
    "\n",
    "Lithology: Basin Fill\n",
    "\n",
    "Depth: 90 m"
   ]
  },
  {
   "cell_type": "markdown",
   "metadata": {},
   "source": [
    "## GPC-5\n",
    "\n",
    "Coordinates: x =338323.003, y=4254699.997, z=1895.057223\n",
    "\n",
    "Lithology: Basin Fill\n",
    "\n",
    "Depth: 56 m"
   ]
  },
  {
   "cell_type": "markdown",
   "metadata": {},
   "source": [
    "## GPC-6\n",
    "Coordinates: x =332001.017, y=4255968.972, z=1637.755532\n",
    "\n",
    "Lithology: Basin Fill\n",
    "\n",
    "Depth: 91 m"
   ]
  },
  {
   "cell_type": "markdown",
   "metadata": {},
   "source": [
    "## GPC-7\n",
    "Coordinates: x =340897.969, y=4258876.957, z=2125.254514\n",
    "\n",
    "Lithology: Basin Fill\n",
    "\n",
    "Depth: 94 m"
   ]
  },
  {
   "cell_type": "markdown",
   "metadata": {},
   "source": [
    "## GPC-8\n",
    "Coordinates: x =340917.03, y=4264750.974, z=2022.908072\n",
    "\n",
    "Lithology: Basin Fill\n",
    "\n",
    "Depth: 124 m"
   ]
  },
  {
   "cell_type": "markdown",
   "metadata": {},
   "source": [
    "## GPC-9\n",
    "Coordinates: x =341551.013, y=4269454.034, z=2018.508758\n",
    "\n",
    "Lithology: Granitoid\n",
    "\n",
    "Depth: 90 m"
   ]
  },
  {
   "cell_type": "code",
   "execution_count": null,
   "metadata": {
    "collapsed": true
   },
   "outputs": [],
   "source": [
    "depth = 90\n",
    "start_x = 341551.013\n",
    "start_y = 4269454.034\n",
    "start_z = 2018.508758\n",
    "\n",
    "WELLS['well_GPC9'] = gdc19.build_well_trajectory(depth, start_x, start_y, start_z)"
   ]
  },
  {
   "cell_type": "markdown",
   "metadata": {},
   "source": [
    "## McCullough\n",
    "Coordinates: x =330055.015, y=4265022.022, z=1519.401151\n",
    "\n",
    "Lithology: Basin Fill\n",
    "\n",
    "Depth: 105 m"
   ]
  },
  {
   "cell_type": "markdown",
   "metadata": {},
   "source": [
    "## MM-101\n",
    "Coordinates: x =344017.017, y=4262224.962, z=2194.617684\n",
    "\n",
    "Lithology: Granitoid\n",
    "\n",
    "Depth: 50 m"
   ]
  },
  {
   "cell_type": "code",
   "execution_count": null,
   "metadata": {
    "collapsed": true
   },
   "outputs": [],
   "source": [
    "depth = 50\n",
    "start_x = 344017.017\n",
    "start_y = 4262224.962\n",
    "start_z = 2194.617684\n",
    "\n",
    "WELLS['well_MM101'] = gdc19.build_well_trajectory(depth, start_x, start_y, start_z)"
   ]
  },
  {
   "cell_type": "markdown",
   "metadata": {},
   "source": [
    "## MV-125\n",
    "Coordinates: x =335553.983, y=4254096.999, z=1725.010642\n",
    "\n",
    "Lithology: Basin Fill\n",
    "\n",
    "Depth: 36 m"
   ]
  },
  {
   "cell_type": "markdown",
   "metadata": {},
   "source": [
    "## MV-22\n",
    "Coordinates: x =323737.995, y=4260569.95, z=1506.93\n",
    "\n",
    "Lithology: Basin Fill\n",
    "\n",
    "Depth: 90.2 m"
   ]
  },
  {
   "cell_type": "markdown",
   "metadata": {},
   "source": [
    "## MV-23\n",
    "Coordinates: x =322497.02, y=4267508.027, z=1726.69\n",
    "\n",
    "Lithology: Basin Fill\n",
    "\n",
    "Depth: 123.7 m"
   ]
  },
  {
   "cell_type": "markdown",
   "metadata": {},
   "source": [
    "## OH-1\n",
    "Coordinates: x =335529.984, y=4259049.011, z=1715.484989\n",
    "\n",
    "Lithology: Basin Fill\n",
    "\n",
    "Depth: 706.2 m"
   ]
  },
  {
   "cell_type": "code",
   "execution_count": null,
   "metadata": {
    "collapsed": true
   },
   "outputs": [],
   "source": [
    "depth = 706.2\n",
    "start_x = 335529.984\n",
    "start_y = 4259049.011\n",
    "start_z = 1715.484989\n",
    "\n",
    "WELLS['well_OH1'] = gdc19.build_well_trajectory(depth, start_x, start_y, start_z)"
   ]
  },
  {
   "cell_type": "markdown",
   "metadata": {},
   "source": [
    "## OH-4\n",
    "Coordinates: x =336732.003, y=4264165.972, z=1736.723479\n",
    "\n",
    "Lithology: Basin Fill (0-473m), Granitoid (473-537m)\n",
    "\n",
    "Depth: 537 m"
   ]
  },
  {
   "cell_type": "code",
   "execution_count": null,
   "metadata": {
    "collapsed": true
   },
   "outputs": [],
   "source": [
    "depth = 537\n",
    "start_x = 336732.003\n",
    "start_y = 4264165.972\n",
    "start_z = 1736.723479\n",
    "\n",
    "WELLS['well_OH4'] = gdc19.build_well_trajectory(depth, start_x, start_y, start_z)"
   ]
  },
  {
   "cell_type": "markdown",
   "metadata": {},
   "source": [
    "## OH-5\n",
    "Coordinates: x =337664.009, y=4265502.948, z=1749.584142\n",
    "\n",
    "Lithology: Basin Fill (0-144m), Granitoid (144-544.4m)\n",
    "\n",
    "Depth: 544.4 m"
   ]
  },
  {
   "cell_type": "code",
   "execution_count": null,
   "metadata": {
    "collapsed": true
   },
   "outputs": [],
   "source": [
    "depth = 544.4\n",
    "start_x = 337664.009\n",
    "start_y = 4265502.948\n",
    "start_z = 1749.584142\n",
    "\n",
    "WELLS['well_OH5'] = gdc19.build_well_trajectory(depth, start_x, start_y, start_z)"
   ]
  },
  {
   "cell_type": "markdown",
   "metadata": {},
   "source": [
    "## OH-7\n",
    "Coordinates: x =341498.992, y=4262178.049, z=1959.456925\n",
    "\n",
    "Lithology: Basin Fill (0-76m), Granitoid (76-609.6m)\n",
    "\n",
    "Depth: 609.6 m"
   ]
  },
  {
   "cell_type": "code",
   "execution_count": null,
   "metadata": {
    "collapsed": true
   },
   "outputs": [],
   "source": [
    "depth = 609.6\n",
    "start_x = 341498.992\n",
    "start_y = 4262178.049\n",
    "start_z = 1959.456925\n",
    "\n",
    "WELLS['well_OH7'] = gdc19.build_well_trajectory(depth, start_x, start_y, start_z)"
   ]
  },
  {
   "cell_type": "markdown",
   "metadata": {},
   "source": [
    "## OH-8\n",
    "Coordinates: x =339280.962, y=4259015.056, z=1935.213309\n",
    "\n",
    "Lithology: Basin Fill (0-99m), Granitoid (99-635.5m)\n",
    "\n",
    "Depth: 635.5 m"
   ]
  },
  {
   "cell_type": "code",
   "execution_count": null,
   "metadata": {
    "collapsed": true
   },
   "outputs": [],
   "source": [
    "depth = 635.5\n",
    "start_x = 339280.962\n",
    "start_y = 4259015.056\n",
    "start_z = 1935.213309\n",
    "\n",
    "WELLS['well_OH8'] = gdc19.build_well_trajectory(depth, start_x, start_y, start_z)"
   ]
  },
  {
   "cell_type": "markdown",
   "metadata": {},
   "source": [
    "## PPC Drilling Ridgeline\n",
    "\n",
    "Coordinates: x =343320.987,\ty= 4265079.987, z=2307.724592\n",
    "\n",
    "Lithology: Granitoid\n",
    "\n",
    "Depth: 55.8 m"
   ]
  },
  {
   "cell_type": "code",
   "execution_count": null,
   "metadata": {
    "collapsed": true
   },
   "outputs": [],
   "source": [
    "depth = 55.8\n",
    "start_x = 343320.987\n",
    "start_y = 4265079.987\n",
    "start_z = 2307.724592\n",
    "\n",
    "WELLS['well_PPCDR'] = gdc19.build_well_trajectory(depth, start_x, start_y, start_z)"
   ]
  },
  {
   "cell_type": "markdown",
   "metadata": {},
   "source": [
    "## PPC NM Ridgeline\n",
    "\n",
    "Coordinates: x =343465.033, y=4261796.975, z=2237.064917\n",
    "\n",
    "Lithology: Granitoid\n",
    "\n",
    "Depth: 87.2 m"
   ]
  },
  {
   "cell_type": "code",
   "execution_count": null,
   "metadata": {
    "collapsed": true
   },
   "outputs": [],
   "source": [
    "depth = 87.2\n",
    "start_x = 343465.033\n",
    "start_y = 4261796.975\n",
    "start_z = 2237.064917\n",
    "\n",
    "WELLS['well_PPCNR'] =gdc19.build_well_trajectory(depth, start_x, start_y, start_z)"
   ]
  },
  {
   "cell_type": "markdown",
   "metadata": {},
   "source": [
    "## PPC OB5\n",
    "\n",
    "Coordinates: x =335652.994, y=4259050.046, z=1720.246136\n",
    "\n",
    "Lithology: Basin Fill\n",
    "\n",
    "Depth: 185 m"
   ]
  },
  {
   "cell_type": "markdown",
   "metadata": {},
   "source": [
    "## PPC WW2\n",
    "\n",
    "Coordinates: x =332746.004, y=4259842.021, z=1625.880826\n",
    "\n",
    "Lithology: Basin Fill\n",
    "\n",
    "Depth: 115 m"
   ]
  },
  {
   "cell_type": "markdown",
   "metadata": {},
   "source": [
    "## PPC WW3\n",
    "\n",
    "Coordinates: x =332636.99, y=4265601.994, z=1559.834641\n",
    "\n",
    "Lithology: Basin Fill\n",
    "\n",
    "Depth: 85 m"
   ]
  },
  {
   "cell_type": "markdown",
   "metadata": {},
   "source": [
    "## PPC WW4\n",
    "\n",
    "Coordinates: x =333356.009, y=4265227.963, z=1580.109746\n",
    "\n",
    "Lithology: Basin Fill\n",
    "\n",
    "Depth: 55 m"
   ]
  },
  {
   "cell_type": "markdown",
   "metadata": {},
   "source": [
    "## PPC-2\n",
    "\n",
    "Coordinates: x =343092.977, y=4264682.01, z=2370.738988\n",
    "\n",
    "Lithology: Granitoid\n",
    "\n",
    "Depth: 90 m"
   ]
  },
  {
   "cell_type": "code",
   "execution_count": null,
   "metadata": {
    "collapsed": true
   },
   "outputs": [],
   "source": [
    "depth = 90\n",
    "start_x = 343092.977\n",
    "start_y = 4264682.01\n",
    "start_z = 2370.738988\n",
    "\n",
    "WELLS['well_PPC2'] = gdc19.build_well_trajectory(depth, start_x, start_y, start_z)"
   ]
  },
  {
   "cell_type": "markdown",
   "metadata": {},
   "source": [
    "## PPC-4\n",
    "\n",
    "Coordinates: x =341407.027, y=4262040.983, z=1951.476287\n",
    "\n",
    "Lithology: Basin Fill\n",
    "\n",
    "Depth: 32 m"
   ]
  },
  {
   "cell_type": "markdown",
   "metadata": {},
   "source": [
    "## PPC-5\n",
    "\n",
    "Coordinates: x =339373.015, y=4253572.008, z=1965.986692\n",
    "\n",
    "Lithology: Granitoid\n",
    "\n",
    "Depth: 36 m"
   ]
  },
  {
   "cell_type": "code",
   "execution_count": null,
   "metadata": {
    "collapsed": true
   },
   "outputs": [],
   "source": [
    "depth = 36\n",
    "start_x = 339373.015\n",
    "start_y = 4253572.008\n",
    "start_z = 1965.986692\n",
    "\n",
    "WELLS['well_PPC5'] = gdc19.build_well_trajectory(depth, start_x, start_y, start_z)"
   ]
  },
  {
   "cell_type": "markdown",
   "metadata": {},
   "source": [
    "## PPC-6\n",
    "\n",
    "Coordinates: x =340260.985, y=4254040.031, z=2057.862292\n",
    "\n",
    "Lithology: Granitoid\n",
    "\n",
    "Depth: 70 m"
   ]
  },
  {
   "cell_type": "code",
   "execution_count": null,
   "metadata": {
    "collapsed": true
   },
   "outputs": [],
   "source": [
    "depth = 70\n",
    "start_x = 340260.985\n",
    "start_y = 4254040.031\n",
    "start_z = 2057.862292\n",
    "\n",
    "WELLS['well_PPC6'] = gdc19.build_well_trajectory(depth, start_x, start_y, start_z)"
   ]
  },
  {
   "cell_type": "markdown",
   "metadata": {},
   "source": [
    "## RHS-07\n",
    "\n",
    "Coordinates: x =337232.02, y=4259187.979, z=1789.75312\n",
    "\n",
    "Lithology: Basin Fill\n",
    "\n",
    "Depth: 145 m"
   ]
  },
  {
   "cell_type": "markdown",
   "metadata": {},
   "source": [
    "## RHS-102\n",
    "\n",
    "Coordinates: x =341187.983, y=4262096.05, z=1949.707159\n",
    "\n",
    "Lithology: Basin Fill\n",
    "\n",
    "Depth: 30 m"
   ]
  },
  {
   "cell_type": "markdown",
   "metadata": {},
   "source": [
    "## RHS-105\n",
    "\n",
    "Coordinates: x =337202.007, y=4258396.017, z=1789.08916\n",
    "\n",
    "Lithology: Basin Fill\n",
    "\n",
    "Depth: 20 m"
   ]
  },
  {
   "cell_type": "markdown",
   "metadata": {},
   "source": [
    "## RHS-121\n",
    "\n",
    "Coordinates: x =335648.978, y=4255600.048, z=1763.943114\n",
    "\n",
    "Lithology: Basin Fill\n",
    "\n",
    "Depth: 108 m"
   ]
  },
  {
   "cell_type": "markdown",
   "metadata": {},
   "source": [
    "## RHS-122\n",
    "\n",
    "Coordinates: x =339790.039, y=4262099.967, z=1922.905615\n",
    "\n",
    "Lithology: Basin Fill\n",
    "\n",
    "Depth: 30 m"
   ]
  },
  {
   "cell_type": "markdown",
   "metadata": {},
   "source": [
    "## RHS-15\n",
    "\n",
    "Coordinates: x =338828.019, y=4259162.016, z=1894.15275\n",
    "\n",
    "Lithology: Basin Fill\n",
    "\n",
    "Depth: 56.1 m"
   ]
  },
  {
   "cell_type": "markdown",
   "metadata": {},
   "source": [
    "## RHS-16\n",
    "\n",
    "Coordinates: x =336167.961, y=4266171.981, z=1667.988599\n",
    "\n",
    "Lithology: Basin Fill\n",
    "\n",
    "Depth: 145.1 m"
   ]
  },
  {
   "cell_type": "markdown",
   "metadata": {},
   "source": [
    "## RHS-170\n",
    "\n",
    "Coordinates: x =335030.021, y=4270733.953, z=1559.68353\n",
    "\n",
    "Lithology: Basin Fill\n",
    "\n",
    "Depth: 69 m"
   ]
  },
  {
   "cell_type": "markdown",
   "metadata": {},
   "source": [
    "## RHS-188\n",
    "\n",
    "Coordinates: x =338739.025, y=4263910.986, z=1833.732614\n",
    "\n",
    "Lithology: Basin Fill\n",
    "\n",
    "Depth: 60 m"
   ]
  },
  {
   "cell_type": "markdown",
   "metadata": {},
   "source": [
    "## RHS-189\n",
    "\n",
    "Coordinates: x =340174.978, y=4265597.04, z=1997.488738\n",
    "\n",
    "Lithology: Granitoid\n",
    "\n",
    "Depth: 89 m"
   ]
  },
  {
   "cell_type": "code",
   "execution_count": null,
   "metadata": {
    "collapsed": true
   },
   "outputs": [],
   "source": [
    "depth = 89\n",
    "start_x = 340174.978\n",
    "start_y = 4265597.04\n",
    "start_z = 1997.488738\n",
    "\n",
    "WELLS['well_RHS189'] = gdc19.build_well_trajectory(depth, start_x, start_y, start_z)"
   ]
  },
  {
   "cell_type": "markdown",
   "metadata": {},
   "source": [
    "## RHS-196\n",
    "\n",
    "Coordinates: x =335293.956, y=4255631.958, z=1751.703763\n",
    "\n",
    "Lithology: Basin Fill\n",
    "\n",
    "Depth: 109 m"
   ]
  },
  {
   "cell_type": "markdown",
   "metadata": {},
   "source": [
    "## RHS-199\n",
    "\n",
    "Coordinates: x =336264.978, y=4259513.051, z=1753.059889\n",
    "\n",
    "Lithology: Basin Fill\n",
    "\n",
    "Depth: 140 m"
   ]
  },
  {
   "cell_type": "markdown",
   "metadata": {},
   "source": [
    "## RHS-336\n",
    "\n",
    "Coordinates: x =337667.027, y=4264924.025, z=1760.117443\n",
    "\n",
    "Lithology: Basin Fill\n",
    "\n",
    "Depth: 200 m"
   ]
  },
  {
   "cell_type": "markdown",
   "metadata": {},
   "source": [
    "## TPC-10\n",
    "\n",
    "Coordinates: x =334032.996, y=4259944.996, z=1660.42065\n",
    "\n",
    "Lithology: Basin Fill\n",
    "\n",
    "Depth: 175 m"
   ]
  },
  {
   "cell_type": "markdown",
   "metadata": {},
   "source": [
    "## TPC-11\n",
    "\n",
    "Coordinates: x =337593.012, y=4261888.004, z=1818.67826\n",
    "\n",
    "Lithology: Basin Fill\n",
    "\n",
    "Depth: 63 m"
   ]
  },
  {
   "cell_type": "markdown",
   "metadata": {},
   "source": [
    "## TPC-15\n",
    "\n",
    "Coordinates: x =338361.029, y=4259096.017, z=1866.213434\n",
    "\n",
    "Lithology: Basin Fill\n",
    "\n",
    "Depth: 64 m"
   ]
  },
  {
   "cell_type": "markdown",
   "metadata": {},
   "source": [
    "## TPC-4\n",
    "\n",
    "Coordinates: x =332845.005, y=4259947.986, z=1625.700543\n",
    "\n",
    "Lithology: Basin Fill\n",
    "\n",
    "Depth: 195 m"
   ]
  },
  {
   "cell_type": "markdown",
   "metadata": {},
   "source": [
    "## TPC-5\n",
    "\n",
    "Coordinates: x =336275.002, y=4259383.951, z=1753.275156\n",
    "\n",
    "Lithology: Basin Fill\n",
    "\n",
    "Depth: 155 m"
   ]
  },
  {
   "cell_type": "markdown",
   "metadata": {},
   "source": [
    "## TPC-6\n",
    "\n",
    "Coordinates: x =339924.03, y=4261927.99, z=1927.300195\n",
    "\n",
    "Lithology: Basin Fill\n",
    "\n",
    "Depth: 105 m"
   ]
  },
  {
   "cell_type": "markdown",
   "metadata": {},
   "source": [
    "## TPC-7\n",
    "\n",
    "Coordinates: x =337604.973, y=4258776.986, z=1808.732258\n",
    "\n",
    "Lithology: Basin Fill\n",
    "\n",
    "Depth: 90 m"
   ]
  },
  {
   "cell_type": "markdown",
   "metadata": {},
   "source": [
    "## TPC-9\n",
    "\n",
    "Coordinates: x =337251.991, y=4256837.954, z=1823.425809\n",
    "\n",
    "Lithology: Basin Fill\n",
    "\n",
    "Depth: 75 m"
   ]
  },
  {
   "cell_type": "markdown",
   "metadata": {},
   "source": [
    "## UU-75-12\n",
    "\n",
    "Coordinates: x =337894.963, y=4266107, z=1748.109522\n",
    "\n",
    "Lithology: Basin Fill\n",
    "\n",
    "Depth: 34.5 m"
   ]
  },
  {
   "cell_type": "markdown",
   "metadata": {},
   "source": [
    "## UU-75-13\n",
    "\n",
    "Coordinates: x =336105.996, y=4267274.032, z=1643.731496\n",
    "\n",
    "Lithology: Basin Fill\n",
    "\n",
    "Depth: 43 m"
   ]
  },
  {
   "cell_type": "markdown",
   "metadata": {},
   "source": [
    "## UU-75-1A\n",
    "\n",
    "Coordinates: x =337752.963, y=4261867.006, z=1820.807353\n",
    "\n",
    "Lithology: Basin Fill\n",
    "\n",
    "Depth: 68.5 m"
   ]
  },
  {
   "cell_type": "markdown",
   "metadata": {},
   "source": [
    "## UU-75-1B\n",
    "\n",
    "Coordinates: x =337592.957, y=4261535.96, z=1814.525106\n",
    "\n",
    "Lithology: Basin Fill\n",
    "\n",
    "Depth: 65 m"
   ]
  },
  {
   "cell_type": "markdown",
   "metadata": {},
   "source": [
    "## UU-76-1A\n",
    "\n",
    "Coordinates: x =338436.97, y=4263657.056, z=1817.760172\n",
    "\n",
    "Lithology: Basin Fill\n",
    "\n",
    "Depth: 63.5 m"
   ]
  },
  {
   "cell_type": "markdown",
   "metadata": {},
   "source": [
    "## UUHF-3\n",
    "\n",
    "Coordinates: x =341985.97, y=4264638.026, z=2100.487344\n",
    "\n",
    "Lithology: Granitoid\n",
    "\n",
    "Depth: 150 m"
   ]
  },
  {
   "cell_type": "code",
   "execution_count": null,
   "metadata": {
    "collapsed": true
   },
   "outputs": [],
   "source": [
    "depth = 150\n",
    "start_x = 341985.97\n",
    "start_y = 4264638.026\n",
    "start_z = 2100.487344\n",
    "\n",
    "WELLS['well_UUHF3'] = gdc19.build_well_trajectory(depth, start_x, start_y, start_z)"
   ]
  },
  {
   "cell_type": "markdown",
   "metadata": {},
   "source": [
    "## UUTG-0\n",
    "\n",
    "Coordinates: x =336632.035, y=4268692.031, z=1646.689721\n",
    "\n",
    "Lithology: Basin Fill\n",
    "\n",
    "Depth: 77.5 m"
   ]
  },
  {
   "cell_type": "markdown",
   "metadata": {},
   "source": [
    "## UUTG-1\n",
    "\n",
    "Coordinates: x =338085.014, y=4268506.981, z=1709.456679\n",
    "\n",
    "Lithology: Basin Fill\n",
    "\n",
    "Depth: 60 m"
   ]
  },
  {
   "cell_type": "markdown",
   "metadata": {},
   "source": [
    "## UUTG-3\n",
    "\n",
    "Coordinates: x =333920.993, y=4266715.946, z=1572.138051\n",
    "\n",
    "Lithology: Basin Fill\n",
    "\n",
    "Depth: 100 m"
   ]
  },
  {
   "cell_type": "markdown",
   "metadata": {},
   "source": [
    "## UUTG-5\n",
    "\n",
    "Coordinates: x =340979.035, y=4268389.045, z=1876.463274\n",
    "\n",
    "Lithology: Basin Fill\n",
    "\n",
    "Depth: 50 m"
   ]
  },
  {
   "cell_type": "markdown",
   "metadata": {},
   "source": [
    "## UUTG-6\n",
    "\n",
    "Coordinates: x =333698.986, y=4270118.002, z=1530.466728\n",
    "\n",
    "Lithology: Basin Fill\n",
    "\n",
    "Depth: 97.5 m"
   ]
  },
  {
   "cell_type": "code",
   "execution_count": null,
   "metadata": {
    "collapsed": true
   },
   "outputs": [],
   "source": [
    "WELLS"
   ]
  },
  {
   "cell_type": "code",
   "execution_count": null,
   "metadata": {
    "collapsed": true
   },
   "outputs": [],
   "source": [
    "WELLS.plot()"
   ]
  },
  {
   "cell_type": "code",
   "execution_count": null,
   "metadata": {
    "collapsed": true
   },
   "outputs": [],
   "source": [
    "gdc19.save_well_db(WELLS)"
   ]
  },
  {
   "cell_type": "code",
   "execution_count": null,
   "metadata": {
    "collapsed": true
   },
   "outputs": [],
   "source": []
  }
 ],
 "metadata": {
  "kernelspec": {
   "display_name": "Python 3",
   "language": "python",
   "name": "python3"
  },
  "language_info": {
   "codemirror_mode": {
    "name": "ipython",
    "version": 3
   },
   "file_extension": ".py",
   "mimetype": "text/x-python",
   "name": "python",
   "nbconvert_exporter": "python",
   "pygments_lexer": "ipython3",
   "version": "3.6.8"
  }
 },
 "nbformat": 4,
 "nbformat_minor": 2
}
