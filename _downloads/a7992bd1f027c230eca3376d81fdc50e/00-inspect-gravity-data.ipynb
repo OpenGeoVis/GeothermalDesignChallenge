{
  "cells": [
    {
      "cell_type": "code",
      "execution_count": null,
      "metadata": {
        "collapsed": false
      },
      "outputs": [],
      "source": [
        "%matplotlib inline"
      ]
    },
    {
      "cell_type": "markdown",
      "metadata": {},
      "source": [
        "\nInspect Gravity Data\n~~~~~~~~~~~~~~~~~~~~\n\nHere we take a look at what gravity data is available for the FORGE site\n"
      ]
    },
    {
      "cell_type": "code",
      "execution_count": null,
      "metadata": {
        "collapsed": false
      },
      "outputs": [],
      "source": [
        "# sphinx_gallery_thumbnail_number = 2\nimport gdc19\n\nimport pandas as pd\nimport pyvista\nimport omfvista"
      ]
    },
    {
      "cell_type": "code",
      "execution_count": null,
      "metadata": {
        "collapsed": false
      },
      "outputs": [],
      "source": [
        "df = pd.read_csv(gdc19.get_gravity_path('Utah_FORGE_Gravity_Data.txt'))\nprint(df.keys())"
      ]
    },
    {
      "cell_type": "markdown",
      "metadata": {},
      "source": [
        "Make a mapping between scalar names and their descriptions\n\n"
      ]
    },
    {
      "cell_type": "code",
      "execution_count": null,
      "metadata": {
        "collapsed": false
      },
      "outputs": [],
      "source": [
        "field_desc = {\n    \"name\": \"the individual gravity station name.\",\n    \"lon\": \"station Longitude, WGS84\",\n    \"lat\": \"station latitude, WGS84\",\n    \"easting\": \"UTM zone 12 easting, NAD83\",\n    \"northing\": \"UTM zone 12 northing, NAD83\",\n    \"HAE\": \"height above ellipsoid [meter]\",\n    \"NGVD29\": \"vertical datum for geoid [meter]\",\n    \"obs\": \"observed gravity\",\n    \"errg\": \"gravity measurement error [mGal]\",\n    \"iztc\": \"inner zone terrain correction [mGal]\",\n    \"oztc\": \"outer zone terrain correction [mGal]\",\n    \"gFA\": \"free air gravity\",\n    \"gSBGA\": \"Bouguer horizontal slab\",\n    \"gCBGA\": \"Complete Bouguer anomaly\",\n    \"Source\": \"data source\",\n}"
      ]
    },
    {
      "cell_type": "code",
      "execution_count": null,
      "metadata": {
        "collapsed": false
      },
      "outputs": [],
      "source": [
        "ref = ['easting', 'northing', 'HAE']\npoints = df[ref]\nfor name in ref:\n    df.pop(name)\ngrav_obs = pyvista.PolyData(points.values)\ngrav_obs.point_arrays.update(df.to_dict('series'))\n\ngrav_obs = grav_obs.clip_box(gdc19.get_roi_bounds(), invert=False)\n\nprint(grav_obs)"
      ]
    },
    {
      "cell_type": "code",
      "execution_count": null,
      "metadata": {
        "collapsed": false
      },
      "outputs": [],
      "source": [
        "grav_obs.plot(scalars='gCBGA', stitle=field_desc['gCBGA'])"
      ]
    },
    {
      "cell_type": "code",
      "execution_count": null,
      "metadata": {
        "collapsed": false
      },
      "outputs": [],
      "source": [
        "# Load the topography surface that was previously aggregated:\nsurfaces = omfvista.load_project(gdc19.get_project_path('surfaces.omf'))\ntopo = surfaces['land_surface']"
      ]
    },
    {
      "cell_type": "code",
      "execution_count": null,
      "metadata": {
        "collapsed": false
      },
      "outputs": [],
      "source": [
        "p = pyvista.Plotter()\np.add_mesh(topo)\np.add_mesh(grav_obs, scalars='gCBGA', point_size=10.0,\n          render_points_as_spheres=True, stitle=field_desc['gCBGA'])\np.show()"
      ]
    },
    {
      "cell_type": "markdown",
      "metadata": {},
      "source": [
        "Save gravity data for processing in next example\n\n"
      ]
    },
    {
      "cell_type": "code",
      "execution_count": null,
      "metadata": {
        "collapsed": false
      },
      "outputs": [],
      "source": [
        "grav_obs.save(gdc19.get_gravity_path('grav_obs.vtk'))"
      ]
    }
  ],
  "metadata": {
    "kernelspec": {
      "display_name": "Python 3",
      "language": "python",
      "name": "python3"
    },
    "language_info": {
      "codemirror_mode": {
        "name": "ipython",
        "version": 3
      },
      "file_extension": ".py",
      "mimetype": "text/x-python",
      "name": "python",
      "nbconvert_exporter": "python",
      "pygments_lexer": "ipython3",
      "version": "3.7.2"
    }
  },
  "nbformat": 4,
  "nbformat_minor": 0
}