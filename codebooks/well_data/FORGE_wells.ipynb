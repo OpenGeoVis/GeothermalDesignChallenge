{
 "cells": [
  {
   "cell_type": "code",
   "execution_count": 1,
   "metadata": {
    "collapsed": true
   },
   "outputs": [],
   "source": [
    "import matplotlib.pyplot as plt\n",
    "import numpy as np\n",
    "import omf\n",
    "import omfvtk\n",
    "import pandas as pd\n",
    "import vtki\n",
    "import PVGeo"
   ]
  },
  {
   "cell_type": "code",
   "execution_count": 2,
   "metadata": {},
   "outputs": [
    {
     "data": {
      "text/plain": [
       "'/Volumes/GoogleDrive/My Drive/utah-forge'"
      ]
     },
     "execution_count": 2,
     "metadata": {},
     "output_type": "execute_result"
    }
   ],
   "source": [
    "import sys\n",
    "# This makes the gdc19 package available\n",
    "sys.path.append('../../')\n",
    "import gdc19\n",
    "gdc19.setup_adam()"
   ]
  },
  {
   "cell_type": "code",
   "execution_count": 3,
   "metadata": {
    "collapsed": true
   },
   "outputs": [],
   "source": [
    "# GET THE WELLS DATABASE\n",
    "WELLS = gdc19.load_well_db()"
   ]
  },
  {
   "cell_type": "markdown",
   "metadata": {},
   "source": [
    "## Well 58-32 geophysical well log analysis\n",
    "\n",
    "Lithology:\n",
    "Basin Fill (0 to 1007 m), Granitoid (1007 to 2296.9 m)\n",
    "\n",
    "Density of Granite: 2.75 g/cm3\n",
    "\n",
    "Coordinates: x = 335380.766, y = 4263040.83, z = 1681.61659\n",
    "\n",
    "Depth: 2296.9 m"
   ]
  },
  {
   "cell_type": "code",
   "execution_count": 4,
   "metadata": {},
   "outputs": [
    {
     "data": {
      "text/html": [
       "<div>\n",
       "<style scoped>\n",
       "    .dataframe tbody tr th:only-of-type {\n",
       "        vertical-align: middle;\n",
       "    }\n",
       "\n",
       "    .dataframe tbody tr th {\n",
       "        vertical-align: top;\n",
       "    }\n",
       "\n",
       "    .dataframe thead th {\n",
       "        text-align: right;\n",
       "    }\n",
       "</style>\n",
       "<table border=\"1\" class=\"dataframe\">\n",
       "  <thead>\n",
       "    <tr style=\"text-align: right;\">\n",
       "      <th></th>\n",
       "      <th>Depth (ft)</th>\n",
       "      <th>Depth (m)</th>\n",
       "      <th>AF10</th>\n",
       "      <th>AF20</th>\n",
       "      <th>AF30</th>\n",
       "      <th>AF60</th>\n",
       "      <th>AF90</th>\n",
       "      <th>AO10</th>\n",
       "      <th>AO20</th>\n",
       "      <th>AO30</th>\n",
       "      <th>...</th>\n",
       "      <th>TNPH</th>\n",
       "      <th>HTNP_SAN</th>\n",
       "      <th>ATCO10</th>\n",
       "      <th>ATCO20</th>\n",
       "      <th>ATCO30</th>\n",
       "      <th>ATCO60</th>\n",
       "      <th>ATCO90</th>\n",
       "      <th>x</th>\n",
       "      <th>y</th>\n",
       "      <th>z</th>\n",
       "    </tr>\n",
       "  </thead>\n",
       "  <tbody>\n",
       "    <tr>\n",
       "      <th>0</th>\n",
       "      <td>10.5</td>\n",
       "      <td>3.20</td>\n",
       "      <td>1.104</td>\n",
       "      <td>0.4224</td>\n",
       "      <td>20.9881</td>\n",
       "      <td>1950.0</td>\n",
       "      <td>44.9381</td>\n",
       "      <td>1.1341</td>\n",
       "      <td>0.5586</td>\n",
       "      <td>2.1295</td>\n",
       "      <td>...</td>\n",
       "      <td>-999.25</td>\n",
       "      <td>0.3744</td>\n",
       "      <td>840.4879</td>\n",
       "      <td>2040.422</td>\n",
       "      <td>35.6775</td>\n",
       "      <td>14.1442</td>\n",
       "      <td>50.6664</td>\n",
       "      <td>335380.766</td>\n",
       "      <td>4263040.83</td>\n",
       "      <td>1678.41659</td>\n",
       "    </tr>\n",
       "    <tr>\n",
       "      <th>1</th>\n",
       "      <td>11.0</td>\n",
       "      <td>3.35</td>\n",
       "      <td>1.104</td>\n",
       "      <td>0.4224</td>\n",
       "      <td>20.9881</td>\n",
       "      <td>1950.0</td>\n",
       "      <td>44.9381</td>\n",
       "      <td>1.1341</td>\n",
       "      <td>0.5586</td>\n",
       "      <td>2.1295</td>\n",
       "      <td>...</td>\n",
       "      <td>-999.25</td>\n",
       "      <td>0.3744</td>\n",
       "      <td>840.4879</td>\n",
       "      <td>2040.422</td>\n",
       "      <td>35.6775</td>\n",
       "      <td>14.1442</td>\n",
       "      <td>50.6664</td>\n",
       "      <td>335380.766</td>\n",
       "      <td>4263040.83</td>\n",
       "      <td>1678.26659</td>\n",
       "    </tr>\n",
       "    <tr>\n",
       "      <th>2</th>\n",
       "      <td>11.5</td>\n",
       "      <td>3.51</td>\n",
       "      <td>1.104</td>\n",
       "      <td>0.4224</td>\n",
       "      <td>20.9881</td>\n",
       "      <td>1950.0</td>\n",
       "      <td>44.9381</td>\n",
       "      <td>1.1341</td>\n",
       "      <td>0.5586</td>\n",
       "      <td>2.1295</td>\n",
       "      <td>...</td>\n",
       "      <td>-999.25</td>\n",
       "      <td>0.3744</td>\n",
       "      <td>840.4879</td>\n",
       "      <td>2040.422</td>\n",
       "      <td>35.6775</td>\n",
       "      <td>14.1442</td>\n",
       "      <td>50.6664</td>\n",
       "      <td>335380.766</td>\n",
       "      <td>4263040.83</td>\n",
       "      <td>1678.10659</td>\n",
       "    </tr>\n",
       "    <tr>\n",
       "      <th>3</th>\n",
       "      <td>12.0</td>\n",
       "      <td>3.66</td>\n",
       "      <td>1.104</td>\n",
       "      <td>0.4224</td>\n",
       "      <td>20.9881</td>\n",
       "      <td>1950.0</td>\n",
       "      <td>44.9381</td>\n",
       "      <td>1.1341</td>\n",
       "      <td>0.5586</td>\n",
       "      <td>2.1295</td>\n",
       "      <td>...</td>\n",
       "      <td>-999.25</td>\n",
       "      <td>0.3744</td>\n",
       "      <td>840.4879</td>\n",
       "      <td>2040.422</td>\n",
       "      <td>35.6775</td>\n",
       "      <td>14.1442</td>\n",
       "      <td>50.6664</td>\n",
       "      <td>335380.766</td>\n",
       "      <td>4263040.83</td>\n",
       "      <td>1677.95659</td>\n",
       "    </tr>\n",
       "    <tr>\n",
       "      <th>4</th>\n",
       "      <td>12.5</td>\n",
       "      <td>3.81</td>\n",
       "      <td>1.104</td>\n",
       "      <td>0.4224</td>\n",
       "      <td>20.9881</td>\n",
       "      <td>1950.0</td>\n",
       "      <td>44.9381</td>\n",
       "      <td>1.1341</td>\n",
       "      <td>0.5586</td>\n",
       "      <td>2.1295</td>\n",
       "      <td>...</td>\n",
       "      <td>-999.25</td>\n",
       "      <td>0.3744</td>\n",
       "      <td>840.4879</td>\n",
       "      <td>2040.422</td>\n",
       "      <td>35.6775</td>\n",
       "      <td>14.1442</td>\n",
       "      <td>50.6664</td>\n",
       "      <td>335380.766</td>\n",
       "      <td>4263040.83</td>\n",
       "      <td>1677.80659</td>\n",
       "    </tr>\n",
       "  </tbody>\n",
       "</table>\n",
       "<p>5 rows × 66 columns</p>\n",
       "</div>"
      ],
      "text/plain": [
       "   Depth (ft)  Depth (m)   AF10    AF20     AF30    AF60     AF90    AO10  \\\n",
       "0        10.5       3.20  1.104  0.4224  20.9881  1950.0  44.9381  1.1341   \n",
       "1        11.0       3.35  1.104  0.4224  20.9881  1950.0  44.9381  1.1341   \n",
       "2        11.5       3.51  1.104  0.4224  20.9881  1950.0  44.9381  1.1341   \n",
       "3        12.0       3.66  1.104  0.4224  20.9881  1950.0  44.9381  1.1341   \n",
       "4        12.5       3.81  1.104  0.4224  20.9881  1950.0  44.9381  1.1341   \n",
       "\n",
       "     AO20    AO30  ...    TNPH  HTNP_SAN    ATCO10    ATCO20   ATCO30  \\\n",
       "0  0.5586  2.1295  ... -999.25    0.3744  840.4879  2040.422  35.6775   \n",
       "1  0.5586  2.1295  ... -999.25    0.3744  840.4879  2040.422  35.6775   \n",
       "2  0.5586  2.1295  ... -999.25    0.3744  840.4879  2040.422  35.6775   \n",
       "3  0.5586  2.1295  ... -999.25    0.3744  840.4879  2040.422  35.6775   \n",
       "4  0.5586  2.1295  ... -999.25    0.3744  840.4879  2040.422  35.6775   \n",
       "\n",
       "    ATCO60   ATCO90           x           y           z  \n",
       "0  14.1442  50.6664  335380.766  4263040.83  1678.41659  \n",
       "1  14.1442  50.6664  335380.766  4263040.83  1678.26659  \n",
       "2  14.1442  50.6664  335380.766  4263040.83  1678.10659  \n",
       "3  14.1442  50.6664  335380.766  4263040.83  1677.95659  \n",
       "4  14.1442  50.6664  335380.766  4263040.83  1677.80659  \n",
       "\n",
       "[5 rows x 66 columns]"
      ]
     },
     "execution_count": 4,
     "metadata": {},
     "output_type": "execute_result"
    }
   ],
   "source": [
    "well_log = pd.read_csv(gdc19.get_well_path('58-32_main_geophysical_well_log.csv'))\n",
    "\n",
    "x_location = []\n",
    "y_location = []\n",
    "elevation = []\n",
    "DEPTH = well_log['Depth (m)'].values\n",
    "\n",
    "for i in range (0, len(well_log.index)):\n",
    "    x = 335380.766\n",
    "    y = 4263040.83\n",
    "    z = 1681.61659 - DEPTH[i]\n",
    "    x_location.append(x)\n",
    "    y_location.append(y)\n",
    "    elevation.append(z)\n",
    "    \n",
    "well_log = well_log.assign(x=pd.Series(x_location).values)\n",
    "well_log = well_log.assign(y=pd.Series(y_location).values)\n",
    "well_log = well_log.assign(z=pd.Series(elevation).values)\n",
    "well_log.head()"
   ]
  },
  {
   "cell_type": "code",
   "execution_count": 5,
   "metadata": {},
   "outputs": [
    {
     "data": {
      "text/html": [
       "<table><tr><th>Header</th><th>Data Arrays</th></tr><tr><td>\n",
       "<table>\n",
       "<tr><th>PolyData</th><th>Information</th></tr>\n",
       "<tr><td>N Cells</td><td>15128</td></tr>\n",
       "<tr><td>N Points</td><td>15128</td></tr>\n",
       "<tr><td>X Bounds</td><td>3.354e+05, 3.354e+05</td></tr>\n",
       "<tr><td>Y Bounds</td><td>4.263e+06, 4.263e+06</td></tr>\n",
       "<tr><td>Z Bounds</td><td>-6.268e+02, 1.678e+03</td></tr>\n",
       "<tr><td>Volume</td><td>0.000e+00</td></tr>\n",
       "<tr><td>N Scalars</td><td>66</td></tr>\n",
       "</table>\n",
       "\n",
       "</td><td>\n",
       "<table>\n",
       "<tr><th>Name</th><th>Field</th><th>Type</th><th>Min</th><th>Max</th></tr>\n",
       "<tr><td><b>Depth (ft)</b></td><td>Points</td><td>float64</td><td>1.050e+01</td><td>7.574e+03</td></tr>\n",
       "<tr><td>Depth (m)</td><td>Points</td><td>float64</td><td>3.200e+00</td><td>2.308e+03</td></tr>\n",
       "<tr><td>AF10</td><td>Points</td><td>float64</td><td>3.055e-01</td><td>1.950e+03</td></tr>\n",
       "<tr><td>AF20</td><td>Points</td><td>float64</td><td>2.685e-01</td><td>1.950e+03</td></tr>\n",
       "<tr><td>AF30</td><td>Points</td><td>float64</td><td>2.101e+00</td><td>1.950e+03</td></tr>\n",
       "<tr><td>AF60</td><td>Points</td><td>float64</td><td>1.801e+00</td><td>1.950e+03</td></tr>\n",
       "<tr><td>AF90</td><td>Points</td><td>float64</td><td>2.247e+00</td><td>1.950e+03</td></tr>\n",
       "<tr><td>AO10</td><td>Points</td><td>float64</td><td>1.474e-01</td><td>1.950e+03</td></tr>\n",
       "<tr><td>AO20</td><td>Points</td><td>float64</td><td>1.245e-01</td><td>1.950e+03</td></tr>\n",
       "<tr><td>AO30</td><td>Points</td><td>float64</td><td>1.955e-01</td><td>1.950e+03</td></tr>\n",
       "<tr><td>AO60</td><td>Points</td><td>float64</td><td>1.754e-01</td><td>1.950e+03</td></tr>\n",
       "<tr><td>AO90</td><td>Points</td><td>float64</td><td>1.750e-01</td><td>1.950e+03</td></tr>\n",
       "<tr><td>AT10</td><td>Points</td><td>float64</td><td>2.096e-01</td><td>1.950e+03</td></tr>\n",
       "<tr><td>AT20</td><td>Points</td><td>float64</td><td>2.056e-01</td><td>1.950e+03</td></tr>\n",
       "<tr><td>AT30</td><td>Points</td><td>float64</td><td>9.800e-01</td><td>1.950e+03</td></tr>\n",
       "<tr><td>AT60</td><td>Points</td><td>float64</td><td>4.609e-01</td><td>1.950e+03</td></tr>\n",
       "<tr><td>AT90</td><td>Points</td><td>float64</td><td>4.524e-01</td><td>1.950e+03</td></tr>\n",
       "<tr><td>AORT</td><td>Points</td><td>float64</td><td>2.221e-01</td><td>1.820e+03</td></tr>\n",
       "<tr><td>AORX</td><td>Points</td><td>float64</td><td>7.390e-02</td><td>1.950e+03</td></tr>\n",
       "<tr><td>CDF</td><td>Points</td><td>float64</td><td>5.078e+01</td><td>1.478e+03</td></tr>\n",
       "<tr><td>CFTC</td><td>Points</td><td>float64</td><td>-1.000e+04</td><td>1.681e+04</td></tr>\n",
       "<tr><td>CNTC</td><td>Points</td><td>float64</td><td>-9.992e+02</td><td>9.961e+03</td></tr>\n",
       "<tr><td>CTEM</td><td>Points</td><td>float64</td><td>1.418e+02</td><td>2.802e+02</td></tr>\n",
       "<tr><td>DCAL</td><td>Points</td><td>float64</td><td>-5.561e+00</td><td>7.830e+00</td></tr>\n",
       "<tr><td>DNPH</td><td>Points</td><td>float64</td><td>-5.520e+03</td><td>3.154e-01</td></tr>\n",
       "<tr><td>DPHZ</td><td>Points</td><td>float64</td><td>-5.514e+03</td><td>5.487e-01</td></tr>\n",
       "<tr><td>DSOZ</td><td>Points</td><td>float64</td><td>-5.514e+03</td><td>7.993e-01</td></tr>\n",
       "<tr><td>ECGR</td><td>Points</td><td>float64</td><td>2.567e+01</td><td>6.380e+02</td></tr>\n",
       "<tr><td>ED</td><td>Points</td><td>float64</td><td>-1.834e+02</td><td>5.077e+00</td></tr>\n",
       "<tr><td>GDEV</td><td>Points</td><td>float64</td><td>-9.992e+02</td><td>2.228e+01</td></tr>\n",
       "<tr><td>GR</td><td>Points</td><td>float64</td><td>1.761e+01</td><td>6.411e+02</td></tr>\n",
       "<tr><td>GR_EDTC</td><td>Points</td><td>float64</td><td>5.811e+00</td><td>4.445e+02</td></tr>\n",
       "<tr><td>GTEM</td><td>Points</td><td>float64</td><td>1.148e+02</td><td>2.904e+02</td></tr>\n",
       "<tr><td>HCAL</td><td>Points</td><td>float64</td><td>3.189e+00</td><td>1.658e+01</td></tr>\n",
       "<tr><td>HDRA</td><td>Points</td><td>float64</td><td>-5.514e+03</td><td>1.677e+00</td></tr>\n",
       "<tr><td>HDRB</td><td>Points</td><td>float64</td><td>-5.514e+03</td><td>1.376e+00</td></tr>\n",
       "<tr><td>HGR</td><td>Points</td><td>float64</td><td>1.439e+01</td><td>6.612e+02</td></tr>\n",
       "<tr><td>HMIN</td><td>Points</td><td>float64</td><td>-9.992e+02</td><td>6.309e+02</td></tr>\n",
       "<tr><td>HMNO</td><td>Points</td><td>float64</td><td>-9.992e+02</td><td>5.647e+02</td></tr>\n",
       "<tr><td>HNPO</td><td>Points</td><td>float64</td><td>-9.992e+02</td><td>2.111e+00</td></tr>\n",
       "<tr><td>HPRA</td><td>Points</td><td>float64</td><td>-5.514e+03</td><td>4.722e+00</td></tr>\n",
       "<tr><td>HTNP</td><td>Points</td><td>float64</td><td>-9.992e+02</td><td>1.958e+00</td></tr>\n",
       "<tr><td>ND</td><td>Points</td><td>float64</td><td>-5.123e+01</td><td>-1.920e-02</td></tr>\n",
       "<tr><td>NPHI</td><td>Points</td><td>float64</td><td>-9.992e+02</td><td>8.621e-01</td></tr>\n",
       "<tr><td>NPOR</td><td>Points</td><td>float64</td><td>-5.520e+03</td><td>1.912e+00</td></tr>\n",
       "<tr><td>PEFZ</td><td>Points</td><td>float64</td><td>-5.527e+03</td><td>1.000e+01</td></tr>\n",
       "<tr><td>PXND_HILT</td><td>Points</td><td>float64</td><td>-5.520e+03</td><td>5.922e-01</td></tr>\n",
       "<tr><td>RHOZ</td><td>Points</td><td>float64</td><td>-5.525e+03</td><td>4.629e+00</td></tr>\n",
       "<tr><td>RSOZ</td><td>Points</td><td>float64</td><td>-9.992e+02</td><td>8.000e-01</td></tr>\n",
       "<tr><td>RWA_HILT</td><td>Points</td><td>float64</td><td>-5.526e+03</td><td>6.221e+02</td></tr>\n",
       "<tr><td>RXO8</td><td>Points</td><td>float64</td><td>-9.992e+02</td><td>4.763e+03</td></tr>\n",
       "<tr><td>RXOZ</td><td>Points</td><td>float64</td><td>-9.992e+02</td><td>4.685e+03</td></tr>\n",
       "<tr><td>SP</td><td>Points</td><td>float64</td><td>-9.992e+02</td><td>1.727e+02</td></tr>\n",
       "<tr><td>SPAR</td><td>Points</td><td>float64</td><td>-9.992e+02</td><td>1.700e+02</td></tr>\n",
       "<tr><td>STIT</td><td>Points</td><td>float64</td><td>0.000e+00</td><td>7.137e+00</td></tr>\n",
       "<tr><td>TENS</td><td>Points</td><td>float64</td><td>8.370e+02</td><td>3.657e+03</td></tr>\n",
       "<tr><td>TNPH</td><td>Points</td><td>float64</td><td>-5.520e+03</td><td>1.938e+00</td></tr>\n",
       "<tr><td>HTNP_SAN</td><td>Points</td><td>float64</td><td>-9.992e+02</td><td>1.958e+00</td></tr>\n",
       "<tr><td>ATCO10</td><td>Points</td><td>float64</td><td>1.287e-01</td><td>4.771e+03</td></tr>\n",
       "<tr><td>ATCO20</td><td>Points</td><td>float64</td><td>4.376e-01</td><td>4.863e+03</td></tr>\n",
       "<tr><td>ATCO30</td><td>Points</td><td>float64</td><td>-1.997e+01</td><td>1.020e+03</td></tr>\n",
       "<tr><td>ATCO60</td><td>Points</td><td>float64</td><td>4.212e-01</td><td>2.170e+03</td></tr>\n",
       "<tr><td>ATCO90</td><td>Points</td><td>float64</td><td>4.033e-01</td><td>2.211e+03</td></tr>\n",
       "<tr><td>x</td><td>Points</td><td>float64</td><td>3.354e+05</td><td>3.354e+05</td></tr>\n",
       "<tr><td>y</td><td>Points</td><td>float64</td><td>4.263e+06</td><td>4.263e+06</td></tr>\n",
       "<tr><td>z</td><td>Points</td><td>float64</td><td>-6.268e+02</td><td>1.678e+03</td></tr>\n",
       "</table>\n",
       "\n",
       "</td></tr> </table>"
      ],
      "text/plain": [
       "PolyData (0x102808228)\n",
       "  N Cells:\t15128\n",
       "  N Points:\t15128\n",
       "  X Bounds:\t3.354e+05, 3.354e+05\n",
       "  Y Bounds:\t4.263e+06, 4.263e+06\n",
       "  Z Bounds:\t-6.268e+02, 1.678e+03\n",
       "  Volume:\t0.000e+00\n",
       "  N Scalars:\t66"
      ]
     },
     "execution_count": 5,
     "metadata": {},
     "output_type": "execute_result"
    }
   ],
   "source": [
    "# move XYZ colums to front of table\n",
    "spac = well_log[['x', 'y', 'z']]\n",
    "well_poly = PVGeo.pointsToPolyData(spac)\n",
    "for k, v in well_log.to_dict(orient='list').items():\n",
    "    well_poly.point_arrays[k] = np.array(v)\n",
    "well_poly"
   ]
  },
  {
   "cell_type": "code",
   "execution_count": 6,
   "metadata": {},
   "outputs": [
    {
     "data": {
      "image/png": "[encoded data removed]",
      "text/plain": [
       "<PIL.Image.Image image mode=RGB size=1024x768 at 0x123DF1898>"
      ]
     },
     "metadata": {},
     "output_type": "display_data"
    }
   ],
   "source": [
    "well_poly.set_active_scalar('ECGR')\n",
    "well_poly.plot(clim=[0,300])"
   ]
  },
  {
   "cell_type": "code",
   "execution_count": 7,
   "metadata": {},
   "outputs": [
    {
     "data": {
      "text/html": [
       "<table><tr><th>Information</th><th>Blocks</th></tr><tr><td>\n",
       "<table>\n",
       "<tr><th>MultiBlock</th><th>Values</th></tr>\n",
       "<tr><td>N Blocks</td><td>39</td></tr>\n",
       "<tr><td>X Bounds</td><td>330059.033, 344017.017</td></tr>\n",
       "<tr><td>Y Bounds</td><td>4253546.002, 4270958.977</td></tr>\n",
       "<tr><td>Z Bounds</td><td>-2342.568, 2370.739</td></tr>\n",
       "</table>\n",
       "\n",
       "</td><td>\n",
       "<table>\n",
       "<tr><th>Index</th><th>Name</th><th>Type</th></tr>\n",
       "<tr><th>0</th><th>well_5832</th><th>PolyData</th></tr>\n",
       "<tr><th>1</th><th>well_DEC35</th><th>PolyData</th></tr>\n",
       "<tr><th>2</th><th>well_1310</th><th>PolyData</th></tr>\n",
       "<tr><th>3</th><th>well_142</th><th>PolyData</th></tr>\n",
       "<tr><th>4</th><th>well_2436</th><th>PolyData</th></tr>\n",
       "<tr><th>5</th><th>well_2515</th><th>PolyData</th></tr>\n",
       "<tr><th>6</th><th>well_283</th><th>PolyData</th></tr>\n",
       "<tr><th>7</th><th>well_Mar1</th><th>PolyData</th></tr>\n",
       "<tr><th>8</th><th>well_353</th><th>PolyData</th></tr>\n",
       "<tr><th>9</th><th>well_5221</th><th>PolyData</th></tr>\n",
       "<tr><th>10</th><th>well_543</th><th>PolyData</th></tr>\n",
       "<tr><th>11</th><th>well_7110</th><th>PolyData</th></tr>\n",
       "<tr><th>12</th><th>well_8233</th><th>PolyData</th></tr>\n",
       "<tr><th>13</th><th>well_Sept1</th><th>PolyData</th></tr>\n",
       "<tr><th>14</th><th>well_Acord1</th><th>PolyData</th></tr>\n",
       "<tr><th>15</th><th>well_BigCedar</th><th>PolyData</th></tr>\n",
       "<tr><th>16</th><th>well_EV4113</th><th>PolyData</th></tr>\n",
       "<tr><th>17</th><th>well_EV4115</th><th>PolyData</th></tr>\n",
       "<tr><th>18</th><th>well_GPC10</th><th>PolyData</th></tr>\n",
       "<tr><th>19</th><th>well_GPC15</th><th>PolyData</th></tr>\n",
       "<tr><th>20</th><th>well_GPC9</th><th>PolyData</th></tr>\n",
       "<tr><th>21</th><th>well_MM101</th><th>PolyData</th></tr>\n",
       "<tr><th>22</th><th>well_OH1</th><th>PolyData</th></tr>\n",
       "<tr><th>23</th><th>well_OH4</th><th>PolyData</th></tr>\n",
       "<tr><th>24</th><th>well_OH5</th><th>PolyData</th></tr>\n",
       "<tr><th>25</th><th>well_OH7</th><th>PolyData</th></tr>\n",
       "<tr><th>26</th><th>well_OH8</th><th>PolyData</th></tr>\n",
       "<tr><th>27</th><th>well_PPCDR</th><th>PolyData</th></tr>\n",
       "<tr><th>28</th><th>well_PPCNR</th><th>PolyData</th></tr>\n",
       "<tr><th>29</th><th>well_PPC2</th><th>PolyData</th></tr>\n",
       "<tr><th>30</th><th>well_PPC5</th><th>PolyData</th></tr>\n",
       "<tr><th>31</th><th>well_PPC6</th><th>PolyData</th></tr>\n",
       "<tr><th>32</th><th>well_RHS189</th><th>PolyData</th></tr>\n",
       "<tr><th>33</th><th>well_UUHF3</th><th>PolyData</th></tr>\n",
       "<tr><th>34</th><th>well_new1</th><th>PolyData</th></tr>\n",
       "<tr><th>35</th><th>well_new2</th><th>PolyData</th></tr>\n",
       "<tr><th>36</th><th>well_RHS14</th><th>PolyData</th></tr>\n",
       "<tr><th>37</th><th>well_TPC12</th><th>PolyData</th></tr>\n",
       "<tr><th>38</th><th>well_TPC14</th><th>PolyData</th></tr>\n",
       "</table>\n",
       "\n",
       "</td></tr> </table>"
      ],
      "text/plain": [
       "MultiBlock (0x1168eb108)\n",
       "  N Blocks:\t39\n",
       "  X Bounds:\t330059.033, 344017.017\n",
       "  Y Bounds:\t4253546.002, 4270958.977\n",
       "  Z Bounds:\t-2342.568, 2370.739"
      ]
     },
     "execution_count": 7,
     "metadata": {},
     "output_type": "execute_result"
    }
   ],
   "source": [
    "WELLS['well_5832'] = well_poly\n",
    "gdc19.save_well_db(WELLS)\n",
    "WELLS"
   ]
  },
  {
   "cell_type": "markdown",
   "metadata": {
    "collapsed": true
   },
   "source": [
    "## RHS-14\n",
    "\n",
    "Coordinates: x = 335798.986, y = 4264089.99, z = 1690.84658\n",
    "\n",
    "Lithology: Basin Fill\n",
    "\n",
    "Depth: 137.5 m"
   ]
  },
  {
   "cell_type": "code",
   "execution_count": null,
   "metadata": {
    "collapsed": true
   },
   "outputs": [],
   "source": [
    "depth = 137.5\n",
    "start_x = 335798.986\n",
    "start_y = 4264089.99\n",
    "start_z = 1690.84658\n",
    "\n",
    "WELLS['well_RHS14'] = gdc19.build_well_trajectory(depth, start_x, start_y, start_z)\n",
    "gdc19.save_well_db(WELLS)"
   ]
  },
  {
   "cell_type": "markdown",
   "metadata": {},
   "source": [
    "## TPC-12\n",
    "\n",
    "Coordinates: x = 334826, y = 4262756.046 z = 1661.196616, depth = 150 m\n",
    "\n",
    "Lithology: Basin Fill"
   ]
  },
  {
   "cell_type": "code",
   "execution_count": null,
   "metadata": {
    "collapsed": true
   },
   "outputs": [],
   "source": [
    "depth = 150\n",
    "start_x = 334826\n",
    "start_y = 4262756.046\n",
    "start_z = 1661.196616\n",
    "\n",
    "WELLS['well_TPC12'] = gdc19.build_well_trajectory(depth, start_x, start_y, start_z)\n",
    "gdc19.save_well_db(WELLS)"
   ]
  },
  {
   "cell_type": "markdown",
   "metadata": {},
   "source": [
    "## TPC-14\n",
    "\n",
    "Coordinates: x = 335446.971, y = 4264046.019, z = 1675.199038, depth = 145 m\n",
    "\n",
    "Lithology: Basin Fill"
   ]
  },
  {
   "cell_type": "code",
   "execution_count": null,
   "metadata": {
    "collapsed": true
   },
   "outputs": [],
   "source": [
    "depth = 145\n",
    "start_x = 335446.971\n",
    "start_y = 4264046.019\n",
    "start_z = 1675.199038\n",
    "\n",
    "WELLS['well_TPC14'] = gdc19.build_well_trajectory(depth, start_x, start_y, start_z)\n",
    "gdc19.save_well_db(WELLS)"
   ]
  },
  {
   "cell_type": "code",
   "execution_count": null,
   "metadata": {
    "collapsed": true
   },
   "outputs": [],
   "source": []
  }
 ],
 "metadata": {
  "kernelspec": {
   "display_name": "Python 3",
   "language": "python",
   "name": "python3"
  },
  "language_info": {
   "codemirror_mode": {
    "name": "ipython",
    "version": 3
   },
   "file_extension": ".py",
   "mimetype": "text/x-python",
   "name": "python",
   "nbconvert_exporter": "python",
   "pygments_lexer": "ipython3",
   "version": "3.6.8"
  }
 },
 "nbformat": 4,
 "nbformat_minor": 2
}
