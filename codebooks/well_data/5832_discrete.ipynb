{
 "cells": [
  {
   "cell_type": "code",
   "execution_count": null,
   "metadata": {
    "collapsed": true
   },
   "outputs": [],
   "source": [
    "import matplotlib.pyplot as plt\n",
    "import numpy as np\n",
    "import omf\n",
    "import omfvtk\n",
    "import pandas as pd\n",
    "import vtki\n",
    "import PVGeo"
   ]
  },
  {
   "cell_type": "code",
   "execution_count": null,
   "metadata": {},
   "outputs": [],
   "source": [
    "import sys\n",
    "# This makes the gdc19 package available\n",
    "sys.path.append('../../')\n",
    "import gdc19\n",
    "gdc19.setup_adam()"
   ]
  },
  {
   "cell_type": "code",
   "execution_count": null,
   "metadata": {
    "collapsed": true
   },
   "outputs": [],
   "source": [
    "# GET THE WELLS DATABASE\n",
    "WELLS = gdc19.load_well_db()"
   ]
  },
  {
   "cell_type": "markdown",
   "metadata": {},
   "source": [
    "## Well 58-32 geophysical well log analysis\n",
    "\n",
    "Lithology:\n",
    "Basin Fill (0 to 1007 m), Granitoid (1007 to 2296.9 m)\n",
    "\n",
    "Density of Granite: 2.75 g/cm3\n",
    "\n",
    "Coordinates: x = 335380.766, y = 4263040.83, z = 1681.61659\n",
    "\n",
    "Depth: 2296.9 m"
   ]
  },
  {
   "cell_type": "code",
   "execution_count": null,
   "metadata": {},
   "outputs": [],
   "source": [
    "well_log = pd.read_csv(gdc19.get_well_path('58-32_main_geophysical_well_log.csv'))\n",
    "well_log.head()"
   ]
  },
  {
   "cell_type": "code",
   "execution_count": null,
   "metadata": {},
   "outputs": [],
   "source": [
    "trajectory = pd.read_csv('trajectory_58-32.csv')\n",
    "trajectory.head()"
   ]
  },
  {
   "cell_type": "code",
   "execution_count": null,
   "metadata": {
    "collapsed": true
   },
   "outputs": [],
   "source": [
    "# start_x = 335380.766\n",
    "# start_y = 4263040.83\n",
    "# count = 0\n",
    "\n",
    "# theta = []\n",
    "# phi = []\n",
    "# r = well_log['Depth (m)'].values\n",
    "# depth = trajectory['Depth (m)'].values\n",
    "# dip = trajectory['Dip'].values\n",
    "# azimuth = trajectory['Azimuth'].values\n",
    "\n",
    "# #while (count < len(trajectory.index)):\n",
    "# for i in range (0, len(r)):\n",
    "#     if (r[i] >= depth[count]) & (r[i] < depth[count+1]):\n",
    "#         theta.append(dip[count])\n",
    "#         phi.append(azimuth[count])\n",
    "#     if (r[i] >= depth[count+1]):\n",
    "#         count = count + 1\n",
    "#         theta.append(dip[count])\n",
    "#         phi.append(azimuth[count])\n",
    "\n",
    "\n",
    "# r[1:] = r[1:] - r[:-1]\n",
    "\n",
    "# # convert to radians\n",
    "# phi = phi * 2 * np.pi / 360.\n",
    "# theta = (90+theta) * 2 * np.pi / 360.\n",
    "\n",
    "\n",
    "# x = start_x + (r*np.cos(phi)*np.sin(theta))\n",
    "# y = start_y + (r*np.sin(phi)*np.sin(theta))\n",
    "# z = (r*np.cos(theta))\n",
    "\n",
    "# elevation = np.cumsum(z) + start_z\n",
    "\n",
    "# #print(len(theta))\n",
    "# #print(phi)"
   ]
  },
  {
   "cell_type": "code",
   "execution_count": null,
   "metadata": {
    "collapsed": true
   },
   "outputs": [],
   "source": [
    "x_location = []\n",
    "y_location = []\n",
    "elevation = []\n",
    "DEPTH = well_log['Depth (m)'].values\n",
    "\n",
    "for i in range (0, len(well_log.index)):\n",
    "    x = 335380.766\n",
    "    y = 4263040.83\n",
    "    z = 1681.61659 - DEPTH[i]\n",
    "    x_location.append(x)\n",
    "    y_location.append(y)\n",
    "    elevation.append(z)"
   ]
  },
  {
   "cell_type": "code",
   "execution_count": null,
   "metadata": {
    "scrolled": true
   },
   "outputs": [],
   "source": [
    "well_log = well_log.assign(x=pd.Series(x_location).values)\n",
    "well_log = well_log.assign(y=pd.Series(y_location).values)\n",
    "well_log = well_log.assign(z=pd.Series(elevation).values)\n",
    "well_log.head()"
   ]
  },
  {
   "cell_type": "code",
   "execution_count": null,
   "metadata": {},
   "outputs": [],
   "source": [
    "# move XYZ colums to front of table\n",
    "spac = well_log[['x', 'y', 'z']]\n",
    "well_poly = PVGeo.pointsToPolyData(spac)\n",
    "for k, v in well_log.to_dict(orient='list').items():\n",
    "    well_poly.point_arrays[k] = np.array(v)\n",
    "well_poly"
   ]
  },
  {
   "cell_type": "code",
   "execution_count": null,
   "metadata": {
    "collapsed": true
   },
   "outputs": [],
   "source": [
    "well_poly.set_active_scalar('RHOZ')"
   ]
  },
  {
   "cell_type": "code",
   "execution_count": null,
   "metadata": {},
   "outputs": [],
   "source": [
    "well_poly.plot(clim=[0,3.0])"
   ]
  },
  {
   "cell_type": "code",
   "execution_count": null,
   "metadata": {},
   "outputs": [],
   "source": [
    "WELLS['well_5832'] = well_poly\n",
    "gdc19.save_well_db(WELLS)\n",
    "WELLS"
   ]
  },
  {
   "cell_type": "markdown",
   "metadata": {},
   "source": [
    "## Gamma Ray"
   ]
  },
  {
   "cell_type": "code",
   "execution_count": null,
   "metadata": {},
   "outputs": [],
   "source": [
    "gamma = omf.PointSetElement(\n",
    "    name='gamma ray',\n",
    "    description='Gamma ray well log of well 58-32. Gamma Ray log data was obtained with the following tools: '\\\n",
    "        'ECGR, GR, GR_EDTC, and HGR. '\\\n",
    "        'For this example, ECGR was the well log chosen. ',\n",
    "    subtype='point',\n",
    "    geometry=omf.PointSetGeometry(\n",
    "        vertices=well_log[['z', 'x', 'y']].values\n",
    "    ),\n",
    "    data=[omf.ScalarData(\n",
    "        name='Gamma Ray Value (API)',\n",
    "        array=well_log['ECGR'].values,\n",
    "        location='vertices'\n",
    "    ),]\n",
    ")\n",
    "gamma.validate()"
   ]
  },
  {
   "cell_type": "code",
   "execution_count": null,
   "metadata": {
    "collapsed": true
   },
   "outputs": [],
   "source": []
  },
  {
   "cell_type": "code",
   "execution_count": null,
   "metadata": {},
   "outputs": [],
   "source": [
    "omfvtk.wrap(gamma).plot(show_edges=False)"
   ]
  },
  {
   "cell_type": "markdown",
   "metadata": {},
   "source": [
    "## Neutron Porosity"
   ]
  },
  {
   "cell_type": "code",
   "execution_count": null,
   "metadata": {},
   "outputs": [],
   "source": [
    "nphi = omf.PointSetElement(\n",
    "    name='neutron porosity',\n",
    "    description='Neutron porosity well log of well 58-32. Neutron Porosity data was obtained with the following tools: '\\\n",
    "        'ECGR, GR, GR_EDTC, and HGR. HTNP_SAN, NPHI, NPOR, HTNP, and TNPH'\\\n",
    "        'For this example, NPHI was the well log chosen. ',\n",
    "    subtype='point',\n",
    "    geometry=omf.PointSetGeometry(\n",
    "        vertices=well_log[['z', 'x', 'y']].values\n",
    "    ),\n",
    "    data=[omf.ScalarData(\n",
    "        name='Porosity (%)',\n",
    "        array=well_log['NPHI'].values,\n",
    "        location='vertices'\n",
    "    ),]\n",
    ")\n",
    "nphi.validate()"
   ]
  },
  {
   "cell_type": "code",
   "execution_count": null,
   "metadata": {},
   "outputs": [],
   "source": [
    "omfvtk.wrap(nphi).plot(show_edges=False, rng = (0,1))"
   ]
  },
  {
   "cell_type": "markdown",
   "metadata": {},
   "source": [
    "## Bulk Density"
   ]
  },
  {
   "cell_type": "code",
   "execution_count": null,
   "metadata": {},
   "outputs": [],
   "source": [
    "density = omf.PointSetElement(\n",
    "    name='bulk density',\n",
    "    description='Bulk Density well log of well 58-32. Bulk Density data was obtained with the following tools: '\\\n",
    "        'RHOZ'\\\n",
    "        'For this example, RHOZ was the well log chosen. ',\n",
    "    subtype='point',\n",
    "    geometry=omf.PointSetGeometry(\n",
    "        vertices=well_log[['z', 'x', 'y']].values\n",
    "    ),\n",
    "    data=[omf.ScalarData(\n",
    "        name='Density (g/cc)',\n",
    "        array=well_log['RHOZ'].values,\n",
    "        location='vertices'\n",
    "    ),]\n",
    ")\n",
    "density.validate()"
   ]
  },
  {
   "cell_type": "code",
   "execution_count": null,
   "metadata": {},
   "outputs": [],
   "source": [
    "RHOB = omfvtk.wrap(density).plot(show_edges=False, rng = (0, 3))\n",
    "# RHOB.save('well_5832_RHOB.vtk')"
   ]
  },
  {
   "cell_type": "code",
   "execution_count": null,
   "metadata": {
    "collapsed": true
   },
   "outputs": [],
   "source": []
  }
 ],
 "metadata": {
  "kernelspec": {
   "display_name": "Python 3",
   "language": "python",
   "name": "python3"
  },
  "language_info": {
   "codemirror_mode": {
    "name": "ipython",
    "version": 3
   },
   "file_extension": ".py",
   "mimetype": "text/x-python",
   "name": "python",
   "nbconvert_exporter": "python",
   "pygments_lexer": "ipython3",
   "version": "3.6.8"
  }
 },
 "nbformat": 4,
 "nbformat_minor": 2
}
