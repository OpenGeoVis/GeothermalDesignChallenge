{
 "cells": [
  {
   "cell_type": "code",
   "execution_count": null,
   "metadata": {
    "collapsed": true
   },
   "outputs": [],
   "source": [
    "import matplotlib.pyplot as plt\n",
    "import numpy as np\n",
    "from mpl_toolkits.mplot3d import Axes3D"
   ]
  },
  {
   "cell_type": "code",
   "execution_count": null,
   "metadata": {
    "collapsed": true
   },
   "outputs": [],
   "source": [
    "#For file upload:\n",
    "\n",
    "#with open(\"trajectory.csv\") as csvfile:\n",
    "#    data = csv.reader(csvfile, quoting=csv.QUOTE_NONNUMERIC)\n",
    "#    array = []\n",
    "#    for line in data:\n",
    "#        array.append(line)\n",
    "\n",
    "#data = np.array(array)\n",
    "\n",
    "#traj_depth = data[:,0]\n",
    "#dip = data[:,1]\n",
    "#azimuth = data[:,2]\n",
    "\n",
    "\n",
    "\n",
    "\n",
    "#Else:\n",
    "\n",
    "#traj_depth = np.array([0, 0, 0])\n",
    "#dip = np.array([0, 0, 0])\n",
    "#"
   ]
  },
  {
   "cell_type": "code",
   "execution_count": null,
   "metadata": {
    "collapsed": true
   },
   "outputs": [],
   "source": [
    "x_coord = 0\n",
    "y_coord = 0"
   ]
  },
  {
   "cell_type": "code",
   "execution_count": null,
   "metadata": {
    "collapsed": true
   },
   "outputs": [],
   "source": [
    "#Well trajectory figure\n",
    "\n",
    "fig = plt.figure(figsize = (12,12))\n",
    "\n",
    "ax = fig.add_subplot(111, projection = '3d')\n",
    "\n",
    "# get lengths of the separate segments \n",
    "traj_depth[1:] = traj_depths[1:] - traj_depths[:-1]\n",
    "\n",
    "theta = np.array([-90, -90, -90, -90])\n",
    "\n",
    "\n",
    "# convert to radians/spherical coordinates\n",
    "phi = azimuth * 2 * np.pi / 360.\n",
    "theta = (90- dip) * 2 * np.pi / 360.\n",
    "\n",
    "x = r*np.cos(phi)*np.sin(theta)\n",
    "y = r*np.sin(phi)*np.sin(theta)\n",
    "z = r*np.cos(theta)\n",
    "\n",
    "\n",
    "ax.plot(np.cumsum(x),np.cumsum(y),np.cumsum(z))\n",
    "\n",
    "\n",
    "plt.show()"
   ]
  },
  {
   "cell_type": "code",
   "execution_count": null,
   "metadata": {
    "collapsed": true
   },
   "outputs": [],
   "source": [
    "import vtki\n",
    "\n",
    "well_traj_bane = vtki.PolyData(np.c_[x,y,-np.cumsum(z)])\n",
    "well_traj_bane.save('well_5832.ply')"
   ]
  },
  {
   "cell_type": "code",
   "execution_count": null,
   "metadata": {
    "collapsed": true
   },
   "outputs": [],
   "source": [
    "well_traj_bane.plot()"
   ]
  },
  {
   "cell_type": "code",
   "execution_count": null,
   "metadata": {
    "collapsed": true
   },
   "outputs": [],
   "source": []
  }
 ],
 "metadata": {
  "kernelspec": {
   "display_name": "Python 3",
   "language": "python",
   "name": "python3"
  },
  "language_info": {
   "codemirror_mode": {
    "name": "ipython",
    "version": 3
   },
   "file_extension": ".py",
   "mimetype": "text/x-python",
   "name": "python",
   "nbconvert_exporter": "python",
   "pygments_lexer": "ipython3",
   "version": "3.6.8"
  }
 },
 "nbformat": 4,
 "nbformat_minor": 2
}
