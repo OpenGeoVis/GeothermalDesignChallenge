{
  "cells": [
    {
      "cell_type": "code",
      "execution_count": null,
      "metadata": {
        "collapsed": false
      },
      "outputs": [],
      "source": [
        "%matplotlib inline"
      ]
    },
    {
      "cell_type": "markdown",
      "metadata": {},
      "source": [
        "\nCreating an Inversion Mesh\n~~~~~~~~~~~~~~~~~~~~~~~~~~\n\nThis creates a mesh for inverting the gravity data.\n"
      ]
    },
    {
      "cell_type": "code",
      "execution_count": null,
      "metadata": {
        "collapsed": false
      },
      "outputs": [],
      "source": [
        "# sphinx_gallery_thumbnail_number = 2\nimport gdc19\n\nimport numpy as np\nfrom discretize import TreeMesh\nfrom discretize.utils import meshutils\nimport omfvista\nfrom SimPEG.Utils import mkvc, modelutils\nimport pyvista"
      ]
    },
    {
      "cell_type": "markdown",
      "metadata": {},
      "source": [
        "Load the Data\n+++++++++++++\n\n"
      ]
    },
    {
      "cell_type": "code",
      "execution_count": null,
      "metadata": {
        "collapsed": false
      },
      "outputs": [],
      "source": [
        "# Load the topography surface that was previously aggregated:\nsurfaces = omfvista.load_project(gdc19.get_project_path('surfaces.omf'))\nsurface = surfaces['land_surface']\nsurface = surface.elevation()\nsurface.set_active_scalar('Elevation')\n# Get the topography XYZ points\ntopo = surface.points"
      ]
    },
    {
      "cell_type": "markdown",
      "metadata": {},
      "source": [
        "Load the gravity data\n\n"
      ]
    },
    {
      "cell_type": "code",
      "execution_count": null,
      "metadata": {
        "collapsed": false
      },
      "outputs": [],
      "source": [
        "grav_data = pyvista.read(gdc19.get_gravity_path('grav_obs.vtk'))\nxyz = grav_data.points\nsurvey = pyvista.PolyData(xyz)"
      ]
    },
    {
      "cell_type": "markdown",
      "metadata": {},
      "source": [
        "Visualize the survey on the topo\n\n"
      ]
    },
    {
      "cell_type": "code",
      "execution_count": null,
      "metadata": {
        "collapsed": false
      },
      "outputs": [],
      "source": [
        "plotter = pyvista.Plotter()\nplotter.add_mesh(surface, color='grey')\nplotter.add_mesh(survey, color='k', point_size=5)\nplotter.show()"
      ]
    },
    {
      "cell_type": "markdown",
      "metadata": {},
      "source": [
        "Create a Mesh and Refine\n++++++++++++++++++++++++\n\n"
      ]
    },
    {
      "cell_type": "code",
      "execution_count": null,
      "metadata": {
        "collapsed": false
      },
      "outputs": [],
      "source": [
        "def compute_bounds(bounds, factor):\n    # Define a region of interest\n    bounds = list(bounds) # COPY IT\n    delta = np.array([np.abs(bounds[1] - bounds[0]),\n                      np.abs(bounds[3] - bounds[2]),\n                      np.abs(bounds[5] - bounds[4])])\n    cushion = delta * factor\n    bounds[::2] += cushion\n    bounds[1::2] -= cushion\n    return bounds\n\nbounds = compute_bounds(surface.bounds, 0.1)\nprint(bounds)"
      ]
    },
    {
      "cell_type": "code",
      "execution_count": null,
      "metadata": {
        "collapsed": false
      },
      "outputs": [],
      "source": [
        "# Create a mesh based on data extent\nh = [40, 40, 20]\npads = [[0, 0], [0, 0],[2000, 0]]\noctreeTopo = [0,5,10,10]\noctreeObs = [5, 5]\nmaxDist = 100\ndepth_core = 2500\n\nmesh = meshutils.mesh_builder_xyz(\n    topo, h,\n    padding_distance=pads,\n    mesh_type='TREE',\n    depth_core=depth_core,\n)\n\nmesh = meshutils.refine_tree_xyz(mesh, topo,\n                                 octree_levels=octreeTopo,\n                                 method='surface', finalize=False)\n\nmesh = meshutils.refine_tree_xyz(mesh, xyz,\n                                 octree_levels=octreeObs,\n                                 method='surface',\n                                 max_distance=maxDist,\n                                 finalize=True)\n\nactv = modelutils.surface2ind_topo(mesh, topo, gridLoc='N')"
      ]
    },
    {
      "cell_type": "code",
      "execution_count": null,
      "metadata": {
        "collapsed": false
      },
      "outputs": [],
      "source": [
        "def plot_pyvista(mesh, model, actv, interactive=False, use_panel=True, clim=None):\n    # Convert TreeMesh to VTK\n    dataset = mesh.toVTK()\n    dataset.cell_arrays['Magnitude'] = model\n    dataset.cell_arrays['Active'] = actv#np.load('active.npy').astype(int)\n    dataset.active_scalar_name = 'Magnitude'\n\n    # Remove inactive cells\n    threshed = dataset.threshold(0.5, scalars='Active')\n\n    # Instantiate plotting window\n    plotter = pyvista.Plotter(notebook=not interactive)\n    # Show axes labels\n    plotter.show_grid(all_edges=False,)\n    # Add a bounding box of original mesh to see total extent\n    plotter.add_mesh(dataset.outline(), color='k')\n    # Show input surface topography\n    rng = list(surface.get_data_range())\n    rng[0] -= (rng[1] - rng[0])/1.5\n#     plotter.add_mesh(surface, cmap='gist_earth', clim=rng, opacity=.65)\n\n    # Plotting params\n    d_params = dict(\n            show_edges=False,\n            cmap='jet',\n            scalars='Magnitude',\n            scalar_bar_args=dict(label_font_size=20, title_font_size=25),\n            clim=clim\n        )\n\n    # Clip volume in half\n    plotter.add_mesh(threshed.clip('-y'), **d_params)\n\n    # Add all the slices\n    slices = threshed.slice_along_axis(n=5, axis='x')\n    plotter.add_mesh(slices, name='slices', **d_params)\n\n    # Show the mesh resolution at the surface\n#     plotter.add_mesh(dataset.wireframe(), opacity=0.5, **d_params)\n    # Add the vectors\n    plotter.camera_position = [-1,-1,1]\n    return plotter.show()\n\nplot_pyvista(mesh, np.log10(mesh.vol), actv, False, False)"
      ]
    },
    {
      "cell_type": "markdown",
      "metadata": {},
      "source": [
        "Save the mesh for use in an inversion\n\n"
      ]
    },
    {
      "cell_type": "code",
      "execution_count": null,
      "metadata": {
        "collapsed": false
      },
      "outputs": [],
      "source": [
        "model_fname = gdc19.get_gravity_path('actv.mod')\nmesh.writeUBC(gdc19.get_gravity_path('mesh.msh'), {model_fname:actv})"
      ]
    }
  ],
  "metadata": {
    "kernelspec": {
      "display_name": "Python 3",
      "language": "python",
      "name": "python3"
    },
    "language_info": {
      "codemirror_mode": {
        "name": "ipython",
        "version": 3
      },
      "file_extension": ".py",
      "mimetype": "text/x-python",
      "name": "python",
      "nbconvert_exporter": "python",
      "pygments_lexer": "ipython3",
      "version": "3.7.2"
    }
  },
  "nbformat": 4,
  "nbformat_minor": 0
}