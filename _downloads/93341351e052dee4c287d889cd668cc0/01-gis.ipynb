{
  "cells": [
    {
      "cell_type": "code",
      "execution_count": null,
      "metadata": {
        "collapsed": false
      },
      "outputs": [],
      "source": [
        "%matplotlib inline"
      ]
    },
    {
      "cell_type": "markdown",
      "metadata": {},
      "source": [
        "\nGIS Data\n~~~~~~~~\n\nConvert all the GIS data to OMF\n\nBe sure to install ``gdal``::\n\n    conda install gdal\n"
      ]
    },
    {
      "cell_type": "code",
      "execution_count": null,
      "metadata": {
        "collapsed": false
      },
      "outputs": [],
      "source": [
        "# Import project package\nimport gdc19"
      ]
    },
    {
      "cell_type": "code",
      "execution_count": null,
      "metadata": {
        "collapsed": false
      },
      "outputs": [],
      "source": [
        "import pyvista\nimport omf\nimport omfvista\nimport pandas as pd\nimport numpy as np"
      ]
    },
    {
      "cell_type": "markdown",
      "metadata": {},
      "source": [
        "First, get the land surface to match Z-coordinates of shape files with\nthe topography.\n\n"
      ]
    },
    {
      "cell_type": "code",
      "execution_count": null,
      "metadata": {
        "collapsed": false
      },
      "outputs": [],
      "source": [
        "description='vertices of meshed/interpolated surfaces of the ' \\\n    'land surface (based on 10-meter DEM) used in the Phase 2B '\\\n    'earth model. All data are georeferenced to UTM, zone 12N, '\\\n    'NAD 83, NAVD 88.'\n\nland_surface = gdc19.surf_to_omf(\n    'land_surface_vertices.csv',\n    'land_surface',\n    description\n    )\nland_surface.validate()\ntopo = omfvista.wrap(land_surface)"
      ]
    },
    {
      "cell_type": "markdown",
      "metadata": {},
      "source": [
        "Load the shape files\n\n"
      ]
    },
    {
      "cell_type": "code",
      "execution_count": null,
      "metadata": {
        "collapsed": false
      },
      "outputs": [],
      "source": [
        "shapes = gdc19.read_shape_file_to_omf(\n    gdc19.get_shp_path('FORGE_Outline'), topo_points=topo.points\n)\nshapes"
      ]
    },
    {
      "cell_type": "code",
      "execution_count": null,
      "metadata": {
        "collapsed": false
      },
      "outputs": [],
      "source": [
        "boundary = shapes[0]\nboundary.name = 'boundary'\nboundary.validate()"
      ]
    },
    {
      "cell_type": "code",
      "execution_count": null,
      "metadata": {
        "collapsed": false
      },
      "outputs": [],
      "source": [
        "omfvista.wrap(boundary).plot(show_edges=False)"
      ]
    },
    {
      "cell_type": "markdown",
      "metadata": {},
      "source": [
        "Now save out the GIS data to an OMF project file\n\n"
      ]
    },
    {
      "cell_type": "code",
      "execution_count": null,
      "metadata": {
        "collapsed": false
      },
      "outputs": [],
      "source": [
        "proj = omf.Project(\n    name='FORGE GIS Data',\n    description='All GIS data for the 2019 FORGE Geothermal Student Competition '\n)\n\nproj.elements = [ boundary ]\n\nproj.validate()"
      ]
    },
    {
      "cell_type": "markdown",
      "metadata": {},
      "source": [
        "Save the GIS project file\n\n"
      ]
    },
    {
      "cell_type": "code",
      "execution_count": null,
      "metadata": {
        "collapsed": false
      },
      "outputs": [],
      "source": [
        "omf.OMFWriter(proj, gdc19.get_project_path('gis.omf'))"
      ]
    }
  ],
  "metadata": {
    "kernelspec": {
      "display_name": "Python 3",
      "language": "python",
      "name": "python3"
    },
    "language_info": {
      "codemirror_mode": {
        "name": "ipython",
        "version": 3
      },
      "file_extension": ".py",
      "mimetype": "text/x-python",
      "name": "python",
      "nbconvert_exporter": "python",
      "pygments_lexer": "ipython3",
      "version": "3.7.2"
    }
  },
  "nbformat": 4,
  "nbformat_minor": 0
}