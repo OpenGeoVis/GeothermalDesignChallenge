{
  "cells": [
    {
      "cell_type": "code",
      "execution_count": null,
      "metadata": {
        "collapsed": false
      },
      "outputs": [],
      "source": [
        "%matplotlib inline"
      ]
    },
    {
      "cell_type": "markdown",
      "metadata": {},
      "source": [
        "\nSurface Data\n~~~~~~~~~~~~\n\nThis notebook aggregates all the surface data for the FORGE site into a single\nOpen Mining Format (OMF) project file.\n\nHere we load all the surface data and create `omf.SurfaceElement` objects.\n"
      ]
    },
    {
      "cell_type": "code",
      "execution_count": null,
      "metadata": {
        "collapsed": false
      },
      "outputs": [],
      "source": [
        "# sphinx_gallery_thumbnail_number = 6\n# Import project package\nimport gdc19"
      ]
    },
    {
      "cell_type": "code",
      "execution_count": null,
      "metadata": {
        "collapsed": false
      },
      "outputs": [],
      "source": [
        "import pyvista\nimport omf\nimport omfvista\nimport pandas as pd\nimport numpy as np"
      ]
    },
    {
      "cell_type": "code",
      "execution_count": null,
      "metadata": {
        "collapsed": false
      },
      "outputs": [],
      "source": [
        "description='This contains vertices of meshed/interpolated ' \\\n    'surfaces of the granitoid-basin fill contact used in the ' \\\n    'Phase 2B earth model. All data are georeferenced to UTM, ' \\\n    'zone 12N, NAD 83, NAVD 88.'\n\ntop_granitoid = gdc19.surf_to_omf(\n    'top_granitoid_vertices.csv',\n    'top_granitoid',\n    description\n    )\ntop_granitoid.validate()"
      ]
    },
    {
      "cell_type": "code",
      "execution_count": null,
      "metadata": {
        "collapsed": false
      },
      "outputs": [],
      "source": [
        "omfvista.wrap(top_granitoid).plot(show_edges=False)"
      ]
    },
    {
      "cell_type": "code",
      "execution_count": null,
      "metadata": {
        "collapsed": false
      },
      "outputs": [],
      "source": [
        "description='Negro Mag Fault used in the Phase 2B earth model. ' \\\n    'All data are georeferenced to UTM, zone 12N, NAD 83, NAVD 88.'\n\nnegro_mag_fault = gdc19.surf_to_omf(\n    'Negro_Mag_Fault_vertices.csv',\n    'negro_mag_fault',\n    description\n    )\nnegro_mag_fault.validate()"
      ]
    },
    {
      "cell_type": "code",
      "execution_count": null,
      "metadata": {
        "collapsed": false
      },
      "outputs": [],
      "source": [
        "omfvista.wrap(negro_mag_fault).plot(show_edges=False)"
      ]
    },
    {
      "cell_type": "code",
      "execution_count": null,
      "metadata": {
        "collapsed": false
      },
      "outputs": [],
      "source": [
        "description='surfaces of the Opal Mound Fault used in the Phase ' \\\n    '2B earth model. All data are georeferenced to UTM, zone '\\\n    '12N, NAD 83, NAVD 88.'\n\nopal_mound_fault = gdc19.surf_to_omf(\n    'Opal_Mound_Fault_vertices.csv',\n    'opal_mound_fault',\n    description\n    )\nopal_mound_fault.validate()"
      ]
    },
    {
      "cell_type": "code",
      "execution_count": null,
      "metadata": {
        "collapsed": false
      },
      "outputs": [],
      "source": [
        "omfvista.wrap(opal_mound_fault).plot(show_edges=False)"
      ]
    },
    {
      "cell_type": "code",
      "execution_count": null,
      "metadata": {
        "collapsed": false
      },
      "outputs": [],
      "source": [
        "# temp_175c: '175C_vertices.csv'\ndescription='vertices of meshed/interpolated surfaces of the ' \\\n    'interpolated temperature isosurfaces for 175 degrees C used ' \\\n    'in the Phase 2B earth model. All data are georeferenced to ' \\\n    'UTM, zone 12N, NAD 83, NAVD 88.'\n\ntemp_175c = gdc19.surf_to_omf(\n    '175C_vertices.csv',\n    'temp_175c',\n    description\n    )\ntemp_175c.data = [\n        omf.ScalarData(\n            name='constant temperature value of 175 for surface',\n            array=np.full(temp_175c.geometry.num_nodes, 175.),\n            location='vertices'),]\ntemp_175c.validate()"
      ]
    },
    {
      "cell_type": "code",
      "execution_count": null,
      "metadata": {
        "collapsed": false
      },
      "outputs": [],
      "source": [
        "omfvista.wrap(temp_175c).plot(show_edges=False)"
      ]
    },
    {
      "cell_type": "code",
      "execution_count": null,
      "metadata": {
        "collapsed": false
      },
      "outputs": [],
      "source": [
        "# temp_225c: '225C_vertices.csv'\ndescription='vertices of meshed/interpolated surfaces of the '\\\n    'interpolated temperature isosurfaces for 225 degrees C used '\\\n    'in the Phase 2B earth model. All data are georeferenced to ' \\\n    'UTM, zone 12N, NAD 83, NAVD 88.'\n\ntemp_225c = gdc19.surf_to_omf(\n    '225C_vertices.csv',\n    'temp_225c',\n    description\n    )\ntemp_225c.data = [\n        omf.ScalarData(\n            name='constant temperature value of 225 for surface',\n            array=np.full(temp_225c.geometry.num_nodes, 225.),\n            location='vertices'),]\ntemp_225c.validate()"
      ]
    },
    {
      "cell_type": "code",
      "execution_count": null,
      "metadata": {
        "collapsed": false
      },
      "outputs": [],
      "source": [
        "omfvista.wrap(temp_225c).plot(show_edges=False)"
      ]
    },
    {
      "cell_type": "markdown",
      "metadata": {},
      "source": [
        "land_surface: 'land_surface_vertices.csv'\n\n"
      ]
    },
    {
      "cell_type": "code",
      "execution_count": null,
      "metadata": {
        "collapsed": false
      },
      "outputs": [],
      "source": [
        "description='vertices of meshed/interpolated surfaces of the ' \\\n    'land surface (based on 10-meter DEM) used in the Phase 2B '\\\n    'earth model. All data are georeferenced to UTM, zone 12N, '\\\n    'NAD 83, NAVD 88.'\n\nland_surface = gdc19.surf_to_omf(\n    'land_surface_vertices.csv',\n    'land_surface',\n    description\n    )\nland_surface.validate()"
      ]
    },
    {
      "cell_type": "code",
      "execution_count": null,
      "metadata": {
        "collapsed": false
      },
      "outputs": [],
      "source": [
        "# NOW ADD TEXTURES TO THE LAND SURFACE\n\nfname = gdc19.get_gis_path('Geologic_map_on_air_photo.png')\nname = 'geo_aer'\ndescription = 'geologic map of the Utah FORGE site with aerial '\\\n    'imagery. All data are georeferenced to UTM, zone 12N, NAD '\\\n    '83, NAVD 88.'\ngeo_aer = gdc19.load_texture_to_omf(fname, name, description)\n\n# topographic_map.png\nfname = gdc19.get_gis_path('topographic_map.png')\nname = 'topo_map'\ndescription = ' topographic map of the Utah FORGE site. '\\\n    'All data are georeferenced to UTM, zone 12N, NAD 83, NAVD 88.'\ntopo_map = gdc19.load_texture_to_omf(fname, name, description)\n\n# Geologic_map_no_quaternary.tif\nfname = gdc19.get_gis_path('Geologic_map_no_quaternary.png')\nname = 'geo_no_aer'\ndescription = 'geologic map of the Utah FORGE site with '\\\n    'quaternary faults labeled. All data are georeferenced to UTM, '\\\n    'zone 12N, NAD 83, NAVD 88.'\ngeo_no_aer = gdc19.load_texture_to_omf(fname, name, description)\n\nland_surface.textures = [geo_aer, topo_map, geo_no_aer]\nland_surface.validate()"
      ]
    },
    {
      "cell_type": "code",
      "execution_count": null,
      "metadata": {
        "collapsed": false
      },
      "outputs": [],
      "source": [
        "topo = omfvista.wrap(land_surface)"
      ]
    },
    {
      "cell_type": "code",
      "execution_count": null,
      "metadata": {
        "collapsed": false
      },
      "outputs": [],
      "source": [
        "topo.plot(show_edges=False, texture=True)"
      ]
    },
    {
      "cell_type": "markdown",
      "metadata": {},
      "source": [
        "And now create an OMF project file for the surfaces\n\n"
      ]
    },
    {
      "cell_type": "code",
      "execution_count": null,
      "metadata": {
        "collapsed": false
      },
      "outputs": [],
      "source": [
        "proj = omf.Project(\n    name='FORGE Surfaces',\n    description='All surfaces for the 2019 FORGE Geothermal Student Competition '\n)\n\nproj.elements = [land_surface,\n                 temp_225c,\n                 temp_175c,\n                 opal_mound_fault,\n                 negro_mag_fault,\n                 top_granitoid,\n                ]\n\nproj.validate()"
      ]
    },
    {
      "cell_type": "markdown",
      "metadata": {},
      "source": [
        "Save the GIS project file\n\n"
      ]
    },
    {
      "cell_type": "code",
      "execution_count": null,
      "metadata": {
        "collapsed": false
      },
      "outputs": [],
      "source": [
        "omf.OMFWriter(proj, gdc19.get_project_path('surfaces.omf'))"
      ]
    }
  ],
  "metadata": {
    "kernelspec": {
      "display_name": "Python 3",
      "language": "python",
      "name": "python3"
    },
    "language_info": {
      "codemirror_mode": {
        "name": "ipython",
        "version": 3
      },
      "file_extension": ".py",
      "mimetype": "text/x-python",
      "name": "python",
      "nbconvert_exporter": "python",
      "pygments_lexer": "ipython3",
      "version": "3.7.3"
    }
  },
  "nbformat": 4,
  "nbformat_minor": 0
}