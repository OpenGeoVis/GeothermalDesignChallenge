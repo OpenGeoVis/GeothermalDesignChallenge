{
  "cells": [
    {
      "cell_type": "code",
      "execution_count": null,
      "metadata": {
        "collapsed": false
      },
      "outputs": [],
      "source": [
        "%matplotlib inline"
      ]
    },
    {
      "cell_type": "markdown",
      "metadata": {},
      "source": [
        "\nInspect Gravity Model\n~~~~~~~~~~~~~~~~~~~~~~~~~\n\nThis notebook examines the inverted gravity model and shows off a useful PVGeo\nalgorithm for rmeove parts of a mesh/model that are baove a topographic surface.\n"
      ]
    },
    {
      "cell_type": "code",
      "execution_count": null,
      "metadata": {
        "collapsed": false
      },
      "outputs": [],
      "source": [
        "# sphinx_gallery_thumbnail_number = 6\n\n# Import project package\nimport gdc19"
      ]
    },
    {
      "cell_type": "code",
      "execution_count": null,
      "metadata": {
        "collapsed": false
      },
      "outputs": [],
      "source": [
        "import pyvista\nimport PVGeo\nimport omfvista\nimport pandas as pd\nimport numpy as np"
      ]
    },
    {
      "cell_type": "markdown",
      "metadata": {},
      "source": [
        "Load all the datasets created in the data aggreagation section\n\n"
      ]
    },
    {
      "cell_type": "code",
      "execution_count": null,
      "metadata": {
        "collapsed": false
      },
      "outputs": [],
      "source": [
        "gis_data = omfvista.load_project(gdc19.get_project_path('gis.omf'))\nprint(gis_data.keys())"
      ]
    },
    {
      "cell_type": "code",
      "execution_count": null,
      "metadata": {
        "collapsed": false
      },
      "outputs": [],
      "source": [
        "surfaces = omfvista.load_project(gdc19.get_project_path('surfaces.omf'))\nprint(surfaces.keys())"
      ]
    },
    {
      "cell_type": "markdown",
      "metadata": {},
      "source": [
        "load the gravity model\n\n"
      ]
    },
    {
      "cell_type": "code",
      "execution_count": null,
      "metadata": {
        "collapsed": false
      },
      "outputs": [],
      "source": [
        "gf = gdc19.get_gravity_path('forge_inverse_problem/RESULT_THRESHED.vtu')\ngrav_model = pyvista.read(gf)\ngrav_model.active_scalar_name = 'Magnitude'"
      ]
    },
    {
      "cell_type": "markdown",
      "metadata": {},
      "source": [
        "Grab data from multi blocks for conveinance\n\n"
      ]
    },
    {
      "cell_type": "code",
      "execution_count": null,
      "metadata": {
        "collapsed": false
      },
      "outputs": [],
      "source": [
        "topo = surfaces['land_surface']\ngranitoid = surfaces['top_granitoid']\n\np = pyvista.Plotter()\np.add_mesh(topo)\np.add_mesh(granitoid, color=True)\np.show()"
      ]
    },
    {
      "cell_type": "markdown",
      "metadata": {},
      "source": [
        "Note how the above figure has artificats from where the top of granite\nsurface boundary matches the topographic surface. To mitigate these effect,\nwe can use a filtering technique that will remove parts of a mesh above or\nwithin a tolerance of a given surface. PVGeo has a filter that perfroms\nthis type of operation with ease.\n\nLet's run a PVGeo filter to extract the topo surface from the granitoid\nsurface - :class:`PVGeo.grids.ExtractTopography`\n\n"
      ]
    },
    {
      "cell_type": "code",
      "execution_count": null,
      "metadata": {
        "collapsed": false
      },
      "outputs": [],
      "source": [
        "# Run the PVGeo algorithm\ngranitoid = PVGeo.grids.ExtractTopography(\n                remove=True, # remove the inactive cells\n                tolerance=10.0 # buffer around the topo surface\n            ).apply(granitoid, topo)\n\np = pyvista.Plotter()\np.add_mesh(topo)\np.add_mesh(granitoid, color=True)\np.show()"
      ]
    },
    {
      "cell_type": "markdown",
      "metadata": {},
      "source": [
        "Now both the topographic surface and the granitoid boundary can be rendered\nwithout arficats due to where they overlap.\n\nThis type of topography extraction is often very useful with 3D models where\nthe model domain goes above the topographic surface - thus we may want to\nparts of a 3D model above the topography. Let's try this with the gravity\nmodel.\n\n"
      ]
    },
    {
      "cell_type": "code",
      "execution_count": null,
      "metadata": {
        "collapsed": false
      },
      "outputs": [],
      "source": [
        "grav_kwargs = dict(\n    cmap='jet',\n    clim=[-0.25,0.25],\n    stitle='Inverted Density Model'\n)\n\ntemp_kwargs = dict(\n    cmap='coolwarm',\n    clim=[0,255],\n    stitle='Temperature (C)'\n)"
      ]
    },
    {
      "cell_type": "markdown",
      "metadata": {},
      "source": [
        "Now extract the topographic surface from the model to have a more realistic\ndomain:\n\n"
      ]
    },
    {
      "cell_type": "code",
      "execution_count": null,
      "metadata": {
        "collapsed": false
      },
      "outputs": [],
      "source": [
        "# Remove values above topography\ngrav_model_no_topo = PVGeo.grids.ExtractTopography(\n                remove=True, # remove the inactive cells\n                tolerance=10.0 # buffer around the topo surface\n               ).apply(grav_model, topo)\n\ngrav_model_no_topo.plot(**grav_kwargs)"
      ]
    },
    {
      "cell_type": "code",
      "execution_count": null,
      "metadata": {
        "collapsed": false
      },
      "outputs": [],
      "source": [
        "grav_roi = grav_model.threshold(0.07)\ngrav_roi.plot(**grav_kwargs)"
      ]
    },
    {
      "cell_type": "markdown",
      "metadata": {},
      "source": [
        "And just out of curiosity, how big of a volume is that density range?\n\n"
      ]
    },
    {
      "cell_type": "code",
      "execution_count": null,
      "metadata": {
        "collapsed": false
      },
      "outputs": [],
      "source": [
        "print('Gravity model Region is {:.2f} cubic kilometers.'.format(grav_roi.volume * 1e-9))"
      ]
    },
    {
      "cell_type": "markdown",
      "metadata": {},
      "source": [
        "How do the provided temperature surface contours look next to the inverted\ngravity model?\n\n"
      ]
    },
    {
      "cell_type": "code",
      "execution_count": null,
      "metadata": {
        "collapsed": false
      },
      "outputs": [],
      "source": [
        "temp_175c = surfaces['temp_175c']\ntemp_225c = surfaces['temp_225c']\n\np = pyvista.Plotter()\np.add_mesh(grav_roi, opacity=0.7, **grav_kwargs)\np.add_mesh(temp_175c, **temp_kwargs)\np.add_mesh(temp_225c, **temp_kwargs)\np.show()"
      ]
    },
    {
      "cell_type": "markdown",
      "metadata": {},
      "source": [
        "Now lets put this all together to gain insight on where that dense\nbody is in relation to the FRGE site\n\n"
      ]
    },
    {
      "cell_type": "code",
      "execution_count": null,
      "metadata": {
        "collapsed": false
      },
      "outputs": [],
      "source": [
        "boundary = gis_data['boundary']\nboundary_tube = PVGeo.filters.AddCellConnToPoints(cell_type=4,\n                    close_loop=True).apply(boundary).tube(radius=30)\n\np = pyvista.Plotter()\np.add_mesh(topo, opacity=0.7)\np.add_mesh(grav_roi, **grav_kwargs)\np.add_mesh(granitoid, color=True)\np.add_mesh(boundary_tube, color='yellow')\np.show()"
      ]
    }
  ],
  "metadata": {
    "kernelspec": {
      "display_name": "Python 3",
      "language": "python",
      "name": "python3"
    },
    "language_info": {
      "codemirror_mode": {
        "name": "ipython",
        "version": 3
      },
      "file_extension": ".py",
      "mimetype": "text/x-python",
      "name": "python",
      "nbconvert_exporter": "python",
      "pygments_lexer": "ipython3",
      "version": "3.7.2"
    }
  },
  "nbformat": 4,
  "nbformat_minor": 0
}