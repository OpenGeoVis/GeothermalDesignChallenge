{
 "cells": [
  {
   "cell_type": "code",
   "execution_count": 74,
   "metadata": {
    "collapsed": true
   },
   "outputs": [],
   "source": [
    "import matplotlib.pyplot as plt\n",
    "import numpy as np"
   ]
  },
  {
   "cell_type": "code",
   "execution_count": 75,
   "metadata": {
    "collapsed": true
   },
   "outputs": [],
   "source": [
    "import csv\n",
    "with open(\"main.csv\") as csvfile:\n",
    "    data = csv.reader(csvfile, quoting=csv.QUOTE_NONNUMERIC)\n",
    "    array = []\n",
    "    for line in data:\n",
    "        array.append(line)"
   ]
  },
  {
   "cell_type": "markdown",
   "metadata": {},
   "source": [
    "Lithology:\n",
    "Basin Fill from 0 to 1007 m\n",
    "Granitoid from 1007 m to 2296.9 m"
   ]
  },
  {
   "cell_type": "markdown",
   "metadata": {},
   "source": [
    "Coordinates: x = 335380.766, y = 4263040.83, z = 1681.61659\n",
    "\n",
    "Depth: 2296.9 m"
   ]
  },
  {
   "cell_type": "code",
   "execution_count": 76,
   "metadata": {
    "collapsed": true
   },
   "outputs": [],
   "source": [
    "data = np.array(array)\n",
    "\n",
    "\n",
    "DEPTH = data[:,1] #DEPTH (M)\n",
    "\n",
    "\n",
    "CDF = data[:,19] #NA\n",
    "CTFC = data[:,20]\n",
    "CNTC = data[:,21] \n",
    "CTEM = data[:,22]\n",
    "DSOZ = data[:,23]\n",
    "ED = data[:,28]\n",
    "GDEV = data[:,29]\n",
    "GTEM = data[:,32]\n",
    "HDRB = data[:,35]\n",
    "HMIN = data[:,37]\n",
    "HMNO = data[:,38]\n",
    "HPRA = data[:,40] #apparent resistivity?\n",
    "ND = data[:,42] #neutron density?\n",
    "TENS = data[:,55]\n",
    "\n",
    "\n",
    "#Caliper\n",
    "HCAL = data[:,33]\n",
    "\n",
    "#Shallow resistivity\n",
    "AF10 = data[:,2]\n",
    "AF20 = data[:,3]\n",
    "AF30 = data[:,4]\n",
    "AF60 = data[:,5]\n",
    "AF90 = data[:,6]\n",
    "AO10 = data[:,7]\n",
    "AO20 = data[:,8]\n",
    "AO30 = data[:,9]\n",
    "AO60 = data[:,10]\n",
    "AO90 = data[:,11]\n",
    "AT10 = data[:,12]\n",
    "AT20 = data[:,13]\n",
    "AT30 = data[:,14]\n",
    "AORX = data[:,18]\n",
    "RXO8 = data[:,50]\n",
    "RXOZ = data[:,51]\n",
    "\n",
    "#Deep Resistivity\n",
    "AT90 = data[:,16] #1\n",
    "AT60 = data[:,15] #2\n",
    "AORT = data[:,17] #3\n",
    "ATCO10 = data[:,58] #1000/ATCO......5\n",
    "ATCO20 = data[:,59] #1000/ATCO......5\n",
    "ATCO30 = data[:,60] #1000/ATCO......5\n",
    "ATCO60 = data[:,61] #1000/ATCO......5\n",
    "ATCO90 = data[:,62] #1000/ATCO......5\n",
    "\n",
    "#Density porosity\n",
    "DPHZ = data[:,25]\n",
    "DNPH = data[:,24]\n",
    "PXND = data[:,46] #HILT?\n",
    "\n",
    "#Density Correction\n",
    "HDRA = data[:,34]\n",
    "\n",
    "\n",
    "#Gamma Ray\n",
    "ECGR = data[:,27]\n",
    "GR = data[:,30]\n",
    "GR_EDTC = data[:,31]\n",
    "HGR = data[:,36]\n",
    "\n",
    "#Neutron Porosity\n",
    "HTNP_SAN = data[:,57] #1\n",
    "NPHI = data[:,43] #2\n",
    "NPOR = data[:,44] #2\n",
    "HTNP = data[:,41] #2\n",
    "TNPH = data[:,56] #2\n",
    "\n",
    "\n",
    "#Photoelectric Effect\n",
    "PEFZ = data[:,45]\n",
    "\n",
    "#Bulk Density\n",
    "RHOZ = data[:,47]\n",
    "\n",
    "#Spontaneous Potential\n",
    "SP = data[:,52]\n",
    "SPAR = data[:,53] #apparent SP?\n",
    "\n",
    "#Rwa\n",
    "RWA = data[:,49] #HILT?\n",
    "\n"
   ]
  },
  {
   "cell_type": "code",
   "execution_count": 77,
   "metadata": {},
   "outputs": [
    {
     "name": "stdout",
     "output_type": "stream",
     "text": [
      "15128\n"
     ]
    }
   ],
   "source": [
    "print(len(DEPTH))"
   ]
  },
  {
   "cell_type": "code",
   "execution_count": null,
   "metadata": {
    "collapsed": true
   },
   "outputs": [],
   "source": [
    "##Density Log\n",
    "\n",
    "plt.figure(figsize = (6, 12))\n",
    "\n",
    "plt.plot(RHOZ, DEPTH,'b', label='Bulk Density')\n",
    "plt.ylabel('Depth (m)', fontsize = 14)\n",
    "plt.xlabel('Density (g/cc)', fontsize=14)\n",
    "plt.grid(color='grey', linestyle = '-', linewidth=1)\n",
    "plt.gca().invert_yaxis()\n",
    "plt.title(\"Bulk Density\", fontsize=16)\n",
    "plt.legend(loc='upper left')\n",
    "plt.xlim(0, 5)\n",
    "plt.ylim(2250, 5)\n",
    "plt.grid(which='minor', alpha=0.2)\n",
    "major_ticks = np.arange(0, 101, 20)\n",
    "\n",
    "\n",
    "plt.tight_layout()\n",
    "plt.show()"
   ]
  },
  {
   "cell_type": "code",
   "execution_count": null,
   "metadata": {
    "collapsed": true
   },
   "outputs": [],
   "source": [
    "#Neutron and Density Porosity\n",
    "plt.figure(figsize = (6, 12))\n",
    "\n",
    "plt.plot(DPHZ, DEPTH,'b', label='Density Log')\n",
    "plt.plot(NPHI, DEPTH, 'r', label='Neutron Log')\n",
    "plt.ylabel('Depth (m)', fontsize = 14)\n",
    "plt.xlabel('Porosity (%)', fontsize=14)\n",
    "plt.grid(color='grey', linestyle = '-', linewidth=1)\n",
    "plt.gca().invert_yaxis()\n",
    "plt.title(\"Neutron and Density Porosities\", fontsize=16)\n",
    "plt.legend(loc='upper left')\n",
    "plt.xlim(-1, 1)\n",
    "plt.ylim(2250, 5)\n",
    "plt.grid(which='minor', alpha=0.2)\n",
    "major_ticks = np.arange(0, 101, 20)\n",
    "\n",
    "\n",
    "plt.tight_layout()\n",
    "plt.show()"
   ]
  },
  {
   "cell_type": "code",
   "execution_count": null,
   "metadata": {
    "collapsed": true
   },
   "outputs": [],
   "source": [
    "#Resistivity\n",
    "plt.figure(figsize = (6, 12))\n",
    "\n",
    "ax.set_xscale('log')\n",
    "plt.scatter(AT90, DEPTH)\n",
    "plt.ylabel('Depth (m)', fontsize = 14)\n",
    "plt.xlabel('Ohm*m', fontsize=14)\n",
    "plt.grid(color='grey', linestyle = '-', linewidth=1)\n",
    "plt.gca().invert_yaxis()\n",
    "plt.title(\"Resistivity\", fontsize=16)\n",
    "plt.grid(which='minor', alpha=0.2)\n",
    "plt.ylim(2250, 5)\n",
    "major_ticks = np.arange(0, 101, 20)\n",
    "\n",
    "\n",
    "\n",
    "plt.tight_layout()\n",
    "plt.show()"
   ]
  },
  {
   "cell_type": "code",
   "execution_count": null,
   "metadata": {
    "collapsed": true
   },
   "outputs": [],
   "source": [
    "#Gamma Ray\n",
    "plt.figure(figsize = (6, 12))\n",
    "\n",
    "\n",
    "plt.plot(ECGR, DEPTH)\n",
    "plt.ylabel('Depth (m)', fontsize = 14)\n",
    "plt.xlabel('API', fontsize=14)\n",
    "plt.grid(color='grey', linestyle = '-', linewidth=1)\n",
    "plt.gca().invert_yaxis()\n",
    "plt.title(\"Gamma Ray\", fontsize=16)\n",
    "plt.grid(which='minor', alpha=0.2)\n",
    "plt.ylim(2250, 5)\n",
    "major_ticks = np.arange(0, 101, 20)\n",
    "\n",
    "\n",
    "plt.tight_layout()\n",
    "plt.show()"
   ]
  },
  {
   "cell_type": "code",
   "execution_count": null,
   "metadata": {
    "collapsed": true
   },
   "outputs": [],
   "source": [
    "#Total Porosity\n",
    "#RMS of Neutron and Density\n",
    "\n",
    "T_porosity = []\n",
    "for x in range(0, len(DPHZ)):\n",
    "    p = (((DPHZ[x]**2) + (HTNP_SAN[x]**2))/2)**(1/2)\n",
    "    T_porosity.append(p)\n",
    "    \n",
    "plt.figure(figsize = (6, 12))\n",
    "\n",
    "plt.plot(T_porosity, DEPTH)\n",
    "plt.ylabel('Depth (m)', fontsize = 14)\n",
    "plt.xlabel('Porosity (%)', fontsize=14)\n",
    "plt.grid(color='grey', linestyle = '-', linewidth=1)\n",
    "plt.gca().invert_yaxis()\n",
    "plt.title(\"Total Porosity\", fontsize=16)\n",
    "plt.grid(which='minor', alpha=0.2)\n",
    "plt.ylim(2250, 5)\n",
    "plt.xlim(0, 1)\n",
    "major_ticks = np.arange(0, 101, 20)\n",
    "\n",
    "\n",
    "plt.tight_layout()\n",
    "plt.show()"
   ]
  },
  {
   "cell_type": "code",
   "execution_count": null,
   "metadata": {
    "collapsed": true
   },
   "outputs": [],
   "source": [
    "#Pickett Plot\n",
    "\n",
    "a = 1\n",
    "m = 2.1 ##estimated value\n",
    "Rw = 0.035 ##estimated value\n",
    "Rt = []\n",
    "phi = np.arange(1, 0.01, -0.001)\n",
    "\n",
    "for x in range(0, len(phi)):\n",
    "    rt = (a * Rw)/(phi[x]**m)\n",
    "    Rt.append(rt)\n",
    "\n",
    "    \n",
    "fig = plt.figure(figsize=(12,5))\n",
    "\n",
    "ax = fig.add_subplot(1, 1, 1)\n",
    "ax.set_yscale('log')\n",
    "ax.set_xscale('log')\n",
    "plt.ylim(0.1, 1)\n",
    "plt.xlim(0.01, 100)\n",
    "plt.xlabel('Resistivity (Ohm*m)', fontsize = 14)\n",
    "plt.ylabel('Porosity', fontsize =14)\n",
    "plt.title('Pickett Plot for Taylor Data', fontsize = 18)\n",
    "plt.scatter(AT90, T_porosity)\n",
    "plt.plot(Rt,phi, 'r')\n",
    "plt.grid(color='grey', which = 'major', linestyle='-', linewidth=1)\n",
    "plt.grid(color = 'grey', which = 'minor', linestyle = '--', linewidth = 1)\n",
    "\n",
    "\n",
    "plt.tight_layout()\n",
    "plt.show()"
   ]
  }
 ],
 "metadata": {
  "kernelspec": {
   "display_name": "Python 3",
   "language": "python",
   "name": "python3"
  },
  "language_info": {
   "codemirror_mode": {
    "name": "ipython",
    "version": 3
   },
   "file_extension": ".py",
   "mimetype": "text/x-python",
   "name": "python",
   "nbconvert_exporter": "python",
   "pygments_lexer": "ipython3",
   "version": "3.6.8"
  }
 },
 "nbformat": 4,
 "nbformat_minor": 2
}
