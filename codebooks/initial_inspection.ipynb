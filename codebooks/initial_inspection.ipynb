{
 "cells": [
  {
   "cell_type": "code",
   "execution_count": 25,
   "metadata": {},
   "outputs": [
    {
     "data": {
      "text/plain": [
       "'/Volumes/GoogleDrive/My Drive/utah-forge'"
      ]
     },
     "execution_count": 25,
     "metadata": {},
     "output_type": "execute_result"
    }
   ],
   "source": [
    "import sys\n",
    "# This makes the gdc19 package avaialble\n",
    "sys.path.append('../')\n",
    "import gdc19\n",
    "gdc19.setup_adam()"
   ]
  },
  {
   "cell_type": "code",
   "execution_count": 26,
   "metadata": {
    "collapsed": true
   },
   "outputs": [],
   "source": [
    "import pandas as pd\n",
    "import numpy as np\n",
    "import vtki\n",
    "import omfvtk\n",
    "import PVGeo"
   ]
  },
  {
   "cell_type": "code",
   "execution_count": null,
   "metadata": {},
   "outputs": [],
   "source": [
    "vtki.set_plot_theme('doc')\n",
    "vtki.rcParams['font']['size'] = 12\n",
    "vtki.rcParams['font']['title_size'] = 12\n",
    "vtki.rcParams['font']['label_size'] = 12"
   ]
  },
  {
   "cell_type": "markdown",
   "metadata": {},
   "source": [
    "-----\n",
    "\n",
    "# Initial Inspection\n",
    "\n",
    "This notebook loads up all the data and works through an initial inspection."
   ]
  },
  {
   "cell_type": "code",
   "execution_count": null,
   "metadata": {},
   "outputs": [],
   "source": [
    "proj = gdc19.load_project()\n",
    "proj"
   ]
  },
  {
   "cell_type": "code",
   "execution_count": null,
   "metadata": {
    "collapsed": true
   },
   "outputs": [],
   "source": [
    "# Add values to the meshes so colors are consistent with other data\n",
    "try:\n",
    "    proj['temp_175c'].point_arrays['Temperature'] = np.full(proj['temp_175c'].n_points, 175.)\n",
    "    proj['temp_225c'].point_arrays['Temperature'] = np.full(proj['temp_225c'].n_points, 225.)\n",
    "except:\n",
    "    import logging\n",
    "    logging.warning('issue.')"
   ]
  },
  {
   "cell_type": "code",
   "execution_count": null,
   "metadata": {},
   "outputs": [],
   "source": [
    "web_friendly = False\n",
    "if web_friendly:\n",
    "    # do stuff\n",
    "    topo = vtki.read(gdc19.get_web_path('topo.vtk'))\n",
    "    granitoid = vtki.read(gdc19.get_web_path('granite.vtk'))\n",
    "    texture = vtki.load_texture(gdc19.get_web_path('geology-aerial-compressed.jpg'))\n",
    "    topo.textures['geo_aer'] = texture\n",
    "else:\n",
    "    topo = proj['land_surface']\n",
    "    granitoid = proj['top_granitoid']\n",
    "topo"
   ]
  },
  {
   "cell_type": "code",
   "execution_count": null,
   "metadata": {},
   "outputs": [],
   "source": [
    "# Load kriged temperature model from Lane\n",
    "# Read the kirgged model and variance\n",
    "temp_grid = gdc19.load_kriged_temp()\n",
    "\n",
    "# Remove values above topography\n",
    "temp_grid = PVGeo.grids.ExtractTopography(\n",
    "                remove=True, # remove the inactive cells\n",
    "                tolerance=10.0 # buffer around the topo surface\n",
    "               ).Apply(temp_grid, topo)\n",
    "temp_grid"
   ]
  },
  {
   "cell_type": "markdown",
   "metadata": {},
   "source": [
    "# Integrated Scene\n",
    "\n",
    "Now use `vtki` to create and integrated rendering of all the available data\n"
   ]
  },
  {
   "cell_type": "code",
   "execution_count": null,
   "metadata": {
    "collapsed": true
   },
   "outputs": [],
   "source": [
    "#vtki.close_all()\n",
    "p = vtki.BackgroundPlotter()"
   ]
  },
  {
   "cell_type": "code",
   "execution_count": null,
   "metadata": {
    "collapsed": true
   },
   "outputs": [],
   "source": [
    "p.show_grid()"
   ]
  },
  {
   "cell_type": "markdown",
   "metadata": {},
   "source": [
    "## Topography & Imagery"
   ]
  },
  {
   "cell_type": "code",
   "execution_count": null,
   "metadata": {
    "collapsed": true
   },
   "outputs": [],
   "source": [
    "# We can update this cell to change the texture\n",
    "p.add_mesh(topo, \n",
    "           texture='geo_aer', \n",
    "           name='topo', color='white')"
   ]
  },
  {
   "cell_type": "markdown",
   "metadata": {},
   "source": [
    "## Temperature Data"
   ]
  },
  {
   "cell_type": "code",
   "execution_count": null,
   "metadata": {
    "collapsed": true
   },
   "outputs": [],
   "source": [
    "temp_d_params = dict(cmap='coolwarm', stitle='Temperature', \n",
    "                     clim=temp_grid.get_data_range('Temperature'))"
   ]
  },
  {
   "cell_type": "code",
   "execution_count": null,
   "metadata": {
    "collapsed": true
   },
   "outputs": [],
   "source": [
    "p.add_mesh(proj['temperature'], name='temp', \n",
    "           point_size=10, render_points_as_spheres=True,\n",
    "           **temp_d_params)"
   ]
  },
  {
   "cell_type": "code",
   "execution_count": null,
   "metadata": {
    "collapsed": true
   },
   "outputs": [],
   "source": [
    "# add the temperature boundaries\n",
    "p.add_mesh(proj['temp_175c'], name='temp_175c', \n",
    "           style='wireframe', **temp_d_params)\n",
    "p.add_mesh(proj['temp_225c'], name='temp_225c', \n",
    "           style='wireframe', **temp_d_params)"
   ]
  },
  {
   "cell_type": "code",
   "execution_count": null,
   "metadata": {
    "collapsed": true
   },
   "outputs": [],
   "source": [
    "temp_grid.set_active_scalar('Temperature')\n",
    "thresher = vtki.Threshold(temp_grid, plotter=p, outline=False,\n",
    "                          display_params=dict(cmap='coolwarm', \n",
    "                                 clim=temp_grid.get_data_range(),\n",
    "                                 show_scalar_bar=True, name='thresh',\n",
    "                                 opacity=0.6),\n",
    "                         default_params=dict(dmin=175, dmax=255))"
   ]
  },
  {
   "cell_type": "code",
   "execution_count": null,
   "metadata": {
    "collapsed": true
   },
   "outputs": [],
   "source": [
    "temp_grid.set_active_scalar('Temperature_var')\n",
    "slicer = vtki.OrthogonalSlicer(temp_grid, plotter=p, outline=False,\n",
    "                               display_params=dict(cmap='bone_r', \n",
    "                                 clim=temp_grid.get_data_range(),\n",
    "                                 show_scalar_bar=False, name='slices'),\n",
    "                               clean=False)"
   ]
  },
  {
   "cell_type": "markdown",
   "metadata": {},
   "source": [
    "## Fault Surfaces"
   ]
  },
  {
   "cell_type": "code",
   "execution_count": null,
   "metadata": {
    "collapsed": true
   },
   "outputs": [],
   "source": [
    "p.add_mesh(proj['negro_mag_fault'], name='negro_mag_fault',\n",
    "           show_edges=False, color='blue', opacity=0.5)\n",
    "p.add_mesh(proj['opal_mound_fault'], name='opal_mound_fault',\n",
    "           show_edges=False, color='orange', opacity=0.5)"
   ]
  },
  {
   "cell_type": "markdown",
   "metadata": {},
   "source": [
    "## ROI Boundary\n",
    "\n",
    "Region of interest - where we can place a well"
   ]
  },
  {
   "cell_type": "code",
   "execution_count": null,
   "metadata": {
    "collapsed": true
   },
   "outputs": [],
   "source": [
    "# Add the shape file stuff\n",
    "p.add_mesh(proj['boundary'], name='boundary', \n",
    "           color='azure', render_lines_as_tubes=False, line_width=10)"
   ]
  },
  {
   "cell_type": "markdown",
   "metadata": {},
   "source": [
    "## Granite Surface Boundary"
   ]
  },
  {
   "cell_type": "code",
   "execution_count": null,
   "metadata": {
    "collapsed": true
   },
   "outputs": [],
   "source": [
    "# Add the granitoid boundary\n",
    "#--\n",
    "# Lets run a PVGeo filter to extract the topo surface from\n",
    "#    the granitoid surface\n",
    "ext = PVGeo.grids.ExtractTopography(\n",
    "        remove=True, # remove the inactive cells\n",
    "        tolerance=10.0 # buffer around the topo surface\n",
    "        ).Apply(granitoid, topo)\n",
    "granitoid = ext\n",
    "#--\n",
    "# Now plot it!\n",
    "if not web_friendly:\n",
    "    p.add_mesh(granitoid, name='top_granitoid',\n",
    "               show_edges=False, style='surface',\n",
    "               color='grey', opacity=0.75, reset_camera=False,\n",
    "              )\n",
    "else:\n",
    "    p.remove_actor('top_granitoid')"
   ]
  },
  {
   "cell_type": "markdown",
   "metadata": {},
   "source": [
    "## Well Collars"
   ]
  },
  {
   "cell_type": "code",
   "execution_count": null,
   "metadata": {
    "collapsed": true
   },
   "outputs": [],
   "source": [
    "well_locs = pd.read_csv(gdc19.get_well_path('well_location_from_earth_model.csv'))\n",
    "foo = PVGeo.pointsToPolyData(well_locs[['x', 'y', 'z (land surface)']].values)\n",
    "# p.add_mesh(foo, name='well_locations', point_size=10, color='orange')\n",
    "idxs = []\n",
    "for i, pt in enumerate(foo.points):\n",
    "    if vtki.is_inside_bounds(pt,proj['boundary'].bounds):\n",
    "        idxs.append(i)\n",
    "wells_inside = well_locs.loc[idxs]\n",
    "wells_inside"
   ]
  },
  {
   "cell_type": "markdown",
   "metadata": {},
   "source": [
    "## Well Trajectories"
   ]
  },
  {
   "cell_type": "code",
   "execution_count": null,
   "metadata": {
    "collapsed": true
   },
   "outputs": [],
   "source": [
    "# Plot the wells\n",
    "WELLS = gdc19.load_well_db()\n",
    "proposed = vtki.MultiBlock()\n",
    "proposed['well_new1'] = WELLS.pop('well_new1')\n",
    "proposed['well_new2'] = WELLS.pop('well_new2')\n",
    "\n",
    "\n",
    "well_5832 = WELLS.pop('well_5832')\n",
    "#well_5832.set_active_scalar('ECGR')\n",
    "well_Acord1 = WELLS.pop('well_Acord1')\n",
    "#well_Acord1 = WELLS.set_active_scalar('GR_SPLICE (GAPI)')"
   ]
  },
  {
   "cell_type": "code",
   "execution_count": null,
   "metadata": {
    "collapsed": true
   },
   "outputs": [],
   "source": [
    "_ = p.add_mesh(WELLS, color='grey', name='WELLS', reset_camera=False)\n",
    "_ = p.add_mesh(proposed, color='red', name='proposed-wells', reset_camera=False)"
   ]
  },
  {
   "cell_type": "code",
   "execution_count": null,
   "metadata": {
    "collapsed": true
   },
   "outputs": [],
   "source": [
    "_ = p.add_mesh(well_5832, scalars='ECGR', name='5832', clim=[0,200], cmap='viridis')\n",
    "_ = p.add_mesh(well_Acord1, scalars = ' GR_SPLICE (GAPI)', name = 'Acord1', clim=[0, 200], cmap = 'viridis')"
   ]
  },
  {
   "cell_type": "markdown",
   "metadata": {},
   "source": [
    "## Gravity Data"
   ]
  },
  {
   "cell_type": "code",
   "execution_count": null,
   "metadata": {
    "collapsed": true
   },
   "outputs": [],
   "source": [
    "field_desc = {\n",
    "    \"name\": \"the individual gravity station name.\",\n",
    "    \"lon\": \"station Longitude, WGS84\",\n",
    "    \"lat\": \"station latitude, WGS84\",\n",
    "    \"easting\": \"UTM zone 12 easting, NAD83\",\n",
    "    \"northing\": \"UTM zone 12 northing, NAD83\",\n",
    "    \"HAE\": \"height above ellipsoid [meter]\",\n",
    "    \"NGVD29\": \"vertical datum for geoid [meter]\",\n",
    "    \"obs\": \"observed gravity\",\n",
    "    \"errg\": \"gravity measurement error [mGal]\",\n",
    "    \"iztc\": \"inner zone terrain correction [mGal]\",\n",
    "    \"oztc\": \"outer zone terrain correction [mGal]\",\n",
    "    \"gFA\": \"free air gravity\",\n",
    "    \"gSBGA\": \"Bouguer horizontal slab\",\n",
    "    \"gCBGA\": \"Complete Bouguer anomaly\",\n",
    "    \"Source\": \"data source\",\n",
    "}"
   ]
  },
  {
   "cell_type": "code",
   "execution_count": null,
   "metadata": {
    "collapsed": true
   },
   "outputs": [],
   "source": [
    "df = pd.read_csv(gdc19.get_gravity_path('Utah_FORGE_Gravity_Data.txt'))\n",
    "ref = ['easting', 'northing', 'HAE']\n",
    "points = df[ref]\n",
    "for name in ref:\n",
    "    df.pop(name)\n",
    "grav = vtki.PolyData(points.values)\n",
    "grav.point_arrays.update(df.to_dict('series'))\n",
    "# clip the gravity survey\n",
    "grav = grav.clip_box(gdc19.get_roi_bounds(), invert=False)\n",
    "# and shift the z component so its not directly in the topo surface\n",
    "grav.points[:, -1] += 25 # NOTE this is not good practice"
   ]
  },
  {
   "cell_type": "code",
   "execution_count": null,
   "metadata": {},
   "outputs": [],
   "source": [
    "grav"
   ]
  },
  {
   "cell_type": "code",
   "execution_count": null,
   "metadata": {},
   "outputs": [],
   "source": [
    "val = \"gCBGA\"\n",
    "p.add_mesh(grav, scalars=val, name='gravity', cmap='viridis',\n",
    "           render_points_as_spheres=True, stitle=field_desc[val],\n",
    "           point_size=10)"
   ]
  },
  {
   "cell_type": "markdown",
   "metadata": {},
   "source": [
    "# Screenshot"
   ]
  },
  {
   "cell_type": "code",
   "execution_count": null,
   "metadata": {
    "collapsed": true
   },
   "outputs": [],
   "source": [
    "# _ = p.screenshot('../integrated_view.png')\n",
    "# p.remove_actor('topo')\n",
    "# p.remove_actor('thresh')\n",
    "# p.remove_actor('slices')\n",
    "# p.export_vtkjs('integrated_view')"
   ]
  },
  {
   "cell_type": "code",
   "execution_count": null,
   "metadata": {
    "collapsed": true
   },
   "outputs": [],
   "source": [
    "# # Gravity inversion model space\n",
    "# import discretize\n",
    "\n",
    "\n",
    "# def create_mesh(bounds, sz=100):\n",
    "#     xrng = bounds[1] - bounds[0]\n",
    "#     yrng = bounds[3] - bounds[2]\n",
    "#     zrng = bounds[5] - bounds[4]\n",
    "#     nx = xrng/sz\n",
    "#     ny = yrng/sz\n",
    "#     nz = zrng/sz\n",
    "#     pad = [sz*2.5, sz*2.5, sz*5, sz*10]\n",
    "#     hx = np.array(list(np.flip(pad)) + [sz]*int(nx) + pad)\n",
    "#     hy = np.array(list(np.flip(pad)) + [sz]*int(ny) + pad)\n",
    "#     hz = np.flip(np.array([sz/2]*int(nz)*2 + pad))\n",
    "#     x0 = bounds[0::2]\n",
    "#     x0[0] -= np.sum(2*np.array(pad))\n",
    "#     x0[1] -= np.sum(2*np.array(pad))\n",
    "#     x0[2] -= np.sum(hz) - np.sum(pad)\n",
    "#     return discretize.TensorMesh([hx, hy, hz], x0=x0)\n",
    "\n",
    "# mesh = create_mesh(topo.bounds)\n",
    "# grid = mesh.toVTK()\n",
    "# p.add_mesh(grid, show_edges=True, name='gm')\n",
    "# grid"
   ]
  },
  {
   "cell_type": "code",
   "execution_count": null,
   "metadata": {},
   "outputs": [],
   "source": [
    "x0"
   ]
  },
  {
   "cell_type": "code",
   "execution_count": null,
   "metadata": {},
   "outputs": [],
   "source": []
  }
 ],
 "metadata": {
  "kernelspec": {
   "display_name": "Python 3",
   "language": "python",
   "name": "python3"
  },
  "language_info": {
   "codemirror_mode": {
    "name": "ipython",
    "version": 3
   },
   "file_extension": ".py",
   "mimetype": "text/x-python",
   "name": "python",
   "nbconvert_exporter": "python",
   "pygments_lexer": "ipython3",
   "version": "3.6.8"
  }
 },
 "nbformat": 4,
 "nbformat_minor": 2
}
