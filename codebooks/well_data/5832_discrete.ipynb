{
 "cells": [
  {
   "cell_type": "code",
   "execution_count": 1,
   "metadata": {
    "collapsed": true
   },
   "outputs": [],
   "source": [
    "import matplotlib.pyplot as plt\n",
    "import numpy as np\n",
    "import omf\n",
    "import omfvtk\n",
    "import pandas as pd\n",
    "import vtki"
   ]
  },
  {
   "cell_type": "code",
   "execution_count": 2,
   "metadata": {},
   "outputs": [
    {
     "ename": "ModuleNotFoundError",
     "evalue": "No module named 'gdc19'",
     "output_type": "error",
     "traceback": [
      "\u001b[0;31m---------------------------------------------------------------------------\u001b[0m",
      "\u001b[0;31mModuleNotFoundError\u001b[0m                       Traceback (most recent call last)",
      "\u001b[0;32m<ipython-input-2-ef0b7e7f2a8e>\u001b[0m in \u001b[0;36m<module>\u001b[0;34m()\u001b[0m\n\u001b[1;32m      2\u001b[0m \u001b[0;31m# This makes the gdc19 package available\u001b[0m\u001b[0;34m\u001b[0m\u001b[0;34m\u001b[0m\u001b[0;34m\u001b[0m\u001b[0m\n\u001b[1;32m      3\u001b[0m \u001b[0msys\u001b[0m\u001b[0;34m.\u001b[0m\u001b[0mpath\u001b[0m\u001b[0;34m.\u001b[0m\u001b[0mappend\u001b[0m\u001b[0;34m(\u001b[0m\u001b[0;34m'../../'\u001b[0m\u001b[0;34m)\u001b[0m\u001b[0;34m\u001b[0m\u001b[0;34m\u001b[0m\u001b[0m\n\u001b[0;32m----> 4\u001b[0;31m \u001b[0;32mimport\u001b[0m \u001b[0mgdc19\u001b[0m\u001b[0;34m\u001b[0m\u001b[0;34m\u001b[0m\u001b[0m\n\u001b[0m\u001b[1;32m      5\u001b[0m \u001b[0mgdc19\u001b[0m\u001b[0;34m.\u001b[0m\u001b[0msetup_adam\u001b[0m\u001b[0;34m(\u001b[0m\u001b[0;34m)\u001b[0m\u001b[0;34m\u001b[0m\u001b[0;34m\u001b[0m\u001b[0m\n",
      "\u001b[0;31mModuleNotFoundError\u001b[0m: No module named 'gdc19'"
     ]
    }
   ],
   "source": [
    "import sys\n",
    "# This makes the gdc19 package available\n",
    "sys.path.append('../../')\n",
    "import gdc19\n",
    "gdc19.setup_adam()"
   ]
  },
  {
   "cell_type": "markdown",
   "metadata": {},
   "source": [
    "## Well 58-32 geophysical well log analysis\n",
    "\n",
    "Lithology:\n",
    "Basin Fill (0 to 1007 m), Granitoid (1007 to 2296.9 m)\n",
    "\n",
    "Density of Granite: 2.75 g/cm3\n",
    "\n",
    "Coordinates: x = 335380.766, y = 4263040.83, z = 1681.61659\n",
    "\n",
    "Depth: 2296.9 m"
   ]
  },
  {
   "cell_type": "code",
   "execution_count": 147,
   "metadata": {},
   "outputs": [
    {
     "data": {
      "text/html": [
       "<div>\n",
       "<style scoped>\n",
       "    .dataframe tbody tr th:only-of-type {\n",
       "        vertical-align: middle;\n",
       "    }\n",
       "\n",
       "    .dataframe tbody tr th {\n",
       "        vertical-align: top;\n",
       "    }\n",
       "\n",
       "    .dataframe thead th {\n",
       "        text-align: right;\n",
       "    }\n",
       "</style>\n",
       "<table border=\"1\" class=\"dataframe\">\n",
       "  <thead>\n",
       "    <tr style=\"text-align: right;\">\n",
       "      <th></th>\n",
       "      <th>Depth (ft)</th>\n",
       "      <th>Depth (m)</th>\n",
       "      <th>AF10</th>\n",
       "      <th>AF20</th>\n",
       "      <th>AF30</th>\n",
       "      <th>AF60</th>\n",
       "      <th>AF90</th>\n",
       "      <th>AO10</th>\n",
       "      <th>AO20</th>\n",
       "      <th>AO30</th>\n",
       "      <th>...</th>\n",
       "      <th>SPAR</th>\n",
       "      <th>STIT</th>\n",
       "      <th>TENS</th>\n",
       "      <th>TNPH</th>\n",
       "      <th>HTNP_SAN</th>\n",
       "      <th>ATCO10</th>\n",
       "      <th>ATCO20</th>\n",
       "      <th>ATCO30</th>\n",
       "      <th>ATCO60</th>\n",
       "      <th>ATCO90</th>\n",
       "    </tr>\n",
       "  </thead>\n",
       "  <tbody>\n",
       "    <tr>\n",
       "      <th>0</th>\n",
       "      <td>10.5</td>\n",
       "      <td>3.20</td>\n",
       "      <td>1.104</td>\n",
       "      <td>0.4224</td>\n",
       "      <td>20.9881</td>\n",
       "      <td>1950.0</td>\n",
       "      <td>44.9381</td>\n",
       "      <td>1.1341</td>\n",
       "      <td>0.5586</td>\n",
       "      <td>2.1295</td>\n",
       "      <td>...</td>\n",
       "      <td>-999.25</td>\n",
       "      <td>0.0</td>\n",
       "      <td>940.9999</td>\n",
       "      <td>-999.25</td>\n",
       "      <td>0.3744</td>\n",
       "      <td>840.4879</td>\n",
       "      <td>2040.422</td>\n",
       "      <td>35.6775</td>\n",
       "      <td>14.1442</td>\n",
       "      <td>50.6664</td>\n",
       "    </tr>\n",
       "    <tr>\n",
       "      <th>1</th>\n",
       "      <td>11.0</td>\n",
       "      <td>3.35</td>\n",
       "      <td>1.104</td>\n",
       "      <td>0.4224</td>\n",
       "      <td>20.9881</td>\n",
       "      <td>1950.0</td>\n",
       "      <td>44.9381</td>\n",
       "      <td>1.1341</td>\n",
       "      <td>0.5586</td>\n",
       "      <td>2.1295</td>\n",
       "      <td>...</td>\n",
       "      <td>-999.25</td>\n",
       "      <td>0.0</td>\n",
       "      <td>940.9999</td>\n",
       "      <td>-999.25</td>\n",
       "      <td>0.3744</td>\n",
       "      <td>840.4879</td>\n",
       "      <td>2040.422</td>\n",
       "      <td>35.6775</td>\n",
       "      <td>14.1442</td>\n",
       "      <td>50.6664</td>\n",
       "    </tr>\n",
       "    <tr>\n",
       "      <th>2</th>\n",
       "      <td>11.5</td>\n",
       "      <td>3.51</td>\n",
       "      <td>1.104</td>\n",
       "      <td>0.4224</td>\n",
       "      <td>20.9881</td>\n",
       "      <td>1950.0</td>\n",
       "      <td>44.9381</td>\n",
       "      <td>1.1341</td>\n",
       "      <td>0.5586</td>\n",
       "      <td>2.1295</td>\n",
       "      <td>...</td>\n",
       "      <td>-999.25</td>\n",
       "      <td>0.0</td>\n",
       "      <td>940.9999</td>\n",
       "      <td>-999.25</td>\n",
       "      <td>0.3744</td>\n",
       "      <td>840.4879</td>\n",
       "      <td>2040.422</td>\n",
       "      <td>35.6775</td>\n",
       "      <td>14.1442</td>\n",
       "      <td>50.6664</td>\n",
       "    </tr>\n",
       "    <tr>\n",
       "      <th>3</th>\n",
       "      <td>12.0</td>\n",
       "      <td>3.66</td>\n",
       "      <td>1.104</td>\n",
       "      <td>0.4224</td>\n",
       "      <td>20.9881</td>\n",
       "      <td>1950.0</td>\n",
       "      <td>44.9381</td>\n",
       "      <td>1.1341</td>\n",
       "      <td>0.5586</td>\n",
       "      <td>2.1295</td>\n",
       "      <td>...</td>\n",
       "      <td>-999.25</td>\n",
       "      <td>0.0</td>\n",
       "      <td>940.9999</td>\n",
       "      <td>-999.25</td>\n",
       "      <td>0.3744</td>\n",
       "      <td>840.4879</td>\n",
       "      <td>2040.422</td>\n",
       "      <td>35.6775</td>\n",
       "      <td>14.1442</td>\n",
       "      <td>50.6664</td>\n",
       "    </tr>\n",
       "    <tr>\n",
       "      <th>4</th>\n",
       "      <td>12.5</td>\n",
       "      <td>3.81</td>\n",
       "      <td>1.104</td>\n",
       "      <td>0.4224</td>\n",
       "      <td>20.9881</td>\n",
       "      <td>1950.0</td>\n",
       "      <td>44.9381</td>\n",
       "      <td>1.1341</td>\n",
       "      <td>0.5586</td>\n",
       "      <td>2.1295</td>\n",
       "      <td>...</td>\n",
       "      <td>-999.25</td>\n",
       "      <td>0.0</td>\n",
       "      <td>940.9999</td>\n",
       "      <td>-999.25</td>\n",
       "      <td>0.3744</td>\n",
       "      <td>840.4879</td>\n",
       "      <td>2040.422</td>\n",
       "      <td>35.6775</td>\n",
       "      <td>14.1442</td>\n",
       "      <td>50.6664</td>\n",
       "    </tr>\n",
       "  </tbody>\n",
       "</table>\n",
       "<p>5 rows × 63 columns</p>\n",
       "</div>"
      ],
      "text/plain": [
       "   Depth (ft)  Depth (m)   AF10    AF20     AF30    AF60     AF90    AO10  \\\n",
       "0        10.5       3.20  1.104  0.4224  20.9881  1950.0  44.9381  1.1341   \n",
       "1        11.0       3.35  1.104  0.4224  20.9881  1950.0  44.9381  1.1341   \n",
       "2        11.5       3.51  1.104  0.4224  20.9881  1950.0  44.9381  1.1341   \n",
       "3        12.0       3.66  1.104  0.4224  20.9881  1950.0  44.9381  1.1341   \n",
       "4        12.5       3.81  1.104  0.4224  20.9881  1950.0  44.9381  1.1341   \n",
       "\n",
       "     AO20    AO30   ...       SPAR  STIT      TENS    TNPH  HTNP_SAN  \\\n",
       "0  0.5586  2.1295   ...    -999.25   0.0  940.9999 -999.25    0.3744   \n",
       "1  0.5586  2.1295   ...    -999.25   0.0  940.9999 -999.25    0.3744   \n",
       "2  0.5586  2.1295   ...    -999.25   0.0  940.9999 -999.25    0.3744   \n",
       "3  0.5586  2.1295   ...    -999.25   0.0  940.9999 -999.25    0.3744   \n",
       "4  0.5586  2.1295   ...    -999.25   0.0  940.9999 -999.25    0.3744   \n",
       "\n",
       "     ATCO10    ATCO20   ATCO30   ATCO60   ATCO90  \n",
       "0  840.4879  2040.422  35.6775  14.1442  50.6664  \n",
       "1  840.4879  2040.422  35.6775  14.1442  50.6664  \n",
       "2  840.4879  2040.422  35.6775  14.1442  50.6664  \n",
       "3  840.4879  2040.422  35.6775  14.1442  50.6664  \n",
       "4  840.4879  2040.422  35.6775  14.1442  50.6664  \n",
       "\n",
       "[5 rows x 63 columns]"
      ]
     },
     "execution_count": 147,
     "metadata": {},
     "output_type": "execute_result"
    }
   ],
   "source": [
    "well_log = pd.read_csv('58-32_main_geophysical_well_log.csv')\n",
    "well_log.head()"
   ]
  },
  {
   "cell_type": "code",
   "execution_count": 148,
   "metadata": {},
   "outputs": [
    {
     "data": {
      "text/html": [
       "<div>\n",
       "<style scoped>\n",
       "    .dataframe tbody tr th:only-of-type {\n",
       "        vertical-align: middle;\n",
       "    }\n",
       "\n",
       "    .dataframe tbody tr th {\n",
       "        vertical-align: top;\n",
       "    }\n",
       "\n",
       "    .dataframe thead th {\n",
       "        text-align: right;\n",
       "    }\n",
       "</style>\n",
       "<table border=\"1\" class=\"dataframe\">\n",
       "  <thead>\n",
       "    <tr style=\"text-align: right;\">\n",
       "      <th></th>\n",
       "      <th>Depth (m)</th>\n",
       "      <th>Dip</th>\n",
       "      <th>Azimuth</th>\n",
       "      <th>Elevation (m)</th>\n",
       "    </tr>\n",
       "  </thead>\n",
       "  <tbody>\n",
       "    <tr>\n",
       "      <th>0</th>\n",
       "      <td>0.0</td>\n",
       "      <td>90.0</td>\n",
       "      <td>0.00</td>\n",
       "      <td>1681.616587</td>\n",
       "    </tr>\n",
       "    <tr>\n",
       "      <th>1</th>\n",
       "      <td>84.7</td>\n",
       "      <td>89.7</td>\n",
       "      <td>20.59</td>\n",
       "      <td>1596.916587</td>\n",
       "    </tr>\n",
       "    <tr>\n",
       "      <th>2</th>\n",
       "      <td>177.4</td>\n",
       "      <td>89.7</td>\n",
       "      <td>205.90</td>\n",
       "      <td>1504.216587</td>\n",
       "    </tr>\n",
       "    <tr>\n",
       "      <th>3</th>\n",
       "      <td>264.6</td>\n",
       "      <td>89.6</td>\n",
       "      <td>1.00</td>\n",
       "      <td>1417.016587</td>\n",
       "    </tr>\n",
       "    <tr>\n",
       "      <th>4</th>\n",
       "      <td>361.2</td>\n",
       "      <td>89.0</td>\n",
       "      <td>346.00</td>\n",
       "      <td>1320.416587</td>\n",
       "    </tr>\n",
       "  </tbody>\n",
       "</table>\n",
       "</div>"
      ],
      "text/plain": [
       "   Depth (m)   Dip  Azimuth  Elevation (m)\n",
       "0        0.0  90.0     0.00    1681.616587\n",
       "1       84.7  89.7    20.59    1596.916587\n",
       "2      177.4  89.7   205.90    1504.216587\n",
       "3      264.6  89.6     1.00    1417.016587\n",
       "4      361.2  89.0   346.00    1320.416587"
      ]
     },
     "execution_count": 148,
     "metadata": {},
     "output_type": "execute_result"
    }
   ],
   "source": [
    "trajectory = pd.read_csv('trajectory_58-32.csv')\n",
    "trajectory.head()"
   ]
  },
  {
   "cell_type": "code",
   "execution_count": 149,
   "metadata": {},
   "outputs": [],
   "source": [
    "# start_x = 335380.766\n",
    "# start_y = 4263040.83\n",
    "# count = 0\n",
    "\n",
    "# theta = []\n",
    "# phi = []\n",
    "# r = well_log['Depth (m)'].values\n",
    "# depth = trajectory['Depth (m)'].values\n",
    "# dip = trajectory['Dip'].values\n",
    "# azimuth = trajectory['Azimuth'].values\n",
    "\n",
    "# #while (count < len(trajectory.index)):\n",
    "# for i in range (0, len(r)):\n",
    "#     if (r[i] >= depth[count]) & (r[i] < depth[count+1]):\n",
    "#         theta.append(dip[count])\n",
    "#         phi.append(azimuth[count])\n",
    "#     if (r[i] >= depth[count+1]):\n",
    "#         count = count + 1\n",
    "#         theta.append(dip[count])\n",
    "#         phi.append(azimuth[count])\n",
    "\n",
    "\n",
    "# r[1:] = r[1:] - r[:-1]\n",
    "\n",
    "# # convert to radians\n",
    "# phi = phi * 2 * np.pi / 360.\n",
    "# theta = (90+theta) * 2 * np.pi / 360.\n",
    "\n",
    "\n",
    "# x = start_x + (r*np.cos(phi)*np.sin(theta))\n",
    "# y = start_y + (r*np.sin(phi)*np.sin(theta))\n",
    "# z = (r*np.cos(theta))\n",
    "\n",
    "# elevation = np.cumsum(z) + start_z\n",
    "\n",
    "# #print(len(theta))\n",
    "# #print(phi)"
   ]
  },
  {
   "cell_type": "code",
   "execution_count": 151,
   "metadata": {},
   "outputs": [],
   "source": [
    "x_location = []\n",
    "y_location = []\n",
    "elevation = []\n",
    "DEPTH = well_log['Depth (m)'].values\n",
    "\n",
    "for i in range (0, len(well_log.index)):\n",
    "    x = 335380.766\n",
    "    y = 4263040.83\n",
    "    z = 1681.61659 - DEPTH[i]\n",
    "    x_location.append(x)\n",
    "    y_location.append(y)\n",
    "    elevation.append(z)"
   ]
  },
  {
   "cell_type": "code",
   "execution_count": 152,
   "metadata": {
    "scrolled": true
   },
   "outputs": [
    {
     "data": {
      "text/html": [
       "<div>\n",
       "<style scoped>\n",
       "    .dataframe tbody tr th:only-of-type {\n",
       "        vertical-align: middle;\n",
       "    }\n",
       "\n",
       "    .dataframe tbody tr th {\n",
       "        vertical-align: top;\n",
       "    }\n",
       "\n",
       "    .dataframe thead th {\n",
       "        text-align: right;\n",
       "    }\n",
       "</style>\n",
       "<table border=\"1\" class=\"dataframe\">\n",
       "  <thead>\n",
       "    <tr style=\"text-align: right;\">\n",
       "      <th></th>\n",
       "      <th>Depth (ft)</th>\n",
       "      <th>Depth (m)</th>\n",
       "      <th>AF10</th>\n",
       "      <th>AF20</th>\n",
       "      <th>AF30</th>\n",
       "      <th>AF60</th>\n",
       "      <th>AF90</th>\n",
       "      <th>AO10</th>\n",
       "      <th>AO20</th>\n",
       "      <th>AO30</th>\n",
       "      <th>...</th>\n",
       "      <th>TNPH</th>\n",
       "      <th>HTNP_SAN</th>\n",
       "      <th>ATCO10</th>\n",
       "      <th>ATCO20</th>\n",
       "      <th>ATCO30</th>\n",
       "      <th>ATCO60</th>\n",
       "      <th>ATCO90</th>\n",
       "      <th>x</th>\n",
       "      <th>y</th>\n",
       "      <th>z</th>\n",
       "    </tr>\n",
       "  </thead>\n",
       "  <tbody>\n",
       "    <tr>\n",
       "      <th>0</th>\n",
       "      <td>10.5</td>\n",
       "      <td>3.20</td>\n",
       "      <td>1.104</td>\n",
       "      <td>0.4224</td>\n",
       "      <td>20.9881</td>\n",
       "      <td>1950.0</td>\n",
       "      <td>44.9381</td>\n",
       "      <td>1.1341</td>\n",
       "      <td>0.5586</td>\n",
       "      <td>2.1295</td>\n",
       "      <td>...</td>\n",
       "      <td>-999.25</td>\n",
       "      <td>0.3744</td>\n",
       "      <td>840.4879</td>\n",
       "      <td>2040.422</td>\n",
       "      <td>35.6775</td>\n",
       "      <td>14.1442</td>\n",
       "      <td>50.6664</td>\n",
       "      <td>335380.766</td>\n",
       "      <td>4263040.83</td>\n",
       "      <td>1678.41659</td>\n",
       "    </tr>\n",
       "    <tr>\n",
       "      <th>1</th>\n",
       "      <td>11.0</td>\n",
       "      <td>3.35</td>\n",
       "      <td>1.104</td>\n",
       "      <td>0.4224</td>\n",
       "      <td>20.9881</td>\n",
       "      <td>1950.0</td>\n",
       "      <td>44.9381</td>\n",
       "      <td>1.1341</td>\n",
       "      <td>0.5586</td>\n",
       "      <td>2.1295</td>\n",
       "      <td>...</td>\n",
       "      <td>-999.25</td>\n",
       "      <td>0.3744</td>\n",
       "      <td>840.4879</td>\n",
       "      <td>2040.422</td>\n",
       "      <td>35.6775</td>\n",
       "      <td>14.1442</td>\n",
       "      <td>50.6664</td>\n",
       "      <td>335380.766</td>\n",
       "      <td>4263040.83</td>\n",
       "      <td>1678.26659</td>\n",
       "    </tr>\n",
       "    <tr>\n",
       "      <th>2</th>\n",
       "      <td>11.5</td>\n",
       "      <td>3.51</td>\n",
       "      <td>1.104</td>\n",
       "      <td>0.4224</td>\n",
       "      <td>20.9881</td>\n",
       "      <td>1950.0</td>\n",
       "      <td>44.9381</td>\n",
       "      <td>1.1341</td>\n",
       "      <td>0.5586</td>\n",
       "      <td>2.1295</td>\n",
       "      <td>...</td>\n",
       "      <td>-999.25</td>\n",
       "      <td>0.3744</td>\n",
       "      <td>840.4879</td>\n",
       "      <td>2040.422</td>\n",
       "      <td>35.6775</td>\n",
       "      <td>14.1442</td>\n",
       "      <td>50.6664</td>\n",
       "      <td>335380.766</td>\n",
       "      <td>4263040.83</td>\n",
       "      <td>1678.10659</td>\n",
       "    </tr>\n",
       "    <tr>\n",
       "      <th>3</th>\n",
       "      <td>12.0</td>\n",
       "      <td>3.66</td>\n",
       "      <td>1.104</td>\n",
       "      <td>0.4224</td>\n",
       "      <td>20.9881</td>\n",
       "      <td>1950.0</td>\n",
       "      <td>44.9381</td>\n",
       "      <td>1.1341</td>\n",
       "      <td>0.5586</td>\n",
       "      <td>2.1295</td>\n",
       "      <td>...</td>\n",
       "      <td>-999.25</td>\n",
       "      <td>0.3744</td>\n",
       "      <td>840.4879</td>\n",
       "      <td>2040.422</td>\n",
       "      <td>35.6775</td>\n",
       "      <td>14.1442</td>\n",
       "      <td>50.6664</td>\n",
       "      <td>335380.766</td>\n",
       "      <td>4263040.83</td>\n",
       "      <td>1677.95659</td>\n",
       "    </tr>\n",
       "    <tr>\n",
       "      <th>4</th>\n",
       "      <td>12.5</td>\n",
       "      <td>3.81</td>\n",
       "      <td>1.104</td>\n",
       "      <td>0.4224</td>\n",
       "      <td>20.9881</td>\n",
       "      <td>1950.0</td>\n",
       "      <td>44.9381</td>\n",
       "      <td>1.1341</td>\n",
       "      <td>0.5586</td>\n",
       "      <td>2.1295</td>\n",
       "      <td>...</td>\n",
       "      <td>-999.25</td>\n",
       "      <td>0.3744</td>\n",
       "      <td>840.4879</td>\n",
       "      <td>2040.422</td>\n",
       "      <td>35.6775</td>\n",
       "      <td>14.1442</td>\n",
       "      <td>50.6664</td>\n",
       "      <td>335380.766</td>\n",
       "      <td>4263040.83</td>\n",
       "      <td>1677.80659</td>\n",
       "    </tr>\n",
       "  </tbody>\n",
       "</table>\n",
       "<p>5 rows × 66 columns</p>\n",
       "</div>"
      ],
      "text/plain": [
       "   Depth (ft)  Depth (m)   AF10    AF20     AF30    AF60     AF90    AO10  \\\n",
       "0        10.5       3.20  1.104  0.4224  20.9881  1950.0  44.9381  1.1341   \n",
       "1        11.0       3.35  1.104  0.4224  20.9881  1950.0  44.9381  1.1341   \n",
       "2        11.5       3.51  1.104  0.4224  20.9881  1950.0  44.9381  1.1341   \n",
       "3        12.0       3.66  1.104  0.4224  20.9881  1950.0  44.9381  1.1341   \n",
       "4        12.5       3.81  1.104  0.4224  20.9881  1950.0  44.9381  1.1341   \n",
       "\n",
       "     AO20    AO30     ...        TNPH  HTNP_SAN    ATCO10    ATCO20   ATCO30  \\\n",
       "0  0.5586  2.1295     ...     -999.25    0.3744  840.4879  2040.422  35.6775   \n",
       "1  0.5586  2.1295     ...     -999.25    0.3744  840.4879  2040.422  35.6775   \n",
       "2  0.5586  2.1295     ...     -999.25    0.3744  840.4879  2040.422  35.6775   \n",
       "3  0.5586  2.1295     ...     -999.25    0.3744  840.4879  2040.422  35.6775   \n",
       "4  0.5586  2.1295     ...     -999.25    0.3744  840.4879  2040.422  35.6775   \n",
       "\n",
       "    ATCO60   ATCO90           x           y           z  \n",
       "0  14.1442  50.6664  335380.766  4263040.83  1678.41659  \n",
       "1  14.1442  50.6664  335380.766  4263040.83  1678.26659  \n",
       "2  14.1442  50.6664  335380.766  4263040.83  1678.10659  \n",
       "3  14.1442  50.6664  335380.766  4263040.83  1677.95659  \n",
       "4  14.1442  50.6664  335380.766  4263040.83  1677.80659  \n",
       "\n",
       "[5 rows x 66 columns]"
      ]
     },
     "execution_count": 152,
     "metadata": {},
     "output_type": "execute_result"
    }
   ],
   "source": [
    "well_log = well_log.assign(x=pd.Series(x_location).values)\n",
    "well_log = well_log.assign(y=pd.Series(y_location).values)\n",
    "well_log = well_log.assign(z=pd.Series(elevation).values)\n",
    "well_log.head()"
   ]
  },
  {
   "cell_type": "markdown",
   "metadata": {},
   "source": [
    "## Gamma Ray"
   ]
  },
  {
   "cell_type": "code",
   "execution_count": 153,
   "metadata": {},
   "outputs": [
    {
     "data": {
      "text/plain": [
       "True"
      ]
     },
     "execution_count": 153,
     "metadata": {},
     "output_type": "execute_result"
    }
   ],
   "source": [
    "gamma = omf.PointSetElement(\n",
    "    name='gamma ray',\n",
    "    description='Gamma ray well log of well 58-32. Gamma Ray log data was obtained with the following tools: '\\\n",
    "        'ECGR, GR, GR_EDTC, and HGR. '\\\n",
    "        'For this example, ECGR was the well log chosen. ',\n",
    "    subtype='point',\n",
    "    geometry=omf.PointSetGeometry(\n",
    "        vertices=well_log[['Depth (m)', 'x', 'y']].values\n",
    "    ),\n",
    "    data=[omf.ScalarData(\n",
    "        name='Gamma Ray Value (API)',\n",
    "        array=well_log['ECGR'].values,\n",
    "        location='vertices'\n",
    "    ),]\n",
    ")\n",
    "gamma.validate()"
   ]
  },
  {
   "cell_type": "code",
   "execution_count": 154,
   "metadata": {},
   "outputs": [
    {
     "data": {
      "image/png": "[encoded data removed]",
      "text/plain": [
       "<PIL.Image.Image image mode=RGB size=1024x768 at 0x123C3ADA0>"
      ]
     },
     "metadata": {},
     "output_type": "display_data"
    }
   ],
   "source": [
    "omfvtk.wrap(gamma).plot(show_edges=False)"
   ]
  },
  {
   "cell_type": "markdown",
   "metadata": {},
   "source": [
    "## Neutron Porosity"
   ]
  },
  {
   "cell_type": "code",
   "execution_count": 155,
   "metadata": {},
   "outputs": [
    {
     "data": {
      "text/plain": [
       "True"
      ]
     },
     "execution_count": 155,
     "metadata": {},
     "output_type": "execute_result"
    }
   ],
   "source": [
    "nphi = omf.PointSetElement(\n",
    "    name='neutron porosity',\n",
    "    description='Neutron porosity well log of well 58-32. Neutron Porosity data was obtained with the following tools: '\\\n",
    "        'ECGR, GR, GR_EDTC, and HGR. HTNP_SAN, NPHI, NPOR, HTNP, and TNPH'\\\n",
    "        'For this example, NPHI was the well log chosen. ',\n",
    "    subtype='point',\n",
    "    geometry=omf.PointSetGeometry(\n",
    "        vertices=well_log[['Depth (m)', 'x', 'y']].values\n",
    "    ),\n",
    "    data=[omf.ScalarData(\n",
    "        name='Porosity (%)',\n",
    "        array=well_log['NPHI'].values,\n",
    "        location='vertices'\n",
    "    ),]\n",
    ")\n",
    "nphi.validate()"
   ]
  },
  {
   "cell_type": "code",
   "execution_count": 156,
   "metadata": {},
   "outputs": [
    {
     "data": {
      "image/png": "[encoded data removed]",
      "text/plain": [
       "<PIL.Image.Image image mode=RGB size=1024x768 at 0x123A7C668>"
      ]
     },
     "metadata": {},
     "output_type": "display_data"
    }
   ],
   "source": [
    "omfvtk.wrap(nphi).plot(show_edges=False, rng = (0,1))"
   ]
  },
  {
   "cell_type": "markdown",
   "metadata": {},
   "source": [
    "## Bulk Density"
   ]
  },
  {
   "cell_type": "code",
   "execution_count": 157,
   "metadata": {},
   "outputs": [
    {
     "data": {
      "text/plain": [
       "True"
      ]
     },
     "execution_count": 157,
     "metadata": {},
     "output_type": "execute_result"
    }
   ],
   "source": [
    "density = omf.PointSetElement(\n",
    "    name='bulk density',\n",
    "    description='Bulk Density well log of well 58-32. Bulk Density data was obtained with the following tools: '\\\n",
    "        'RHOZ'\\\n",
    "        'For this example, RHOZ was the well log chosen. ',\n",
    "    subtype='point',\n",
    "    geometry=omf.PointSetGeometry(\n",
    "        vertices=well_log[['Depth (m)', 'x', 'y']].values\n",
    "    ),\n",
    "    data=[omf.ScalarData(\n",
    "        name='Density (g/cc)',\n",
    "        array=well_log['RHOZ'].values,\n",
    "        location='vertices'\n",
    "    ),]\n",
    ")\n",
    "density.validate()"
   ]
  },
  {
   "cell_type": "code",
   "execution_count": 164,
   "metadata": {},
   "outputs": [
    {
     "data": {
      "image/png": "[encoded data removed]",
      "text/plain": [
       "<PIL.Image.Image image mode=RGB size=1024x768 at 0x123C57F28>"
      ]
     },
     "metadata": {},
     "output_type": "display_data"
    },
    {
     "ename": "AttributeError",
     "evalue": "'NoneType' object has no attribute 'save'",
     "output_type": "error",
     "traceback": [
      "\u001b[0;31m---------------------------------------------------------------------------\u001b[0m",
      "\u001b[0;31mAttributeError\u001b[0m                            Traceback (most recent call last)",
      "\u001b[0;32m<ipython-input-164-a8880a229724>\u001b[0m in \u001b[0;36m<module>\u001b[0;34m()\u001b[0m\n\u001b[1;32m      1\u001b[0m \u001b[0mRHOB\u001b[0m \u001b[0;34m=\u001b[0m \u001b[0momfvtk\u001b[0m\u001b[0;34m.\u001b[0m\u001b[0mwrap\u001b[0m\u001b[0;34m(\u001b[0m\u001b[0mdensity\u001b[0m\u001b[0;34m)\u001b[0m\u001b[0;34m.\u001b[0m\u001b[0mplot\u001b[0m\u001b[0;34m(\u001b[0m\u001b[0mshow_edges\u001b[0m\u001b[0;34m=\u001b[0m\u001b[0;32mFalse\u001b[0m\u001b[0;34m,\u001b[0m \u001b[0mrng\u001b[0m \u001b[0;34m=\u001b[0m \u001b[0;34m(\u001b[0m\u001b[0;36m0\u001b[0m\u001b[0;34m,\u001b[0m \u001b[0;36m3\u001b[0m\u001b[0;34m)\u001b[0m\u001b[0;34m)\u001b[0m\u001b[0;34m\u001b[0m\u001b[0;34m\u001b[0m\u001b[0m\n\u001b[0;32m----> 2\u001b[0;31m \u001b[0mRHOB\u001b[0m\u001b[0;34m.\u001b[0m\u001b[0msave\u001b[0m\u001b[0;34m(\u001b[0m\u001b[0;34m'well_5832_RHOB.vtk'\u001b[0m\u001b[0;34m)\u001b[0m\u001b[0;34m\u001b[0m\u001b[0;34m\u001b[0m\u001b[0m\n\u001b[0m",
      "\u001b[0;31mAttributeError\u001b[0m: 'NoneType' object has no attribute 'save'"
     ]
    }
   ],
   "source": [
    "RHOB = omfvtk.wrap(density).plot(show_edges=False, rng = (0, 3))\n",
    "RHOB.save('well_5832_RHOB.vtk')"
   ]
  },
  {
   "cell_type": "code",
   "execution_count": null,
   "metadata": {
    "collapsed": true
   },
   "outputs": [],
   "source": []
  }
 ],
 "metadata": {
  "kernelspec": {
   "display_name": "Python 3",
   "language": "python",
   "name": "python3"
  },
  "language_info": {
   "codemirror_mode": {
    "name": "ipython",
    "version": 3
   },
   "file_extension": ".py",
   "mimetype": "text/x-python",
   "name": "python",
   "nbconvert_exporter": "python",
   "pygments_lexer": "ipython3",
   "version": "3.6.8"
  }
 },
 "nbformat": 4,
 "nbformat_minor": 2
}
