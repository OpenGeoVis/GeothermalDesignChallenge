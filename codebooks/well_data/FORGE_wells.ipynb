{
 "cells": [
  {
   "cell_type": "code",
   "execution_count": null,
   "metadata": {
    "collapsed": true
   },
   "outputs": [],
   "source": [
    "import matplotlib.pyplot as plt\n",
    "import numpy as np\n",
    "import omf\n",
    "import omfvtk\n",
    "import pandas as pd\n",
    "import vtki\n",
    "import PVGeo"
   ]
  },
  {
   "cell_type": "code",
   "execution_count": null,
   "metadata": {},
   "outputs": [],
   "source": [
    "import sys\n",
    "# This makes the gdc19 package available\n",
    "sys.path.append('../../')\n",
    "import gdc19\n",
    "gdc19.setup_adam()"
   ]
  },
  {
   "cell_type": "code",
   "execution_count": null,
   "metadata": {
    "collapsed": true
   },
   "outputs": [],
   "source": [
    "# GET THE WELLS DATABASE\n",
    "WELLS = gdc19.load_well_db()"
   ]
  },
  {
   "cell_type": "markdown",
   "metadata": {},
   "source": [
    "## Well 58-32 geophysical well log analysis\n",
    "\n",
    "Lithology:\n",
    "Basin Fill (0 to 1007 m), Granitoid (1007 to 2296.9 m)\n",
    "\n",
    "Density of Granite: 2.75 g/cm3\n",
    "\n",
    "Coordinates: x = 335380.766, y = 4263040.83, z = 1681.61659\n",
    "\n",
    "Depth: 2296.9 m"
   ]
  },
  {
   "cell_type": "code",
   "execution_count": null,
   "metadata": {},
   "outputs": [],
   "source": [
    "well_log = pd.read_csv(gdc19.get_well_path('58-32_main_geophysical_well_log.csv'))\n",
    "\n",
    "x_location = []\n",
    "y_location = []\n",
    "elevation = []\n",
    "DEPTH = well_log['Depth (m)'].values\n",
    "\n",
    "for i in range (0, len(well_log.index)):\n",
    "    x = 335380.766\n",
    "    y = 4263040.83\n",
    "    z = 1681.61659 - DEPTH[i]\n",
    "    x_location.append(x)\n",
    "    y_location.append(y)\n",
    "    elevation.append(z)\n",
    "    \n",
    "well_log = well_log.assign(x=pd.Series(x_location).values)\n",
    "well_log = well_log.assign(y=pd.Series(y_location).values)\n",
    "well_log = well_log.assign(z=pd.Series(elevation).values)\n",
    "well_log.head()"
   ]
  },
  {
   "cell_type": "code",
   "execution_count": null,
   "metadata": {},
   "outputs": [],
   "source": [
    "# move XYZ colums to front of table\n",
    "spac = well_log[['x', 'y', 'z']]\n",
    "well_poly = PVGeo.pointsToPolyData(spac)\n",
    "for k, v in well_log.to_dict(orient='list').items():\n",
    "    well_poly.point_arrays[k] = np.array(v)\n",
    "well_poly"
   ]
  },
  {
   "cell_type": "code",
   "execution_count": null,
   "metadata": {},
   "outputs": [],
   "source": [
    "well_poly.set_active_scalar('ECGR')\n",
    "well_poly.plot(clim=[0,300])"
   ]
  },
  {
   "cell_type": "code",
   "execution_count": null,
   "metadata": {},
   "outputs": [],
   "source": [
    "WELLS['well_5832'] = well_poly\n",
    "gdc19.save_well_db(WELLS)\n",
    "WELLS"
   ]
  },
  {
   "cell_type": "markdown",
   "metadata": {
    "collapsed": true
   },
   "source": [
    "## RHS-14\n",
    "\n",
    "Coordinates: x = 335798.986, y = 4264089.99, z = 1690.84658\n",
    "\n",
    "Lithology: Basin Fill\n",
    "\n",
    "Depth: 137.5 m"
   ]
  },
  {
   "cell_type": "code",
   "execution_count": null,
   "metadata": {
    "collapsed": true
   },
   "outputs": [],
   "source": [
    "depth = 137.5\n",
    "start_x = 335798.986\n",
    "start_y = 4264089.99\n",
    "start_z = 1690.84658\n",
    "\n",
    "WELLS['well_RHS14'] = gdc19.build_well_trajectory(depth, start_x, start_y, start_z)\n",
    "gdc19.save_well_db(WELLS)"
   ]
  },
  {
   "cell_type": "markdown",
   "metadata": {},
   "source": [
    "## TPC-12\n",
    "\n",
    "Coordinates: x = 334826, y = 4262756.046 z = 1661.196616, depth = 150 m\n",
    "\n",
    "Lithology: Basin Fill"
   ]
  },
  {
   "cell_type": "code",
   "execution_count": null,
   "metadata": {
    "collapsed": true
   },
   "outputs": [],
   "source": [
    "depth = 150\n",
    "start_x = 334826\n",
    "start_y = 4262756.046\n",
    "start_z = 1661.196616\n",
    "\n",
    "WELLS['well_TPC12'] = gdc19.build_well_trajectory(depth, start_x, start_y, start_z)\n",
    "gdc19.save_well_db(WELLS)"
   ]
  },
  {
   "cell_type": "markdown",
   "metadata": {},
   "source": [
    "## TPC-14\n",
    "\n",
    "Coordinates: x = 335446.971, y = 4264046.019, z = 1675.199038, depth = 145 m\n",
    "\n",
    "Lithology: Basin Fill"
   ]
  },
  {
   "cell_type": "code",
   "execution_count": null,
   "metadata": {
    "collapsed": true
   },
   "outputs": [],
   "source": [
    "depth = 145\n",
    "start_x = 335446.971\n",
    "start_y = 4264046.019\n",
    "start_z = 1675.199038\n",
    "\n",
    "WELLS['well_TPC14'] = gdc19.build_well_trajectory(depth, start_x, start_y, start_z)\n",
    "gdc19.save_well_db(WELLS)"
   ]
  },
  {
   "cell_type": "code",
   "execution_count": null,
   "metadata": {
    "collapsed": true
   },
   "outputs": [],
   "source": []
  }
 ],
 "metadata": {
  "kernelspec": {
   "display_name": "Python 3",
   "language": "python",
   "name": "python3"
  },
  "language_info": {
   "codemirror_mode": {
    "name": "ipython",
    "version": 3
   },
   "file_extension": ".py",
   "mimetype": "text/x-python",
   "name": "python",
   "nbconvert_exporter": "python",
   "pygments_lexer": "ipython3",
   "version": "3.6.8"
  }
 },
 "nbformat": 4,
 "nbformat_minor": 2
}
