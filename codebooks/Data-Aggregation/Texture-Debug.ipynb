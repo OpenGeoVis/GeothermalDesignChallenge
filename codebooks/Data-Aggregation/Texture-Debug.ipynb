{
 "cells": [
  {
   "cell_type": "code",
   "execution_count": null,
   "metadata": {},
   "outputs": [],
   "source": [
    "import sys\n",
    "# This makes the gdc19 package avaialble\n",
    "sys.path.append('../../')\n",
    "import gdc19\n",
    "gdc19.setup_bane()"
   ]
  },
  {
   "cell_type": "code",
   "execution_count": null,
   "metadata": {},
   "outputs": [],
   "source": [
    "import vtki\n",
    "import omf\n",
    "import omfvtk\n",
    "\n",
    "import matplotlib.pyplot as plt\n",
    "import imageio\n",
    "import vtk\n",
    "import numpy as np"
   ]
  },
  {
   "cell_type": "code",
   "execution_count": null,
   "metadata": {},
   "outputs": [],
   "source": [
    "from PIL import Image\n",
    "\n",
    "# def convert(fname):\n",
    "#     img = Image.open(gdc19.get_gis_path('{}.tif'.format(fname)))\n",
    "#     img.save(gdc19.get_gis_path('{}.png'.format(fname)), 'png')\n",
    "#     return True\n",
    "\n",
    "# # convert them\n",
    "# for fname in ['Geologic_map_on_air_photo',\n",
    "#               'Geologic_map_no_quaternary',\n",
    "#               'topographic_map']:\n",
    "#     convert(fname)"
   ]
  },
  {
   "cell_type": "code",
   "execution_count": null,
   "metadata": {},
   "outputs": [],
   "source": [
    "fname = gdc19.get_gis_path('Geologic_map_on_air_photo.png')\n",
    "name = 'geo_aer'\n",
    "description = 'geological contacts and aerial imagery'\n",
    "texture = gdc19.load_texture_to_omf(fname, name, description)\n",
    "texture.validate()"
   ]
  },
  {
   "cell_type": "code",
   "execution_count": null,
   "metadata": {},
   "outputs": [],
   "source": [
    "# Load using pillow\n",
    "#fname = 'Geologic_map_on_air_photo'\n",
    "#fname = gdc19.get_gis_path('{}.tif'.format(fname))\n",
    "img = np.array(Image.open(texture.image))\n",
    "texture.image.seek(0)\n",
    "img.shape"
   ]
  },
  {
   "cell_type": "code",
   "execution_count": null,
   "metadata": {},
   "outputs": [],
   "source": [
    "# load using vtk\n",
    "reader = vtk.vtkTIFFReader()\n",
    "reader.SetFileName(gdc19.get_gis_path('Geologic_map_on_air_photo.tif'))\n",
    "reader.Update()\n",
    "vimg = vtki.wrap(reader.GetOutputDataObject(0))\n",
    "vimg"
   ]
  },
  {
   "cell_type": "code",
   "execution_count": null,
   "metadata": {},
   "outputs": [],
   "source": [
    "from vtk.util.numpy_support import vtk_to_numpy\n",
    "varr = vtk_to_numpy(vimg.GetPointData().GetArray(0))"
   ]
  },
  {
   "cell_type": "code",
   "execution_count": null,
   "metadata": {},
   "outputs": [],
   "source": [
    "varr.shape"
   ]
  },
  {
   "cell_type": "code",
   "execution_count": null,
   "metadata": {},
   "outputs": [],
   "source": [
    "vimg.dimensions"
   ]
  },
  {
   "cell_type": "code",
   "execution_count": null,
   "metadata": {},
   "outputs": [],
   "source": [
    "foo = np.flip(img.swapaxes(0,1), axis=1).reshape((-1, 3), order='F')"
   ]
  },
  {
   "cell_type": "code",
   "execution_count": null,
   "metadata": {},
   "outputs": [],
   "source": [
    "np.allclose(varr, foo)"
   ]
  },
  {
   "cell_type": "code",
   "execution_count": null,
   "metadata": {},
   "outputs": [],
   "source": []
  },
  {
   "cell_type": "code",
   "execution_count": null,
   "metadata": {},
   "outputs": [],
   "source": []
  },
  {
   "cell_type": "code",
   "execution_count": null,
   "metadata": {},
   "outputs": [],
   "source": [
    "land_surface = omf.OMFReader('topography.omf').get_project().elements[0]\n",
    "land_surface"
   ]
  },
  {
   "cell_type": "code",
   "execution_count": null,
   "metadata": {},
   "outputs": [],
   "source": [
    "land_surface.textures = [texture]"
   ]
  },
  {
   "cell_type": "code",
   "execution_count": null,
   "metadata": {},
   "outputs": [],
   "source": [
    "topo = omfvtk.wrap(land_surface)\n",
    "topo"
   ]
  },
  {
   "cell_type": "code",
   "execution_count": null,
   "metadata": {},
   "outputs": [],
   "source": [
    "topo.plot(show_edges=False, texture=True, notebook=True)"
   ]
  },
  {
   "cell_type": "code",
   "execution_count": null,
   "metadata": {},
   "outputs": [],
   "source": [
    "pts = np.array([texture.origin, \n",
    "                texture.origin + texture.axis_u, \n",
    "                texture.origin + texture.axis_v]\n",
    "        )\n",
    "pts"
   ]
  },
  {
   "cell_type": "code",
   "execution_count": null,
   "metadata": {},
   "outputs": [],
   "source": [
    "texture.origin"
   ]
  },
  {
   "cell_type": "code",
   "execution_count": null,
   "metadata": {},
   "outputs": [],
   "source": []
  }
 ],
 "metadata": {
  "kernelspec": {
   "display_name": "Python [conda env:ogv]",
   "language": "python",
   "name": "conda-env-ogv-py"
  },
  "language_info": {
   "codemirror_mode": {
    "name": "ipython",
    "version": 3
   },
   "file_extension": ".py",
   "mimetype": "text/x-python",
   "name": "python",
   "nbconvert_exporter": "python",
   "pygments_lexer": "ipython3",
   "version": "3.6.5"
  }
 },
 "nbformat": 4,
 "nbformat_minor": 2
}
