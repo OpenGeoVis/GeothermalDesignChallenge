{
 "cells": [
  {
   "cell_type": "code",
   "execution_count": 18,
   "metadata": {},
   "outputs": [
    {
     "data": {
      "text/plain": [
       "'/Volumes/GoogleDrive/My Drive/utah-forge'"
      ]
     },
     "execution_count": 18,
     "metadata": {},
     "output_type": "execute_result"
    }
   ],
   "source": [
    "import sys\n",
    "# This makes the gdc19 package avaialble\n",
    "sys.path.append('../')\n",
    "import gdc19\n",
    "# Be sure to set your working directory!!!\n",
    "# this is the path to the Google Drive folder\n",
    "gdc19.setup_bane()"
   ]
  },
  {
   "cell_type": "code",
   "execution_count": 19,
   "metadata": {
    "collapsed": true
   },
   "outputs": [],
   "source": [
    "import vtki\n",
    "import omfvtk\n",
    "import PVGeo"
   ]
  },
  {
   "cell_type": "markdown",
   "metadata": {},
   "source": [
    "-----\n",
    "\n",
    "# Initial Inspection\n",
    "\n",
    "This notebook loads up all the data and works through an initial inspection."
   ]
  },
  {
   "cell_type": "code",
   "execution_count": 20,
   "metadata": {},
   "outputs": [
    {
     "data": {
      "text/html": [
       "<table><tr><th>Information</th><th>Blocks</th></tr><tr><td>\n",
       "<table>\n",
       "<tr><th>vtkMultiBlockDataSet</th><th>Values</th></tr>\n",
       "<tr><td>N Blocks</td><td>8</td></tr>\n",
       "<tr><td>X Bounds</td><td>329666.000, 344152.930</td></tr>\n",
       "<tr><td>Y Bounds</td><td>4252833.482, 4270951.098</td></tr>\n",
       "<tr><td>Z Bounds</td><td>-2606.000, 2906.000</td></tr>\n",
       "</table>\n",
       "\n",
       "</td><td>\n",
       "<table>\n",
       "<tr><th>Index</th><th>Name</th><th>Type</th></tr>\n",
       "<tr><th>0</th><th>land_surface</th><th>vtkUnstructuredGrid</th></tr>\n",
       "<tr><th>1</th><th>temp_225c</th><th>vtkUnstructuredGrid</th></tr>\n",
       "<tr><th>2</th><th>temp_175c</th><th>vtkUnstructuredGrid</th></tr>\n",
       "<tr><th>3</th><th>opal_mound_fault</th><th>vtkUnstructuredGrid</th></tr>\n",
       "<tr><th>4</th><th>negro_mag_fault</th><th>vtkUnstructuredGrid</th></tr>\n",
       "<tr><th>5</th><th>top_granitoid</th><th>vtkUnstructuredGrid</th></tr>\n",
       "<tr><th>6</th><th>boundary</th><th>vtkPolyData</th></tr>\n",
       "<tr><th>7</th><th>temperature</th><th>vtkPolyData</th></tr>\n",
       "</table>\n",
       "\n",
       "</td></tr> </table>"
      ],
      "text/plain": [
       "(MultiBlock)0x146974f48"
      ]
     },
     "execution_count": 20,
     "metadata": {},
     "output_type": "execute_result"
    }
   ],
   "source": [
    "proj = omfvtk.load_project(gdc19.get_omf_project_filename())\n",
    "proj"
   ]
  },
  {
   "cell_type": "code",
   "execution_count": 21,
   "metadata": {},
   "outputs": [
    {
     "data": {
      "text/html": [
       "<table><tr><th>Header</th><th>Data Arrays</th></tr><tr><td>\n",
       "<table>\n",
       "<tr><th>vtkUnstructuredGrid</th><th>Information</th></tr>\n",
       "<tr><td>N Cells</td><td>824278</td></tr>\n",
       "<tr><td>N Points</td><td>413250</td></tr>\n",
       "<tr><td>X Bounds</td><td>3.299e+05, 3.442e+05</td></tr>\n",
       "<tr><td>Y Bounds</td><td>4.253e+06, 4.271e+06</td></tr>\n",
       "<tr><td>Z Bounds</td><td>1.494e+03, 2.723e+03</td></tr>\n",
       "<tr><td>N Scalars</td><td>3</td></tr>\n",
       "</table>\n",
       "\n",
       "</td><td>\n",
       "<table>\n",
       "<tr><th>Name</th><th>Field</th><th>Type</th><th>Min</th><th>Max</th></tr>\n",
       "<tr><td><b>geo_aer</b></td><td>Points</td><td>float32</td><td>3.737e-01</td><td>8.576e-01</td></tr>\n",
       "<tr><td>topo_map</td><td>Points</td><td>float32</td><td>2.254e-01</td><td>8.844e-01</td></tr>\n",
       "<tr><td>geo_no_aer</td><td>Points</td><td>float32</td><td>3.737e-01</td><td>8.576e-01</td></tr>\n",
       "</table>\n",
       "\n",
       "</td></tr> </table>"
      ],
      "text/plain": [
       "(UnstructuredGrid)0x146974d08"
      ]
     },
     "execution_count": 21,
     "metadata": {},
     "output_type": "execute_result"
    }
   ],
   "source": [
    "topo = proj['land_surface']\n",
    "topo"
   ]
  },
  {
   "cell_type": "markdown",
   "metadata": {},
   "source": [
    "# Integrated Scene\n",
    "\n",
    "Now use `vtki` to create and integrated rendering of all the available data\n"
   ]
  },
  {
   "cell_type": "code",
   "execution_count": 22,
   "metadata": {
    "collapsed": true
   },
   "outputs": [],
   "source": [
    "p = vtki.BackgroundPlotter()\n",
    "# p.add_bounds_axes()"
   ]
  },
  {
   "cell_type": "code",
   "execution_count": 23,
   "metadata": {},
   "outputs": [
    {
     "data": {
      "text/plain": [
       "(vtkRenderingOpenGL2Python.vtkOpenGLActor)0x146983168"
      ]
     },
     "execution_count": 23,
     "metadata": {},
     "output_type": "execute_result"
    }
   ],
   "source": [
    "p.add_mesh(proj['temperature'], name='temp', \n",
    "           cmap='coolwarm', point_size=10, \n",
    "           render_points_as_spheres=True, stitle='Temperature')\n",
    "p.add_mesh(proj['negro_mag_fault'], name='negro_mag_fault',\n",
    "           show_edges=False, color='blue', opacity=0.5)\n",
    "p.add_mesh(proj['opal_mound_fault'], name='opal_mound_fault',\n",
    "           show_edges=False, color='orange', opacity=0.5)"
   ]
  },
  {
   "cell_type": "code",
   "execution_count": 24,
   "metadata": {},
   "outputs": [
    {
     "data": {
      "text/plain": [
       "(vtkRenderingOpenGL2Python.vtkOpenGLActor)0x1469836a8"
      ]
     },
     "execution_count": 24,
     "metadata": {},
     "output_type": "execute_result"
    }
   ],
   "source": [
    "# We can update this cell to change the texture\n",
    "p.add_mesh(topo, \n",
    "           texture='geo_aer', \n",
    "           show_edges=False, \n",
    "           name='topo', \n",
    "           reset_camera=False)"
   ]
  },
  {
   "cell_type": "code",
   "execution_count": 25,
   "metadata": {},
   "outputs": [
    {
     "data": {
      "text/plain": [
       "(vtkRenderingOpenGL2Python.vtkOpenGLActor)0x1469837c8"
      ]
     },
     "execution_count": 25,
     "metadata": {},
     "output_type": "execute_result"
    }
   ],
   "source": [
    "# add the temperature boundaries\n",
    "p.add_mesh(proj['temp_175c'], name='temp_175c', \n",
    "           show_edges=False, color='aquamarine',\n",
    "           style='wireframe')\n",
    "p.add_mesh(proj['temp_225c'], name='temp_225c', \n",
    "           show_edges=False, color='firebrick',\n",
    "           style='wireframe')"
   ]
  },
  {
   "cell_type": "code",
   "execution_count": 26,
   "metadata": {},
   "outputs": [
    {
     "data": {
      "text/plain": [
       "(vtkRenderingOpenGL2Python.vtkOpenGLActor)0x146983708"
      ]
     },
     "execution_count": 26,
     "metadata": {},
     "output_type": "execute_result"
    }
   ],
   "source": [
    "# Add the shape file stuff\n",
    "p.add_mesh(proj['boundary'], name='boundary', \n",
    "           color='azure', render_lines_as_tubes=False, line_width=10)"
   ]
  },
  {
   "cell_type": "code",
   "execution_count": 27,
   "metadata": {},
   "outputs": [
    {
     "data": {
      "text/plain": [
       "(vtkRenderingOpenGL2Python.vtkOpenGLActor)0x146983888"
      ]
     },
     "execution_count": 27,
     "metadata": {},
     "output_type": "execute_result"
    }
   ],
   "source": [
    "# Add the granitoid boundary\n",
    "#--\n",
    "# Lets run a PVGeo filter to extract the topo surface from\n",
    "#    the granitoid surface\n",
    "ext = PVGeo.grids.ExtractTopography(\n",
    "        remove=True, # remove the inactive cells\n",
    "        tolerance=10.0 # buffer around the topo surface\n",
    "        ).Apply(proj['top_granitoid'], topo)\n",
    "granitoid = ext\n",
    "#--\n",
    "# Now plot it!\n",
    "p.add_mesh(granitoid, name='top_granitoid',\n",
    "           show_edges=False, style='surface',\n",
    "           color='grey', opacity=0.75, reset_camera=False,\n",
    "          )"
   ]
  },
  {
   "cell_type": "code",
   "execution_count": 28,
   "metadata": {
    "collapsed": true
   },
   "outputs": [],
   "source": [
    "# _ = p.screenshot('../integrated_view.png')"
   ]
  },
  {
   "cell_type": "code",
   "execution_count": 29,
   "metadata": {},
   "outputs": [
    {
     "data": {
      "text/html": [
       "<div>\n",
       "<style scoped>\n",
       "    .dataframe tbody tr th:only-of-type {\n",
       "        vertical-align: middle;\n",
       "    }\n",
       "\n",
       "    .dataframe tbody tr th {\n",
       "        vertical-align: top;\n",
       "    }\n",
       "\n",
       "    .dataframe thead th {\n",
       "        text-align: right;\n",
       "    }\n",
       "</style>\n",
       "<table border=\"1\" class=\"dataframe\">\n",
       "  <thead>\n",
       "    <tr style=\"text-align: right;\">\n",
       "      <th></th>\n",
       "      <th>Well ID</th>\n",
       "      <th>x</th>\n",
       "      <th>y</th>\n",
       "      <th>z (land surface)</th>\n",
       "      <th>depth (m)</th>\n",
       "    </tr>\n",
       "  </thead>\n",
       "  <tbody>\n",
       "    <tr>\n",
       "      <th>0</th>\n",
       "      <td>12-35</td>\n",
       "      <td>339385.010</td>\n",
       "      <td>4264212.985</td>\n",
       "      <td>1880.635342</td>\n",
       "      <td>2133.6</td>\n",
       "    </tr>\n",
       "    <tr>\n",
       "      <th>1</th>\n",
       "      <td>13-10</td>\n",
       "      <td>337709.018</td>\n",
       "      <td>4260659.997</td>\n",
       "      <td>1796.263259</td>\n",
       "      <td>1601.3</td>\n",
       "    </tr>\n",
       "    <tr>\n",
       "      <th>2</th>\n",
       "      <td>14-2</td>\n",
       "      <td>339393.002</td>\n",
       "      <td>4262171.961</td>\n",
       "      <td>1903.453009</td>\n",
       "      <td>1808.5</td>\n",
       "    </tr>\n",
       "    <tr>\n",
       "      <th>3</th>\n",
       "      <td>24-36</td>\n",
       "      <td>341221.016</td>\n",
       "      <td>4263743.011</td>\n",
       "      <td>2034.161472</td>\n",
       "      <td>1819.7</td>\n",
       "    </tr>\n",
       "    <tr>\n",
       "      <th>4</th>\n",
       "      <td>25-15</td>\n",
       "      <td>337873.021</td>\n",
       "      <td>4258706.959</td>\n",
       "      <td>1827.029208</td>\n",
       "      <td>2287.5</td>\n",
       "    </tr>\n",
       "  </tbody>\n",
       "</table>\n",
       "</div>"
      ],
      "text/plain": [
       "  Well ID           x            y  z (land surface)  depth (m)\n",
       "0   12-35  339385.010  4264212.985       1880.635342     2133.6\n",
       "1   13-10  337709.018  4260659.997       1796.263259     1601.3\n",
       "2    14-2  339393.002  4262171.961       1903.453009     1808.5\n",
       "3   24-36  341221.016  4263743.011       2034.161472     1819.7\n",
       "4   25-15  337873.021  4258706.959       1827.029208     2287.5"
      ]
     },
     "execution_count": 29,
     "metadata": {},
     "output_type": "execute_result"
    }
   ],
   "source": [
    "import pandas as pd\n",
    "well_locs = pd.read_csv(gdc19.get_well_path('well_location_from_earth_model.csv'))\n",
    "well_locs.head()"
   ]
  },
  {
   "cell_type": "code",
   "execution_count": 30,
   "metadata": {},
   "outputs": [
    {
     "data": {
      "text/plain": [
       "(vtkRenderingOpenGL2Python.vtkOpenGLActor)0x10a3bfa68"
      ]
     },
     "execution_count": 30,
     "metadata": {},
     "output_type": "execute_result"
    }
   ],
   "source": [
    "foo = PVGeo.pointsToPolyData(well_locs[['x', 'y', 'z (land surface)']].values)\n",
    "p.add_mesh(foo, name='well_locations', point_size=10, color='orange')\n",
    "\n"
   ]
  },
  {
   "cell_type": "code",
   "execution_count": 31,
   "metadata": {},
   "outputs": [
    {
     "data": {
      "text/html": [
       "<div>\n",
       "<style scoped>\n",
       "    .dataframe tbody tr th:only-of-type {\n",
       "        vertical-align: middle;\n",
       "    }\n",
       "\n",
       "    .dataframe tbody tr th {\n",
       "        vertical-align: top;\n",
       "    }\n",
       "\n",
       "    .dataframe thead th {\n",
       "        text-align: right;\n",
       "    }\n",
       "</style>\n",
       "<table border=\"1\" class=\"dataframe\">\n",
       "  <thead>\n",
       "    <tr style=\"text-align: right;\">\n",
       "      <th></th>\n",
       "      <th>Well ID</th>\n",
       "      <th>x</th>\n",
       "      <th>y</th>\n",
       "      <th>z (land surface)</th>\n",
       "      <th>depth (m)</th>\n",
       "    </tr>\n",
       "  </thead>\n",
       "  <tbody>\n",
       "    <tr>\n",
       "      <th>35</th>\n",
       "      <td>58-32</td>\n",
       "      <td>335380.766</td>\n",
       "      <td>4263040.829</td>\n",
       "      <td>1681.616587</td>\n",
       "      <td>2296.9</td>\n",
       "    </tr>\n",
       "    <tr>\n",
       "      <th>56</th>\n",
       "      <td>RHS-14</td>\n",
       "      <td>335798.986</td>\n",
       "      <td>4264089.986</td>\n",
       "      <td>1690.846576</td>\n",
       "      <td>137.5</td>\n",
       "    </tr>\n",
       "    <tr>\n",
       "      <th>67</th>\n",
       "      <td>TPC-12</td>\n",
       "      <td>334826.000</td>\n",
       "      <td>4262756.046</td>\n",
       "      <td>1661.196616</td>\n",
       "      <td>150.0</td>\n",
       "    </tr>\n",
       "    <tr>\n",
       "      <th>68</th>\n",
       "      <td>TPC-14</td>\n",
       "      <td>335446.971</td>\n",
       "      <td>4264046.019</td>\n",
       "      <td>1675.199038</td>\n",
       "      <td>145.0</td>\n",
       "    </tr>\n",
       "  </tbody>\n",
       "</table>\n",
       "</div>"
      ],
      "text/plain": [
       "   Well ID           x            y  z (land surface)  depth (m)\n",
       "35   58-32  335380.766  4263040.829       1681.616587     2296.9\n",
       "56  RHS-14  335798.986  4264089.986       1690.846576      137.5\n",
       "67  TPC-12  334826.000  4262756.046       1661.196616      150.0\n",
       "68  TPC-14  335446.971  4264046.019       1675.199038      145.0"
      ]
     },
     "execution_count": 31,
     "metadata": {},
     "output_type": "execute_result"
    }
   ],
   "source": [
    "idxs = []\n",
    "for i, pt in enumerate(foo.points):\n",
    "    if vtki.is_inside_bounds(pt,proj['boundary'].bounds):\n",
    "        idxs.append(i)\n",
    "wells_inside = well_locs.loc[idxs]\n",
    "wells_inside"
   ]
  },
  {
   "cell_type": "code",
   "execution_count": 32,
   "metadata": {},
   "outputs": [
    {
     "data": {
      "text/plain": [
       "(vtkRenderingOpenGL2Python.vtkOpenGLActor)0x13f6ce108"
      ]
     },
     "execution_count": 32,
     "metadata": {},
     "output_type": "execute_result"
    }
   ],
   "source": [
    "#Wells in FORGE Region\n",
    "well_5832 = vtki.PolyData('well_data/58-32/well_5832.vtk')\n",
    "p.add_mesh(well_5832, color = 'yellow', name = '58-32')\n",
    "\n",
    "well_RHS14 = vtki.PolyData('well_data/RHS-14/well_RHS14.vtk')\n",
    "p.add_mesh(well_RHS14, color = 'yellow', name = 'RHS-14')\n",
    "\n",
    "well_TPC12 = vtki.PolyData('well_data/TPC-12/well_TPC12.vtk')\n",
    "p.add_mesh(well_TPC12, color = 'yellow', name = 'TPC-12')\n",
    "\n",
    "well_TPC14 = vtki.PolyData('well_data/TPC-14/well_TPC14.vtk')\n",
    "p.add_mesh(well_TPC14, color = 'yellow', name = 'TPC-14')"
   ]
  },
  {
   "cell_type": "code",
   "execution_count": 33,
   "metadata": {},
   "outputs": [
    {
     "data": {
      "text/plain": [
       "(vtkRenderingOpenGL2Python.vtkOpenGLActor)0x13f6cefa8"
      ]
     },
     "execution_count": 33,
     "metadata": {},
     "output_type": "execute_result"
    }
   ],
   "source": [
    "#Wells of significant Depth\n",
    "well_1310 = vtki.PolyData('well_data/other_wells/well_1310.vtk')\n",
    "p.add_mesh(well_1310, color = 'yellow', name = '13-10')\n",
    "\n",
    "well_142 = vtki.PolyData('well_data/other_wells/well_142.vtk')\n",
    "p.add_mesh(well_142, color = 'yellow', name = '14-2')\n",
    "\n",
    "well_2436 = vtki.PolyData('well_data/other_wells/well_2436.vtk')\n",
    "p.add_mesh(well_2436, color = 'yellow', name = '24-36')\n",
    "\n",
    "well_2515 = vtki.PolyData('well_data/other_wells/well_2515.vtk')\n",
    "p.add_mesh(well_2515, color = 'yellow', name = '25-15')\n",
    "\n",
    "well_283 = vtki.PolyData('well_data/other_wells/well_283.vtk')\n",
    "p.add_mesh(well_283, color = 'yellow', name = '28-3')\n",
    "\n",
    "well_5221 = vtki.PolyData('well_data/other_wells/well_5221.vtk')\n",
    "p.add_mesh(well_5221, color = 'yellow', name = '52-21')\n",
    "\n",
    "well_543 = vtki.PolyData('well_data/other_wells/well_543.vtk')\n",
    "p.add_mesh(well_543, color = 'yellow', name = '54-3')\n",
    "\n",
    "well_7110 = vtki.PolyData('well_data/other_wells/well_7110.vtk')\n",
    "p.add_mesh(well_7110, color = 'yellow', name = '71-10')\n",
    "\n",
    "well_DEC35 = vtki.PolyData('well_data/other_wells/well_DEC35.vtk')\n",
    "p.add_mesh(well_DEC35, color = 'yellow', name = 'DEC-35')\n",
    "\n",
    "well_Mar1 = vtki.PolyData('well_data/other_wells/well_Mar1.vtk')\n",
    "p.add_mesh(well_Mar1, color = 'yellow', name = '1-Mar')\n",
    "\n",
    "well_Sept1 = vtki.PolyData('well_data/other_wells/well_Sept1.vtk')\n",
    "p.add_mesh(well_Sept1, color = 'yellow', name = '1-Sept')\n",
    "\n",
    "well_8233 = vtki.PolyData('well_data/other_wells/well_8233.vtk')\n",
    "p.add_mesh(well_8233, color = 'yellow', name = '82-33')\n",
    "\n",
    "well_Acord1 = vtki.PolyData('well_data/other_wells/well_Acord1.vtk')\n",
    "p.add_mesh(well_Acord1, color = 'red', name = 'Acord-1')\n",
    "\n",
    "well_GPC15 = vtki.PolyData('well_data/other_wells/well_GPC15.vtk')\n",
    "p.add_mesh(well_GPC15, color = 'yellow', name = 'GPC-15')\n",
    "\n",
    "well_OH1 = vtki.PolyData('well_data/other_wells/well_OH1.vtk')\n",
    "p.add_mesh(well_OH1, color = 'yellow', name = 'OH-1')\n",
    "\n",
    "well_OH4 = vtki.PolyData('well_data/other_wells/well_OH4.vtk')\n",
    "p.add_mesh(well_OH4, color = 'yellow', name = 'OH-4')\n",
    "\n",
    "well_OH5 = vtki.PolyData('well_data/other_wells/well_OH5.vtk')\n",
    "p.add_mesh(well_OH5, color = 'yellow', name = 'OH-5')\n",
    "\n",
    "well_OH7 = vtki.PolyData('well_data/other_wells/well_OH7.vtk')\n",
    "p.add_mesh(well_OH7, color = 'yellow', name = 'OH-7')\n",
    "\n",
    "well_OH8 = vtki.PolyData('well_data/other_wells/well_OH8.vtk')\n",
    "p.add_mesh(well_OH8, color = 'yellow', name = 'OH-8')\n",
    "\n",
    "well_353 = vtki.PolyData('well_data/other_wells/well_353.vtk')\n",
    "p.add_mesh(well_353, color = 'yellow', name = '35-3')\n"
   ]
  },
  {
   "cell_type": "code",
   "execution_count": 35,
   "metadata": {},
   "outputs": [
    {
     "data": {
      "text/plain": [
       "(vtkRenderingOpenGL2Python.vtkOpenGLActor)0x13f6e4dc8"
      ]
     },
     "execution_count": 35,
     "metadata": {},
     "output_type": "execute_result"
    }
   ],
   "source": [
    "#Wells of insignificant depth\n",
    "well_BigCedar = vtki.PolyData('well_data/other_wells/well_BigCedar.vtk')\n",
    "p.add_mesh(well_BigCedar, color = 'yellow', name = 'Big Cedar')\n",
    "\n",
    "#Pure Granitoid\n",
    "well_EV4113 = vtki.PolyData('well_data/other_wells/well_EV4113.vtk')\n",
    "p.add_mesh(well_EV4113, color = 'green', name = 'EV-4113')\n",
    "\n",
    "well_EV4115 = vtki.PolyData('well_data/other_wells/well_EV4115.vtk')\n",
    "p.add_mesh(well_EV4115, color = 'green', name = 'EV-4115')\n",
    "\n",
    "well_GPC10 = vtki.PolyData('well_data/other_wells/well_GPC10.vtk')\n",
    "p.add_mesh(well_GPC10, color = 'green', name = 'GPC-10')\n",
    "\n",
    "well_GPC9 = vtki.PolyData('well_data/other_wells/well_GPC9.vtk')\n",
    "p.add_mesh(well_GPC9, color = 'green', name = 'GPC-9')\n",
    "\n",
    "well_MM101 = vtki.PolyData('well_data/other_wells/well_MM101.vtk')\n",
    "p.add_mesh(well_MM101, color = 'green', name = 'MM-101')\n",
    "\n",
    "well_PPCDR = vtki.PolyData('well_data/other_wells/well_PPCDR.vtk')\n",
    "p.add_mesh(well_PPCDR, color = 'green', name = 'PPC-DR')\n",
    "\n",
    "well_PPCNR = vtki.PolyData('well_data/other_wells/well_PPCNR.vtk')\n",
    "p.add_mesh(well_PPCNR, color = 'green', name = 'PPC-NMR')\n",
    "\n",
    "well_PPC2 = vtki.PolyData('well_data/other_wells/well_PPC2.vtk')\n",
    "p.add_mesh(well_PPC2, color = 'green', name = 'PPC-2')\n",
    "\n",
    "well_PPC5 = vtki.PolyData('well_data/other_wells/well_PPC5.vtk')\n",
    "p.add_mesh(well_PPC5, color = 'green', name = 'PPC-5')\n",
    "\n",
    "well_PPC6 = vtki.PolyData('well_data/other_wells/well_PPC6.vtk')\n",
    "p.add_mesh(well_PPC6, color = 'green', name = 'PPC-6')\n",
    "\n",
    "well_RHS189 = vtki.PolyData('well_data/other_wells/well_RHS189.vtk')\n",
    "p.add_mesh(well_RHS189, color = 'green', name = 'RHS-189')\n",
    "\n",
    "well_UUHF3 = vtki.PolyData('well_data/other_wells/well_UUHF3.vtk')\n",
    "p.add_mesh(well_UUHF3, color = 'green', name = 'UUHF-3')"
   ]
  },
  {
   "cell_type": "code",
   "execution_count": null,
   "metadata": {
    "collapsed": true
   },
   "outputs": [],
   "source": []
  }
 ],
 "metadata": {
  "kernelspec": {
   "display_name": "Python 3",
   "language": "python",
   "name": "python3"
  },
  "language_info": {
   "codemirror_mode": {
    "name": "ipython",
    "version": 3
   },
   "file_extension": ".py",
   "mimetype": "text/x-python",
   "name": "python",
   "nbconvert_exporter": "python",
   "pygments_lexer": "ipython3",
   "version": "3.6.8"
  }
 },
 "nbformat": 4,
 "nbformat_minor": 2
}
